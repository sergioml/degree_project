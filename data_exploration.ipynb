{
 "cells": [
  {
   "cell_type": "code",
   "execution_count": 1,
   "metadata": {
    "collapsed": false
   },
   "outputs": [],
   "source": [
    "import numpy as np\n",
    "import pandas as pd\n",
    "import matplotlib.pyplot as plt\n",
    "import seaborn as sns\n",
    "%matplotlib inline"
   ]
  },
  {
   "cell_type": "markdown",
   "metadata": {},
   "source": [
    "# Exploración de datos\n",
    "\n",
    "### Tamaño de cada archivo\n",
    "A través de la consola de comandos se verifica el número de líneas que tiene cada archivo\n",
    "\n",
    "* train_ver2.csv\n",
    "* test_ver2.csv"
   ]
  },
  {
   "cell_type": "code",
   "execution_count": 2,
   "metadata": {
    "collapsed": false
   },
   "outputs": [
    {
     "name": "stdout",
     "output_type": "stream",
     "text": [
      "  13647310  160755658 2292759599 data/train_ver2.csv\n",
      "  13647310  160755658 2292759599 data/train_ver2.csv\n",
      "  27294620  321511316 4585519198 total\n"
     ]
    }
   ],
   "source": [
    "!wc data/train_ver2.csv data/train_ver2.csv"
   ]
  },
  {
   "cell_type": "markdown",
   "metadata": {},
   "source": [
    "## Datos de entrenamiento *train_ver2.csv*"
   ]
  },
  {
   "cell_type": "code",
   "execution_count": 2,
   "metadata": {
    "collapsed": false
   },
   "outputs": [
    {
     "data": {
      "text/html": [
       "<div>\n",
       "<table border=\"1\" class=\"dataframe\">\n",
       "  <thead>\n",
       "    <tr style=\"text-align: right;\">\n",
       "      <th></th>\n",
       "      <th>fecha_dato</th>\n",
       "      <th>ncodpers</th>\n",
       "      <th>ind_empleado</th>\n",
       "      <th>pais_residencia</th>\n",
       "      <th>sexo</th>\n",
       "      <th>age</th>\n",
       "      <th>fecha_alta</th>\n",
       "      <th>ind_nuevo</th>\n",
       "      <th>antiguedad</th>\n",
       "      <th>indrel</th>\n",
       "      <th>...</th>\n",
       "      <th>ind_hip_fin_ult1</th>\n",
       "      <th>ind_plan_fin_ult1</th>\n",
       "      <th>ind_pres_fin_ult1</th>\n",
       "      <th>ind_reca_fin_ult1</th>\n",
       "      <th>ind_tjcr_fin_ult1</th>\n",
       "      <th>ind_valo_fin_ult1</th>\n",
       "      <th>ind_viv_fin_ult1</th>\n",
       "      <th>ind_nomina_ult1</th>\n",
       "      <th>ind_nom_pens_ult1</th>\n",
       "      <th>ind_recibo_ult1</th>\n",
       "    </tr>\n",
       "  </thead>\n",
       "  <tbody>\n",
       "    <tr>\n",
       "      <th>0</th>\n",
       "      <td>2015-01-28</td>\n",
       "      <td>1375586</td>\n",
       "      <td>N</td>\n",
       "      <td>ES</td>\n",
       "      <td>H</td>\n",
       "      <td>35</td>\n",
       "      <td>2015-01-12</td>\n",
       "      <td>0</td>\n",
       "      <td>6</td>\n",
       "      <td>1.0</td>\n",
       "      <td>...</td>\n",
       "      <td>0</td>\n",
       "      <td>0</td>\n",
       "      <td>0</td>\n",
       "      <td>0</td>\n",
       "      <td>0</td>\n",
       "      <td>0</td>\n",
       "      <td>0</td>\n",
       "      <td>0.0</td>\n",
       "      <td>0.0</td>\n",
       "      <td>0</td>\n",
       "    </tr>\n",
       "    <tr>\n",
       "      <th>1</th>\n",
       "      <td>2015-01-28</td>\n",
       "      <td>1050611</td>\n",
       "      <td>N</td>\n",
       "      <td>ES</td>\n",
       "      <td>V</td>\n",
       "      <td>23</td>\n",
       "      <td>2012-08-10</td>\n",
       "      <td>0</td>\n",
       "      <td>35</td>\n",
       "      <td>1.0</td>\n",
       "      <td>...</td>\n",
       "      <td>0</td>\n",
       "      <td>0</td>\n",
       "      <td>0</td>\n",
       "      <td>0</td>\n",
       "      <td>0</td>\n",
       "      <td>0</td>\n",
       "      <td>0</td>\n",
       "      <td>0.0</td>\n",
       "      <td>0.0</td>\n",
       "      <td>0</td>\n",
       "    </tr>\n",
       "    <tr>\n",
       "      <th>2</th>\n",
       "      <td>2015-01-28</td>\n",
       "      <td>1050612</td>\n",
       "      <td>N</td>\n",
       "      <td>ES</td>\n",
       "      <td>V</td>\n",
       "      <td>23</td>\n",
       "      <td>2012-08-10</td>\n",
       "      <td>0</td>\n",
       "      <td>35</td>\n",
       "      <td>1.0</td>\n",
       "      <td>...</td>\n",
       "      <td>0</td>\n",
       "      <td>0</td>\n",
       "      <td>0</td>\n",
       "      <td>0</td>\n",
       "      <td>0</td>\n",
       "      <td>0</td>\n",
       "      <td>0</td>\n",
       "      <td>0.0</td>\n",
       "      <td>0.0</td>\n",
       "      <td>0</td>\n",
       "    </tr>\n",
       "    <tr>\n",
       "      <th>3</th>\n",
       "      <td>2015-01-28</td>\n",
       "      <td>1050613</td>\n",
       "      <td>N</td>\n",
       "      <td>ES</td>\n",
       "      <td>H</td>\n",
       "      <td>22</td>\n",
       "      <td>2012-08-10</td>\n",
       "      <td>0</td>\n",
       "      <td>35</td>\n",
       "      <td>1.0</td>\n",
       "      <td>...</td>\n",
       "      <td>0</td>\n",
       "      <td>0</td>\n",
       "      <td>0</td>\n",
       "      <td>0</td>\n",
       "      <td>0</td>\n",
       "      <td>0</td>\n",
       "      <td>0</td>\n",
       "      <td>0.0</td>\n",
       "      <td>0.0</td>\n",
       "      <td>0</td>\n",
       "    </tr>\n",
       "    <tr>\n",
       "      <th>4</th>\n",
       "      <td>2015-01-28</td>\n",
       "      <td>1050614</td>\n",
       "      <td>N</td>\n",
       "      <td>ES</td>\n",
       "      <td>V</td>\n",
       "      <td>23</td>\n",
       "      <td>2012-08-10</td>\n",
       "      <td>0</td>\n",
       "      <td>35</td>\n",
       "      <td>1.0</td>\n",
       "      <td>...</td>\n",
       "      <td>0</td>\n",
       "      <td>0</td>\n",
       "      <td>0</td>\n",
       "      <td>0</td>\n",
       "      <td>0</td>\n",
       "      <td>0</td>\n",
       "      <td>0</td>\n",
       "      <td>0.0</td>\n",
       "      <td>0.0</td>\n",
       "      <td>0</td>\n",
       "    </tr>\n",
       "  </tbody>\n",
       "</table>\n",
       "<p>5 rows × 48 columns</p>\n",
       "</div>"
      ],
      "text/plain": [
       "   fecha_dato  ncodpers ind_empleado pais_residencia sexo  age  fecha_alta  \\\n",
       "0  2015-01-28   1375586            N              ES    H   35  2015-01-12   \n",
       "1  2015-01-28   1050611            N              ES    V   23  2012-08-10   \n",
       "2  2015-01-28   1050612            N              ES    V   23  2012-08-10   \n",
       "3  2015-01-28   1050613            N              ES    H   22  2012-08-10   \n",
       "4  2015-01-28   1050614            N              ES    V   23  2012-08-10   \n",
       "\n",
       "  ind_nuevo antiguedad  indrel       ...        ind_hip_fin_ult1  \\\n",
       "0         0          6     1.0       ...                       0   \n",
       "1         0         35     1.0       ...                       0   \n",
       "2         0         35     1.0       ...                       0   \n",
       "3         0         35     1.0       ...                       0   \n",
       "4         0         35     1.0       ...                       0   \n",
       "\n",
       "  ind_plan_fin_ult1 ind_pres_fin_ult1 ind_reca_fin_ult1 ind_tjcr_fin_ult1  \\\n",
       "0                 0                 0                 0                 0   \n",
       "1                 0                 0                 0                 0   \n",
       "2                 0                 0                 0                 0   \n",
       "3                 0                 0                 0                 0   \n",
       "4                 0                 0                 0                 0   \n",
       "\n",
       "  ind_valo_fin_ult1 ind_viv_fin_ult1 ind_nomina_ult1  ind_nom_pens_ult1  \\\n",
       "0                 0                0             0.0                0.0   \n",
       "1                 0                0             0.0                0.0   \n",
       "2                 0                0             0.0                0.0   \n",
       "3                 0                0             0.0                0.0   \n",
       "4                 0                0             0.0                0.0   \n",
       "\n",
       "   ind_recibo_ult1  \n",
       "0                0  \n",
       "1                0  \n",
       "2                0  \n",
       "3                0  \n",
       "4                0  \n",
       "\n",
       "[5 rows x 48 columns]"
      ]
     },
     "execution_count": 2,
     "metadata": {},
     "output_type": "execute_result"
    }
   ],
   "source": [
    "df = pd.read_csv('data/train_ver2.csv', dtype={'sexo': str,\n",
    "                                                'age': str,\n",
    "                                                'ind_nuevo': str,\n",
    "                                                'indrel_1mes': str,\n",
    "                                                'antiguedad': str,\n",
    "                                                'ult_fec_cli_lt': str,\n",
    "                                                'indext': str,\n",
    "                                                'conyuemp': str})\n",
    "df.head()"
   ]
  },
  {
   "cell_type": "code",
   "execution_count": 4,
   "metadata": {
    "collapsed": false
   },
   "outputs": [
    {
     "data": {
      "text/plain": [
       "(13647309, 48)"
      ]
     },
     "execution_count": 4,
     "metadata": {},
     "output_type": "execute_result"
    }
   ],
   "source": [
    "df.shape"
   ]
  },
  {
   "cell_type": "markdown",
   "metadata": {},
   "source": [
    "Descripción breve de los atributos numéricos"
   ]
  },
  {
   "cell_type": "code",
   "execution_count": 5,
   "metadata": {
    "collapsed": false
   },
   "outputs": [
    {
     "data": {
      "text/html": [
       "<div>\n",
       "<table border=\"1\" class=\"dataframe\">\n",
       "  <thead>\n",
       "    <tr style=\"text-align: right;\">\n",
       "      <th></th>\n",
       "      <th>ncodpers</th>\n",
       "      <th>indrel</th>\n",
       "      <th>tipodom</th>\n",
       "      <th>cod_prov</th>\n",
       "      <th>ind_actividad_cliente</th>\n",
       "      <th>renta</th>\n",
       "      <th>ind_ahor_fin_ult1</th>\n",
       "      <th>ind_aval_fin_ult1</th>\n",
       "      <th>ind_cco_fin_ult1</th>\n",
       "      <th>ind_cder_fin_ult1</th>\n",
       "      <th>...</th>\n",
       "      <th>ind_hip_fin_ult1</th>\n",
       "      <th>ind_plan_fin_ult1</th>\n",
       "      <th>ind_pres_fin_ult1</th>\n",
       "      <th>ind_reca_fin_ult1</th>\n",
       "      <th>ind_tjcr_fin_ult1</th>\n",
       "      <th>ind_valo_fin_ult1</th>\n",
       "      <th>ind_viv_fin_ult1</th>\n",
       "      <th>ind_nomina_ult1</th>\n",
       "      <th>ind_nom_pens_ult1</th>\n",
       "      <th>ind_recibo_ult1</th>\n",
       "    </tr>\n",
       "  </thead>\n",
       "  <tbody>\n",
       "    <tr>\n",
       "      <th>count</th>\n",
       "      <td>1.364731e+07</td>\n",
       "      <td>1.361958e+07</td>\n",
       "      <td>13619574.0</td>\n",
       "      <td>1.355372e+07</td>\n",
       "      <td>1.361958e+07</td>\n",
       "      <td>1.085293e+07</td>\n",
       "      <td>1.364731e+07</td>\n",
       "      <td>1.364731e+07</td>\n",
       "      <td>1.364731e+07</td>\n",
       "      <td>1.364731e+07</td>\n",
       "      <td>...</td>\n",
       "      <td>1.364731e+07</td>\n",
       "      <td>1.364731e+07</td>\n",
       "      <td>1.364731e+07</td>\n",
       "      <td>1.364731e+07</td>\n",
       "      <td>1.364731e+07</td>\n",
       "      <td>1.364731e+07</td>\n",
       "      <td>1.364731e+07</td>\n",
       "      <td>1.363125e+07</td>\n",
       "      <td>1.363125e+07</td>\n",
       "      <td>1.364731e+07</td>\n",
       "    </tr>\n",
       "    <tr>\n",
       "      <th>mean</th>\n",
       "      <td>8.349042e+05</td>\n",
       "      <td>1.178399e+00</td>\n",
       "      <td>1.0</td>\n",
       "      <td>2.657147e+01</td>\n",
       "      <td>4.578105e-01</td>\n",
       "      <td>1.342543e+05</td>\n",
       "      <td>1.022912e-04</td>\n",
       "      <td>2.315475e-05</td>\n",
       "      <td>6.554837e-01</td>\n",
       "      <td>3.939238e-04</td>\n",
       "      <td>...</td>\n",
       "      <td>5.886582e-03</td>\n",
       "      <td>9.170965e-03</td>\n",
       "      <td>2.627404e-03</td>\n",
       "      <td>5.253636e-02</td>\n",
       "      <td>4.438868e-02</td>\n",
       "      <td>2.560761e-02</td>\n",
       "      <td>3.847718e-03</td>\n",
       "      <td>5.472434e-02</td>\n",
       "      <td>5.942854e-02</td>\n",
       "      <td>1.279162e-01</td>\n",
       "    </tr>\n",
       "    <tr>\n",
       "      <th>std</th>\n",
       "      <td>4.315650e+05</td>\n",
       "      <td>4.177469e+00</td>\n",
       "      <td>0.0</td>\n",
       "      <td>1.278402e+01</td>\n",
       "      <td>4.982169e-01</td>\n",
       "      <td>2.306202e+05</td>\n",
       "      <td>1.011340e-02</td>\n",
       "      <td>4.811883e-03</td>\n",
       "      <td>4.752103e-01</td>\n",
       "      <td>1.984361e-02</td>\n",
       "      <td>...</td>\n",
       "      <td>7.649791e-02</td>\n",
       "      <td>9.532502e-02</td>\n",
       "      <td>5.119083e-02</td>\n",
       "      <td>2.231060e-01</td>\n",
       "      <td>2.059571e-01</td>\n",
       "      <td>1.579616e-01</td>\n",
       "      <td>6.191053e-02</td>\n",
       "      <td>2.274414e-01</td>\n",
       "      <td>2.364250e-01</td>\n",
       "      <td>3.339965e-01</td>\n",
       "    </tr>\n",
       "    <tr>\n",
       "      <th>min</th>\n",
       "      <td>1.588900e+04</td>\n",
       "      <td>1.000000e+00</td>\n",
       "      <td>1.0</td>\n",
       "      <td>1.000000e+00</td>\n",
       "      <td>0.000000e+00</td>\n",
       "      <td>1.202730e+03</td>\n",
       "      <td>0.000000e+00</td>\n",
       "      <td>0.000000e+00</td>\n",
       "      <td>0.000000e+00</td>\n",
       "      <td>0.000000e+00</td>\n",
       "      <td>...</td>\n",
       "      <td>0.000000e+00</td>\n",
       "      <td>0.000000e+00</td>\n",
       "      <td>0.000000e+00</td>\n",
       "      <td>0.000000e+00</td>\n",
       "      <td>0.000000e+00</td>\n",
       "      <td>0.000000e+00</td>\n",
       "      <td>0.000000e+00</td>\n",
       "      <td>0.000000e+00</td>\n",
       "      <td>0.000000e+00</td>\n",
       "      <td>0.000000e+00</td>\n",
       "    </tr>\n",
       "    <tr>\n",
       "      <th>25%</th>\n",
       "      <td>4.528130e+05</td>\n",
       "      <td>1.000000e+00</td>\n",
       "      <td>1.0</td>\n",
       "      <td>1.500000e+01</td>\n",
       "      <td>0.000000e+00</td>\n",
       "      <td>6.871098e+04</td>\n",
       "      <td>0.000000e+00</td>\n",
       "      <td>0.000000e+00</td>\n",
       "      <td>0.000000e+00</td>\n",
       "      <td>0.000000e+00</td>\n",
       "      <td>...</td>\n",
       "      <td>0.000000e+00</td>\n",
       "      <td>0.000000e+00</td>\n",
       "      <td>0.000000e+00</td>\n",
       "      <td>0.000000e+00</td>\n",
       "      <td>0.000000e+00</td>\n",
       "      <td>0.000000e+00</td>\n",
       "      <td>0.000000e+00</td>\n",
       "      <td>0.000000e+00</td>\n",
       "      <td>0.000000e+00</td>\n",
       "      <td>0.000000e+00</td>\n",
       "    </tr>\n",
       "    <tr>\n",
       "      <th>50%</th>\n",
       "      <td>9.318930e+05</td>\n",
       "      <td>1.000000e+00</td>\n",
       "      <td>1.0</td>\n",
       "      <td>2.800000e+01</td>\n",
       "      <td>0.000000e+00</td>\n",
       "      <td>1.018500e+05</td>\n",
       "      <td>0.000000e+00</td>\n",
       "      <td>0.000000e+00</td>\n",
       "      <td>1.000000e+00</td>\n",
       "      <td>0.000000e+00</td>\n",
       "      <td>...</td>\n",
       "      <td>0.000000e+00</td>\n",
       "      <td>0.000000e+00</td>\n",
       "      <td>0.000000e+00</td>\n",
       "      <td>0.000000e+00</td>\n",
       "      <td>0.000000e+00</td>\n",
       "      <td>0.000000e+00</td>\n",
       "      <td>0.000000e+00</td>\n",
       "      <td>0.000000e+00</td>\n",
       "      <td>0.000000e+00</td>\n",
       "      <td>0.000000e+00</td>\n",
       "    </tr>\n",
       "    <tr>\n",
       "      <th>75%</th>\n",
       "      <td>1.199286e+06</td>\n",
       "      <td>1.000000e+00</td>\n",
       "      <td>1.0</td>\n",
       "      <td>3.500000e+01</td>\n",
       "      <td>1.000000e+00</td>\n",
       "      <td>1.559560e+05</td>\n",
       "      <td>0.000000e+00</td>\n",
       "      <td>0.000000e+00</td>\n",
       "      <td>1.000000e+00</td>\n",
       "      <td>0.000000e+00</td>\n",
       "      <td>...</td>\n",
       "      <td>0.000000e+00</td>\n",
       "      <td>0.000000e+00</td>\n",
       "      <td>0.000000e+00</td>\n",
       "      <td>0.000000e+00</td>\n",
       "      <td>0.000000e+00</td>\n",
       "      <td>0.000000e+00</td>\n",
       "      <td>0.000000e+00</td>\n",
       "      <td>0.000000e+00</td>\n",
       "      <td>0.000000e+00</td>\n",
       "      <td>0.000000e+00</td>\n",
       "    </tr>\n",
       "    <tr>\n",
       "      <th>max</th>\n",
       "      <td>1.553689e+06</td>\n",
       "      <td>9.900000e+01</td>\n",
       "      <td>1.0</td>\n",
       "      <td>5.200000e+01</td>\n",
       "      <td>1.000000e+00</td>\n",
       "      <td>2.889440e+07</td>\n",
       "      <td>1.000000e+00</td>\n",
       "      <td>1.000000e+00</td>\n",
       "      <td>1.000000e+00</td>\n",
       "      <td>1.000000e+00</td>\n",
       "      <td>...</td>\n",
       "      <td>1.000000e+00</td>\n",
       "      <td>1.000000e+00</td>\n",
       "      <td>1.000000e+00</td>\n",
       "      <td>1.000000e+00</td>\n",
       "      <td>1.000000e+00</td>\n",
       "      <td>1.000000e+00</td>\n",
       "      <td>1.000000e+00</td>\n",
       "      <td>1.000000e+00</td>\n",
       "      <td>1.000000e+00</td>\n",
       "      <td>1.000000e+00</td>\n",
       "    </tr>\n",
       "  </tbody>\n",
       "</table>\n",
       "<p>8 rows × 30 columns</p>\n",
       "</div>"
      ],
      "text/plain": [
       "           ncodpers        indrel     tipodom      cod_prov  \\\n",
       "count  1.364731e+07  1.361958e+07  13619574.0  1.355372e+07   \n",
       "mean   8.349042e+05  1.178399e+00         1.0  2.657147e+01   \n",
       "std    4.315650e+05  4.177469e+00         0.0  1.278402e+01   \n",
       "min    1.588900e+04  1.000000e+00         1.0  1.000000e+00   \n",
       "25%    4.528130e+05  1.000000e+00         1.0  1.500000e+01   \n",
       "50%    9.318930e+05  1.000000e+00         1.0  2.800000e+01   \n",
       "75%    1.199286e+06  1.000000e+00         1.0  3.500000e+01   \n",
       "max    1.553689e+06  9.900000e+01         1.0  5.200000e+01   \n",
       "\n",
       "       ind_actividad_cliente         renta  ind_ahor_fin_ult1  \\\n",
       "count           1.361958e+07  1.085293e+07       1.364731e+07   \n",
       "mean            4.578105e-01  1.342543e+05       1.022912e-04   \n",
       "std             4.982169e-01  2.306202e+05       1.011340e-02   \n",
       "min             0.000000e+00  1.202730e+03       0.000000e+00   \n",
       "25%             0.000000e+00  6.871098e+04       0.000000e+00   \n",
       "50%             0.000000e+00  1.018500e+05       0.000000e+00   \n",
       "75%             1.000000e+00  1.559560e+05       0.000000e+00   \n",
       "max             1.000000e+00  2.889440e+07       1.000000e+00   \n",
       "\n",
       "       ind_aval_fin_ult1  ind_cco_fin_ult1  ind_cder_fin_ult1  \\\n",
       "count       1.364731e+07      1.364731e+07       1.364731e+07   \n",
       "mean        2.315475e-05      6.554837e-01       3.939238e-04   \n",
       "std         4.811883e-03      4.752103e-01       1.984361e-02   \n",
       "min         0.000000e+00      0.000000e+00       0.000000e+00   \n",
       "25%         0.000000e+00      0.000000e+00       0.000000e+00   \n",
       "50%         0.000000e+00      1.000000e+00       0.000000e+00   \n",
       "75%         0.000000e+00      1.000000e+00       0.000000e+00   \n",
       "max         1.000000e+00      1.000000e+00       1.000000e+00   \n",
       "\n",
       "            ...         ind_hip_fin_ult1  ind_plan_fin_ult1  \\\n",
       "count       ...             1.364731e+07       1.364731e+07   \n",
       "mean        ...             5.886582e-03       9.170965e-03   \n",
       "std         ...             7.649791e-02       9.532502e-02   \n",
       "min         ...             0.000000e+00       0.000000e+00   \n",
       "25%         ...             0.000000e+00       0.000000e+00   \n",
       "50%         ...             0.000000e+00       0.000000e+00   \n",
       "75%         ...             0.000000e+00       0.000000e+00   \n",
       "max         ...             1.000000e+00       1.000000e+00   \n",
       "\n",
       "       ind_pres_fin_ult1  ind_reca_fin_ult1  ind_tjcr_fin_ult1  \\\n",
       "count       1.364731e+07       1.364731e+07       1.364731e+07   \n",
       "mean        2.627404e-03       5.253636e-02       4.438868e-02   \n",
       "std         5.119083e-02       2.231060e-01       2.059571e-01   \n",
       "min         0.000000e+00       0.000000e+00       0.000000e+00   \n",
       "25%         0.000000e+00       0.000000e+00       0.000000e+00   \n",
       "50%         0.000000e+00       0.000000e+00       0.000000e+00   \n",
       "75%         0.000000e+00       0.000000e+00       0.000000e+00   \n",
       "max         1.000000e+00       1.000000e+00       1.000000e+00   \n",
       "\n",
       "       ind_valo_fin_ult1  ind_viv_fin_ult1  ind_nomina_ult1  \\\n",
       "count       1.364731e+07      1.364731e+07     1.363125e+07   \n",
       "mean        2.560761e-02      3.847718e-03     5.472434e-02   \n",
       "std         1.579616e-01      6.191053e-02     2.274414e-01   \n",
       "min         0.000000e+00      0.000000e+00     0.000000e+00   \n",
       "25%         0.000000e+00      0.000000e+00     0.000000e+00   \n",
       "50%         0.000000e+00      0.000000e+00     0.000000e+00   \n",
       "75%         0.000000e+00      0.000000e+00     0.000000e+00   \n",
       "max         1.000000e+00      1.000000e+00     1.000000e+00   \n",
       "\n",
       "       ind_nom_pens_ult1  ind_recibo_ult1  \n",
       "count       1.363125e+07     1.364731e+07  \n",
       "mean        5.942854e-02     1.279162e-01  \n",
       "std         2.364250e-01     3.339965e-01  \n",
       "min         0.000000e+00     0.000000e+00  \n",
       "25%         0.000000e+00     0.000000e+00  \n",
       "50%         0.000000e+00     0.000000e+00  \n",
       "75%         0.000000e+00     0.000000e+00  \n",
       "max         1.000000e+00     1.000000e+00  \n",
       "\n",
       "[8 rows x 30 columns]"
      ]
     },
     "execution_count": 5,
     "metadata": {},
     "output_type": "execute_result"
    }
   ],
   "source": [
    "df.describe()"
   ]
  },
  {
   "cell_type": "markdown",
   "metadata": {
    "collapsed": true
   },
   "source": [
    "# Descripción del dataset\n",
    "\n",
    "En esta sección se revisarán los 24 atributos del dataset, tanto los númericos como los atributos categóricos. Además se hará una revisión de los *targets* que se proveen\n",
    "\n"
   ]
  },
  {
   "cell_type": "markdown",
   "metadata": {},
   "source": [
    "### Columnas con datos faltantes"
   ]
  },
  {
   "cell_type": "code",
   "execution_count": 3,
   "metadata": {
    "collapsed": false
   },
   "outputs": [],
   "source": [
    "missing = list(df.isnull().any())"
   ]
  },
  {
   "cell_type": "code",
   "execution_count": 4,
   "metadata": {
    "collapsed": false
   },
   "outputs": [],
   "source": [
    "missing_cols = [col for i, col in enumerate(df.columns) if missing[i]]\n",
    "missing_vals = [val for val in sum(df.isnull().values * 1) if val > 0]"
   ]
  },
  {
   "cell_type": "code",
   "execution_count": 5,
   "metadata": {
    "collapsed": false
   },
   "outputs": [
    {
     "name": "stdout",
     "output_type": "stream",
     "text": [
      "Cantidad de columnas con datos faltantes 22\n"
     ]
    }
   ],
   "source": [
    "print(\"Cantidad de columnas con datos faltantes\", len(missing_cols))"
   ]
  },
  {
   "cell_type": "code",
   "execution_count": 23,
   "metadata": {
    "collapsed": false
   },
   "outputs": [
    {
     "data": {
      "image/png": "[encoded data removed]",
      "text/plain": [
       "<matplotlib.figure.Figure at 0x7f0095d20780>"
      ]
     },
     "metadata": {},
     "output_type": "display_data"
    }
   ],
   "source": [
    "plt.figure(figsize=(15, 7))\n",
    "graph = sns.barplot(missing_cols, missing_vals)\n",
    "plt.xticks(rotation='vertical')\n",
    "plt.ylabel('Cantidad', size=15)\n",
    "plt.xlabel('Columnas con datos faltantes', size=15)\n",
    "for i in range(len(missing_cols)):\n",
    "    graph.text(i, missing_vals[i] + 500000, missing_vals[i], ha='center', va='bottom', rotation='vertical', size=14)"
   ]
  },
  {
   "cell_type": "markdown",
   "metadata": {
    "collapsed": true
   },
   "source": [
    "### Clientes\n",
    "Cantidad de clientes "
   ]
  },
  {
   "cell_type": "code",
   "execution_count": 24,
   "metadata": {
    "collapsed": false
   },
   "outputs": [
    {
     "name": "stdout",
     "output_type": "stream",
     "text": [
      "Cantidad de clientes 956645\n",
      "Concurrencia promedio de cada cliente 14.265802884037443\n"
     ]
    }
   ],
   "source": [
    "cant_customers = len(df.ncodpers.unique())\n",
    "print(\"Cantidad de clientes\", cant_customers)\n",
    "print(\"Concurrencia promedio de cada cliente\", df.shape[0]/cant_customers)"
   ]
  },
  {
   "cell_type": "markdown",
   "metadata": {},
   "source": [
    "### Índice del empleado\n",
    "Hay tres índices de empleado.\n",
    "\n",
    "* A: Activo\n",
    "* B: Ex-empleado\n",
    "* F: Filial\n",
    "* N: No es empleado\n",
    "* P: Pasivo"
   ]
  },
  {
   "cell_type": "code",
   "execution_count": 25,
   "metadata": {
    "collapsed": false
   },
   "outputs": [
    {
     "name": "stdout",
     "output_type": "stream",
     "text": [
      "Cantidad de valores faltantes 27734\n"
     ]
    }
   ],
   "source": [
    "print('Cantidad de valores faltantes', np.sum(df.ind_empleado.isnull().values))"
   ]
  },
  {
   "cell_type": "code",
   "execution_count": 26,
   "metadata": {
    "collapsed": false
   },
   "outputs": [],
   "source": [
    "ind_empleado_vals = df.ind_empleado.value_counts().values\n",
    "ind_empleado_cols = df.ind_empleado.value_counts().index"
   ]
  },
  {
   "cell_type": "code",
   "execution_count": 27,
   "metadata": {
    "collapsed": false,
    "scrolled": false
   },
   "outputs": [
    {
     "data": {
      "image/png": "[encoded data removed]",
      "text/plain": [
       "<matplotlib.figure.Figure at 0x7f0096052978>"
      ]
     },
     "metadata": {},
     "output_type": "display_data"
    }
   ],
   "source": [
    "plt.figure(figsize=(10, 10))\n",
    "graph = sns.barplot(ind_empleado_cols, ind_empleado_vals)\n",
    "for i, val in enumerate(ind_empleado_vals):\n",
    "    graph.text(i, val + 500000, val, ha='center')"
   ]
  },
  {
   "cell_type": "markdown",
   "metadata": {},
   "source": [
    "### País de residencia\n",
    "Los datos de esta columna están en código ISO 3166-1"
   ]
  },
  {
   "cell_type": "code",
   "execution_count": 32,
   "metadata": {
    "collapsed": true
   },
   "outputs": [],
   "source": [
    "import iso3166 as iso"
   ]
  },
  {
   "cell_type": "code",
   "execution_count": 43,
   "metadata": {
    "collapsed": false
   },
   "outputs": [],
   "source": [
    "countries_iso = df.pais_residencia.unique()"
   ]
  },
  {
   "cell_type": "code",
   "execution_count": 57,
   "metadata": {
    "collapsed": false
   },
   "outputs": [],
   "source": [
    "countries = [iso.countries_by_alpha2.get(c) for c in countries_iso]"
   ]
  },
  {
   "cell_type": "code",
   "execution_count": 77,
   "metadata": {
    "collapsed": false
   },
   "outputs": [],
   "source": [
    "countries_counts = df.pais_residencia.value_counts()"
   ]
  },
  {
   "cell_type": "code",
   "execution_count": 89,
   "metadata": {
    "collapsed": false
   },
   "outputs": [],
   "source": [
    "import geopip"
   ]
  },
  {
   "cell_type": "code",
   "execution_count": 72,
   "metadata": {
    "collapsed": true
   },
   "outputs": [],
   "source": [
    "from bokeh.io import output_notebook\n",
    "from bokeh.models import GeoJSONDataSource\n",
    "from bokeh.plotting import figure, show\n",
    "from bokeh.tile_providers import STAMEN_TONER\n",
    "from bokeh.sampledata.sample_geojson import geojson"
   ]
  },
  {
   "cell_type": "code",
   "execution_count": 76,
   "metadata": {
    "collapsed": false
   },
   "outputs": [
    {
     "data": {
      "text/html": [
       "\n",
       "    <div class=\"bk-banner\">\n",
       "        <a href=\"http://bokeh.pydata.org\" target=\"_blank\" class=\"bk-logo bk-logo-small bk-logo-notebook\"></a>\n",
       "        <span id=\"8220852d-a98e-48b8-afc0-3faef17cfa52\">Loading BokehJS ...</span>\n",
       "    </div>"
      ]
     },
     "metadata": {},
     "output_type": "display_data"
    },
    {
     "data": {
      "application/javascript": [
       "\n",
       "(function(global) {\n",
       "  function now() {\n",
       "    return new Date();\n",
       "  }\n",
       "\n",
       "  if (typeof (window._bokeh_onload_callbacks) === \"undefined\") {\n",
       "    window._bokeh_onload_callbacks = [];\n",
       "  }\n",
       "\n",
       "  function run_callbacks() {\n",
       "    window._bokeh_onload_callbacks.forEach(function(callback) { callback() });\n",
       "    delete window._bokeh_onload_callbacks\n",
       "    console.info(\"Bokeh: all callbacks have finished\");\n",
       "  }\n",
       "\n",
       "  function load_libs(js_urls, callback) {\n",
       "    window._bokeh_onload_callbacks.push(callback);\n",
       "    if (window._bokeh_is_loading > 0) {\n",
       "      console.log(\"Bokeh: BokehJS is being loaded, scheduling callback at\", now());\n",
       "      return null;\n",
       "    }\n",
       "    if (js_urls == null || js_urls.length === 0) {\n",
       "      run_callbacks();\n",
       "      return null;\n",
       "    }\n",
       "    console.log(\"Bokeh: BokehJS not loaded, scheduling load and callback at\", now());\n",
       "    window._bokeh_is_loading = js_urls.length;\n",
       "    for (var i = 0; i < js_urls.length; i++) {\n",
       "      var url = js_urls[i];\n",
       "      var s = document.createElement('script');\n",
       "      s.src = url;\n",
       "      s.async = false;\n",
       "      s.onreadystatechange = s.onload = function() {\n",
       "        window._bokeh_is_loading--;\n",
       "        if (window._bokeh_is_loading === 0) {\n",
       "          console.log(\"Bokeh: all BokehJS libraries loaded\");\n",
       "          run_callbacks()\n",
       "        }\n",
       "      };\n",
       "      s.onerror = function() {\n",
       "        console.warn(\"failed to load library \" + url);\n",
       "      };\n",
       "      console.log(\"Bokeh: injecting script tag for BokehJS library: \", url);\n",
       "      document.getElementsByTagName(\"head\")[0].appendChild(s);\n",
       "    }\n",
       "  };\n",
       "\n",
       "  var js_urls = ['https://cdn.pydata.org/bokeh/release/bokeh-0.11.1.min.js', 'https://cdn.pydata.org/bokeh/release/bokeh-widgets-0.11.1.min.js', 'https://cdn.pydata.org/bokeh/release/bokeh-compiler-0.11.1.min.js'];\n",
       "\n",
       "  var inline_js = [\n",
       "    function(Bokeh) {\n",
       "      Bokeh.set_log_level(\"info\");\n",
       "    },\n",
       "    \n",
       "    function(Bokeh) {\n",
       "      Bokeh.$(\"#8220852d-a98e-48b8-afc0-3faef17cfa52\").text(\"BokehJS successfully loaded\");\n",
       "    },\n",
       "    function(Bokeh) {\n",
       "      console.log(\"Bokeh: injecting CSS: https://cdn.pydata.org/bokeh/release/bokeh-0.11.1.min.css\");\n",
       "      Bokeh.embed.inject_css(\"https://cdn.pydata.org/bokeh/release/bokeh-0.11.1.min.css\");\n",
       "      console.log(\"Bokeh: injecting CSS: https://cdn.pydata.org/bokeh/release/bokeh-widgets-0.11.1.min.css\");\n",
       "      Bokeh.embed.inject_css(\"https://cdn.pydata.org/bokeh/release/bokeh-widgets-0.11.1.min.css\");\n",
       "    }\n",
       "  ];\n",
       "\n",
       "  function run_inline_js() {\n",
       "    for (var i = 0; i < inline_js.length; i++) {\n",
       "      inline_js[i](window.Bokeh);\n",
       "    }\n",
       "  }\n",
       "\n",
       "  if (window._bokeh_is_loading === 0) {\n",
       "    console.log(\"Bokeh: BokehJS loaded, going straight to plotting\");\n",
       "    run_inline_js();\n",
       "  } else {\n",
       "    load_libs(js_urls, function() {\n",
       "      console.log(\"Bokeh: BokehJS plotting callback run at\", now());\n",
       "      run_inline_js();\n",
       "    });\n",
       "  }\n",
       "}(this));"
      ]
     },
     "metadata": {},
     "output_type": "display_data"
    },
    {
     "data": {
      "text/html": [
       "\n",
       "\n",
       "    <div class=\"plotdiv\" id=\"d2eea96c-eae2-4389-ad33-6bb487602d15\"></div>\n",
       "<script type=\"text/javascript\">\n",
       "  \n",
       "  (function(global) {\n",
       "    function now() {\n",
       "      return new Date();\n",
       "    }\n",
       "  \n",
       "    if (typeof (window._bokeh_onload_callbacks) === \"undefined\") {\n",
       "      window._bokeh_onload_callbacks = [];\n",
       "    }\n",
       "  \n",
       "    function run_callbacks() {\n",
       "      window._bokeh_onload_callbacks.forEach(function(callback) { callback() });\n",
       "      delete window._bokeh_onload_callbacks\n",
       "      console.info(\"Bokeh: all callbacks have finished\");\n",
       "    }\n",
       "  \n",
       "    function load_libs(js_urls, callback) {\n",
       "      window._bokeh_onload_callbacks.push(callback);\n",
       "      if (window._bokeh_is_loading > 0) {\n",
       "        console.log(\"Bokeh: BokehJS is being loaded, scheduling callback at\", now());\n",
       "        return null;\n",
       "      }\n",
       "      if (js_urls == null || js_urls.length === 0) {\n",
       "        run_callbacks();\n",
       "        return null;\n",
       "      }\n",
       "      console.log(\"Bokeh: BokehJS not loaded, scheduling load and callback at\", now());\n",
       "      window._bokeh_is_loading = js_urls.length;\n",
       "      for (var i = 0; i < js_urls.length; i++) {\n",
       "        var url = js_urls[i];\n",
       "        var s = document.createElement('script');\n",
       "        s.src = url;\n",
       "        s.async = false;\n",
       "        s.onreadystatechange = s.onload = function() {\n",
       "          window._bokeh_is_loading--;\n",
       "          if (window._bokeh_is_loading === 0) {\n",
       "            console.log(\"Bokeh: all BokehJS libraries loaded\");\n",
       "            run_callbacks()\n",
       "          }\n",
       "        };\n",
       "        s.onerror = function() {\n",
       "          console.warn(\"failed to load library \" + url);\n",
       "        };\n",
       "        console.log(\"Bokeh: injecting script tag for BokehJS library: \", url);\n",
       "        document.getElementsByTagName(\"head\")[0].appendChild(s);\n",
       "      }\n",
       "    };var element = document.getElementById(\"d2eea96c-eae2-4389-ad33-6bb487602d15\");\n",
       "    if (element == null) {\n",
       "      console.log(\"Bokeh: ERROR: autoload.js configured with elementid 'd2eea96c-eae2-4389-ad33-6bb487602d15' but no matching script tag was found. \")\n",
       "      return false;\n",
       "    }\n",
       "  \n",
       "    var js_urls = [];\n",
       "  \n",
       "    var inline_js = [\n",
       "      function(Bokeh) {\n",
       "        Bokeh.$(function() {\n",
       "            var docs_json = {\"7a7ff90b-c98b-432f-91ea-a540967a5dc3\":{\"roots\":{\"references\":[{\"attributes\":{\"fill_alpha\":{\"value\":0.9},\"fill_color\":{\"value\":\"#1f77b4\"},\"line_alpha\":{\"value\":0.9},\"line_color\":{\"value\":\"#1f77b4\"},\"x\":{\"field\":\"x\"},\"y\":{\"field\":\"y\"}},\"id\":\"e3b8087e-bd64-409e-8c84-51def7c03d08\",\"type\":\"Circle\"},{\"attributes\":{\"callback\":null},\"id\":\"b4523215-24c0-4206-82f7-667ee6ab4a24\",\"type\":\"DataRange1d\"},{\"attributes\":{},\"id\":\"fdb756bd-7a30-4082-b615-b60a9faa059c\",\"type\":\"BasicTickFormatter\"},{\"attributes\":{\"below\":[{\"id\":\"829594e1-75fe-4139-b7b4-50390d283124\",\"type\":\"LinearAxis\"}],\"left\":[{\"id\":\"0e41375b-6a32-493f-b8de-d959aa6c3750\",\"type\":\"LinearAxis\"}],\"renderers\":[{\"id\":\"829594e1-75fe-4139-b7b4-50390d283124\",\"type\":\"LinearAxis\"},{\"id\":\"791f32ee-367e-4f53-8b51-8635715d6bf8\",\"type\":\"Grid\"},{\"id\":\"0e41375b-6a32-493f-b8de-d959aa6c3750\",\"type\":\"LinearAxis\"},{\"id\":\"ca261151-29ac-40a8-9a80-5c1ab5098167\",\"type\":\"Grid\"},{\"id\":\"9f1b26cf-a2cd-4cc4-914c-96f49ce63f76\",\"type\":\"GlyphRenderer\"},{\"id\":\"c0a58f30-1cff-4e0d-9feb-54221ec95e40\",\"type\":\"TileRenderer\"}],\"tool_events\":{\"id\":\"7682c6be-71cc-4e95-bb26-7a8628585654\",\"type\":\"ToolEvents\"},\"tools\":[{\"id\":\"1cfec27f-f763-4f86-9000-e156cc50b3b0\",\"type\":\"PanTool\"},{\"id\":\"5297ab6e-4942-4c79-a2e7-2c49ad7db28f\",\"type\":\"WheelZoomTool\"}],\"x_range\":{\"id\":\"d1e959d4-7e1f-4e43-8549-aaaee02890b8\",\"type\":\"Range1d\"},\"y_range\":{\"id\":\"cd5e4450-5d3a-4c36-97eb-29e78f627ff2\",\"type\":\"Range1d\"}},\"id\":\"e33a26de-2a70-4e33-901e-d989ecc47341\",\"subtype\":\"Figure\",\"type\":\"Plot\"},{\"attributes\":{\"plot\":{\"id\":\"6387af47-2b00-47bb-adbf-143d68bbb3d6\",\"subtype\":\"Figure\",\"type\":\"Plot\"},\"ticker\":{\"id\":\"f99f1da1-7bb7-4d0f-bbe1-119fe64f6ef8\",\"type\":\"BasicTicker\"}},\"id\":\"861d4c28-43de-4f17-b37a-aec74279ebd0\",\"type\":\"Grid\"},{\"attributes\":{\"formatter\":{\"id\":\"be1a3cca-dbab-45eb-a429-cfd91a2dbbae\",\"type\":\"BasicTickFormatter\"},\"plot\":{\"id\":\"6387af47-2b00-47bb-adbf-143d68bbb3d6\",\"subtype\":\"Figure\",\"type\":\"Plot\"},\"ticker\":{\"id\":\"6e354d8c-e3e7-475d-b970-660c8daa3320\",\"type\":\"BasicTicker\"}},\"id\":\"8d518093-4216-4fc5-96fe-f5c6fc802eff\",\"type\":\"LinearAxis\"},{\"attributes\":{\"callback\":null,\"geojson\":\"{\\\"type\\\":\\\"FeatureCollection\\\",\\\"features\\\":[{\\\"type\\\":\\\"Feature\\\",\\\"id\\\":\\\"463098\\\",\\\"geometry\\\":{\\\"type\\\":\\\"Point\\\",\\\"coordinates\\\":[-2.1208465099334717,51.4613151550293]},\\\"properties\\\":{\\\"OrganisationCode\\\":\\\"Q64\\\",\\\"OrganisationType\\\":\\\"Area Team\\\",\\\"SubType\\\":\\\"UNKNOWN\\\",\\\"OrganisationStatus\\\":\\\"Visible\\\",\\\"IsPimsManaged\\\":\\\"True\\\",\\\"OrganisationName\\\":\\\"Bath, Gloucestershire, Swindon And Wiltshire Area Team\\\",\\\"Address1\\\":\\\"1st Floor\\\",\\\"Address2\\\":\\\"Bewley House\\\",\\\"Address3\\\":\\\"Marshfield Road\\\",\\\"City\\\":\\\"Chippenham\\\",\\\"County\\\":\\\"Wiltshire\\\",\\\"Postcode\\\":\\\"SN15 1JW\\\",\\\"Phone\\\":\\\"0113 8251 500\\\",\\\"Email\\\":\\\"england.contactus@nhs.net\\\",\\\"Website\\\":\\\"http://www.england.nhs.uk/south/south/bgsw-at/\\\"}},{\\\"type\\\":\\\"Feature\\\",\\\"id\\\":\\\"463099\\\",\\\"geometry\\\":{\\\"type\\\":\\\"Point\\\",\\\"coordinates\\\":[-2.5929524898529053,51.459877014160156]},\\\"properties\\\":{\\\"OrganisationCode\\\":\\\"Q65\\\",\\\"OrganisationType\\\":\\\"Area Team\\\",\\\"SubType\\\":\\\"UNKNOWN\\\",\\\"OrganisationStatus\\\":\\\"Visible\\\",\\\"IsPimsManaged\\\":\\\"True\\\",\\\"OrganisationName\\\":\\\"Bristol, North Somerset, Somerset And South Gloucestershire Area Team\\\",\\\"Address1\\\":\\\"South Plaza\\\",\\\"Address3\\\":\\\"Marlborough Street\\\",\\\"City\\\":\\\"Bristol\\\",\\\"County\\\":\\\"Somerset\\\",\\\"Postcode\\\":\\\"BS1 3NX\\\",\\\"Phone\\\":\\\"0117 976 6600\\\",\\\"Email\\\":\\\"england.contactus@nhs.net\\\",\\\"Website\\\":\\\"http://www.england.nhs.uk/south/south/bnsssg-at/\\\"}},{\\\"type\\\":\\\"Feature\\\",\\\"id\\\":\\\"463100\\\",\\\"geometry\\\":{\\\"type\\\":\\\"Point\\\",\\\"coordinates\\\":[-4.232546806335449,50.42112731933594]},\\\"properties\\\":{\\\"OrganisationCode\\\":\\\"Q66\\\",\\\"OrganisationType\\\":\\\"Area Team\\\",\\\"SubType\\\":\\\"UNKNOWN\\\",\\\"OrganisationStatus\\\":\\\"Visible\\\",\\\"IsPimsManaged\\\":\\\"True\\\",\\\"OrganisationName\\\":\\\"Devon, Cornwall And Isles Of Scilly Area Team\\\",\\\"Address1\\\":\\\"Peninsula House\\\",\\\"Address2\\\":\\\"Kingsmill Road\\\",\\\"Address3\\\":\\\"Tamar View Industrial Estate\\\",\\\"City\\\":\\\"Cornwall\\\",\\\"County\\\":\\\"Cornwall\\\",\\\"Postcode\\\":\\\"PL12 6LE\\\",\\\"Phone\\\":\\\"01752 679250\\\",\\\"Email\\\":\\\"england.contactus@nhs.net\\\",\\\"Website\\\":\\\"http://www.england.nhs.uk/south/south/dcis-at/\\\"}},{\\\"type\\\":\\\"Feature\\\",\\\"id\\\":\\\"463101\\\",\\\"geometry\\\":{\\\"type\\\":\\\"Point\\\",\\\"coordinates\\\":[0.27698493003845215,51.193748474121094]},\\\"properties\\\":{\\\"OrganisationCode\\\":\\\"Q67\\\",\\\"OrganisationType\\\":\\\"Area Team\\\",\\\"SubType\\\":\\\"UNKNOWN\\\",\\\"OrganisationStatus\\\":\\\"Visible\\\",\\\"IsPimsManaged\\\":\\\"True\\\",\\\"OrganisationName\\\":\\\"Kent And Medway Area Team\\\",\\\"Address1\\\":\\\"Wharf House\\\",\\\"Address2\\\":\\\"Medway Wharf Road\\\",\\\"City\\\":\\\"Tonbridge\\\",\\\"County\\\":\\\"Kent\\\",\\\"Postcode\\\":\\\"TN9 1RE\\\",\\\"Phone\\\":\\\"01732 375200\\\",\\\"Email\\\":\\\"england.kentandmedwaybusinessoffice@nhs.net\\\",\\\"Website\\\":\\\"http://www.england.nhs.uk/south/south/km-at/\\\"}},{\\\"type\\\":\\\"Feature\\\",\\\"id\\\":\\\"463102\\\",\\\"geometry\\\":{\\\"type\\\":\\\"Point\\\",\\\"coordinates\\\":[-0.1647440642118454,51.170936584472656]},\\\"properties\\\":{\\\"OrganisationCode\\\":\\\"Q68\\\",\\\"OrganisationType\\\":\\\"Area Team\\\",\\\"SubType\\\":\\\"UNKNOWN\\\",\\\"OrganisationStatus\\\":\\\"Visible\\\",\\\"IsPimsManaged\\\":\\\"True\\\",\\\"OrganisationName\\\":\\\"Surrey And Sussex Area Team\\\",\\\"Address1\\\":\\\"York House\\\",\\\"Address2\\\":\\\"18-20 Massetts Road\\\",\\\"City\\\":\\\"Horley\\\",\\\"County\\\":\\\"Surrey\\\",\\\"Postcode\\\":\\\"RH6 7DE\\\",\\\"Phone\\\":\\\"01293 778899\\\",\\\"Email\\\":\\\"england.surreyandsussex-businessoffice@nhs.net\\\",\\\"Website\\\":\\\"http://www.england.nhs.uk/south/south/ss-at/\\\"}},{\\\"type\\\":\\\"Feature\\\",\\\"id\\\":\\\"463103\\\",\\\"geometry\\\":{\\\"type\\\":\\\"Point\\\",\\\"coordinates\\\":[-1.2079498767852783,51.72844696044922]},\\\"properties\\\":{\\\"OrganisationCode\\\":\\\"Q69\\\",\\\"OrganisationType\\\":\\\"Area Team\\\",\\\"SubType\\\":\\\"UNKNOWN\\\",\\\"OrganisationStatus\\\":\\\"Visible\\\",\\\"IsPimsManaged\\\":\\\"True\\\",\\\"OrganisationName\\\":\\\"Thames Valley Area Team\\\",\\\"Address1\\\":\\\"Jubilee House\\\",\\\"Address2\\\":\\\"5510 John Smith Drive\\\",\\\"Address3\\\":\\\"Oxford Business Park South\\\",\\\"City\\\":\\\"Cowley\\\",\\\"County\\\":\\\"Oxfordshire\\\",\\\"Postcode\\\":\\\"OX4 2LH\\\",\\\"Phone\\\":\\\"01865 963800\\\",\\\"Email\\\":\\\"england.contactus@nhs.net\\\",\\\"Website\\\":\\\"http://www.england.nhs.uk/south/south/tv-at/\\\"}},{\\\"type\\\":\\\"Feature\\\",\\\"id\\\":\\\"463104\\\",\\\"geometry\\\":{\\\"type\\\":\\\"Point\\\",\\\"coordinates\\\":[-1.4493359327316284,50.92325973510742]},\\\"properties\\\":{\\\"OrganisationCode\\\":\\\"Q70\\\",\\\"OrganisationType\\\":\\\"Area Team\\\",\\\"SubType\\\":\\\"UNKNOWN\\\",\\\"OrganisationStatus\\\":\\\"Visible\\\",\\\"IsPimsManaged\\\":\\\"True\\\",\\\"OrganisationName\\\":\\\"Wessex Area Team\\\",\\\"Address2\\\":\\\"Oakley Road\\\",\\\"City\\\":\\\"Southampton\\\",\\\"County\\\":\\\"Hampshire\\\",\\\"Postcode\\\":\\\"SO16 4GX\\\",\\\"Phone\\\":\\\"023 8029 6914\\\",\\\"Email\\\":\\\"england.wessexpatientexperience@nhs.net\\\",\\\"Website\\\":\\\"http://www.england.nhs.uk/south/south/w-at/\\\"}},{\\\"type\\\":\\\"Feature\\\",\\\"id\\\":\\\"463105\\\",\\\"geometry\\\":{\\\"type\\\":\\\"Point\\\",\\\"coordinates\\\":[-0.13727261126041412,51.49694061279297]},\\\"properties\\\":{\\\"OrganisationCode\\\":\\\"Q71\\\",\\\"OrganisationType\\\":\\\"Area Team\\\",\\\"SubType\\\":\\\"UNKNOWN\\\",\\\"OrganisationStatus\\\":\\\"Visible\\\",\\\"IsPimsManaged\\\":\\\"True\\\",\\\"OrganisationName\\\":\\\"London Area Team\\\",\\\"Address2\\\":\\\"2nd Floor, Southside\\\",\\\"Address3\\\":\\\"105 Victoria Street\\\",\\\"City\\\":\\\"London\\\",\\\"Postcode\\\":\\\"SW1E 6QT\\\",\\\"Phone\\\":\\\"0207 932 3700\\\",\\\"Email\\\":\\\"england.contactus@nhs.net\\\",\\\"Website\\\":\\\"http://www.england.nhs.uk/london/\\\"}},{\\\"type\\\":\\\"Feature\\\",\\\"id\\\":\\\"463120\\\",\\\"geometry\\\":{\\\"type\\\":\\\"Point\\\",\\\"coordinates\\\":[-2.5846381187438965,53.37392807006836]},\\\"properties\\\":{\\\"OrganisationCode\\\":\\\"Q44\\\",\\\"OrganisationType\\\":\\\"Area Team\\\",\\\"SubType\\\":\\\"UNKNOWN\\\",\\\"OrganisationStatus\\\":\\\"Visible\\\",\\\"IsPimsManaged\\\":\\\"True\\\",\\\"OrganisationName\\\":\\\"Cheshire, Warrington And Wirral Area Team\\\",\\\"Address1\\\":\\\"NHS Quayside (NHS North West)\\\",\\\"Address2\\\":\\\"Wilderspool Park\\\",\\\"Address3\\\":\\\"Greensall Avenue\\\",\\\"City\\\":\\\"Warrington\\\",\\\"County\\\":\\\"Cheshire\\\",\\\"Postcode\\\":\\\"WA4 6HL\\\",\\\"Phone\\\":\\\"01925 406000\\\",\\\"Email\\\":\\\"england.contactus@nhs.net\\\",\\\"Website\\\":\\\"http://www.england.nhs.uk/north/north/cww-at/\\\"}},{\\\"type\\\":\\\"Feature\\\",\\\"id\\\":\\\"463121\\\",\\\"geometry\\\":{\\\"type\\\":\\\"Point\\\",\\\"coordinates\\\":[-1.5323498249053955,53.79779815673828]},\\\"properties\\\":{\\\"OrganisationCode\\\":\\\"Q45\\\",\\\"OrganisationType\\\":\\\"Area Team\\\",\\\"SubType\\\":\\\"UNKNOWN\\\",\\\"OrganisationStatus\\\":\\\"Visible\\\",\\\"IsPimsManaged\\\":\\\"True\\\",\\\"OrganisationName\\\":\\\"Durham, Darlington And Tees Area Team\\\",\\\"Address1\\\":\\\"The Old Exchange\\\",\\\"Address2\\\":\\\"Barnard Street\\\",\\\"City\\\":\\\"Darlington\\\",\\\"County\\\":\\\"Durham\\\",\\\"Postcode\\\":\\\"LS2 7UE\\\",\\\"Phone\\\":\\\"0113 825 1609\\\",\\\"Email\\\":\\\"england.ddt-at-generalenquiries@nhs.net\\\",\\\"Website\\\":\\\"http://www.england.nhs.uk/north/north/ddt-at/\\\"}},{\\\"type\\\":\\\"Feature\\\",\\\"id\\\":\\\"463122\\\",\\\"geometry\\\":{\\\"type\\\":\\\"Point\\\",\\\"coordinates\\\":[-2.233488082885742,53.47760009765625]},\\\"properties\\\":{\\\"OrganisationCode\\\":\\\"Q46\\\",\\\"OrganisationType\\\":\\\"Area Team\\\",\\\"SubType\\\":\\\"UNKNOWN\\\",\\\"OrganisationStatus\\\":\\\"Visible\\\",\\\"IsPimsManaged\\\":\\\"True\\\",\\\"OrganisationName\\\":\\\"Greater Manchester Area Team\\\",\\\"Address1\\\":\\\"4th Floor\\\",\\\"Address2\\\":\\\"3 Picadilly Place\\\",\\\"Address3\\\":\\\"London Road\\\",\\\"City\\\":\\\"Manchester\\\",\\\"County\\\":\\\"Lancashire\\\",\\\"Postcode\\\":\\\"M1 3BN\\\",\\\"Phone\\\":\\\"0845 0500194\\\",\\\"Email\\\":\\\"nhse.gmat@nhs.net\\\",\\\"Website\\\":\\\"http://www.england.nhs.uk/north/north/gm-at/\\\"}},{\\\"type\\\":\\\"Feature\\\",\\\"id\\\":\\\"463123\\\",\\\"geometry\\\":{\\\"type\\\":\\\"Point\\\",\\\"coordinates\\\":[-2.705566644668579,53.77775573730469]},\\\"properties\\\":{\\\"OrganisationCode\\\":\\\"Q47\\\",\\\"OrganisationType\\\":\\\"Area Team\\\",\\\"SubType\\\":\\\"UNKNOWN\\\",\\\"OrganisationStatus\\\":\\\"Visible\\\",\\\"IsPimsManaged\\\":\\\"True\\\",\\\"OrganisationName\\\":\\\"Lancashire Area Team\\\",\\\"Address1\\\":\\\"Second Floor, Preston Business Centre\\\",\\\"Address2\\\":\\\"Watling Street Road\\\",\\\"Address3\\\":\\\"Fulwood\\\",\\\"City\\\":\\\"Preston\\\",\\\"County\\\":\\\"Lancashire\\\",\\\"Postcode\\\":\\\"PR2 8DY\\\",\\\"Phone\\\":\\\"01772 420150\\\",\\\"Email\\\":\\\"england.contactus@nhs.net\\\",\\\"Website\\\":\\\"http://www.england.nhs.uk/north/north/lanc-at/\\\"}},{\\\"type\\\":\\\"Feature\\\",\\\"id\\\":\\\"463124\\\",\\\"geometry\\\":{\\\"type\\\":\\\"Point\\\",\\\"coordinates\\\":[-2.9802029132843018,53.38481903076172]},\\\"properties\\\":{\\\"OrganisationCode\\\":\\\"Q48\\\",\\\"OrganisationType\\\":\\\"Area Team\\\",\\\"SubType\\\":\\\"UNKNOWN\\\",\\\"OrganisationStatus\\\":\\\"Visible\\\",\\\"IsPimsManaged\\\":\\\"True\\\",\\\"OrganisationName\\\":\\\"Merseyside Area Team\\\",\\\"Address1\\\":\\\"Regatta Place\\\",\\\"Address2\\\":\\\"Summers Road\\\",\\\"Address3\\\":\\\"Brunswick Business Park\\\",\\\"City\\\":\\\"Liverpool\\\",\\\"County\\\":\\\"Merseyside\\\",\\\"Postcode\\\":\\\"L3 4BL\\\",\\\"Phone\\\":\\\"0151 285 4777\\\",\\\"Email\\\":\\\"england.contactus@nhs.net\\\",\\\"Website\\\":\\\"http://www.england.nhs.uk/north/north/mers-at/\\\"}},{\\\"type\\\":\\\"Feature\\\",\\\"id\\\":\\\"463125\\\",\\\"geometry\\\":{\\\"type\\\":\\\"Point\\\",\\\"coordinates\\\":[-1.7141016721725464,54.96938705444336]},\\\"properties\\\":{\\\"OrganisationCode\\\":\\\"Q49\\\",\\\"OrganisationType\\\":\\\"Area Team\\\",\\\"SubType\\\":\\\"UNKNOWN\\\",\\\"OrganisationStatus\\\":\\\"Visible\\\",\\\"IsPimsManaged\\\":\\\"True\\\",\\\"OrganisationName\\\":\\\"Cumbria, Northumberland, Tyne And Wear Area Team\\\",\\\"Address1\\\":\\\"Waterfront\\\",\\\"Address2\\\":\\\"4 Goldcrest Way\\\",\\\"Address3\\\":\\\"Newburn\\\",\\\"City\\\":\\\"Newcastle Upon Tyne\\\",\\\"County\\\":\\\"Tyne and Wear\\\",\\\"Postcode\\\":\\\"NE15 8NY\\\",\\\"Phone\\\":\\\"01912 106400\\\",\\\"Email\\\":\\\"england.contactus@nhs.net\\\",\\\"Website\\\":\\\"http://www.england.nhs.uk/north/north/cntw-at/\\\"}},{\\\"type\\\":\\\"Feature\\\",\\\"id\\\":\\\"463126\\\",\\\"geometry\\\":{\\\"type\\\":\\\"Point\\\",\\\"coordinates\\\":[-1.0497655868530273,53.989986419677734]},\\\"properties\\\":{\\\"OrganisationCode\\\":\\\"Q50\\\",\\\"OrganisationType\\\":\\\"Area Team\\\",\\\"SubType\\\":\\\"UNKNOWN\\\",\\\"OrganisationStatus\\\":\\\"Visible\\\",\\\"IsPimsManaged\\\":\\\"True\\\",\\\"OrganisationName\\\":\\\"North Yorkshire And Humber Area Team\\\",\\\"Address1\\\":\\\"Unit 3\\\",\\\"Address2\\\":\\\"Alpha Court\\\",\\\"Address3\\\":\\\"Monks Cross\\\",\\\"City\\\":\\\"York\\\",\\\"County\\\":\\\"North Yorkshire\\\",\\\"Postcode\\\":\\\"YO32 9WN\\\",\\\"Phone\\\":\\\"0113 825 1845\\\",\\\"Email\\\":\\\"england.contactus@nhs.net\\\",\\\"Website\\\":\\\"http://www.england.nhs.uk/north/north/nyh-at/\\\"}},{\\\"type\\\":\\\"Feature\\\",\\\"id\\\":\\\"463127\\\",\\\"geometry\\\":{\\\"type\\\":\\\"Point\\\",\\\"coordinates\\\":[-1.2550956010818481,53.42157745361328]},\\\"properties\\\":{\\\"OrganisationCode\\\":\\\"Q51\\\",\\\"OrganisationType\\\":\\\"Area Team\\\",\\\"SubType\\\":\\\"UNKNOWN\\\",\\\"OrganisationStatus\\\":\\\"Visible\\\",\\\"IsPimsManaged\\\":\\\"True\\\",\\\"OrganisationName\\\":\\\"South Yorkshire And Bassetlaw Area Team\\\",\\\"Address1\\\":\\\"Oak House\\\",\\\"Address2\\\":\\\"Moorhead Way\\\",\\\"Address3\\\":\\\"Bramley\\\",\\\"City\\\":\\\"Rotherham\\\",\\\"County\\\":\\\"South Yorkshire\\\",\\\"Postcode\\\":\\\"S66 1YY\\\",\\\"Phone\\\":\\\"01709 302000\\\",\\\"Email\\\":\\\"england.syb-businessoffice@nhs.net\\\",\\\"Website\\\":\\\"http://www.england.nhs.uk/north/north/syb-at/\\\"}},{\\\"type\\\":\\\"Feature\\\",\\\"id\\\":\\\"463128\\\",\\\"geometry\\\":{\\\"type\\\":\\\"Point\\\",\\\"coordinates\\\":[-1.544582486152649,53.78975296020508]},\\\"properties\\\":{\\\"OrganisationCode\\\":\\\"Q52\\\",\\\"OrganisationType\\\":\\\"Area Team\\\",\\\"SubType\\\":\\\"UNKNOWN\\\",\\\"OrganisationStatus\\\":\\\"Visible\\\",\\\"IsPimsManaged\\\":\\\"True\\\",\\\"OrganisationName\\\":\\\"West Yorkshire Area Team\\\",\\\"Address1\\\":\\\"3 Leeds City Office Park\\\",\\\"Address2\\\":\\\"Meadow Lane\\\",\\\"City\\\":\\\"Leeds\\\",\\\"County\\\":\\\"West Yorkshire\\\",\\\"Postcode\\\":\\\"LS11 5BD\\\",\\\"Phone\\\":\\\"0113 8252700\\\",\\\"Email\\\":\\\"reception.westyorkshireareateam@nhs.net\\\",\\\"Website\\\":\\\"http://www.england.nhs.uk/north/north/wy-at/\\\"}},{\\\"type\\\":\\\"Feature\\\",\\\"id\\\":\\\"463129\\\",\\\"geometry\\\":{\\\"type\\\":\\\"Point\\\",\\\"coordinates\\\":[-2.1813161373138428,52.18680953979492]},\\\"properties\\\":{\\\"OrganisationCode\\\":\\\"Q53\\\",\\\"OrganisationType\\\":\\\"Area Team\\\",\\\"SubType\\\":\\\"UNKNOWN\\\",\\\"OrganisationStatus\\\":\\\"Visible\\\",\\\"IsPimsManaged\\\":\\\"True\\\",\\\"OrganisationName\\\":\\\"Arden, Herefordshire And Worcestershire Area Team\\\",\\\"Address2\\\":\\\"Wildwood\\\",\\\"Address3\\\":\\\"Wildwood Drive\\\",\\\"City\\\":\\\"Worcester\\\",\\\"County\\\":\\\"Worcestershire\\\",\\\"Postcode\\\":\\\"WR5 2LG\\\",\\\"Phone\\\":\\\"0113 825 3099\\\",\\\"Email\\\":\\\"england.contactus@nhs.net\\\",\\\"Website\\\":\\\"http://www.england.nhs.uk/mids-east/mids-east-3/ahw-at/\\\"}},{\\\"type\\\":\\\"Feature\\\",\\\"id\\\":\\\"463130\\\",\\\"geometry\\\":{\\\"type\\\":\\\"Point\\\",\\\"coordinates\\\":[-1.9351675510406494,52.471920013427734]},\\\"properties\\\":{\\\"OrganisationCode\\\":\\\"Q54\\\",\\\"OrganisationType\\\":\\\"Area Team\\\",\\\"SubType\\\":\\\"UNKNOWN\\\",\\\"OrganisationStatus\\\":\\\"Visible\\\",\\\"IsPimsManaged\\\":\\\"True\\\",\\\"OrganisationName\\\":\\\"Birmingham And The Black Country Area Team\\\",\\\"Address1\\\":\\\"St Chads Court\\\",\\\"Address2\\\":\\\"213 Hagley Road\\\",\\\"Address3\\\":\\\"Edgbaston\\\",\\\"City\\\":\\\"Birmingham\\\",\\\"County\\\":\\\"West Midlands\\\",\\\"Postcode\\\":\\\"B16 9RG\\\",\\\"Phone\\\":\\\"0121 695 2222\\\",\\\"Email\\\":\\\"england.contactus@nhs.net\\\",\\\"Website\\\":\\\"http://www.england.nhs.uk/mids-east/mids-east-3/bsbc-at/\\\"}},{\\\"type\\\":\\\"Feature\\\",\\\"id\\\":\\\"463131\\\",\\\"geometry\\\":{\\\"type\\\":\\\"Point\\\",\\\"coordinates\\\":[-1.1435775756835938,53.12958526611328]},\\\"properties\\\":{\\\"OrganisationCode\\\":\\\"Q55\\\",\\\"OrganisationType\\\":\\\"Area Team\\\",\\\"SubType\\\":\\\"UNKNOWN\\\",\\\"OrganisationStatus\\\":\\\"Visible\\\",\\\"IsPimsManaged\\\":\\\"True\\\",\\\"OrganisationName\\\":\\\"Derbyshire And Nottinghamshire Area Team\\\",\\\"Address1\\\":\\\"Birch House\\\",\\\"Address2\\\":\\\"Ransom Wood Business Park\\\",\\\"Address3\\\":\\\"Southwell Road West, Rainworth\\\",\\\"City\\\":\\\"Nottingham\\\",\\\"County\\\":\\\"Nottinghamshire\\\",\\\"Postcode\\\":\\\"NG21 0HJ\\\",\\\"Phone\\\":\\\"0300 300 1234\\\",\\\"Email\\\":\\\"england.contactus@nhs.net\\\",\\\"Website\\\":\\\"http://www.england.nhs.uk/mids-east/mids-east-3/dn-at/\\\"}},{\\\"type\\\":\\\"Feature\\\",\\\"id\\\":\\\"463132\\\",\\\"geometry\\\":{\\\"type\\\":\\\"Point\\\",\\\"coordinates\\\":[0.19126050174236298,52.18547821044922]},\\\"properties\\\":{\\\"OrganisationCode\\\":\\\"Q56\\\",\\\"OrganisationType\\\":\\\"Area Team\\\",\\\"SubType\\\":\\\"UNKNOWN\\\",\\\"OrganisationStatus\\\":\\\"Visible\\\",\\\"IsPimsManaged\\\":\\\"True\\\",\\\"OrganisationName\\\":\\\"East Anglia Area Team\\\",\\\"Address1\\\":\\\"CPC1\\\",\\\"Address2\\\":\\\"Capital Business Park\\\",\\\"Address3\\\":\\\"Fulbourn\\\",\\\"City\\\":\\\"Cambridge\\\",\\\"County\\\":\\\"Cambridgeshire\\\",\\\"Postcode\\\":\\\"CB21 5XE\\\",\\\"Phone\\\":\\\"01223 708700\\\",\\\"Email\\\":\\\"england.contactus@nhs.net\\\",\\\"Website\\\":\\\"http://www.england.nhs.uk/mids-east/mids-east-3/ea-at/\\\"}},{\\\"type\\\":\\\"Feature\\\",\\\"id\\\":\\\"463133\\\",\\\"geometry\\\":{\\\"type\\\":\\\"Point\\\",\\\"coordinates\\\":[0.5076583027839661,51.74932098388672]},\\\"properties\\\":{\\\"OrganisationCode\\\":\\\"Q57\\\",\\\"OrganisationType\\\":\\\"Area Team\\\",\\\"SubType\\\":\\\"UNKNOWN\\\",\\\"OrganisationStatus\\\":\\\"Visible\\\",\\\"IsPimsManaged\\\":\\\"True\\\",\\\"OrganisationName\\\":\\\"Essex Area Team\\\",\\\"Address1\\\":\\\"Swift House\\\",\\\"Address2\\\":\\\"Hedgerows Business Park\\\",\\\"Address3\\\":\\\"Colchester Road, Springfield\\\",\\\"City\\\":\\\"Chelmsford\\\",\\\"County\\\":\\\"Essex\\\",\\\"Postcode\\\":\\\"CM2 5PF\\\",\\\"Phone\\\":\\\"01245 398770\\\",\\\"Email\\\":\\\"england.contactus@nhs.net\\\",\\\"Website\\\":\\\"http://www.england.nhs.uk/mids-east/mids-east-3/essex-at/\\\"}},{\\\"type\\\":\\\"Feature\\\",\\\"id\\\":\\\"463134\\\",\\\"geometry\\\":{\\\"type\\\":\\\"Point\\\",\\\"coordinates\\\":[-0.20884820818901062,51.8019905090332]},\\\"properties\\\":{\\\"OrganisationCode\\\":\\\"Q58\\\",\\\"OrganisationType\\\":\\\"Area Team\\\",\\\"SubType\\\":\\\"UNKNOWN\\\",\\\"OrganisationStatus\\\":\\\"Visible\\\",\\\"IsPimsManaged\\\":\\\"True\\\",\\\"OrganisationName\\\":\\\"Hertfordshire And The South Midlands Area Team\\\",\\\"Address1\\\":\\\"Charter House\\\",\\\"Address2\\\":\\\"Parkway\\\",\\\"City\\\":\\\"Welwyn Garden City\\\",\\\"County\\\":\\\"Hertfordshire\\\",\\\"Postcode\\\":\\\"AL8 6JL\\\",\\\"Phone\\\":\\\"01707 390855\\\",\\\"Email\\\":\\\"england.contactus@nhs.net\\\",\\\"Website\\\":\\\"http://www.england.nhs.uk/mids-east/mids-east-3/hsm-at/\\\"}},{\\\"type\\\":\\\"Feature\\\",\\\"id\\\":\\\"463135\\\",\\\"geometry\\\":{\\\"type\\\":\\\"Point\\\",\\\"coordinates\\\":[-1.189500093460083,52.593223571777344]},\\\"properties\\\":{\\\"OrganisationCode\\\":\\\"Q59\\\",\\\"OrganisationType\\\":\\\"Area Team\\\",\\\"SubType\\\":\\\"UNKNOWN\\\",\\\"OrganisationStatus\\\":\\\"Visible\\\",\\\"IsPimsManaged\\\":\\\"True\\\",\\\"OrganisationName\\\":\\\"Leicestershire And Lincolnshire Area Team\\\",\\\"Address1\\\":\\\"Fosse House\\\",\\\"Address2\\\":\\\"6 Smith Way\\\",\\\"Address3\\\":\\\"Grove Park, Enderby\\\",\\\"City\\\":\\\"Leicester\\\",\\\"County\\\":\\\"Leicestershire\\\",\\\"Postcode\\\":\\\"LE19 1SX\\\",\\\"Phone\\\":\\\"0116 295 7500\\\",\\\"Email\\\":\\\"england.leicsandlincsareateam@nhs.net\\\",\\\"Website\\\":\\\"http://www.england.nhs.uk/mids-east/mids-east-3/ll-at/\\\"}},{\\\"type\\\":\\\"Feature\\\",\\\"id\\\":\\\"463136\\\",\\\"geometry\\\":{\\\"type\\\":\\\"Point\\\",\\\"coordinates\\\":[-1.9140186309814453,52.7487907409668]},\\\"properties\\\":{\\\"OrganisationCode\\\":\\\"Q60\\\",\\\"OrganisationType\\\":\\\"Area Team\\\",\\\"SubType\\\":\\\"UNKNOWN\\\",\\\"OrganisationStatus\\\":\\\"Visible\\\",\\\"IsPimsManaged\\\":\\\"True\\\",\\\"OrganisationName\\\":\\\"Shropshire And Staffordshire Area Team\\\",\\\"Address1\\\":\\\"Anglesey House,\\\",\\\"Address2\\\":\\\"Wheelhouse Road,\\\",\\\"Address3\\\":\\\"Towers Plaza,\\\",\\\"City\\\":\\\"Rugeley,\\\",\\\"County\\\":\\\"Staffordshire\\\",\\\"Postcode\\\":\\\"WS15 1UL\\\",\\\"Phone\\\":\\\"0300 7900233\\\",\\\"Email\\\":\\\"england.contactus@nhs.net\\\",\\\"Website\\\":\\\"http://www.england.nhs.uk/mids-east/mids-east-3/ss-at/\\\"}}]}\\n\"},\"id\":\"c9051ee0-5bd2-421a-822c-d89551ebfcee\",\"type\":\"GeoJSONDataSource\"},{\"attributes\":{},\"id\":\"f99f1da1-7bb7-4d0f-bbe1-119fe64f6ef8\",\"type\":\"BasicTicker\"},{\"attributes\":{\"callback\":null,\"end\":20000000,\"start\":-20000000},\"id\":\"36381c70-5b52-4b07-9da0-9ea0e1182c9a\",\"type\":\"Range1d\"},{\"attributes\":{\"dimension\":1,\"plot\":{\"id\":\"a85921f3-1112-4aa9-988a-d0b5fb7c5124\",\"subtype\":\"Figure\",\"type\":\"Plot\"},\"ticker\":{\"id\":\"11abd882-cd4d-4bcc-b589-42dce1ae8c30\",\"type\":\"BasicTicker\"}},\"id\":\"5b51f1c5-949f-4cec-b801-ac6cba408a77\",\"type\":\"Grid\"},{\"attributes\":{\"data_source\":{\"id\":\"c9051ee0-5bd2-421a-822c-d89551ebfcee\",\"type\":\"GeoJSONDataSource\"},\"glyph\":{\"id\":\"e3b8087e-bd64-409e-8c84-51def7c03d08\",\"type\":\"Circle\"},\"hover_glyph\":null,\"nonselection_glyph\":{\"id\":\"4bd0d621-a2c0-496c-9b97-97973223db3a\",\"type\":\"Circle\"},\"selection_glyph\":null},\"id\":\"9f1b26cf-a2cd-4cc4-914c-96f49ce63f76\",\"type\":\"GlyphRenderer\"},{\"attributes\":{\"plot\":{\"id\":\"0bcd04e7-a4b0-4371-8f0f-664b4bc195d0\",\"subtype\":\"Figure\",\"type\":\"Plot\"}},\"id\":\"d87f43fb-081b-40be-9104-6b6651598b79\",\"type\":\"PanTool\"},{\"attributes\":{},\"id\":\"e0b325d7-813f-4edc-ab9d-e337ee1ae9ff\",\"type\":\"BasicTickFormatter\"},{\"attributes\":{\"plot\":{\"id\":\"b91e28d2-6175-4751-80a0-0ebd9b8cfcf4\",\"subtype\":\"Figure\",\"type\":\"Plot\"}},\"id\":\"1fa519df-0771-4023-9cab-7aa957fb2cfd\",\"type\":\"PanTool\"},{\"attributes\":{\"callback\":null,\"end\":20000000,\"start\":-20000000},\"id\":\"d1e959d4-7e1f-4e43-8549-aaaee02890b8\",\"type\":\"Range1d\"},{\"attributes\":{},\"id\":\"e07b999f-3724-4854-8d96-b13cc7e58e20\",\"type\":\"ToolEvents\"},{\"attributes\":{},\"id\":\"33bb0dc4-5518-4f00-a8d4-9565778d620c\",\"type\":\"BasicTicker\"},{\"attributes\":{},\"id\":\"6e354d8c-e3e7-475d-b970-660c8daa3320\",\"type\":\"BasicTicker\"},{\"attributes\":{\"plot\":{\"id\":\"6387af47-2b00-47bb-adbf-143d68bbb3d6\",\"subtype\":\"Figure\",\"type\":\"Plot\"}},\"id\":\"6e918a9c-c2ad-4a97-b2a9-49a754005d00\",\"type\":\"PanTool\"},{\"attributes\":{\"callback\":null,\"end\":20000000,\"start\":-20000000},\"id\":\"cb34c774-b461-4204-a401-93c8d27a3825\",\"type\":\"Range1d\"},{\"attributes\":{\"plot\":{\"id\":\"ccbd00f6-b12b-43f4-aa7c-cbb732740ee8\",\"subtype\":\"Figure\",\"type\":\"Plot\"}},\"id\":\"00f29d89-3889-46eb-be0e-e2b6095e744f\",\"type\":\"PanTool\"},{\"attributes\":{\"formatter\":{\"id\":\"e0b325d7-813f-4edc-ab9d-e337ee1ae9ff\",\"type\":\"BasicTickFormatter\"},\"plot\":{\"id\":\"54a50281-ad51-4e43-b122-3a7c1148ae25\",\"subtype\":\"Figure\",\"type\":\"Plot\"},\"ticker\":{\"id\":\"d3b859dc-8df5-4977-a522-ee20d3a6b3dc\",\"type\":\"BasicTicker\"}},\"id\":\"ddbc11dc-20bb-451b-87b0-d0c6ebc97563\",\"type\":\"LinearAxis\"},{\"attributes\":{},\"id\":\"dca64817-bbf9-45e6-bafa-0c463008d4c5\",\"type\":\"BasicTicker\"},{\"attributes\":{\"callback\":null,\"end\":20000000,\"start\":-20000000},\"id\":\"485498d3-9d97-4e86-a671-f63bdee529dc\",\"type\":\"Range1d\"},{\"attributes\":{\"plot\":{\"id\":\"c19b74dd-5691-47aa-994a-0c2e3fe90b5f\",\"subtype\":\"Figure\",\"type\":\"Plot\"},\"ticker\":{\"id\":\"82d83c21-4a9d-4a09-abc9-ea15d727d9d8\",\"type\":\"BasicTicker\"}},\"id\":\"5aa8074c-b1ae-4966-bada-788879ddf085\",\"type\":\"Grid\"},{\"attributes\":{},\"id\":\"6174b413-bdb9-426e-99d7-315d0919d27b\",\"type\":\"ToolEvents\"},{\"attributes\":{\"callback\":null,\"end\":20000000,\"start\":-20000000},\"id\":\"37721f37-9cc2-4c7a-850d-3be072588bf0\",\"type\":\"Range1d\"},{\"attributes\":{\"formatter\":{\"id\":\"4d78350f-bd32-45ab-b5ec-9ca50ea42bde\",\"type\":\"BasicTickFormatter\"},\"plot\":{\"id\":\"c19b74dd-5691-47aa-994a-0c2e3fe90b5f\",\"subtype\":\"Figure\",\"type\":\"Plot\"},\"ticker\":{\"id\":\"65e0d316-1151-43e9-9130-8559e2de080f\",\"type\":\"BasicTicker\"}},\"id\":\"17023fb7-569a-4ba2-9b79-6400ad7140f1\",\"type\":\"LinearAxis\"},{\"attributes\":{\"tile_source\":{\"id\":\"7bce71c0-6e01-453f-bfd0-da6a622a5eda\",\"type\":\"WMTSTileSource\"}},\"id\":\"be8ae282-4623-4047-92e6-c8b5ae72db33\",\"type\":\"TileRenderer\"},{\"attributes\":{},\"id\":\"675ce64f-fd81-447d-835e-ff267728fdde\",\"type\":\"ToolEvents\"},{\"attributes\":{},\"id\":\"b88971c1-e958-483e-905a-917bb6e89c0d\",\"type\":\"ToolEvents\"},{\"attributes\":{\"tile_source\":{\"id\":\"7bce71c0-6e01-453f-bfd0-da6a622a5eda\",\"type\":\"WMTSTileSource\"}},\"id\":\"41a62330-81bc-4fa9-886d-8a7da1a624d8\",\"type\":\"TileRenderer\"},{\"attributes\":{},\"id\":\"7682c6be-71cc-4e95-bb26-7a8628585654\",\"type\":\"ToolEvents\"},{\"attributes\":{\"callback\":null,\"end\":20000000,\"start\":-20000000},\"id\":\"66e90788-c8ea-4576-a135-55dd9f75a74f\",\"type\":\"Range1d\"},{\"attributes\":{},\"id\":\"02c26ceb-6712-431e-b861-4d106d49940a\",\"type\":\"BasicTicker\"},{\"attributes\":{\"dimension\":1,\"plot\":{\"id\":\"767f6a78-3465-4d3e-935e-22bfecb27a47\",\"subtype\":\"Figure\",\"type\":\"Plot\"},\"ticker\":{\"id\":\"9ce00b8d-dfc7-497f-b92b-f43559875e8c\",\"type\":\"BasicTicker\"}},\"id\":\"2ad1b0e8-c7b9-417e-8a5f-ec0f382fe2a1\",\"type\":\"Grid\"},{\"attributes\":{\"below\":[{\"id\":\"bb53a9f2-aa44-48bf-8ee5-8f6aac5997c6\",\"type\":\"LinearAxis\"}],\"left\":[{\"id\":\"19514583-5023-4cea-b9d5-539af0961afb\",\"type\":\"LinearAxis\"}],\"renderers\":[{\"id\":\"bb53a9f2-aa44-48bf-8ee5-8f6aac5997c6\",\"type\":\"LinearAxis\"},{\"id\":\"76baf807-21db-4519-9469-319416767833\",\"type\":\"Grid\"},{\"id\":\"19514583-5023-4cea-b9d5-539af0961afb\",\"type\":\"LinearAxis\"},{\"id\":\"8b8a57f3-52ed-4069-8a25-0f3d5392671b\",\"type\":\"Grid\"},{\"id\":\"f74fc076-e819-4ca7-8133-67a191849a1a\",\"type\":\"TileRenderer\"}],\"tool_events\":{\"id\":\"984b4136-3853-4c62-8a49-fdfea045074d\",\"type\":\"ToolEvents\"},\"tools\":[{\"id\":\"00f29d89-3889-46eb-be0e-e2b6095e744f\",\"type\":\"PanTool\"},{\"id\":\"3dd2cc53-fd61-4f2f-bb4d-6acf4d9e30c2\",\"type\":\"WheelZoomTool\"}],\"x_range\":{\"id\":\"314993b5-6856-4eed-a5d8-9957faaaa8d1\",\"type\":\"Range1d\"},\"y_range\":{\"id\":\"61c474c0-b3ce-4fc3-8c32-19da3faefb56\",\"type\":\"Range1d\"}},\"id\":\"ccbd00f6-b12b-43f4-aa7c-cbb732740ee8\",\"subtype\":\"Figure\",\"type\":\"Plot\"},{\"attributes\":{\"plot\":{\"id\":\"a85921f3-1112-4aa9-988a-d0b5fb7c5124\",\"subtype\":\"Figure\",\"type\":\"Plot\"}},\"id\":\"01d18c4e-8904-40d7-8e05-ca4d7f8d0ebd\",\"type\":\"PanTool\"},{\"attributes\":{\"callback\":null,\"end\":20000000,\"start\":-20000000},\"id\":\"c2f23432-84ef-4cd1-a8d0-0136fe904336\",\"type\":\"Range1d\"},{\"attributes\":{\"plot\":{\"id\":\"e33a26de-2a70-4e33-901e-d989ecc47341\",\"subtype\":\"Figure\",\"type\":\"Plot\"}},\"id\":\"5297ab6e-4942-4c79-a2e7-2c49ad7db28f\",\"type\":\"WheelZoomTool\"},{\"attributes\":{\"formatter\":{\"id\":\"fdb756bd-7a30-4082-b615-b60a9faa059c\",\"type\":\"BasicTickFormatter\"},\"plot\":{\"id\":\"0bcd04e7-a4b0-4371-8f0f-664b4bc195d0\",\"subtype\":\"Figure\",\"type\":\"Plot\"},\"ticker\":{\"id\":\"02c26ceb-6712-431e-b861-4d106d49940a\",\"type\":\"BasicTicker\"},\"visible\":false},\"id\":\"222a7828-41f2-42b5-bd70-bedc31a67655\",\"type\":\"LinearAxis\"},{\"attributes\":{\"dimension\":1,\"plot\":{\"id\":\"6852a52f-082d-485f-a84d-a5a32f22ac82\",\"subtype\":\"Figure\",\"type\":\"Plot\"},\"ticker\":{\"id\":\"143b3b23-a755-4e5b-9078-099572ecccd8\",\"type\":\"BasicTicker\"}},\"id\":\"6895abce-e43c-4cee-996e-027d7e0d7b0d\",\"type\":\"Grid\"},{\"attributes\":{\"plot\":{\"id\":\"54a50281-ad51-4e43-b122-3a7c1148ae25\",\"subtype\":\"Figure\",\"type\":\"Plot\"}},\"id\":\"472e4376-4669-4b13-bb1d-213dbe2296c2\",\"type\":\"PanTool\"},{\"attributes\":{\"fill_alpha\":{\"value\":0.1},\"fill_color\":{\"value\":\"#1f77b4\"},\"line_alpha\":{\"value\":0.1},\"line_color\":{\"value\":\"#1f77b4\"},\"x\":{\"field\":\"x\"},\"y\":{\"field\":\"y\"}},\"id\":\"ab4025fd-f0a6-41ce-97e8-b9e8b1425d4d\",\"type\":\"Circle\"},{\"attributes\":{},\"id\":\"9eaba3c9-8db2-402b-90f1-18f166707773\",\"type\":\"BasicTickFormatter\"},{\"attributes\":{\"callback\":null,\"end\":20000000,\"start\":-20000000},\"id\":\"7f3c66b2-b951-43a8-aab1-fed0f55b2555\",\"type\":\"Range1d\"},{\"attributes\":{\"tile_source\":{\"id\":\"7bce71c0-6e01-453f-bfd0-da6a622a5eda\",\"type\":\"WMTSTileSource\"}},\"id\":\"e7853895-8ec7-4e7a-a26b-fead3ee5fbb8\",\"type\":\"TileRenderer\"},{\"attributes\":{\"attribution\":\"Map tiles by <a href=\\\"http://stamen.com\\\">Stamen Design</a>, under <a href=\\\"http://creativecommons.org/licenses/by/3.0\\\">CC BY 3.0</a>.Data by <a href=\\\"http://openstreetmap.org\\\">OpenStreetMap</a>, under <a href=\\\"http://www.openstreetmap.org/copyright\\\">ODbL</a>\",\"url\":\"http://tile.stamen.com/toner/{Z}/{X}/{Y}.png\"},\"id\":\"7bce71c0-6e01-453f-bfd0-da6a622a5eda\",\"type\":\"WMTSTileSource\"},{\"attributes\":{\"formatter\":{\"id\":\"fdabd697-bc80-418c-81e6-ab39795b3bda\",\"type\":\"BasicTickFormatter\"},\"plot\":{\"id\":\"54a50281-ad51-4e43-b122-3a7c1148ae25\",\"subtype\":\"Figure\",\"type\":\"Plot\"},\"ticker\":{\"id\":\"22de600e-4df2-496a-b63a-a86d34ac68a6\",\"type\":\"BasicTicker\"}},\"id\":\"7d17c44a-9344-469a-8742-856d8ed8e398\",\"type\":\"LinearAxis\"},{\"attributes\":{\"tile_source\":{\"id\":\"7bce71c0-6e01-453f-bfd0-da6a622a5eda\",\"type\":\"WMTSTileSource\"}},\"id\":\"ac71e8ac-0603-4a63-9dd7-fdad7cc463c9\",\"type\":\"TileRenderer\"},{\"attributes\":{\"callback\":null,\"end\":20000,\"start\":-20000},\"id\":\"7d0f9c30-cf24-4016-9b7e-74414e1b8a45\",\"type\":\"Range1d\"},{\"attributes\":{},\"id\":\"82d83c21-4a9d-4a09-abc9-ea15d727d9d8\",\"type\":\"BasicTicker\"},{\"attributes\":{},\"id\":\"c6192ab5-e90c-4128-9ad2-75ff3987e3a4\",\"type\":\"ToolEvents\"},{\"attributes\":{},\"id\":\"0ee05f6d-aa9c-4d9e-9042-d39606064fd7\",\"type\":\"ToolEvents\"},{\"attributes\":{},\"id\":\"305f4043-b886-4063-9166-01c201d08cdd\",\"type\":\"ToolEvents\"},{\"attributes\":{\"plot\":{\"id\":\"a85921f3-1112-4aa9-988a-d0b5fb7c5124\",\"subtype\":\"Figure\",\"type\":\"Plot\"},\"ticker\":{\"id\":\"b54b319e-4c56-4cdd-a5aa-62506620d34f\",\"type\":\"BasicTicker\"}},\"id\":\"7a6970b6-35a2-499e-953f-c5cf0c5b412a\",\"type\":\"Grid\"},{\"attributes\":{},\"id\":\"750839cc-a7ef-4507-b396-ad7d859d743a\",\"type\":\"ToolEvents\"},{\"attributes\":{},\"id\":\"6561e5a6-f631-4eb9-9596-b3eecc699164\",\"type\":\"BasicTicker\"},{\"attributes\":{\"fill_alpha\":{\"value\":0.1},\"fill_color\":{\"value\":\"#1f77b4\"},\"line_alpha\":{\"value\":0.1},\"line_color\":{\"value\":\"#1f77b4\"},\"x\":{\"field\":\"x\"},\"y\":{\"field\":\"y\"}},\"id\":\"4bd0d621-a2c0-496c-9b97-97973223db3a\",\"type\":\"Circle\"},{\"attributes\":{\"plot\":{\"id\":\"bbd8bef8-a19c-4259-8905-e4a2ce2145cb\",\"subtype\":\"Figure\",\"type\":\"Plot\"}},\"id\":\"51e2dbd8-8567-4352-ab6d-4b90ec5b21cd\",\"type\":\"PanTool\"},{\"attributes\":{\"tile_source\":{\"id\":\"7bce71c0-6e01-453f-bfd0-da6a622a5eda\",\"type\":\"WMTSTileSource\"}},\"id\":\"6bd27a99-112d-4718-a249-faa101da1a01\",\"type\":\"TileRenderer\"},{\"attributes\":{\"fill_alpha\":{\"value\":0.1},\"fill_color\":{\"value\":\"#1f77b4\"},\"line_alpha\":{\"value\":0.1},\"line_color\":{\"value\":\"#1f77b4\"},\"x\":{\"field\":\"x\"},\"y\":{\"field\":\"y\"}},\"id\":\"53cee774-cbeb-4ebe-92ed-1d9522f97703\",\"type\":\"Circle\"},{\"attributes\":{\"dimension\":1,\"plot\":{\"id\":\"e33a26de-2a70-4e33-901e-d989ecc47341\",\"subtype\":\"Figure\",\"type\":\"Plot\"},\"ticker\":{\"id\":\"a5bfd424-7ddf-4b0e-8c3c-9499d8fd683b\",\"type\":\"BasicTicker\"}},\"id\":\"ca261151-29ac-40a8-9a80-5c1ab5098167\",\"type\":\"Grid\"},{\"attributes\":{},\"id\":\"1fb0996e-eea1-4168-8fbc-a1f54ec04009\",\"type\":\"BasicTickFormatter\"},{\"attributes\":{\"fill_alpha\":{\"value\":0.1},\"fill_color\":{\"value\":\"#1f77b4\"},\"line_alpha\":{\"value\":0.1},\"line_color\":{\"value\":\"#1f77b4\"},\"x\":{\"field\":\"x\"},\"y\":{\"field\":\"y\"}},\"id\":\"78a64c20-dac4-4d24-bff3-7a7aaf7bd321\",\"type\":\"Circle\"},{\"attributes\":{},\"id\":\"25d1bd3e-70d7-42cb-86a1-043eed6dc12b\",\"type\":\"BasicTicker\"},{\"attributes\":{},\"id\":\"fa89dfe9-3a35-4bdd-8d01-acdd202532e9\",\"type\":\"BasicTickFormatter\"},{\"attributes\":{},\"id\":\"673894e4-905e-4304-92d3-4f62732e172c\",\"type\":\"BasicTicker\"},{\"attributes\":{\"callback\":null,\"end\":20000000,\"start\":-20000000},\"id\":\"cd5e4450-5d3a-4c36-97eb-29e78f627ff2\",\"type\":\"Range1d\"},{\"attributes\":{},\"id\":\"be1a3cca-dbab-45eb-a429-cfd91a2dbbae\",\"type\":\"BasicTickFormatter\"},{\"attributes\":{\"callback\":null,\"end\":20000000,\"start\":-20000000},\"id\":\"35ebf674-8d57-46d5-9b57-c364ec5987bb\",\"type\":\"Range1d\"},{\"attributes\":{\"callback\":null},\"id\":\"0d83432a-073e-4ec3-9655-c36cdb208133\",\"type\":\"DataRange1d\"},{\"attributes\":{\"formatter\":{\"id\":\"aa1436ce-31fc-45a8-a76a-1143aba629fd\",\"type\":\"BasicTickFormatter\"},\"plot\":{\"id\":\"b91e28d2-6175-4751-80a0-0ebd9b8cfcf4\",\"subtype\":\"Figure\",\"type\":\"Plot\"},\"ticker\":{\"id\":\"6561e5a6-f631-4eb9-9596-b3eecc699164\",\"type\":\"BasicTicker\"}},\"id\":\"39771754-9213-4c21-af04-a8e06192d8cf\",\"type\":\"LinearAxis\"},{\"attributes\":{\"below\":[{\"id\":\"6f39407e-8e44-44ec-9c99-513b48fc4848\",\"type\":\"LinearAxis\"}],\"left\":[{\"id\":\"17023fb7-569a-4ba2-9b79-6400ad7140f1\",\"type\":\"LinearAxis\"}],\"renderers\":[{\"id\":\"6f39407e-8e44-44ec-9c99-513b48fc4848\",\"type\":\"LinearAxis\"},{\"id\":\"5aa8074c-b1ae-4966-bada-788879ddf085\",\"type\":\"Grid\"},{\"id\":\"17023fb7-569a-4ba2-9b79-6400ad7140f1\",\"type\":\"LinearAxis\"},{\"id\":\"cab90d6b-3bbc-463e-acd2-4987dbc776e6\",\"type\":\"Grid\"},{\"id\":\"773288c3-b2d3-48d1-a15d-57ea3f4059e4\",\"type\":\"GlyphRenderer\"},{\"id\":\"ac71e8ac-0603-4a63-9dd7-fdad7cc463c9\",\"type\":\"TileRenderer\"}],\"tool_events\":{\"id\":\"341a8884-16eb-4d92-82e9-0b1e85c5ae6a\",\"type\":\"ToolEvents\"},\"tools\":[{\"id\":\"e4931e97-c02a-4beb-8028-9474edd33f4b\",\"type\":\"PanTool\"},{\"id\":\"c70b2c89-8429-48ab-bfc3-361a09d8e484\",\"type\":\"WheelZoomTool\"}],\"x_range\":{\"id\":\"6380d0ed-0b2e-4d86-8615-079a40c8d940\",\"type\":\"Range1d\"},\"y_range\":{\"id\":\"7d0f9c30-cf24-4016-9b7e-74414e1b8a45\",\"type\":\"Range1d\"}},\"id\":\"c19b74dd-5691-47aa-994a-0c2e3fe90b5f\",\"subtype\":\"Figure\",\"type\":\"Plot\"},{\"attributes\":{},\"id\":\"579abdb3-711d-444b-9ac2-dd8ca312f7fe\",\"type\":\"BasicTickFormatter\"},{\"attributes\":{\"callback\":null},\"id\":\"ca001cda-57f9-4dd1-af2d-b7758489ccd3\",\"type\":\"DataRange1d\"},{\"attributes\":{},\"id\":\"981f7ffc-d85c-466f-9132-5fb16a6089f1\",\"type\":\"BasicTickFormatter\"},{\"attributes\":{\"formatter\":{\"id\":\"4ad47531-4b6b-4c86-a774-fa4c3633dda7\",\"type\":\"BasicTickFormatter\"},\"plot\":{\"id\":\"a85921f3-1112-4aa9-988a-d0b5fb7c5124\",\"subtype\":\"Figure\",\"type\":\"Plot\"},\"ticker\":{\"id\":\"b54b319e-4c56-4cdd-a5aa-62506620d34f\",\"type\":\"BasicTicker\"},\"visible\":false},\"id\":\"a2704263-edf5-4e20-b49a-0563dbdca3a6\",\"type\":\"LinearAxis\"},{\"attributes\":{\"data_source\":{\"id\":\"1475d422-d18c-48af-b469-6091d6e3b361\",\"type\":\"GeoJSONDataSource\"},\"glyph\":{\"id\":\"d4d13893-56f8-4949-9258-da1b07b1766c\",\"type\":\"Circle\"},\"hover_glyph\":null,\"nonselection_glyph\":{\"id\":\"78a64c20-dac4-4d24-bff3-7a7aaf7bd321\",\"type\":\"Circle\"},\"selection_glyph\":null},\"id\":\"773288c3-b2d3-48d1-a15d-57ea3f4059e4\",\"type\":\"GlyphRenderer\"},{\"attributes\":{\"callback\":null},\"id\":\"705762b7-dee4-4b35-a570-34aa0cdc361a\",\"type\":\"DataRange1d\"},{\"attributes\":{\"below\":[{\"id\":\"ddbc11dc-20bb-451b-87b0-d0c6ebc97563\",\"type\":\"LinearAxis\"}],\"left\":[{\"id\":\"7d17c44a-9344-469a-8742-856d8ed8e398\",\"type\":\"LinearAxis\"}],\"renderers\":[{\"id\":\"ddbc11dc-20bb-451b-87b0-d0c6ebc97563\",\"type\":\"LinearAxis\"},{\"id\":\"e9ec6765-2bf6-4335-9849-621a815430c5\",\"type\":\"Grid\"},{\"id\":\"7d17c44a-9344-469a-8742-856d8ed8e398\",\"type\":\"LinearAxis\"},{\"id\":\"097da90f-ae44-45bd-9dbf-edc01cd55f86\",\"type\":\"Grid\"},{\"id\":\"b6d6c261-dd7e-4016-a60d-b9ebefe68cdb\",\"type\":\"GlyphRenderer\"}],\"tool_events\":{\"id\":\"e07b999f-3724-4854-8d96-b13cc7e58e20\",\"type\":\"ToolEvents\"},\"tools\":[{\"id\":\"472e4376-4669-4b13-bb1d-213dbe2296c2\",\"type\":\"PanTool\"},{\"id\":\"53eb32c0-849e-4c7d-97c1-4e986ef8a630\",\"type\":\"WheelZoomTool\"}],\"x_range\":{\"id\":\"ca001cda-57f9-4dd1-af2d-b7758489ccd3\",\"type\":\"DataRange1d\"},\"y_range\":{\"id\":\"0d83432a-073e-4ec3-9655-c36cdb208133\",\"type\":\"DataRange1d\"}},\"id\":\"54a50281-ad51-4e43-b122-3a7c1148ae25\",\"subtype\":\"Figure\",\"type\":\"Plot\"},{\"attributes\":{},\"id\":\"cb55fb10-eee4-4fec-ac2f-a416c7fa017c\",\"type\":\"BasicTickFormatter\"},{\"attributes\":{\"formatter\":{\"id\":\"bdbe60be-f76d-4f40-b266-7da2234b698a\",\"type\":\"BasicTickFormatter\"},\"plot\":{\"id\":\"0bcd04e7-a4b0-4371-8f0f-664b4bc195d0\",\"subtype\":\"Figure\",\"type\":\"Plot\"},\"ticker\":{\"id\":\"33bb0dc4-5518-4f00-a8d4-9565778d620c\",\"type\":\"BasicTicker\"},\"visible\":false},\"id\":\"395474fb-c4f7-48fb-8ae5-9976f29c340e\",\"type\":\"LinearAxis\"},{\"attributes\":{},\"id\":\"40f89e3b-226b-43b1-be7c-697bb6ea6e8f\",\"type\":\"BasicTicker\"},{\"attributes\":{\"formatter\":{\"id\":\"56723269-12d8-4cf4-a7dc-a04a6de76e20\",\"type\":\"BasicTickFormatter\"},\"plot\":{\"id\":\"767f6a78-3465-4d3e-935e-22bfecb27a47\",\"subtype\":\"Figure\",\"type\":\"Plot\"},\"ticker\":{\"id\":\"25d1bd3e-70d7-42cb-86a1-043eed6dc12b\",\"type\":\"BasicTicker\"}},\"id\":\"2b9beb4c-d2cb-48d0-9cd6-48a9286aca76\",\"type\":\"LinearAxis\"},{\"attributes\":{\"dimension\":1,\"plot\":{\"id\":\"0bcd04e7-a4b0-4371-8f0f-664b4bc195d0\",\"subtype\":\"Figure\",\"type\":\"Plot\"},\"ticker\":{\"id\":\"33bb0dc4-5518-4f00-a8d4-9565778d620c\",\"type\":\"BasicTicker\"}},\"id\":\"08d77bf1-bce3-41c2-a41e-cd6fe91d0a3b\",\"type\":\"Grid\"},{\"attributes\":{\"callback\":null,\"end\":20000000,\"start\":-20000000},\"id\":\"314993b5-6856-4eed-a5d8-9957faaaa8d1\",\"type\":\"Range1d\"},{\"attributes\":{\"formatter\":{\"id\":\"70319d20-3019-4057-8c65-6df8c3f5ba45\",\"type\":\"BasicTickFormatter\"},\"plot\":{\"id\":\"6852a52f-082d-485f-a84d-a5a32f22ac82\",\"subtype\":\"Figure\",\"type\":\"Plot\"},\"ticker\":{\"id\":\"143b3b23-a755-4e5b-9078-099572ecccd8\",\"type\":\"BasicTicker\"},\"visible\":false},\"id\":\"2ced3500-0d24-4c44-94fb-97682da4a8b4\",\"type\":\"LinearAxis\"},{\"attributes\":{\"plot\":{\"id\":\"0bcd04e7-a4b0-4371-8f0f-664b4bc195d0\",\"subtype\":\"Figure\",\"type\":\"Plot\"},\"ticker\":{\"id\":\"02c26ceb-6712-431e-b861-4d106d49940a\",\"type\":\"BasicTicker\"}},\"id\":\"89d9404e-9351-4c36-8631-7d875719b309\",\"type\":\"Grid\"},{\"attributes\":{\"plot\":{\"id\":\"767f6a78-3465-4d3e-935e-22bfecb27a47\",\"subtype\":\"Figure\",\"type\":\"Plot\"}},\"id\":\"a8b2de1b-9228-4c6d-b11e-c71e3cafa8b4\",\"type\":\"WheelZoomTool\"},{\"attributes\":{},\"id\":\"6127061d-2b16-475e-93a0-c9ccfee7d36a\",\"type\":\"BasicTickFormatter\"},{\"attributes\":{\"plot\":{\"id\":\"bbd8bef8-a19c-4259-8905-e4a2ce2145cb\",\"subtype\":\"Figure\",\"type\":\"Plot\"},\"ticker\":{\"id\":\"673894e4-905e-4304-92d3-4f62732e172c\",\"type\":\"BasicTicker\"}},\"id\":\"f0a8bb79-3504-4021-86d9-8d14d7b4c7e0\",\"type\":\"Grid\"},{\"attributes\":{\"callback\":null,\"geojson\":\"{\\\"type\\\":\\\"FeatureCollection\\\",\\\"features\\\":[{\\\"type\\\":\\\"Feature\\\",\\\"id\\\":\\\"463098\\\",\\\"geometry\\\":{\\\"type\\\":\\\"Point\\\",\\\"coordinates\\\":[-2.1208465099334717,51.4613151550293]},\\\"properties\\\":{\\\"OrganisationCode\\\":\\\"Q64\\\",\\\"OrganisationType\\\":\\\"Area Team\\\",\\\"SubType\\\":\\\"UNKNOWN\\\",\\\"OrganisationStatus\\\":\\\"Visible\\\",\\\"IsPimsManaged\\\":\\\"True\\\",\\\"OrganisationName\\\":\\\"Bath, Gloucestershire, Swindon And Wiltshire Area Team\\\",\\\"Address1\\\":\\\"1st Floor\\\",\\\"Address2\\\":\\\"Bewley House\\\",\\\"Address3\\\":\\\"Marshfield Road\\\",\\\"City\\\":\\\"Chippenham\\\",\\\"County\\\":\\\"Wiltshire\\\",\\\"Postcode\\\":\\\"SN15 1JW\\\",\\\"Phone\\\":\\\"0113 8251 500\\\",\\\"Email\\\":\\\"england.contactus@nhs.net\\\",\\\"Website\\\":\\\"http://www.england.nhs.uk/south/south/bgsw-at/\\\"}},{\\\"type\\\":\\\"Feature\\\",\\\"id\\\":\\\"463099\\\",\\\"geometry\\\":{\\\"type\\\":\\\"Point\\\",\\\"coordinates\\\":[-2.5929524898529053,51.459877014160156]},\\\"properties\\\":{\\\"OrganisationCode\\\":\\\"Q65\\\",\\\"OrganisationType\\\":\\\"Area Team\\\",\\\"SubType\\\":\\\"UNKNOWN\\\",\\\"OrganisationStatus\\\":\\\"Visible\\\",\\\"IsPimsManaged\\\":\\\"True\\\",\\\"OrganisationName\\\":\\\"Bristol, North Somerset, Somerset And South Gloucestershire Area Team\\\",\\\"Address1\\\":\\\"South Plaza\\\",\\\"Address3\\\":\\\"Marlborough Street\\\",\\\"City\\\":\\\"Bristol\\\",\\\"County\\\":\\\"Somerset\\\",\\\"Postcode\\\":\\\"BS1 3NX\\\",\\\"Phone\\\":\\\"0117 976 6600\\\",\\\"Email\\\":\\\"england.contactus@nhs.net\\\",\\\"Website\\\":\\\"http://www.england.nhs.uk/south/south/bnsssg-at/\\\"}},{\\\"type\\\":\\\"Feature\\\",\\\"id\\\":\\\"463100\\\",\\\"geometry\\\":{\\\"type\\\":\\\"Point\\\",\\\"coordinates\\\":[-4.232546806335449,50.42112731933594]},\\\"properties\\\":{\\\"OrganisationCode\\\":\\\"Q66\\\",\\\"OrganisationType\\\":\\\"Area Team\\\",\\\"SubType\\\":\\\"UNKNOWN\\\",\\\"OrganisationStatus\\\":\\\"Visible\\\",\\\"IsPimsManaged\\\":\\\"True\\\",\\\"OrganisationName\\\":\\\"Devon, Cornwall And Isles Of Scilly Area Team\\\",\\\"Address1\\\":\\\"Peninsula House\\\",\\\"Address2\\\":\\\"Kingsmill Road\\\",\\\"Address3\\\":\\\"Tamar View Industrial Estate\\\",\\\"City\\\":\\\"Cornwall\\\",\\\"County\\\":\\\"Cornwall\\\",\\\"Postcode\\\":\\\"PL12 6LE\\\",\\\"Phone\\\":\\\"01752 679250\\\",\\\"Email\\\":\\\"england.contactus@nhs.net\\\",\\\"Website\\\":\\\"http://www.england.nhs.uk/south/south/dcis-at/\\\"}},{\\\"type\\\":\\\"Feature\\\",\\\"id\\\":\\\"463101\\\",\\\"geometry\\\":{\\\"type\\\":\\\"Point\\\",\\\"coordinates\\\":[0.27698493003845215,51.193748474121094]},\\\"properties\\\":{\\\"OrganisationCode\\\":\\\"Q67\\\",\\\"OrganisationType\\\":\\\"Area Team\\\",\\\"SubType\\\":\\\"UNKNOWN\\\",\\\"OrganisationStatus\\\":\\\"Visible\\\",\\\"IsPimsManaged\\\":\\\"True\\\",\\\"OrganisationName\\\":\\\"Kent And Medway Area Team\\\",\\\"Address1\\\":\\\"Wharf House\\\",\\\"Address2\\\":\\\"Medway Wharf Road\\\",\\\"City\\\":\\\"Tonbridge\\\",\\\"County\\\":\\\"Kent\\\",\\\"Postcode\\\":\\\"TN9 1RE\\\",\\\"Phone\\\":\\\"01732 375200\\\",\\\"Email\\\":\\\"england.kentandmedwaybusinessoffice@nhs.net\\\",\\\"Website\\\":\\\"http://www.england.nhs.uk/south/south/km-at/\\\"}},{\\\"type\\\":\\\"Feature\\\",\\\"id\\\":\\\"463102\\\",\\\"geometry\\\":{\\\"type\\\":\\\"Point\\\",\\\"coordinates\\\":[-0.1647440642118454,51.170936584472656]},\\\"properties\\\":{\\\"OrganisationCode\\\":\\\"Q68\\\",\\\"OrganisationType\\\":\\\"Area Team\\\",\\\"SubType\\\":\\\"UNKNOWN\\\",\\\"OrganisationStatus\\\":\\\"Visible\\\",\\\"IsPimsManaged\\\":\\\"True\\\",\\\"OrganisationName\\\":\\\"Surrey And Sussex Area Team\\\",\\\"Address1\\\":\\\"York House\\\",\\\"Address2\\\":\\\"18-20 Massetts Road\\\",\\\"City\\\":\\\"Horley\\\",\\\"County\\\":\\\"Surrey\\\",\\\"Postcode\\\":\\\"RH6 7DE\\\",\\\"Phone\\\":\\\"01293 778899\\\",\\\"Email\\\":\\\"england.surreyandsussex-businessoffice@nhs.net\\\",\\\"Website\\\":\\\"http://www.england.nhs.uk/south/south/ss-at/\\\"}},{\\\"type\\\":\\\"Feature\\\",\\\"id\\\":\\\"463103\\\",\\\"geometry\\\":{\\\"type\\\":\\\"Point\\\",\\\"coordinates\\\":[-1.2079498767852783,51.72844696044922]},\\\"properties\\\":{\\\"OrganisationCode\\\":\\\"Q69\\\",\\\"OrganisationType\\\":\\\"Area Team\\\",\\\"SubType\\\":\\\"UNKNOWN\\\",\\\"OrganisationStatus\\\":\\\"Visible\\\",\\\"IsPimsManaged\\\":\\\"True\\\",\\\"OrganisationName\\\":\\\"Thames Valley Area Team\\\",\\\"Address1\\\":\\\"Jubilee House\\\",\\\"Address2\\\":\\\"5510 John Smith Drive\\\",\\\"Address3\\\":\\\"Oxford Business Park South\\\",\\\"City\\\":\\\"Cowley\\\",\\\"County\\\":\\\"Oxfordshire\\\",\\\"Postcode\\\":\\\"OX4 2LH\\\",\\\"Phone\\\":\\\"01865 963800\\\",\\\"Email\\\":\\\"england.contactus@nhs.net\\\",\\\"Website\\\":\\\"http://www.england.nhs.uk/south/south/tv-at/\\\"}},{\\\"type\\\":\\\"Feature\\\",\\\"id\\\":\\\"463104\\\",\\\"geometry\\\":{\\\"type\\\":\\\"Point\\\",\\\"coordinates\\\":[-1.4493359327316284,50.92325973510742]},\\\"properties\\\":{\\\"OrganisationCode\\\":\\\"Q70\\\",\\\"OrganisationType\\\":\\\"Area Team\\\",\\\"SubType\\\":\\\"UNKNOWN\\\",\\\"OrganisationStatus\\\":\\\"Visible\\\",\\\"IsPimsManaged\\\":\\\"True\\\",\\\"OrganisationName\\\":\\\"Wessex Area Team\\\",\\\"Address2\\\":\\\"Oakley Road\\\",\\\"City\\\":\\\"Southampton\\\",\\\"County\\\":\\\"Hampshire\\\",\\\"Postcode\\\":\\\"SO16 4GX\\\",\\\"Phone\\\":\\\"023 8029 6914\\\",\\\"Email\\\":\\\"england.wessexpatientexperience@nhs.net\\\",\\\"Website\\\":\\\"http://www.england.nhs.uk/south/south/w-at/\\\"}},{\\\"type\\\":\\\"Feature\\\",\\\"id\\\":\\\"463105\\\",\\\"geometry\\\":{\\\"type\\\":\\\"Point\\\",\\\"coordinates\\\":[-0.13727261126041412,51.49694061279297]},\\\"properties\\\":{\\\"OrganisationCode\\\":\\\"Q71\\\",\\\"OrganisationType\\\":\\\"Area Team\\\",\\\"SubType\\\":\\\"UNKNOWN\\\",\\\"OrganisationStatus\\\":\\\"Visible\\\",\\\"IsPimsManaged\\\":\\\"True\\\",\\\"OrganisationName\\\":\\\"London Area Team\\\",\\\"Address2\\\":\\\"2nd Floor, Southside\\\",\\\"Address3\\\":\\\"105 Victoria Street\\\",\\\"City\\\":\\\"London\\\",\\\"Postcode\\\":\\\"SW1E 6QT\\\",\\\"Phone\\\":\\\"0207 932 3700\\\",\\\"Email\\\":\\\"england.contactus@nhs.net\\\",\\\"Website\\\":\\\"http://www.england.nhs.uk/london/\\\"}},{\\\"type\\\":\\\"Feature\\\",\\\"id\\\":\\\"463120\\\",\\\"geometry\\\":{\\\"type\\\":\\\"Point\\\",\\\"coordinates\\\":[-2.5846381187438965,53.37392807006836]},\\\"properties\\\":{\\\"OrganisationCode\\\":\\\"Q44\\\",\\\"OrganisationType\\\":\\\"Area Team\\\",\\\"SubType\\\":\\\"UNKNOWN\\\",\\\"OrganisationStatus\\\":\\\"Visible\\\",\\\"IsPimsManaged\\\":\\\"True\\\",\\\"OrganisationName\\\":\\\"Cheshire, Warrington And Wirral Area Team\\\",\\\"Address1\\\":\\\"NHS Quayside (NHS North West)\\\",\\\"Address2\\\":\\\"Wilderspool Park\\\",\\\"Address3\\\":\\\"Greensall Avenue\\\",\\\"City\\\":\\\"Warrington\\\",\\\"County\\\":\\\"Cheshire\\\",\\\"Postcode\\\":\\\"WA4 6HL\\\",\\\"Phone\\\":\\\"01925 406000\\\",\\\"Email\\\":\\\"england.contactus@nhs.net\\\",\\\"Website\\\":\\\"http://www.england.nhs.uk/north/north/cww-at/\\\"}},{\\\"type\\\":\\\"Feature\\\",\\\"id\\\":\\\"463121\\\",\\\"geometry\\\":{\\\"type\\\":\\\"Point\\\",\\\"coordinates\\\":[-1.5323498249053955,53.79779815673828]},\\\"properties\\\":{\\\"OrganisationCode\\\":\\\"Q45\\\",\\\"OrganisationType\\\":\\\"Area Team\\\",\\\"SubType\\\":\\\"UNKNOWN\\\",\\\"OrganisationStatus\\\":\\\"Visible\\\",\\\"IsPimsManaged\\\":\\\"True\\\",\\\"OrganisationName\\\":\\\"Durham, Darlington And Tees Area Team\\\",\\\"Address1\\\":\\\"The Old Exchange\\\",\\\"Address2\\\":\\\"Barnard Street\\\",\\\"City\\\":\\\"Darlington\\\",\\\"County\\\":\\\"Durham\\\",\\\"Postcode\\\":\\\"LS2 7UE\\\",\\\"Phone\\\":\\\"0113 825 1609\\\",\\\"Email\\\":\\\"england.ddt-at-generalenquiries@nhs.net\\\",\\\"Website\\\":\\\"http://www.england.nhs.uk/north/north/ddt-at/\\\"}},{\\\"type\\\":\\\"Feature\\\",\\\"id\\\":\\\"463122\\\",\\\"geometry\\\":{\\\"type\\\":\\\"Point\\\",\\\"coordinates\\\":[-2.233488082885742,53.47760009765625]},\\\"properties\\\":{\\\"OrganisationCode\\\":\\\"Q46\\\",\\\"OrganisationType\\\":\\\"Area Team\\\",\\\"SubType\\\":\\\"UNKNOWN\\\",\\\"OrganisationStatus\\\":\\\"Visible\\\",\\\"IsPimsManaged\\\":\\\"True\\\",\\\"OrganisationName\\\":\\\"Greater Manchester Area Team\\\",\\\"Address1\\\":\\\"4th Floor\\\",\\\"Address2\\\":\\\"3 Picadilly Place\\\",\\\"Address3\\\":\\\"London Road\\\",\\\"City\\\":\\\"Manchester\\\",\\\"County\\\":\\\"Lancashire\\\",\\\"Postcode\\\":\\\"M1 3BN\\\",\\\"Phone\\\":\\\"0845 0500194\\\",\\\"Email\\\":\\\"nhse.gmat@nhs.net\\\",\\\"Website\\\":\\\"http://www.england.nhs.uk/north/north/gm-at/\\\"}},{\\\"type\\\":\\\"Feature\\\",\\\"id\\\":\\\"463123\\\",\\\"geometry\\\":{\\\"type\\\":\\\"Point\\\",\\\"coordinates\\\":[-2.705566644668579,53.77775573730469]},\\\"properties\\\":{\\\"OrganisationCode\\\":\\\"Q47\\\",\\\"OrganisationType\\\":\\\"Area Team\\\",\\\"SubType\\\":\\\"UNKNOWN\\\",\\\"OrganisationStatus\\\":\\\"Visible\\\",\\\"IsPimsManaged\\\":\\\"True\\\",\\\"OrganisationName\\\":\\\"Lancashire Area Team\\\",\\\"Address1\\\":\\\"Second Floor, Preston Business Centre\\\",\\\"Address2\\\":\\\"Watling Street Road\\\",\\\"Address3\\\":\\\"Fulwood\\\",\\\"City\\\":\\\"Preston\\\",\\\"County\\\":\\\"Lancashire\\\",\\\"Postcode\\\":\\\"PR2 8DY\\\",\\\"Phone\\\":\\\"01772 420150\\\",\\\"Email\\\":\\\"england.contactus@nhs.net\\\",\\\"Website\\\":\\\"http://www.england.nhs.uk/north/north/lanc-at/\\\"}},{\\\"type\\\":\\\"Feature\\\",\\\"id\\\":\\\"463124\\\",\\\"geometry\\\":{\\\"type\\\":\\\"Point\\\",\\\"coordinates\\\":[-2.9802029132843018,53.38481903076172]},\\\"properties\\\":{\\\"OrganisationCode\\\":\\\"Q48\\\",\\\"OrganisationType\\\":\\\"Area Team\\\",\\\"SubType\\\":\\\"UNKNOWN\\\",\\\"OrganisationStatus\\\":\\\"Visible\\\",\\\"IsPimsManaged\\\":\\\"True\\\",\\\"OrganisationName\\\":\\\"Merseyside Area Team\\\",\\\"Address1\\\":\\\"Regatta Place\\\",\\\"Address2\\\":\\\"Summers Road\\\",\\\"Address3\\\":\\\"Brunswick Business Park\\\",\\\"City\\\":\\\"Liverpool\\\",\\\"County\\\":\\\"Merseyside\\\",\\\"Postcode\\\":\\\"L3 4BL\\\",\\\"Phone\\\":\\\"0151 285 4777\\\",\\\"Email\\\":\\\"england.contactus@nhs.net\\\",\\\"Website\\\":\\\"http://www.england.nhs.uk/north/north/mers-at/\\\"}},{\\\"type\\\":\\\"Feature\\\",\\\"id\\\":\\\"463125\\\",\\\"geometry\\\":{\\\"type\\\":\\\"Point\\\",\\\"coordinates\\\":[-1.7141016721725464,54.96938705444336]},\\\"properties\\\":{\\\"OrganisationCode\\\":\\\"Q49\\\",\\\"OrganisationType\\\":\\\"Area Team\\\",\\\"SubType\\\":\\\"UNKNOWN\\\",\\\"OrganisationStatus\\\":\\\"Visible\\\",\\\"IsPimsManaged\\\":\\\"True\\\",\\\"OrganisationName\\\":\\\"Cumbria, Northumberland, Tyne And Wear Area Team\\\",\\\"Address1\\\":\\\"Waterfront\\\",\\\"Address2\\\":\\\"4 Goldcrest Way\\\",\\\"Address3\\\":\\\"Newburn\\\",\\\"City\\\":\\\"Newcastle Upon Tyne\\\",\\\"County\\\":\\\"Tyne and Wear\\\",\\\"Postcode\\\":\\\"NE15 8NY\\\",\\\"Phone\\\":\\\"01912 106400\\\",\\\"Email\\\":\\\"england.contactus@nhs.net\\\",\\\"Website\\\":\\\"http://www.england.nhs.uk/north/north/cntw-at/\\\"}},{\\\"type\\\":\\\"Feature\\\",\\\"id\\\":\\\"463126\\\",\\\"geometry\\\":{\\\"type\\\":\\\"Point\\\",\\\"coordinates\\\":[-1.0497655868530273,53.989986419677734]},\\\"properties\\\":{\\\"OrganisationCode\\\":\\\"Q50\\\",\\\"OrganisationType\\\":\\\"Area Team\\\",\\\"SubType\\\":\\\"UNKNOWN\\\",\\\"OrganisationStatus\\\":\\\"Visible\\\",\\\"IsPimsManaged\\\":\\\"True\\\",\\\"OrganisationName\\\":\\\"North Yorkshire And Humber Area Team\\\",\\\"Address1\\\":\\\"Unit 3\\\",\\\"Address2\\\":\\\"Alpha Court\\\",\\\"Address3\\\":\\\"Monks Cross\\\",\\\"City\\\":\\\"York\\\",\\\"County\\\":\\\"North Yorkshire\\\",\\\"Postcode\\\":\\\"YO32 9WN\\\",\\\"Phone\\\":\\\"0113 825 1845\\\",\\\"Email\\\":\\\"england.contactus@nhs.net\\\",\\\"Website\\\":\\\"http://www.england.nhs.uk/north/north/nyh-at/\\\"}},{\\\"type\\\":\\\"Feature\\\",\\\"id\\\":\\\"463127\\\",\\\"geometry\\\":{\\\"type\\\":\\\"Point\\\",\\\"coordinates\\\":[-1.2550956010818481,53.42157745361328]},\\\"properties\\\":{\\\"OrganisationCode\\\":\\\"Q51\\\",\\\"OrganisationType\\\":\\\"Area Team\\\",\\\"SubType\\\":\\\"UNKNOWN\\\",\\\"OrganisationStatus\\\":\\\"Visible\\\",\\\"IsPimsManaged\\\":\\\"True\\\",\\\"OrganisationName\\\":\\\"South Yorkshire And Bassetlaw Area Team\\\",\\\"Address1\\\":\\\"Oak House\\\",\\\"Address2\\\":\\\"Moorhead Way\\\",\\\"Address3\\\":\\\"Bramley\\\",\\\"City\\\":\\\"Rotherham\\\",\\\"County\\\":\\\"South Yorkshire\\\",\\\"Postcode\\\":\\\"S66 1YY\\\",\\\"Phone\\\":\\\"01709 302000\\\",\\\"Email\\\":\\\"england.syb-businessoffice@nhs.net\\\",\\\"Website\\\":\\\"http://www.england.nhs.uk/north/north/syb-at/\\\"}},{\\\"type\\\":\\\"Feature\\\",\\\"id\\\":\\\"463128\\\",\\\"geometry\\\":{\\\"type\\\":\\\"Point\\\",\\\"coordinates\\\":[-1.544582486152649,53.78975296020508]},\\\"properties\\\":{\\\"OrganisationCode\\\":\\\"Q52\\\",\\\"OrganisationType\\\":\\\"Area Team\\\",\\\"SubType\\\":\\\"UNKNOWN\\\",\\\"OrganisationStatus\\\":\\\"Visible\\\",\\\"IsPimsManaged\\\":\\\"True\\\",\\\"OrganisationName\\\":\\\"West Yorkshire Area Team\\\",\\\"Address1\\\":\\\"3 Leeds City Office Park\\\",\\\"Address2\\\":\\\"Meadow Lane\\\",\\\"City\\\":\\\"Leeds\\\",\\\"County\\\":\\\"West Yorkshire\\\",\\\"Postcode\\\":\\\"LS11 5BD\\\",\\\"Phone\\\":\\\"0113 8252700\\\",\\\"Email\\\":\\\"reception.westyorkshireareateam@nhs.net\\\",\\\"Website\\\":\\\"http://www.england.nhs.uk/north/north/wy-at/\\\"}},{\\\"type\\\":\\\"Feature\\\",\\\"id\\\":\\\"463129\\\",\\\"geometry\\\":{\\\"type\\\":\\\"Point\\\",\\\"coordinates\\\":[-2.1813161373138428,52.18680953979492]},\\\"properties\\\":{\\\"OrganisationCode\\\":\\\"Q53\\\",\\\"OrganisationType\\\":\\\"Area Team\\\",\\\"SubType\\\":\\\"UNKNOWN\\\",\\\"OrganisationStatus\\\":\\\"Visible\\\",\\\"IsPimsManaged\\\":\\\"True\\\",\\\"OrganisationName\\\":\\\"Arden, Herefordshire And Worcestershire Area Team\\\",\\\"Address2\\\":\\\"Wildwood\\\",\\\"Address3\\\":\\\"Wildwood Drive\\\",\\\"City\\\":\\\"Worcester\\\",\\\"County\\\":\\\"Worcestershire\\\",\\\"Postcode\\\":\\\"WR5 2LG\\\",\\\"Phone\\\":\\\"0113 825 3099\\\",\\\"Email\\\":\\\"england.contactus@nhs.net\\\",\\\"Website\\\":\\\"http://www.england.nhs.uk/mids-east/mids-east-3/ahw-at/\\\"}},{\\\"type\\\":\\\"Feature\\\",\\\"id\\\":\\\"463130\\\",\\\"geometry\\\":{\\\"type\\\":\\\"Point\\\",\\\"coordinates\\\":[-1.9351675510406494,52.471920013427734]},\\\"properties\\\":{\\\"OrganisationCode\\\":\\\"Q54\\\",\\\"OrganisationType\\\":\\\"Area Team\\\",\\\"SubType\\\":\\\"UNKNOWN\\\",\\\"OrganisationStatus\\\":\\\"Visible\\\",\\\"IsPimsManaged\\\":\\\"True\\\",\\\"OrganisationName\\\":\\\"Birmingham And The Black Country Area Team\\\",\\\"Address1\\\":\\\"St Chads Court\\\",\\\"Address2\\\":\\\"213 Hagley Road\\\",\\\"Address3\\\":\\\"Edgbaston\\\",\\\"City\\\":\\\"Birmingham\\\",\\\"County\\\":\\\"West Midlands\\\",\\\"Postcode\\\":\\\"B16 9RG\\\",\\\"Phone\\\":\\\"0121 695 2222\\\",\\\"Email\\\":\\\"england.contactus@nhs.net\\\",\\\"Website\\\":\\\"http://www.england.nhs.uk/mids-east/mids-east-3/bsbc-at/\\\"}},{\\\"type\\\":\\\"Feature\\\",\\\"id\\\":\\\"463131\\\",\\\"geometry\\\":{\\\"type\\\":\\\"Point\\\",\\\"coordinates\\\":[-1.1435775756835938,53.12958526611328]},\\\"properties\\\":{\\\"OrganisationCode\\\":\\\"Q55\\\",\\\"OrganisationType\\\":\\\"Area Team\\\",\\\"SubType\\\":\\\"UNKNOWN\\\",\\\"OrganisationStatus\\\":\\\"Visible\\\",\\\"IsPimsManaged\\\":\\\"True\\\",\\\"OrganisationName\\\":\\\"Derbyshire And Nottinghamshire Area Team\\\",\\\"Address1\\\":\\\"Birch House\\\",\\\"Address2\\\":\\\"Ransom Wood Business Park\\\",\\\"Address3\\\":\\\"Southwell Road West, Rainworth\\\",\\\"City\\\":\\\"Nottingham\\\",\\\"County\\\":\\\"Nottinghamshire\\\",\\\"Postcode\\\":\\\"NG21 0HJ\\\",\\\"Phone\\\":\\\"0300 300 1234\\\",\\\"Email\\\":\\\"england.contactus@nhs.net\\\",\\\"Website\\\":\\\"http://www.england.nhs.uk/mids-east/mids-east-3/dn-at/\\\"}},{\\\"type\\\":\\\"Feature\\\",\\\"id\\\":\\\"463132\\\",\\\"geometry\\\":{\\\"type\\\":\\\"Point\\\",\\\"coordinates\\\":[0.19126050174236298,52.18547821044922]},\\\"properties\\\":{\\\"OrganisationCode\\\":\\\"Q56\\\",\\\"OrganisationType\\\":\\\"Area Team\\\",\\\"SubType\\\":\\\"UNKNOWN\\\",\\\"OrganisationStatus\\\":\\\"Visible\\\",\\\"IsPimsManaged\\\":\\\"True\\\",\\\"OrganisationName\\\":\\\"East Anglia Area Team\\\",\\\"Address1\\\":\\\"CPC1\\\",\\\"Address2\\\":\\\"Capital Business Park\\\",\\\"Address3\\\":\\\"Fulbourn\\\",\\\"City\\\":\\\"Cambridge\\\",\\\"County\\\":\\\"Cambridgeshire\\\",\\\"Postcode\\\":\\\"CB21 5XE\\\",\\\"Phone\\\":\\\"01223 708700\\\",\\\"Email\\\":\\\"england.contactus@nhs.net\\\",\\\"Website\\\":\\\"http://www.england.nhs.uk/mids-east/mids-east-3/ea-at/\\\"}},{\\\"type\\\":\\\"Feature\\\",\\\"id\\\":\\\"463133\\\",\\\"geometry\\\":{\\\"type\\\":\\\"Point\\\",\\\"coordinates\\\":[0.5076583027839661,51.74932098388672]},\\\"properties\\\":{\\\"OrganisationCode\\\":\\\"Q57\\\",\\\"OrganisationType\\\":\\\"Area Team\\\",\\\"SubType\\\":\\\"UNKNOWN\\\",\\\"OrganisationStatus\\\":\\\"Visible\\\",\\\"IsPimsManaged\\\":\\\"True\\\",\\\"OrganisationName\\\":\\\"Essex Area Team\\\",\\\"Address1\\\":\\\"Swift House\\\",\\\"Address2\\\":\\\"Hedgerows Business Park\\\",\\\"Address3\\\":\\\"Colchester Road, Springfield\\\",\\\"City\\\":\\\"Chelmsford\\\",\\\"County\\\":\\\"Essex\\\",\\\"Postcode\\\":\\\"CM2 5PF\\\",\\\"Phone\\\":\\\"01245 398770\\\",\\\"Email\\\":\\\"england.contactus@nhs.net\\\",\\\"Website\\\":\\\"http://www.england.nhs.uk/mids-east/mids-east-3/essex-at/\\\"}},{\\\"type\\\":\\\"Feature\\\",\\\"id\\\":\\\"463134\\\",\\\"geometry\\\":{\\\"type\\\":\\\"Point\\\",\\\"coordinates\\\":[-0.20884820818901062,51.8019905090332]},\\\"properties\\\":{\\\"OrganisationCode\\\":\\\"Q58\\\",\\\"OrganisationType\\\":\\\"Area Team\\\",\\\"SubType\\\":\\\"UNKNOWN\\\",\\\"OrganisationStatus\\\":\\\"Visible\\\",\\\"IsPimsManaged\\\":\\\"True\\\",\\\"OrganisationName\\\":\\\"Hertfordshire And The South Midlands Area Team\\\",\\\"Address1\\\":\\\"Charter House\\\",\\\"Address2\\\":\\\"Parkway\\\",\\\"City\\\":\\\"Welwyn Garden City\\\",\\\"County\\\":\\\"Hertfordshire\\\",\\\"Postcode\\\":\\\"AL8 6JL\\\",\\\"Phone\\\":\\\"01707 390855\\\",\\\"Email\\\":\\\"england.contactus@nhs.net\\\",\\\"Website\\\":\\\"http://www.england.nhs.uk/mids-east/mids-east-3/hsm-at/\\\"}},{\\\"type\\\":\\\"Feature\\\",\\\"id\\\":\\\"463135\\\",\\\"geometry\\\":{\\\"type\\\":\\\"Point\\\",\\\"coordinates\\\":[-1.189500093460083,52.593223571777344]},\\\"properties\\\":{\\\"OrganisationCode\\\":\\\"Q59\\\",\\\"OrganisationType\\\":\\\"Area Team\\\",\\\"SubType\\\":\\\"UNKNOWN\\\",\\\"OrganisationStatus\\\":\\\"Visible\\\",\\\"IsPimsManaged\\\":\\\"True\\\",\\\"OrganisationName\\\":\\\"Leicestershire And Lincolnshire Area Team\\\",\\\"Address1\\\":\\\"Fosse House\\\",\\\"Address2\\\":\\\"6 Smith Way\\\",\\\"Address3\\\":\\\"Grove Park, Enderby\\\",\\\"City\\\":\\\"Leicester\\\",\\\"County\\\":\\\"Leicestershire\\\",\\\"Postcode\\\":\\\"LE19 1SX\\\",\\\"Phone\\\":\\\"0116 295 7500\\\",\\\"Email\\\":\\\"england.leicsandlincsareateam@nhs.net\\\",\\\"Website\\\":\\\"http://www.england.nhs.uk/mids-east/mids-east-3/ll-at/\\\"}},{\\\"type\\\":\\\"Feature\\\",\\\"id\\\":\\\"463136\\\",\\\"geometry\\\":{\\\"type\\\":\\\"Point\\\",\\\"coordinates\\\":[-1.9140186309814453,52.7487907409668]},\\\"properties\\\":{\\\"OrganisationCode\\\":\\\"Q60\\\",\\\"OrganisationType\\\":\\\"Area Team\\\",\\\"SubType\\\":\\\"UNKNOWN\\\",\\\"OrganisationStatus\\\":\\\"Visible\\\",\\\"IsPimsManaged\\\":\\\"True\\\",\\\"OrganisationName\\\":\\\"Shropshire And Staffordshire Area Team\\\",\\\"Address1\\\":\\\"Anglesey House,\\\",\\\"Address2\\\":\\\"Wheelhouse Road,\\\",\\\"Address3\\\":\\\"Towers Plaza,\\\",\\\"City\\\":\\\"Rugeley,\\\",\\\"County\\\":\\\"Staffordshire\\\",\\\"Postcode\\\":\\\"WS15 1UL\\\",\\\"Phone\\\":\\\"0300 7900233\\\",\\\"Email\\\":\\\"england.contactus@nhs.net\\\",\\\"Website\\\":\\\"http://www.england.nhs.uk/mids-east/mids-east-3/ss-at/\\\"}}]}\\n\"},\"id\":\"1bc889b6-e081-40a6-b3d4-758dd4d056b7\",\"type\":\"GeoJSONDataSource\"},{\"attributes\":{},\"id\":\"22de600e-4df2-496a-b63a-a86d34ac68a6\",\"type\":\"BasicTicker\"},{\"attributes\":{\"plot\":{\"id\":\"6852a52f-082d-485f-a84d-a5a32f22ac82\",\"subtype\":\"Figure\",\"type\":\"Plot\"}},\"id\":\"f294f39f-3b4b-402e-9b56-4a52bd645d4d\",\"type\":\"PanTool\"},{\"attributes\":{\"fill_alpha\":{\"value\":0.9},\"fill_color\":{\"value\":\"#1f77b4\"},\"line_alpha\":{\"value\":0.9},\"line_color\":{\"value\":\"#1f77b4\"},\"x\":{\"field\":\"x\"},\"y\":{\"field\":\"y\"}},\"id\":\"f1cffbcb-4b5a-41c9-a2aa-41b220c5029a\",\"type\":\"Circle\"},{\"attributes\":{\"tile_source\":{\"id\":\"7bce71c0-6e01-453f-bfd0-da6a622a5eda\",\"type\":\"WMTSTileSource\"}},\"id\":\"c0a58f30-1cff-4e0d-9feb-54221ec95e40\",\"type\":\"TileRenderer\"},{\"attributes\":{\"dimension\":1,\"plot\":{\"id\":\"bbd8bef8-a19c-4259-8905-e4a2ce2145cb\",\"subtype\":\"Figure\",\"type\":\"Plot\"},\"ticker\":{\"id\":\"ef9d1eb2-b8fa-4f24-96fd-fff0672f2ddf\",\"type\":\"BasicTicker\"}},\"id\":\"e9610b6d-9b86-47d4-8215-346f0c2b74cc\",\"type\":\"Grid\"},{\"attributes\":{},\"id\":\"70319d20-3019-4057-8c65-6df8c3f5ba45\",\"type\":\"BasicTickFormatter\"},{\"attributes\":{\"plot\":{\"id\":\"e33a26de-2a70-4e33-901e-d989ecc47341\",\"subtype\":\"Figure\",\"type\":\"Plot\"},\"ticker\":{\"id\":\"dca64817-bbf9-45e6-bafa-0c463008d4c5\",\"type\":\"BasicTicker\"}},\"id\":\"791f32ee-367e-4f53-8b51-8635715d6bf8\",\"type\":\"Grid\"},{\"attributes\":{\"tile_source\":{\"id\":\"7bce71c0-6e01-453f-bfd0-da6a622a5eda\",\"type\":\"WMTSTileSource\"}},\"id\":\"d9532d00-5f0e-4824-a8bf-8536ce42f09c\",\"type\":\"TileRenderer\"},{\"attributes\":{},\"id\":\"143b3b23-a755-4e5b-9078-099572ecccd8\",\"type\":\"BasicTicker\"},{\"attributes\":{\"plot\":{\"id\":\"54a50281-ad51-4e43-b122-3a7c1148ae25\",\"subtype\":\"Figure\",\"type\":\"Plot\"}},\"id\":\"53eb32c0-849e-4c7d-97c1-4e986ef8a630\",\"type\":\"WheelZoomTool\"},{\"attributes\":{\"below\":[{\"id\":\"67bc2e5e-2fae-48fc-873b-ffc6f7bd0673\",\"type\":\"LinearAxis\"}],\"left\":[{\"id\":\"2ced3500-0d24-4c44-94fb-97682da4a8b4\",\"type\":\"LinearAxis\"}],\"renderers\":[{\"id\":\"67bc2e5e-2fae-48fc-873b-ffc6f7bd0673\",\"type\":\"LinearAxis\"},{\"id\":\"d1af0b2e-b029-4db2-81d1-39df63e107a1\",\"type\":\"Grid\"},{\"id\":\"2ced3500-0d24-4c44-94fb-97682da4a8b4\",\"type\":\"LinearAxis\"},{\"id\":\"6895abce-e43c-4cee-996e-027d7e0d7b0d\",\"type\":\"Grid\"},{\"id\":\"9e81fc5f-7bb4-447d-98ce-af929c52afd0\",\"type\":\"TileRenderer\"}],\"tool_events\":{\"id\":\"675ce64f-fd81-447d-835e-ff267728fdde\",\"type\":\"ToolEvents\"},\"tools\":[{\"id\":\"f294f39f-3b4b-402e-9b56-4a52bd645d4d\",\"type\":\"PanTool\"},{\"id\":\"41ee7286-3374-40c1-89cf-3e9d540d87de\",\"type\":\"WheelZoomTool\"}],\"x_range\":{\"id\":\"d5442b31-6e65-4769-af1a-b3298056fd4b\",\"type\":\"Range1d\"},\"y_range\":{\"id\":\"7f3c66b2-b951-43a8-aab1-fed0f55b2555\",\"type\":\"Range1d\"}},\"id\":\"6852a52f-082d-485f-a84d-a5a32f22ac82\",\"subtype\":\"Figure\",\"type\":\"Plot\"},{\"attributes\":{\"plot\":{\"id\":\"c19b74dd-5691-47aa-994a-0c2e3fe90b5f\",\"subtype\":\"Figure\",\"type\":\"Plot\"}},\"id\":\"e4931e97-c02a-4beb-8028-9474edd33f4b\",\"type\":\"PanTool\"},{\"attributes\":{\"data_source\":{\"id\":\"c7efc513-8308-448f-b28f-87146aefec68\",\"type\":\"GeoJSONDataSource\"},\"glyph\":{\"id\":\"b9d2aecc-442e-41b1-850b-73dee0f1b6b7\",\"type\":\"Circle\"},\"hover_glyph\":null,\"nonselection_glyph\":{\"id\":\"53cee774-cbeb-4ebe-92ed-1d9522f97703\",\"type\":\"Circle\"},\"selection_glyph\":null},\"id\":\"bc72186e-6830-4175-816d-4f80f886ec2c\",\"type\":\"GlyphRenderer\"},{\"attributes\":{},\"id\":\"3264a3af-31a1-47a0-bff5-e2c4b0776dbc\",\"type\":\"BasicTickFormatter\"},{\"attributes\":{\"plot\":{\"id\":\"e33a26de-2a70-4e33-901e-d989ecc47341\",\"subtype\":\"Figure\",\"type\":\"Plot\"}},\"id\":\"1cfec27f-f763-4f86-9000-e156cc50b3b0\",\"type\":\"PanTool\"},{\"attributes\":{\"plot\":{\"id\":\"767f6a78-3465-4d3e-935e-22bfecb27a47\",\"subtype\":\"Figure\",\"type\":\"Plot\"}},\"id\":\"80b61f70-f865-4980-a649-d23b153c3ae2\",\"type\":\"PanTool\"},{\"attributes\":{\"plot\":{\"id\":\"6852a52f-082d-485f-a84d-a5a32f22ac82\",\"subtype\":\"Figure\",\"type\":\"Plot\"},\"ticker\":{\"id\":\"40f89e3b-226b-43b1-be7c-697bb6ea6e8f\",\"type\":\"BasicTicker\"}},\"id\":\"d1af0b2e-b029-4db2-81d1-39df63e107a1\",\"type\":\"Grid\"},{\"attributes\":{\"plot\":{\"id\":\"6387af47-2b00-47bb-adbf-143d68bbb3d6\",\"subtype\":\"Figure\",\"type\":\"Plot\"}},\"id\":\"430103e7-db61-4dc1-81af-70c708afa9f9\",\"type\":\"WheelZoomTool\"},{\"attributes\":{\"callback\":null,\"end\":20000000,\"start\":-20000000},\"id\":\"f2039d3c-84a6-4d84-93a3-ee4f89b9f68f\",\"type\":\"Range1d\"},{\"attributes\":{},\"id\":\"b54b319e-4c56-4cdd-a5aa-62506620d34f\",\"type\":\"BasicTicker\"},{\"attributes\":{\"formatter\":{\"id\":\"981f7ffc-d85c-466f-9132-5fb16a6089f1\",\"type\":\"BasicTickFormatter\"},\"plot\":{\"id\":\"e33a26de-2a70-4e33-901e-d989ecc47341\",\"subtype\":\"Figure\",\"type\":\"Plot\"},\"ticker\":{\"id\":\"a5bfd424-7ddf-4b0e-8c3c-9499d8fd683b\",\"type\":\"BasicTicker\"}},\"id\":\"0e41375b-6a32-493f-b8de-d959aa6c3750\",\"type\":\"LinearAxis\"},{\"attributes\":{},\"id\":\"56723269-12d8-4cf4-a7dc-a04a6de76e20\",\"type\":\"BasicTickFormatter\"},{\"attributes\":{\"plot\":{\"id\":\"b91e28d2-6175-4751-80a0-0ebd9b8cfcf4\",\"subtype\":\"Figure\",\"type\":\"Plot\"},\"ticker\":{\"id\":\"0d9812f2-ad6f-41cd-975c-0b737d7d0df8\",\"type\":\"BasicTicker\"}},\"id\":\"d71dbb95-bcd9-48a2-ab89-d258fdcdc931\",\"type\":\"Grid\"},{\"attributes\":{\"tile_source\":{\"id\":\"7bce71c0-6e01-453f-bfd0-da6a622a5eda\",\"type\":\"WMTSTileSource\"}},\"id\":\"9e81fc5f-7bb4-447d-98ce-af929c52afd0\",\"type\":\"TileRenderer\"},{\"attributes\":{\"formatter\":{\"id\":\"fa89dfe9-3a35-4bdd-8d01-acdd202532e9\",\"type\":\"BasicTickFormatter\"},\"plot\":{\"id\":\"6387af47-2b00-47bb-adbf-143d68bbb3d6\",\"subtype\":\"Figure\",\"type\":\"Plot\"},\"ticker\":{\"id\":\"f99f1da1-7bb7-4d0f-bbe1-119fe64f6ef8\",\"type\":\"BasicTicker\"}},\"id\":\"04f98015-26df-48af-aba5-df4d1ada44e5\",\"type\":\"LinearAxis\"},{\"attributes\":{\"formatter\":{\"id\":\"9eaba3c9-8db2-402b-90f1-18f166707773\",\"type\":\"BasicTickFormatter\"},\"plot\":{\"id\":\"6852a52f-082d-485f-a84d-a5a32f22ac82\",\"subtype\":\"Figure\",\"type\":\"Plot\"},\"ticker\":{\"id\":\"40f89e3b-226b-43b1-be7c-697bb6ea6e8f\",\"type\":\"BasicTicker\"},\"visible\":false},\"id\":\"67bc2e5e-2fae-48fc-873b-ffc6f7bd0673\",\"type\":\"LinearAxis\"},{\"attributes\":{\"dimension\":1,\"plot\":{\"id\":\"ccbd00f6-b12b-43f4-aa7c-cbb732740ee8\",\"subtype\":\"Figure\",\"type\":\"Plot\"},\"ticker\":{\"id\":\"eebb6a26-ece2-499a-a3b2-5c4206bb00d4\",\"type\":\"BasicTicker\"}},\"id\":\"8b8a57f3-52ed-4069-8a25-0f3d5392671b\",\"type\":\"Grid\"},{\"attributes\":{\"callback\":null,\"geojson\":\"{\\\"type\\\":\\\"FeatureCollection\\\",\\\"features\\\":[{\\\"type\\\":\\\"Feature\\\",\\\"id\\\":\\\"463098\\\",\\\"geometry\\\":{\\\"type\\\":\\\"Point\\\",\\\"coordinates\\\":[-2.1208465099334717,51.4613151550293]},\\\"properties\\\":{\\\"OrganisationCode\\\":\\\"Q64\\\",\\\"OrganisationType\\\":\\\"Area Team\\\",\\\"SubType\\\":\\\"UNKNOWN\\\",\\\"OrganisationStatus\\\":\\\"Visible\\\",\\\"IsPimsManaged\\\":\\\"True\\\",\\\"OrganisationName\\\":\\\"Bath, Gloucestershire, Swindon And Wiltshire Area Team\\\",\\\"Address1\\\":\\\"1st Floor\\\",\\\"Address2\\\":\\\"Bewley House\\\",\\\"Address3\\\":\\\"Marshfield Road\\\",\\\"City\\\":\\\"Chippenham\\\",\\\"County\\\":\\\"Wiltshire\\\",\\\"Postcode\\\":\\\"SN15 1JW\\\",\\\"Phone\\\":\\\"0113 8251 500\\\",\\\"Email\\\":\\\"england.contactus@nhs.net\\\",\\\"Website\\\":\\\"http://www.england.nhs.uk/south/south/bgsw-at/\\\"}},{\\\"type\\\":\\\"Feature\\\",\\\"id\\\":\\\"463099\\\",\\\"geometry\\\":{\\\"type\\\":\\\"Point\\\",\\\"coordinates\\\":[-2.5929524898529053,51.459877014160156]},\\\"properties\\\":{\\\"OrganisationCode\\\":\\\"Q65\\\",\\\"OrganisationType\\\":\\\"Area Team\\\",\\\"SubType\\\":\\\"UNKNOWN\\\",\\\"OrganisationStatus\\\":\\\"Visible\\\",\\\"IsPimsManaged\\\":\\\"True\\\",\\\"OrganisationName\\\":\\\"Bristol, North Somerset, Somerset And South Gloucestershire Area Team\\\",\\\"Address1\\\":\\\"South Plaza\\\",\\\"Address3\\\":\\\"Marlborough Street\\\",\\\"City\\\":\\\"Bristol\\\",\\\"County\\\":\\\"Somerset\\\",\\\"Postcode\\\":\\\"BS1 3NX\\\",\\\"Phone\\\":\\\"0117 976 6600\\\",\\\"Email\\\":\\\"england.contactus@nhs.net\\\",\\\"Website\\\":\\\"http://www.england.nhs.uk/south/south/bnsssg-at/\\\"}},{\\\"type\\\":\\\"Feature\\\",\\\"id\\\":\\\"463100\\\",\\\"geometry\\\":{\\\"type\\\":\\\"Point\\\",\\\"coordinates\\\":[-4.232546806335449,50.42112731933594]},\\\"properties\\\":{\\\"OrganisationCode\\\":\\\"Q66\\\",\\\"OrganisationType\\\":\\\"Area Team\\\",\\\"SubType\\\":\\\"UNKNOWN\\\",\\\"OrganisationStatus\\\":\\\"Visible\\\",\\\"IsPimsManaged\\\":\\\"True\\\",\\\"OrganisationName\\\":\\\"Devon, Cornwall And Isles Of Scilly Area Team\\\",\\\"Address1\\\":\\\"Peninsula House\\\",\\\"Address2\\\":\\\"Kingsmill Road\\\",\\\"Address3\\\":\\\"Tamar View Industrial Estate\\\",\\\"City\\\":\\\"Cornwall\\\",\\\"County\\\":\\\"Cornwall\\\",\\\"Postcode\\\":\\\"PL12 6LE\\\",\\\"Phone\\\":\\\"01752 679250\\\",\\\"Email\\\":\\\"england.contactus@nhs.net\\\",\\\"Website\\\":\\\"http://www.england.nhs.uk/south/south/dcis-at/\\\"}},{\\\"type\\\":\\\"Feature\\\",\\\"id\\\":\\\"463101\\\",\\\"geometry\\\":{\\\"type\\\":\\\"Point\\\",\\\"coordinates\\\":[0.27698493003845215,51.193748474121094]},\\\"properties\\\":{\\\"OrganisationCode\\\":\\\"Q67\\\",\\\"OrganisationType\\\":\\\"Area Team\\\",\\\"SubType\\\":\\\"UNKNOWN\\\",\\\"OrganisationStatus\\\":\\\"Visible\\\",\\\"IsPimsManaged\\\":\\\"True\\\",\\\"OrganisationName\\\":\\\"Kent And Medway Area Team\\\",\\\"Address1\\\":\\\"Wharf House\\\",\\\"Address2\\\":\\\"Medway Wharf Road\\\",\\\"City\\\":\\\"Tonbridge\\\",\\\"County\\\":\\\"Kent\\\",\\\"Postcode\\\":\\\"TN9 1RE\\\",\\\"Phone\\\":\\\"01732 375200\\\",\\\"Email\\\":\\\"england.kentandmedwaybusinessoffice@nhs.net\\\",\\\"Website\\\":\\\"http://www.england.nhs.uk/south/south/km-at/\\\"}},{\\\"type\\\":\\\"Feature\\\",\\\"id\\\":\\\"463102\\\",\\\"geometry\\\":{\\\"type\\\":\\\"Point\\\",\\\"coordinates\\\":[-0.1647440642118454,51.170936584472656]},\\\"properties\\\":{\\\"OrganisationCode\\\":\\\"Q68\\\",\\\"OrganisationType\\\":\\\"Area Team\\\",\\\"SubType\\\":\\\"UNKNOWN\\\",\\\"OrganisationStatus\\\":\\\"Visible\\\",\\\"IsPimsManaged\\\":\\\"True\\\",\\\"OrganisationName\\\":\\\"Surrey And Sussex Area Team\\\",\\\"Address1\\\":\\\"York House\\\",\\\"Address2\\\":\\\"18-20 Massetts Road\\\",\\\"City\\\":\\\"Horley\\\",\\\"County\\\":\\\"Surrey\\\",\\\"Postcode\\\":\\\"RH6 7DE\\\",\\\"Phone\\\":\\\"01293 778899\\\",\\\"Email\\\":\\\"england.surreyandsussex-businessoffice@nhs.net\\\",\\\"Website\\\":\\\"http://www.england.nhs.uk/south/south/ss-at/\\\"}},{\\\"type\\\":\\\"Feature\\\",\\\"id\\\":\\\"463103\\\",\\\"geometry\\\":{\\\"type\\\":\\\"Point\\\",\\\"coordinates\\\":[-1.2079498767852783,51.72844696044922]},\\\"properties\\\":{\\\"OrganisationCode\\\":\\\"Q69\\\",\\\"OrganisationType\\\":\\\"Area Team\\\",\\\"SubType\\\":\\\"UNKNOWN\\\",\\\"OrganisationStatus\\\":\\\"Visible\\\",\\\"IsPimsManaged\\\":\\\"True\\\",\\\"OrganisationName\\\":\\\"Thames Valley Area Team\\\",\\\"Address1\\\":\\\"Jubilee House\\\",\\\"Address2\\\":\\\"5510 John Smith Drive\\\",\\\"Address3\\\":\\\"Oxford Business Park South\\\",\\\"City\\\":\\\"Cowley\\\",\\\"County\\\":\\\"Oxfordshire\\\",\\\"Postcode\\\":\\\"OX4 2LH\\\",\\\"Phone\\\":\\\"01865 963800\\\",\\\"Email\\\":\\\"england.contactus@nhs.net\\\",\\\"Website\\\":\\\"http://www.england.nhs.uk/south/south/tv-at/\\\"}},{\\\"type\\\":\\\"Feature\\\",\\\"id\\\":\\\"463104\\\",\\\"geometry\\\":{\\\"type\\\":\\\"Point\\\",\\\"coordinates\\\":[-1.4493359327316284,50.92325973510742]},\\\"properties\\\":{\\\"OrganisationCode\\\":\\\"Q70\\\",\\\"OrganisationType\\\":\\\"Area Team\\\",\\\"SubType\\\":\\\"UNKNOWN\\\",\\\"OrganisationStatus\\\":\\\"Visible\\\",\\\"IsPimsManaged\\\":\\\"True\\\",\\\"OrganisationName\\\":\\\"Wessex Area Team\\\",\\\"Address2\\\":\\\"Oakley Road\\\",\\\"City\\\":\\\"Southampton\\\",\\\"County\\\":\\\"Hampshire\\\",\\\"Postcode\\\":\\\"SO16 4GX\\\",\\\"Phone\\\":\\\"023 8029 6914\\\",\\\"Email\\\":\\\"england.wessexpatientexperience@nhs.net\\\",\\\"Website\\\":\\\"http://www.england.nhs.uk/south/south/w-at/\\\"}},{\\\"type\\\":\\\"Feature\\\",\\\"id\\\":\\\"463105\\\",\\\"geometry\\\":{\\\"type\\\":\\\"Point\\\",\\\"coordinates\\\":[-0.13727261126041412,51.49694061279297]},\\\"properties\\\":{\\\"OrganisationCode\\\":\\\"Q71\\\",\\\"OrganisationType\\\":\\\"Area Team\\\",\\\"SubType\\\":\\\"UNKNOWN\\\",\\\"OrganisationStatus\\\":\\\"Visible\\\",\\\"IsPimsManaged\\\":\\\"True\\\",\\\"OrganisationName\\\":\\\"London Area Team\\\",\\\"Address2\\\":\\\"2nd Floor, Southside\\\",\\\"Address3\\\":\\\"105 Victoria Street\\\",\\\"City\\\":\\\"London\\\",\\\"Postcode\\\":\\\"SW1E 6QT\\\",\\\"Phone\\\":\\\"0207 932 3700\\\",\\\"Email\\\":\\\"england.contactus@nhs.net\\\",\\\"Website\\\":\\\"http://www.england.nhs.uk/london/\\\"}},{\\\"type\\\":\\\"Feature\\\",\\\"id\\\":\\\"463120\\\",\\\"geometry\\\":{\\\"type\\\":\\\"Point\\\",\\\"coordinates\\\":[-2.5846381187438965,53.37392807006836]},\\\"properties\\\":{\\\"OrganisationCode\\\":\\\"Q44\\\",\\\"OrganisationType\\\":\\\"Area Team\\\",\\\"SubType\\\":\\\"UNKNOWN\\\",\\\"OrganisationStatus\\\":\\\"Visible\\\",\\\"IsPimsManaged\\\":\\\"True\\\",\\\"OrganisationName\\\":\\\"Cheshire, Warrington And Wirral Area Team\\\",\\\"Address1\\\":\\\"NHS Quayside (NHS North West)\\\",\\\"Address2\\\":\\\"Wilderspool Park\\\",\\\"Address3\\\":\\\"Greensall Avenue\\\",\\\"City\\\":\\\"Warrington\\\",\\\"County\\\":\\\"Cheshire\\\",\\\"Postcode\\\":\\\"WA4 6HL\\\",\\\"Phone\\\":\\\"01925 406000\\\",\\\"Email\\\":\\\"england.contactus@nhs.net\\\",\\\"Website\\\":\\\"http://www.england.nhs.uk/north/north/cww-at/\\\"}},{\\\"type\\\":\\\"Feature\\\",\\\"id\\\":\\\"463121\\\",\\\"geometry\\\":{\\\"type\\\":\\\"Point\\\",\\\"coordinates\\\":[-1.5323498249053955,53.79779815673828]},\\\"properties\\\":{\\\"OrganisationCode\\\":\\\"Q45\\\",\\\"OrganisationType\\\":\\\"Area Team\\\",\\\"SubType\\\":\\\"UNKNOWN\\\",\\\"OrganisationStatus\\\":\\\"Visible\\\",\\\"IsPimsManaged\\\":\\\"True\\\",\\\"OrganisationName\\\":\\\"Durham, Darlington And Tees Area Team\\\",\\\"Address1\\\":\\\"The Old Exchange\\\",\\\"Address2\\\":\\\"Barnard Street\\\",\\\"City\\\":\\\"Darlington\\\",\\\"County\\\":\\\"Durham\\\",\\\"Postcode\\\":\\\"LS2 7UE\\\",\\\"Phone\\\":\\\"0113 825 1609\\\",\\\"Email\\\":\\\"england.ddt-at-generalenquiries@nhs.net\\\",\\\"Website\\\":\\\"http://www.england.nhs.uk/north/north/ddt-at/\\\"}},{\\\"type\\\":\\\"Feature\\\",\\\"id\\\":\\\"463122\\\",\\\"geometry\\\":{\\\"type\\\":\\\"Point\\\",\\\"coordinates\\\":[-2.233488082885742,53.47760009765625]},\\\"properties\\\":{\\\"OrganisationCode\\\":\\\"Q46\\\",\\\"OrganisationType\\\":\\\"Area Team\\\",\\\"SubType\\\":\\\"UNKNOWN\\\",\\\"OrganisationStatus\\\":\\\"Visible\\\",\\\"IsPimsManaged\\\":\\\"True\\\",\\\"OrganisationName\\\":\\\"Greater Manchester Area Team\\\",\\\"Address1\\\":\\\"4th Floor\\\",\\\"Address2\\\":\\\"3 Picadilly Place\\\",\\\"Address3\\\":\\\"London Road\\\",\\\"City\\\":\\\"Manchester\\\",\\\"County\\\":\\\"Lancashire\\\",\\\"Postcode\\\":\\\"M1 3BN\\\",\\\"Phone\\\":\\\"0845 0500194\\\",\\\"Email\\\":\\\"nhse.gmat@nhs.net\\\",\\\"Website\\\":\\\"http://www.england.nhs.uk/north/north/gm-at/\\\"}},{\\\"type\\\":\\\"Feature\\\",\\\"id\\\":\\\"463123\\\",\\\"geometry\\\":{\\\"type\\\":\\\"Point\\\",\\\"coordinates\\\":[-2.705566644668579,53.77775573730469]},\\\"properties\\\":{\\\"OrganisationCode\\\":\\\"Q47\\\",\\\"OrganisationType\\\":\\\"Area Team\\\",\\\"SubType\\\":\\\"UNKNOWN\\\",\\\"OrganisationStatus\\\":\\\"Visible\\\",\\\"IsPimsManaged\\\":\\\"True\\\",\\\"OrganisationName\\\":\\\"Lancashire Area Team\\\",\\\"Address1\\\":\\\"Second Floor, Preston Business Centre\\\",\\\"Address2\\\":\\\"Watling Street Road\\\",\\\"Address3\\\":\\\"Fulwood\\\",\\\"City\\\":\\\"Preston\\\",\\\"County\\\":\\\"Lancashire\\\",\\\"Postcode\\\":\\\"PR2 8DY\\\",\\\"Phone\\\":\\\"01772 420150\\\",\\\"Email\\\":\\\"england.contactus@nhs.net\\\",\\\"Website\\\":\\\"http://www.england.nhs.uk/north/north/lanc-at/\\\"}},{\\\"type\\\":\\\"Feature\\\",\\\"id\\\":\\\"463124\\\",\\\"geometry\\\":{\\\"type\\\":\\\"Point\\\",\\\"coordinates\\\":[-2.9802029132843018,53.38481903076172]},\\\"properties\\\":{\\\"OrganisationCode\\\":\\\"Q48\\\",\\\"OrganisationType\\\":\\\"Area Team\\\",\\\"SubType\\\":\\\"UNKNOWN\\\",\\\"OrganisationStatus\\\":\\\"Visible\\\",\\\"IsPimsManaged\\\":\\\"True\\\",\\\"OrganisationName\\\":\\\"Merseyside Area Team\\\",\\\"Address1\\\":\\\"Regatta Place\\\",\\\"Address2\\\":\\\"Summers Road\\\",\\\"Address3\\\":\\\"Brunswick Business Park\\\",\\\"City\\\":\\\"Liverpool\\\",\\\"County\\\":\\\"Merseyside\\\",\\\"Postcode\\\":\\\"L3 4BL\\\",\\\"Phone\\\":\\\"0151 285 4777\\\",\\\"Email\\\":\\\"england.contactus@nhs.net\\\",\\\"Website\\\":\\\"http://www.england.nhs.uk/north/north/mers-at/\\\"}},{\\\"type\\\":\\\"Feature\\\",\\\"id\\\":\\\"463125\\\",\\\"geometry\\\":{\\\"type\\\":\\\"Point\\\",\\\"coordinates\\\":[-1.7141016721725464,54.96938705444336]},\\\"properties\\\":{\\\"OrganisationCode\\\":\\\"Q49\\\",\\\"OrganisationType\\\":\\\"Area Team\\\",\\\"SubType\\\":\\\"UNKNOWN\\\",\\\"OrganisationStatus\\\":\\\"Visible\\\",\\\"IsPimsManaged\\\":\\\"True\\\",\\\"OrganisationName\\\":\\\"Cumbria, Northumberland, Tyne And Wear Area Team\\\",\\\"Address1\\\":\\\"Waterfront\\\",\\\"Address2\\\":\\\"4 Goldcrest Way\\\",\\\"Address3\\\":\\\"Newburn\\\",\\\"City\\\":\\\"Newcastle Upon Tyne\\\",\\\"County\\\":\\\"Tyne and Wear\\\",\\\"Postcode\\\":\\\"NE15 8NY\\\",\\\"Phone\\\":\\\"01912 106400\\\",\\\"Email\\\":\\\"england.contactus@nhs.net\\\",\\\"Website\\\":\\\"http://www.england.nhs.uk/north/north/cntw-at/\\\"}},{\\\"type\\\":\\\"Feature\\\",\\\"id\\\":\\\"463126\\\",\\\"geometry\\\":{\\\"type\\\":\\\"Point\\\",\\\"coordinates\\\":[-1.0497655868530273,53.989986419677734]},\\\"properties\\\":{\\\"OrganisationCode\\\":\\\"Q50\\\",\\\"OrganisationType\\\":\\\"Area Team\\\",\\\"SubType\\\":\\\"UNKNOWN\\\",\\\"OrganisationStatus\\\":\\\"Visible\\\",\\\"IsPimsManaged\\\":\\\"True\\\",\\\"OrganisationName\\\":\\\"North Yorkshire And Humber Area Team\\\",\\\"Address1\\\":\\\"Unit 3\\\",\\\"Address2\\\":\\\"Alpha Court\\\",\\\"Address3\\\":\\\"Monks Cross\\\",\\\"City\\\":\\\"York\\\",\\\"County\\\":\\\"North Yorkshire\\\",\\\"Postcode\\\":\\\"YO32 9WN\\\",\\\"Phone\\\":\\\"0113 825 1845\\\",\\\"Email\\\":\\\"england.contactus@nhs.net\\\",\\\"Website\\\":\\\"http://www.england.nhs.uk/north/north/nyh-at/\\\"}},{\\\"type\\\":\\\"Feature\\\",\\\"id\\\":\\\"463127\\\",\\\"geometry\\\":{\\\"type\\\":\\\"Point\\\",\\\"coordinates\\\":[-1.2550956010818481,53.42157745361328]},\\\"properties\\\":{\\\"OrganisationCode\\\":\\\"Q51\\\",\\\"OrganisationType\\\":\\\"Area Team\\\",\\\"SubType\\\":\\\"UNKNOWN\\\",\\\"OrganisationStatus\\\":\\\"Visible\\\",\\\"IsPimsManaged\\\":\\\"True\\\",\\\"OrganisationName\\\":\\\"South Yorkshire And Bassetlaw Area Team\\\",\\\"Address1\\\":\\\"Oak House\\\",\\\"Address2\\\":\\\"Moorhead Way\\\",\\\"Address3\\\":\\\"Bramley\\\",\\\"City\\\":\\\"Rotherham\\\",\\\"County\\\":\\\"South Yorkshire\\\",\\\"Postcode\\\":\\\"S66 1YY\\\",\\\"Phone\\\":\\\"01709 302000\\\",\\\"Email\\\":\\\"england.syb-businessoffice@nhs.net\\\",\\\"Website\\\":\\\"http://www.england.nhs.uk/north/north/syb-at/\\\"}},{\\\"type\\\":\\\"Feature\\\",\\\"id\\\":\\\"463128\\\",\\\"geometry\\\":{\\\"type\\\":\\\"Point\\\",\\\"coordinates\\\":[-1.544582486152649,53.78975296020508]},\\\"properties\\\":{\\\"OrganisationCode\\\":\\\"Q52\\\",\\\"OrganisationType\\\":\\\"Area Team\\\",\\\"SubType\\\":\\\"UNKNOWN\\\",\\\"OrganisationStatus\\\":\\\"Visible\\\",\\\"IsPimsManaged\\\":\\\"True\\\",\\\"OrganisationName\\\":\\\"West Yorkshire Area Team\\\",\\\"Address1\\\":\\\"3 Leeds City Office Park\\\",\\\"Address2\\\":\\\"Meadow Lane\\\",\\\"City\\\":\\\"Leeds\\\",\\\"County\\\":\\\"West Yorkshire\\\",\\\"Postcode\\\":\\\"LS11 5BD\\\",\\\"Phone\\\":\\\"0113 8252700\\\",\\\"Email\\\":\\\"reception.westyorkshireareateam@nhs.net\\\",\\\"Website\\\":\\\"http://www.england.nhs.uk/north/north/wy-at/\\\"}},{\\\"type\\\":\\\"Feature\\\",\\\"id\\\":\\\"463129\\\",\\\"geometry\\\":{\\\"type\\\":\\\"Point\\\",\\\"coordinates\\\":[-2.1813161373138428,52.18680953979492]},\\\"properties\\\":{\\\"OrganisationCode\\\":\\\"Q53\\\",\\\"OrganisationType\\\":\\\"Area Team\\\",\\\"SubType\\\":\\\"UNKNOWN\\\",\\\"OrganisationStatus\\\":\\\"Visible\\\",\\\"IsPimsManaged\\\":\\\"True\\\",\\\"OrganisationName\\\":\\\"Arden, Herefordshire And Worcestershire Area Team\\\",\\\"Address2\\\":\\\"Wildwood\\\",\\\"Address3\\\":\\\"Wildwood Drive\\\",\\\"City\\\":\\\"Worcester\\\",\\\"County\\\":\\\"Worcestershire\\\",\\\"Postcode\\\":\\\"WR5 2LG\\\",\\\"Phone\\\":\\\"0113 825 3099\\\",\\\"Email\\\":\\\"england.contactus@nhs.net\\\",\\\"Website\\\":\\\"http://www.england.nhs.uk/mids-east/mids-east-3/ahw-at/\\\"}},{\\\"type\\\":\\\"Feature\\\",\\\"id\\\":\\\"463130\\\",\\\"geometry\\\":{\\\"type\\\":\\\"Point\\\",\\\"coordinates\\\":[-1.9351675510406494,52.471920013427734]},\\\"properties\\\":{\\\"OrganisationCode\\\":\\\"Q54\\\",\\\"OrganisationType\\\":\\\"Area Team\\\",\\\"SubType\\\":\\\"UNKNOWN\\\",\\\"OrganisationStatus\\\":\\\"Visible\\\",\\\"IsPimsManaged\\\":\\\"True\\\",\\\"OrganisationName\\\":\\\"Birmingham And The Black Country Area Team\\\",\\\"Address1\\\":\\\"St Chads Court\\\",\\\"Address2\\\":\\\"213 Hagley Road\\\",\\\"Address3\\\":\\\"Edgbaston\\\",\\\"City\\\":\\\"Birmingham\\\",\\\"County\\\":\\\"West Midlands\\\",\\\"Postcode\\\":\\\"B16 9RG\\\",\\\"Phone\\\":\\\"0121 695 2222\\\",\\\"Email\\\":\\\"england.contactus@nhs.net\\\",\\\"Website\\\":\\\"http://www.england.nhs.uk/mids-east/mids-east-3/bsbc-at/\\\"}},{\\\"type\\\":\\\"Feature\\\",\\\"id\\\":\\\"463131\\\",\\\"geometry\\\":{\\\"type\\\":\\\"Point\\\",\\\"coordinates\\\":[-1.1435775756835938,53.12958526611328]},\\\"properties\\\":{\\\"OrganisationCode\\\":\\\"Q55\\\",\\\"OrganisationType\\\":\\\"Area Team\\\",\\\"SubType\\\":\\\"UNKNOWN\\\",\\\"OrganisationStatus\\\":\\\"Visible\\\",\\\"IsPimsManaged\\\":\\\"True\\\",\\\"OrganisationName\\\":\\\"Derbyshire And Nottinghamshire Area Team\\\",\\\"Address1\\\":\\\"Birch House\\\",\\\"Address2\\\":\\\"Ransom Wood Business Park\\\",\\\"Address3\\\":\\\"Southwell Road West, Rainworth\\\",\\\"City\\\":\\\"Nottingham\\\",\\\"County\\\":\\\"Nottinghamshire\\\",\\\"Postcode\\\":\\\"NG21 0HJ\\\",\\\"Phone\\\":\\\"0300 300 1234\\\",\\\"Email\\\":\\\"england.contactus@nhs.net\\\",\\\"Website\\\":\\\"http://www.england.nhs.uk/mids-east/mids-east-3/dn-at/\\\"}},{\\\"type\\\":\\\"Feature\\\",\\\"id\\\":\\\"463132\\\",\\\"geometry\\\":{\\\"type\\\":\\\"Point\\\",\\\"coordinates\\\":[0.19126050174236298,52.18547821044922]},\\\"properties\\\":{\\\"OrganisationCode\\\":\\\"Q56\\\",\\\"OrganisationType\\\":\\\"Area Team\\\",\\\"SubType\\\":\\\"UNKNOWN\\\",\\\"OrganisationStatus\\\":\\\"Visible\\\",\\\"IsPimsManaged\\\":\\\"True\\\",\\\"OrganisationName\\\":\\\"East Anglia Area Team\\\",\\\"Address1\\\":\\\"CPC1\\\",\\\"Address2\\\":\\\"Capital Business Park\\\",\\\"Address3\\\":\\\"Fulbourn\\\",\\\"City\\\":\\\"Cambridge\\\",\\\"County\\\":\\\"Cambridgeshire\\\",\\\"Postcode\\\":\\\"CB21 5XE\\\",\\\"Phone\\\":\\\"01223 708700\\\",\\\"Email\\\":\\\"england.contactus@nhs.net\\\",\\\"Website\\\":\\\"http://www.england.nhs.uk/mids-east/mids-east-3/ea-at/\\\"}},{\\\"type\\\":\\\"Feature\\\",\\\"id\\\":\\\"463133\\\",\\\"geometry\\\":{\\\"type\\\":\\\"Point\\\",\\\"coordinates\\\":[0.5076583027839661,51.74932098388672]},\\\"properties\\\":{\\\"OrganisationCode\\\":\\\"Q57\\\",\\\"OrganisationType\\\":\\\"Area Team\\\",\\\"SubType\\\":\\\"UNKNOWN\\\",\\\"OrganisationStatus\\\":\\\"Visible\\\",\\\"IsPimsManaged\\\":\\\"True\\\",\\\"OrganisationName\\\":\\\"Essex Area Team\\\",\\\"Address1\\\":\\\"Swift House\\\",\\\"Address2\\\":\\\"Hedgerows Business Park\\\",\\\"Address3\\\":\\\"Colchester Road, Springfield\\\",\\\"City\\\":\\\"Chelmsford\\\",\\\"County\\\":\\\"Essex\\\",\\\"Postcode\\\":\\\"CM2 5PF\\\",\\\"Phone\\\":\\\"01245 398770\\\",\\\"Email\\\":\\\"england.contactus@nhs.net\\\",\\\"Website\\\":\\\"http://www.england.nhs.uk/mids-east/mids-east-3/essex-at/\\\"}},{\\\"type\\\":\\\"Feature\\\",\\\"id\\\":\\\"463134\\\",\\\"geometry\\\":{\\\"type\\\":\\\"Point\\\",\\\"coordinates\\\":[-0.20884820818901062,51.8019905090332]},\\\"properties\\\":{\\\"OrganisationCode\\\":\\\"Q58\\\",\\\"OrganisationType\\\":\\\"Area Team\\\",\\\"SubType\\\":\\\"UNKNOWN\\\",\\\"OrganisationStatus\\\":\\\"Visible\\\",\\\"IsPimsManaged\\\":\\\"True\\\",\\\"OrganisationName\\\":\\\"Hertfordshire And The South Midlands Area Team\\\",\\\"Address1\\\":\\\"Charter House\\\",\\\"Address2\\\":\\\"Parkway\\\",\\\"City\\\":\\\"Welwyn Garden City\\\",\\\"County\\\":\\\"Hertfordshire\\\",\\\"Postcode\\\":\\\"AL8 6JL\\\",\\\"Phone\\\":\\\"01707 390855\\\",\\\"Email\\\":\\\"england.contactus@nhs.net\\\",\\\"Website\\\":\\\"http://www.england.nhs.uk/mids-east/mids-east-3/hsm-at/\\\"}},{\\\"type\\\":\\\"Feature\\\",\\\"id\\\":\\\"463135\\\",\\\"geometry\\\":{\\\"type\\\":\\\"Point\\\",\\\"coordinates\\\":[-1.189500093460083,52.593223571777344]},\\\"properties\\\":{\\\"OrganisationCode\\\":\\\"Q59\\\",\\\"OrganisationType\\\":\\\"Area Team\\\",\\\"SubType\\\":\\\"UNKNOWN\\\",\\\"OrganisationStatus\\\":\\\"Visible\\\",\\\"IsPimsManaged\\\":\\\"True\\\",\\\"OrganisationName\\\":\\\"Leicestershire And Lincolnshire Area Team\\\",\\\"Address1\\\":\\\"Fosse House\\\",\\\"Address2\\\":\\\"6 Smith Way\\\",\\\"Address3\\\":\\\"Grove Park, Enderby\\\",\\\"City\\\":\\\"Leicester\\\",\\\"County\\\":\\\"Leicestershire\\\",\\\"Postcode\\\":\\\"LE19 1SX\\\",\\\"Phone\\\":\\\"0116 295 7500\\\",\\\"Email\\\":\\\"england.leicsandlincsareateam@nhs.net\\\",\\\"Website\\\":\\\"http://www.england.nhs.uk/mids-east/mids-east-3/ll-at/\\\"}},{\\\"type\\\":\\\"Feature\\\",\\\"id\\\":\\\"463136\\\",\\\"geometry\\\":{\\\"type\\\":\\\"Point\\\",\\\"coordinates\\\":[-1.9140186309814453,52.7487907409668]},\\\"properties\\\":{\\\"OrganisationCode\\\":\\\"Q60\\\",\\\"OrganisationType\\\":\\\"Area Team\\\",\\\"SubType\\\":\\\"UNKNOWN\\\",\\\"OrganisationStatus\\\":\\\"Visible\\\",\\\"IsPimsManaged\\\":\\\"True\\\",\\\"OrganisationName\\\":\\\"Shropshire And Staffordshire Area Team\\\",\\\"Address1\\\":\\\"Anglesey House,\\\",\\\"Address2\\\":\\\"Wheelhouse Road,\\\",\\\"Address3\\\":\\\"Towers Plaza,\\\",\\\"City\\\":\\\"Rugeley,\\\",\\\"County\\\":\\\"Staffordshire\\\",\\\"Postcode\\\":\\\"WS15 1UL\\\",\\\"Phone\\\":\\\"0300 7900233\\\",\\\"Email\\\":\\\"england.contactus@nhs.net\\\",\\\"Website\\\":\\\"http://www.england.nhs.uk/mids-east/mids-east-3/ss-at/\\\"}}]}\\n\"},\"id\":\"c7efc513-8308-448f-b28f-87146aefec68\",\"type\":\"GeoJSONDataSource\"},{\"attributes\":{\"dimension\":1,\"plot\":{\"id\":\"c19b74dd-5691-47aa-994a-0c2e3fe90b5f\",\"subtype\":\"Figure\",\"type\":\"Plot\"},\"ticker\":{\"id\":\"65e0d316-1151-43e9-9130-8559e2de080f\",\"type\":\"BasicTicker\"}},\"id\":\"cab90d6b-3bbc-463e-acd2-4987dbc776e6\",\"type\":\"Grid\"},{\"attributes\":{\"dimension\":1,\"plot\":{\"id\":\"6387af47-2b00-47bb-adbf-143d68bbb3d6\",\"subtype\":\"Figure\",\"type\":\"Plot\"},\"ticker\":{\"id\":\"6e354d8c-e3e7-475d-b970-660c8daa3320\",\"type\":\"BasicTicker\"}},\"id\":\"31423a64-7654-4f74-855c-aa38edf35480\",\"type\":\"Grid\"},{\"attributes\":{},\"id\":\"d3b859dc-8df5-4977-a522-ee20d3a6b3dc\",\"type\":\"BasicTicker\"},{\"attributes\":{},\"id\":\"11abd882-cd4d-4bcc-b589-42dce1ae8c30\",\"type\":\"BasicTicker\"},{\"attributes\":{},\"id\":\"984b4136-3853-4c62-8a49-fdfea045074d\",\"type\":\"ToolEvents\"},{\"attributes\":{},\"id\":\"65e0d316-1151-43e9-9130-8559e2de080f\",\"type\":\"BasicTicker\"},{\"attributes\":{},\"id\":\"69c1a18d-17ff-46f8-9155-c08e942a1637\",\"type\":\"BasicTickFormatter\"},{\"attributes\":{\"formatter\":{\"id\":\"69c1a18d-17ff-46f8-9155-c08e942a1637\",\"type\":\"BasicTickFormatter\"},\"plot\":{\"id\":\"b91e28d2-6175-4751-80a0-0ebd9b8cfcf4\",\"subtype\":\"Figure\",\"type\":\"Plot\"},\"ticker\":{\"id\":\"0d9812f2-ad6f-41cd-975c-0b737d7d0df8\",\"type\":\"BasicTicker\"}},\"id\":\"5e3a6167-d4db-4328-8aad-c3689cab37b5\",\"type\":\"LinearAxis\"},{\"attributes\":{\"callback\":null},\"id\":\"615a4325-fe0b-4acb-a557-a4ceeafd825c\",\"type\":\"DataRange1d\"},{\"attributes\":{},\"id\":\"10f5d90d-a479-4d5b-9204-5b1cfa387eb9\",\"type\":\"BasicTickFormatter\"},{\"attributes\":{},\"id\":\"ef9d1eb2-b8fa-4f24-96fd-fff0672f2ddf\",\"type\":\"BasicTicker\"},{\"attributes\":{\"formatter\":{\"id\":\"f7e7b109-79aa-4d54-9d31-b30606dd4eb5\",\"type\":\"BasicTickFormatter\"},\"plot\":{\"id\":\"ccbd00f6-b12b-43f4-aa7c-cbb732740ee8\",\"subtype\":\"Figure\",\"type\":\"Plot\"},\"ticker\":{\"id\":\"b07f50f8-d0af-4fb1-bf5e-c2c704cb4393\",\"type\":\"BasicTicker\"},\"visible\":false},\"id\":\"bb53a9f2-aa44-48bf-8ee5-8f6aac5997c6\",\"type\":\"LinearAxis\"},{\"attributes\":{\"plot\":{\"id\":\"ccbd00f6-b12b-43f4-aa7c-cbb732740ee8\",\"subtype\":\"Figure\",\"type\":\"Plot\"},\"ticker\":{\"id\":\"b07f50f8-d0af-4fb1-bf5e-c2c704cb4393\",\"type\":\"BasicTicker\"}},\"id\":\"76baf807-21db-4519-9469-319416767833\",\"type\":\"Grid\"},{\"attributes\":{\"data_source\":{\"id\":\"1bc889b6-e081-40a6-b3d4-758dd4d056b7\",\"type\":\"GeoJSONDataSource\"},\"glyph\":{\"id\":\"f1cffbcb-4b5a-41c9-a2aa-41b220c5029a\",\"type\":\"Circle\"},\"hover_glyph\":null,\"nonselection_glyph\":{\"id\":\"ab4025fd-f0a6-41ce-97e8-b9e8b1425d4d\",\"type\":\"Circle\"},\"selection_glyph\":null},\"id\":\"b6d6c261-dd7e-4016-a60d-b9ebefe68cdb\",\"type\":\"GlyphRenderer\"},{\"attributes\":{},\"id\":\"a5bfd424-7ddf-4b0e-8c3c-9499d8fd683b\",\"type\":\"BasicTicker\"},{\"attributes\":{},\"id\":\"9ce00b8d-dfc7-497f-b92b-f43559875e8c\",\"type\":\"BasicTicker\"},{\"attributes\":{\"callback\":null,\"end\":20000000,\"start\":-20000000},\"id\":\"61c474c0-b3ce-4fc3-8c32-19da3faefb56\",\"type\":\"Range1d\"},{\"attributes\":{\"plot\":{\"id\":\"54a50281-ad51-4e43-b122-3a7c1148ae25\",\"subtype\":\"Figure\",\"type\":\"Plot\"},\"ticker\":{\"id\":\"d3b859dc-8df5-4977-a522-ee20d3a6b3dc\",\"type\":\"BasicTicker\"}},\"id\":\"e9ec6765-2bf6-4335-9849-621a815430c5\",\"type\":\"Grid\"},{\"attributes\":{},\"id\":\"f7e7b109-79aa-4d54-9d31-b30606dd4eb5\",\"type\":\"BasicTickFormatter\"},{\"attributes\":{},\"id\":\"b07f50f8-d0af-4fb1-bf5e-c2c704cb4393\",\"type\":\"BasicTicker\"},{\"attributes\":{\"callback\":null,\"end\":20000000,\"start\":-20000000},\"id\":\"d5442b31-6e65-4769-af1a-b3298056fd4b\",\"type\":\"Range1d\"},{\"attributes\":{\"formatter\":{\"id\":\"5a8476c8-8fbe-429d-b7da-aa99e9894ceb\",\"type\":\"BasicTickFormatter\"},\"plot\":{\"id\":\"a85921f3-1112-4aa9-988a-d0b5fb7c5124\",\"subtype\":\"Figure\",\"type\":\"Plot\"},\"ticker\":{\"id\":\"11abd882-cd4d-4bcc-b589-42dce1ae8c30\",\"type\":\"BasicTicker\"},\"visible\":false},\"id\":\"90243804-acab-4add-9a78-2cdbfe4fd97b\",\"type\":\"LinearAxis\"},{\"attributes\":{},\"id\":\"eebb6a26-ece2-499a-a3b2-5c4206bb00d4\",\"type\":\"BasicTicker\"},{\"attributes\":{\"plot\":{\"id\":\"ccbd00f6-b12b-43f4-aa7c-cbb732740ee8\",\"subtype\":\"Figure\",\"type\":\"Plot\"}},\"id\":\"3dd2cc53-fd61-4f2f-bb4d-6acf4d9e30c2\",\"type\":\"WheelZoomTool\"},{\"attributes\":{\"plot\":{\"id\":\"6852a52f-082d-485f-a84d-a5a32f22ac82\",\"subtype\":\"Figure\",\"type\":\"Plot\"}},\"id\":\"41ee7286-3374-40c1-89cf-3e9d540d87de\",\"type\":\"WheelZoomTool\"},{\"attributes\":{},\"id\":\"bdbe60be-f76d-4f40-b266-7da2234b698a\",\"type\":\"BasicTickFormatter\"},{\"attributes\":{},\"id\":\"aa1436ce-31fc-45a8-a76a-1143aba629fd\",\"type\":\"BasicTickFormatter\"},{\"attributes\":{\"tile_source\":{\"id\":\"7bce71c0-6e01-453f-bfd0-da6a622a5eda\",\"type\":\"WMTSTileSource\"}},\"id\":\"a26e5ed3-a963-4cd5-b04a-6cc68ed1a1c1\",\"type\":\"TileRenderer\"},{\"attributes\":{\"fill_alpha\":{\"value\":0.9},\"fill_color\":{\"value\":\"#1f77b4\"},\"line_alpha\":{\"value\":0.9},\"line_color\":{\"value\":\"#1f77b4\"},\"x\":{\"field\":\"x\"},\"y\":{\"field\":\"y\"}},\"id\":\"d4d13893-56f8-4949-9258-da1b07b1766c\",\"type\":\"Circle\"},{\"attributes\":{\"below\":[{\"id\":\"2b9beb4c-d2cb-48d0-9cd6-48a9286aca76\",\"type\":\"LinearAxis\"}],\"left\":[{\"id\":\"c5cd3928-8987-441a-a95a-ddaf66a8740b\",\"type\":\"LinearAxis\"}],\"renderers\":[{\"id\":\"2b9beb4c-d2cb-48d0-9cd6-48a9286aca76\",\"type\":\"LinearAxis\"},{\"id\":\"ea6fed8e-b727-46d7-ba93-9b134d348166\",\"type\":\"Grid\"},{\"id\":\"c5cd3928-8987-441a-a95a-ddaf66a8740b\",\"type\":\"LinearAxis\"},{\"id\":\"2ad1b0e8-c7b9-417e-8a5f-ec0f382fe2a1\",\"type\":\"Grid\"},{\"id\":\"a26e5ed3-a963-4cd5-b04a-6cc68ed1a1c1\",\"type\":\"TileRenderer\"}],\"tool_events\":{\"id\":\"b88971c1-e958-483e-905a-917bb6e89c0d\",\"type\":\"ToolEvents\"},\"tools\":[{\"id\":\"80b61f70-f865-4980-a649-d23b153c3ae2\",\"type\":\"PanTool\"},{\"id\":\"a8b2de1b-9228-4c6d-b11e-c71e3cafa8b4\",\"type\":\"WheelZoomTool\"}],\"x_range\":{\"id\":\"35ebf674-8d57-46d5-9b57-c364ec5987bb\",\"type\":\"Range1d\"},\"y_range\":{\"id\":\"c2f23432-84ef-4cd1-a8d0-0136fe904336\",\"type\":\"Range1d\"}},\"id\":\"767f6a78-3465-4d3e-935e-22bfecb27a47\",\"subtype\":\"Figure\",\"type\":\"Plot\"},{\"attributes\":{\"callback\":null,\"end\":20000,\"start\":-20000},\"id\":\"6380d0ed-0b2e-4d86-8615-079a40c8d940\",\"type\":\"Range1d\"},{\"attributes\":{\"below\":[{\"id\":\"85eeea97-943d-485f-87c6-7ba8be400092\",\"type\":\"LinearAxis\"}],\"left\":[{\"id\":\"eb6fbc3e-49ac-4518-83be-deb60d377829\",\"type\":\"LinearAxis\"}],\"renderers\":[{\"id\":\"85eeea97-943d-485f-87c6-7ba8be400092\",\"type\":\"LinearAxis\"},{\"id\":\"f0a8bb79-3504-4021-86d9-8d14d7b4c7e0\",\"type\":\"Grid\"},{\"id\":\"eb6fbc3e-49ac-4518-83be-deb60d377829\",\"type\":\"LinearAxis\"},{\"id\":\"e9610b6d-9b86-47d4-8215-346f0c2b74cc\",\"type\":\"Grid\"},{\"id\":\"e7853895-8ec7-4e7a-a26b-fead3ee5fbb8\",\"type\":\"TileRenderer\"}],\"tool_events\":{\"id\":\"750839cc-a7ef-4507-b396-ad7d859d743a\",\"type\":\"ToolEvents\"},\"tools\":[{\"id\":\"51e2dbd8-8567-4352-ab6d-4b90ec5b21cd\",\"type\":\"PanTool\"},{\"id\":\"73051486-13bc-46f2-8083-3913cd6a7f85\",\"type\":\"WheelZoomTool\"}],\"x_range\":{\"id\":\"66e90788-c8ea-4576-a135-55dd9f75a74f\",\"type\":\"Range1d\"},\"y_range\":{\"id\":\"36381c70-5b52-4b07-9da0-9ea0e1182c9a\",\"type\":\"Range1d\"}},\"id\":\"bbd8bef8-a19c-4259-8905-e4a2ce2145cb\",\"subtype\":\"Figure\",\"type\":\"Plot\"},{\"attributes\":{\"plot\":{\"id\":\"767f6a78-3465-4d3e-935e-22bfecb27a47\",\"subtype\":\"Figure\",\"type\":\"Plot\"},\"ticker\":{\"id\":\"25d1bd3e-70d7-42cb-86a1-043eed6dc12b\",\"type\":\"BasicTicker\"}},\"id\":\"ea6fed8e-b727-46d7-ba93-9b134d348166\",\"type\":\"Grid\"},{\"attributes\":{\"below\":[{\"id\":\"04f98015-26df-48af-aba5-df4d1ada44e5\",\"type\":\"LinearAxis\"}],\"left\":[{\"id\":\"8d518093-4216-4fc5-96fe-f5c6fc802eff\",\"type\":\"LinearAxis\"}],\"renderers\":[{\"id\":\"04f98015-26df-48af-aba5-df4d1ada44e5\",\"type\":\"LinearAxis\"},{\"id\":\"861d4c28-43de-4f17-b37a-aec74279ebd0\",\"type\":\"Grid\"},{\"id\":\"8d518093-4216-4fc5-96fe-f5c6fc802eff\",\"type\":\"LinearAxis\"},{\"id\":\"31423a64-7654-4f74-855c-aa38edf35480\",\"type\":\"Grid\"},{\"id\":\"bc72186e-6830-4175-816d-4f80f886ec2c\",\"type\":\"GlyphRenderer\"},{\"id\":\"d9532d00-5f0e-4824-a8bf-8536ce42f09c\",\"type\":\"TileRenderer\"}],\"tool_events\":{\"id\":\"6174b413-bdb9-426e-99d7-315d0919d27b\",\"type\":\"ToolEvents\"},\"tools\":[{\"id\":\"6e918a9c-c2ad-4a97-b2a9-49a754005d00\",\"type\":\"PanTool\"},{\"id\":\"430103e7-db61-4dc1-81af-70c708afa9f9\",\"type\":\"WheelZoomTool\"}],\"x_range\":{\"id\":\"615a4325-fe0b-4acb-a557-a4ceeafd825c\",\"type\":\"DataRange1d\"},\"y_range\":{\"id\":\"705762b7-dee4-4b35-a570-34aa0cdc361a\",\"type\":\"DataRange1d\"}},\"id\":\"6387af47-2b00-47bb-adbf-143d68bbb3d6\",\"subtype\":\"Figure\",\"type\":\"Plot\"},{\"attributes\":{},\"id\":\"5a8476c8-8fbe-429d-b7da-aa99e9894ceb\",\"type\":\"BasicTickFormatter\"},{\"attributes\":{\"plot\":{\"id\":\"0bcd04e7-a4b0-4371-8f0f-664b4bc195d0\",\"subtype\":\"Figure\",\"type\":\"Plot\"}},\"id\":\"f786dcbe-e0c0-43a5-b2d2-a254e5982c88\",\"type\":\"WheelZoomTool\"},{\"attributes\":{\"plot\":{\"id\":\"bbd8bef8-a19c-4259-8905-e4a2ce2145cb\",\"subtype\":\"Figure\",\"type\":\"Plot\"}},\"id\":\"73051486-13bc-46f2-8083-3913cd6a7f85\",\"type\":\"WheelZoomTool\"},{\"attributes\":{},\"id\":\"341a8884-16eb-4d92-82e9-0b1e85c5ae6a\",\"type\":\"ToolEvents\"},{\"attributes\":{\"callback\":null,\"geojson\":\"{\\\"type\\\":\\\"FeatureCollection\\\",\\\"features\\\":[{\\\"type\\\":\\\"Feature\\\",\\\"id\\\":\\\"463098\\\",\\\"geometry\\\":{\\\"type\\\":\\\"Point\\\",\\\"coordinates\\\":[-2.1208465099334717,51.4613151550293]},\\\"properties\\\":{\\\"OrganisationCode\\\":\\\"Q64\\\",\\\"OrganisationType\\\":\\\"Area Team\\\",\\\"SubType\\\":\\\"UNKNOWN\\\",\\\"OrganisationStatus\\\":\\\"Visible\\\",\\\"IsPimsManaged\\\":\\\"True\\\",\\\"OrganisationName\\\":\\\"Bath, Gloucestershire, Swindon And Wiltshire Area Team\\\",\\\"Address1\\\":\\\"1st Floor\\\",\\\"Address2\\\":\\\"Bewley House\\\",\\\"Address3\\\":\\\"Marshfield Road\\\",\\\"City\\\":\\\"Chippenham\\\",\\\"County\\\":\\\"Wiltshire\\\",\\\"Postcode\\\":\\\"SN15 1JW\\\",\\\"Phone\\\":\\\"0113 8251 500\\\",\\\"Email\\\":\\\"england.contactus@nhs.net\\\",\\\"Website\\\":\\\"http://www.england.nhs.uk/south/south/bgsw-at/\\\"}},{\\\"type\\\":\\\"Feature\\\",\\\"id\\\":\\\"463099\\\",\\\"geometry\\\":{\\\"type\\\":\\\"Point\\\",\\\"coordinates\\\":[-2.5929524898529053,51.459877014160156]},\\\"properties\\\":{\\\"OrganisationCode\\\":\\\"Q65\\\",\\\"OrganisationType\\\":\\\"Area Team\\\",\\\"SubType\\\":\\\"UNKNOWN\\\",\\\"OrganisationStatus\\\":\\\"Visible\\\",\\\"IsPimsManaged\\\":\\\"True\\\",\\\"OrganisationName\\\":\\\"Bristol, North Somerset, Somerset And South Gloucestershire Area Team\\\",\\\"Address1\\\":\\\"South Plaza\\\",\\\"Address3\\\":\\\"Marlborough Street\\\",\\\"City\\\":\\\"Bristol\\\",\\\"County\\\":\\\"Somerset\\\",\\\"Postcode\\\":\\\"BS1 3NX\\\",\\\"Phone\\\":\\\"0117 976 6600\\\",\\\"Email\\\":\\\"england.contactus@nhs.net\\\",\\\"Website\\\":\\\"http://www.england.nhs.uk/south/south/bnsssg-at/\\\"}},{\\\"type\\\":\\\"Feature\\\",\\\"id\\\":\\\"463100\\\",\\\"geometry\\\":{\\\"type\\\":\\\"Point\\\",\\\"coordinates\\\":[-4.232546806335449,50.42112731933594]},\\\"properties\\\":{\\\"OrganisationCode\\\":\\\"Q66\\\",\\\"OrganisationType\\\":\\\"Area Team\\\",\\\"SubType\\\":\\\"UNKNOWN\\\",\\\"OrganisationStatus\\\":\\\"Visible\\\",\\\"IsPimsManaged\\\":\\\"True\\\",\\\"OrganisationName\\\":\\\"Devon, Cornwall And Isles Of Scilly Area Team\\\",\\\"Address1\\\":\\\"Peninsula House\\\",\\\"Address2\\\":\\\"Kingsmill Road\\\",\\\"Address3\\\":\\\"Tamar View Industrial Estate\\\",\\\"City\\\":\\\"Cornwall\\\",\\\"County\\\":\\\"Cornwall\\\",\\\"Postcode\\\":\\\"PL12 6LE\\\",\\\"Phone\\\":\\\"01752 679250\\\",\\\"Email\\\":\\\"england.contactus@nhs.net\\\",\\\"Website\\\":\\\"http://www.england.nhs.uk/south/south/dcis-at/\\\"}},{\\\"type\\\":\\\"Feature\\\",\\\"id\\\":\\\"463101\\\",\\\"geometry\\\":{\\\"type\\\":\\\"Point\\\",\\\"coordinates\\\":[0.27698493003845215,51.193748474121094]},\\\"properties\\\":{\\\"OrganisationCode\\\":\\\"Q67\\\",\\\"OrganisationType\\\":\\\"Area Team\\\",\\\"SubType\\\":\\\"UNKNOWN\\\",\\\"OrganisationStatus\\\":\\\"Visible\\\",\\\"IsPimsManaged\\\":\\\"True\\\",\\\"OrganisationName\\\":\\\"Kent And Medway Area Team\\\",\\\"Address1\\\":\\\"Wharf House\\\",\\\"Address2\\\":\\\"Medway Wharf Road\\\",\\\"City\\\":\\\"Tonbridge\\\",\\\"County\\\":\\\"Kent\\\",\\\"Postcode\\\":\\\"TN9 1RE\\\",\\\"Phone\\\":\\\"01732 375200\\\",\\\"Email\\\":\\\"england.kentandmedwaybusinessoffice@nhs.net\\\",\\\"Website\\\":\\\"http://www.england.nhs.uk/south/south/km-at/\\\"}},{\\\"type\\\":\\\"Feature\\\",\\\"id\\\":\\\"463102\\\",\\\"geometry\\\":{\\\"type\\\":\\\"Point\\\",\\\"coordinates\\\":[-0.1647440642118454,51.170936584472656]},\\\"properties\\\":{\\\"OrganisationCode\\\":\\\"Q68\\\",\\\"OrganisationType\\\":\\\"Area Team\\\",\\\"SubType\\\":\\\"UNKNOWN\\\",\\\"OrganisationStatus\\\":\\\"Visible\\\",\\\"IsPimsManaged\\\":\\\"True\\\",\\\"OrganisationName\\\":\\\"Surrey And Sussex Area Team\\\",\\\"Address1\\\":\\\"York House\\\",\\\"Address2\\\":\\\"18-20 Massetts Road\\\",\\\"City\\\":\\\"Horley\\\",\\\"County\\\":\\\"Surrey\\\",\\\"Postcode\\\":\\\"RH6 7DE\\\",\\\"Phone\\\":\\\"01293 778899\\\",\\\"Email\\\":\\\"england.surreyandsussex-businessoffice@nhs.net\\\",\\\"Website\\\":\\\"http://www.england.nhs.uk/south/south/ss-at/\\\"}},{\\\"type\\\":\\\"Feature\\\",\\\"id\\\":\\\"463103\\\",\\\"geometry\\\":{\\\"type\\\":\\\"Point\\\",\\\"coordinates\\\":[-1.2079498767852783,51.72844696044922]},\\\"properties\\\":{\\\"OrganisationCode\\\":\\\"Q69\\\",\\\"OrganisationType\\\":\\\"Area Team\\\",\\\"SubType\\\":\\\"UNKNOWN\\\",\\\"OrganisationStatus\\\":\\\"Visible\\\",\\\"IsPimsManaged\\\":\\\"True\\\",\\\"OrganisationName\\\":\\\"Thames Valley Area Team\\\",\\\"Address1\\\":\\\"Jubilee House\\\",\\\"Address2\\\":\\\"5510 John Smith Drive\\\",\\\"Address3\\\":\\\"Oxford Business Park South\\\",\\\"City\\\":\\\"Cowley\\\",\\\"County\\\":\\\"Oxfordshire\\\",\\\"Postcode\\\":\\\"OX4 2LH\\\",\\\"Phone\\\":\\\"01865 963800\\\",\\\"Email\\\":\\\"england.contactus@nhs.net\\\",\\\"Website\\\":\\\"http://www.england.nhs.uk/south/south/tv-at/\\\"}},{\\\"type\\\":\\\"Feature\\\",\\\"id\\\":\\\"463104\\\",\\\"geometry\\\":{\\\"type\\\":\\\"Point\\\",\\\"coordinates\\\":[-1.4493359327316284,50.92325973510742]},\\\"properties\\\":{\\\"OrganisationCode\\\":\\\"Q70\\\",\\\"OrganisationType\\\":\\\"Area Team\\\",\\\"SubType\\\":\\\"UNKNOWN\\\",\\\"OrganisationStatus\\\":\\\"Visible\\\",\\\"IsPimsManaged\\\":\\\"True\\\",\\\"OrganisationName\\\":\\\"Wessex Area Team\\\",\\\"Address2\\\":\\\"Oakley Road\\\",\\\"City\\\":\\\"Southampton\\\",\\\"County\\\":\\\"Hampshire\\\",\\\"Postcode\\\":\\\"SO16 4GX\\\",\\\"Phone\\\":\\\"023 8029 6914\\\",\\\"Email\\\":\\\"england.wessexpatientexperience@nhs.net\\\",\\\"Website\\\":\\\"http://www.england.nhs.uk/south/south/w-at/\\\"}},{\\\"type\\\":\\\"Feature\\\",\\\"id\\\":\\\"463105\\\",\\\"geometry\\\":{\\\"type\\\":\\\"Point\\\",\\\"coordinates\\\":[-0.13727261126041412,51.49694061279297]},\\\"properties\\\":{\\\"OrganisationCode\\\":\\\"Q71\\\",\\\"OrganisationType\\\":\\\"Area Team\\\",\\\"SubType\\\":\\\"UNKNOWN\\\",\\\"OrganisationStatus\\\":\\\"Visible\\\",\\\"IsPimsManaged\\\":\\\"True\\\",\\\"OrganisationName\\\":\\\"London Area Team\\\",\\\"Address2\\\":\\\"2nd Floor, Southside\\\",\\\"Address3\\\":\\\"105 Victoria Street\\\",\\\"City\\\":\\\"London\\\",\\\"Postcode\\\":\\\"SW1E 6QT\\\",\\\"Phone\\\":\\\"0207 932 3700\\\",\\\"Email\\\":\\\"england.contactus@nhs.net\\\",\\\"Website\\\":\\\"http://www.england.nhs.uk/london/\\\"}},{\\\"type\\\":\\\"Feature\\\",\\\"id\\\":\\\"463120\\\",\\\"geometry\\\":{\\\"type\\\":\\\"Point\\\",\\\"coordinates\\\":[-2.5846381187438965,53.37392807006836]},\\\"properties\\\":{\\\"OrganisationCode\\\":\\\"Q44\\\",\\\"OrganisationType\\\":\\\"Area Team\\\",\\\"SubType\\\":\\\"UNKNOWN\\\",\\\"OrganisationStatus\\\":\\\"Visible\\\",\\\"IsPimsManaged\\\":\\\"True\\\",\\\"OrganisationName\\\":\\\"Cheshire, Warrington And Wirral Area Team\\\",\\\"Address1\\\":\\\"NHS Quayside (NHS North West)\\\",\\\"Address2\\\":\\\"Wilderspool Park\\\",\\\"Address3\\\":\\\"Greensall Avenue\\\",\\\"City\\\":\\\"Warrington\\\",\\\"County\\\":\\\"Cheshire\\\",\\\"Postcode\\\":\\\"WA4 6HL\\\",\\\"Phone\\\":\\\"01925 406000\\\",\\\"Email\\\":\\\"england.contactus@nhs.net\\\",\\\"Website\\\":\\\"http://www.england.nhs.uk/north/north/cww-at/\\\"}},{\\\"type\\\":\\\"Feature\\\",\\\"id\\\":\\\"463121\\\",\\\"geometry\\\":{\\\"type\\\":\\\"Point\\\",\\\"coordinates\\\":[-1.5323498249053955,53.79779815673828]},\\\"properties\\\":{\\\"OrganisationCode\\\":\\\"Q45\\\",\\\"OrganisationType\\\":\\\"Area Team\\\",\\\"SubType\\\":\\\"UNKNOWN\\\",\\\"OrganisationStatus\\\":\\\"Visible\\\",\\\"IsPimsManaged\\\":\\\"True\\\",\\\"OrganisationName\\\":\\\"Durham, Darlington And Tees Area Team\\\",\\\"Address1\\\":\\\"The Old Exchange\\\",\\\"Address2\\\":\\\"Barnard Street\\\",\\\"City\\\":\\\"Darlington\\\",\\\"County\\\":\\\"Durham\\\",\\\"Postcode\\\":\\\"LS2 7UE\\\",\\\"Phone\\\":\\\"0113 825 1609\\\",\\\"Email\\\":\\\"england.ddt-at-generalenquiries@nhs.net\\\",\\\"Website\\\":\\\"http://www.england.nhs.uk/north/north/ddt-at/\\\"}},{\\\"type\\\":\\\"Feature\\\",\\\"id\\\":\\\"463122\\\",\\\"geometry\\\":{\\\"type\\\":\\\"Point\\\",\\\"coordinates\\\":[-2.233488082885742,53.47760009765625]},\\\"properties\\\":{\\\"OrganisationCode\\\":\\\"Q46\\\",\\\"OrganisationType\\\":\\\"Area Team\\\",\\\"SubType\\\":\\\"UNKNOWN\\\",\\\"OrganisationStatus\\\":\\\"Visible\\\",\\\"IsPimsManaged\\\":\\\"True\\\",\\\"OrganisationName\\\":\\\"Greater Manchester Area Team\\\",\\\"Address1\\\":\\\"4th Floor\\\",\\\"Address2\\\":\\\"3 Picadilly Place\\\",\\\"Address3\\\":\\\"London Road\\\",\\\"City\\\":\\\"Manchester\\\",\\\"County\\\":\\\"Lancashire\\\",\\\"Postcode\\\":\\\"M1 3BN\\\",\\\"Phone\\\":\\\"0845 0500194\\\",\\\"Email\\\":\\\"nhse.gmat@nhs.net\\\",\\\"Website\\\":\\\"http://www.england.nhs.uk/north/north/gm-at/\\\"}},{\\\"type\\\":\\\"Feature\\\",\\\"id\\\":\\\"463123\\\",\\\"geometry\\\":{\\\"type\\\":\\\"Point\\\",\\\"coordinates\\\":[-2.705566644668579,53.77775573730469]},\\\"properties\\\":{\\\"OrganisationCode\\\":\\\"Q47\\\",\\\"OrganisationType\\\":\\\"Area Team\\\",\\\"SubType\\\":\\\"UNKNOWN\\\",\\\"OrganisationStatus\\\":\\\"Visible\\\",\\\"IsPimsManaged\\\":\\\"True\\\",\\\"OrganisationName\\\":\\\"Lancashire Area Team\\\",\\\"Address1\\\":\\\"Second Floor, Preston Business Centre\\\",\\\"Address2\\\":\\\"Watling Street Road\\\",\\\"Address3\\\":\\\"Fulwood\\\",\\\"City\\\":\\\"Preston\\\",\\\"County\\\":\\\"Lancashire\\\",\\\"Postcode\\\":\\\"PR2 8DY\\\",\\\"Phone\\\":\\\"01772 420150\\\",\\\"Email\\\":\\\"england.contactus@nhs.net\\\",\\\"Website\\\":\\\"http://www.england.nhs.uk/north/north/lanc-at/\\\"}},{\\\"type\\\":\\\"Feature\\\",\\\"id\\\":\\\"463124\\\",\\\"geometry\\\":{\\\"type\\\":\\\"Point\\\",\\\"coordinates\\\":[-2.9802029132843018,53.38481903076172]},\\\"properties\\\":{\\\"OrganisationCode\\\":\\\"Q48\\\",\\\"OrganisationType\\\":\\\"Area Team\\\",\\\"SubType\\\":\\\"UNKNOWN\\\",\\\"OrganisationStatus\\\":\\\"Visible\\\",\\\"IsPimsManaged\\\":\\\"True\\\",\\\"OrganisationName\\\":\\\"Merseyside Area Team\\\",\\\"Address1\\\":\\\"Regatta Place\\\",\\\"Address2\\\":\\\"Summers Road\\\",\\\"Address3\\\":\\\"Brunswick Business Park\\\",\\\"City\\\":\\\"Liverpool\\\",\\\"County\\\":\\\"Merseyside\\\",\\\"Postcode\\\":\\\"L3 4BL\\\",\\\"Phone\\\":\\\"0151 285 4777\\\",\\\"Email\\\":\\\"england.contactus@nhs.net\\\",\\\"Website\\\":\\\"http://www.england.nhs.uk/north/north/mers-at/\\\"}},{\\\"type\\\":\\\"Feature\\\",\\\"id\\\":\\\"463125\\\",\\\"geometry\\\":{\\\"type\\\":\\\"Point\\\",\\\"coordinates\\\":[-1.7141016721725464,54.96938705444336]},\\\"properties\\\":{\\\"OrganisationCode\\\":\\\"Q49\\\",\\\"OrganisationType\\\":\\\"Area Team\\\",\\\"SubType\\\":\\\"UNKNOWN\\\",\\\"OrganisationStatus\\\":\\\"Visible\\\",\\\"IsPimsManaged\\\":\\\"True\\\",\\\"OrganisationName\\\":\\\"Cumbria, Northumberland, Tyne And Wear Area Team\\\",\\\"Address1\\\":\\\"Waterfront\\\",\\\"Address2\\\":\\\"4 Goldcrest Way\\\",\\\"Address3\\\":\\\"Newburn\\\",\\\"City\\\":\\\"Newcastle Upon Tyne\\\",\\\"County\\\":\\\"Tyne and Wear\\\",\\\"Postcode\\\":\\\"NE15 8NY\\\",\\\"Phone\\\":\\\"01912 106400\\\",\\\"Email\\\":\\\"england.contactus@nhs.net\\\",\\\"Website\\\":\\\"http://www.england.nhs.uk/north/north/cntw-at/\\\"}},{\\\"type\\\":\\\"Feature\\\",\\\"id\\\":\\\"463126\\\",\\\"geometry\\\":{\\\"type\\\":\\\"Point\\\",\\\"coordinates\\\":[-1.0497655868530273,53.989986419677734]},\\\"properties\\\":{\\\"OrganisationCode\\\":\\\"Q50\\\",\\\"OrganisationType\\\":\\\"Area Team\\\",\\\"SubType\\\":\\\"UNKNOWN\\\",\\\"OrganisationStatus\\\":\\\"Visible\\\",\\\"IsPimsManaged\\\":\\\"True\\\",\\\"OrganisationName\\\":\\\"North Yorkshire And Humber Area Team\\\",\\\"Address1\\\":\\\"Unit 3\\\",\\\"Address2\\\":\\\"Alpha Court\\\",\\\"Address3\\\":\\\"Monks Cross\\\",\\\"City\\\":\\\"York\\\",\\\"County\\\":\\\"North Yorkshire\\\",\\\"Postcode\\\":\\\"YO32 9WN\\\",\\\"Phone\\\":\\\"0113 825 1845\\\",\\\"Email\\\":\\\"england.contactus@nhs.net\\\",\\\"Website\\\":\\\"http://www.england.nhs.uk/north/north/nyh-at/\\\"}},{\\\"type\\\":\\\"Feature\\\",\\\"id\\\":\\\"463127\\\",\\\"geometry\\\":{\\\"type\\\":\\\"Point\\\",\\\"coordinates\\\":[-1.2550956010818481,53.42157745361328]},\\\"properties\\\":{\\\"OrganisationCode\\\":\\\"Q51\\\",\\\"OrganisationType\\\":\\\"Area Team\\\",\\\"SubType\\\":\\\"UNKNOWN\\\",\\\"OrganisationStatus\\\":\\\"Visible\\\",\\\"IsPimsManaged\\\":\\\"True\\\",\\\"OrganisationName\\\":\\\"South Yorkshire And Bassetlaw Area Team\\\",\\\"Address1\\\":\\\"Oak House\\\",\\\"Address2\\\":\\\"Moorhead Way\\\",\\\"Address3\\\":\\\"Bramley\\\",\\\"City\\\":\\\"Rotherham\\\",\\\"County\\\":\\\"South Yorkshire\\\",\\\"Postcode\\\":\\\"S66 1YY\\\",\\\"Phone\\\":\\\"01709 302000\\\",\\\"Email\\\":\\\"england.syb-businessoffice@nhs.net\\\",\\\"Website\\\":\\\"http://www.england.nhs.uk/north/north/syb-at/\\\"}},{\\\"type\\\":\\\"Feature\\\",\\\"id\\\":\\\"463128\\\",\\\"geometry\\\":{\\\"type\\\":\\\"Point\\\",\\\"coordinates\\\":[-1.544582486152649,53.78975296020508]},\\\"properties\\\":{\\\"OrganisationCode\\\":\\\"Q52\\\",\\\"OrganisationType\\\":\\\"Area Team\\\",\\\"SubType\\\":\\\"UNKNOWN\\\",\\\"OrganisationStatus\\\":\\\"Visible\\\",\\\"IsPimsManaged\\\":\\\"True\\\",\\\"OrganisationName\\\":\\\"West Yorkshire Area Team\\\",\\\"Address1\\\":\\\"3 Leeds City Office Park\\\",\\\"Address2\\\":\\\"Meadow Lane\\\",\\\"City\\\":\\\"Leeds\\\",\\\"County\\\":\\\"West Yorkshire\\\",\\\"Postcode\\\":\\\"LS11 5BD\\\",\\\"Phone\\\":\\\"0113 8252700\\\",\\\"Email\\\":\\\"reception.westyorkshireareateam@nhs.net\\\",\\\"Website\\\":\\\"http://www.england.nhs.uk/north/north/wy-at/\\\"}},{\\\"type\\\":\\\"Feature\\\",\\\"id\\\":\\\"463129\\\",\\\"geometry\\\":{\\\"type\\\":\\\"Point\\\",\\\"coordinates\\\":[-2.1813161373138428,52.18680953979492]},\\\"properties\\\":{\\\"OrganisationCode\\\":\\\"Q53\\\",\\\"OrganisationType\\\":\\\"Area Team\\\",\\\"SubType\\\":\\\"UNKNOWN\\\",\\\"OrganisationStatus\\\":\\\"Visible\\\",\\\"IsPimsManaged\\\":\\\"True\\\",\\\"OrganisationName\\\":\\\"Arden, Herefordshire And Worcestershire Area Team\\\",\\\"Address2\\\":\\\"Wildwood\\\",\\\"Address3\\\":\\\"Wildwood Drive\\\",\\\"City\\\":\\\"Worcester\\\",\\\"County\\\":\\\"Worcestershire\\\",\\\"Postcode\\\":\\\"WR5 2LG\\\",\\\"Phone\\\":\\\"0113 825 3099\\\",\\\"Email\\\":\\\"england.contactus@nhs.net\\\",\\\"Website\\\":\\\"http://www.england.nhs.uk/mids-east/mids-east-3/ahw-at/\\\"}},{\\\"type\\\":\\\"Feature\\\",\\\"id\\\":\\\"463130\\\",\\\"geometry\\\":{\\\"type\\\":\\\"Point\\\",\\\"coordinates\\\":[-1.9351675510406494,52.471920013427734]},\\\"properties\\\":{\\\"OrganisationCode\\\":\\\"Q54\\\",\\\"OrganisationType\\\":\\\"Area Team\\\",\\\"SubType\\\":\\\"UNKNOWN\\\",\\\"OrganisationStatus\\\":\\\"Visible\\\",\\\"IsPimsManaged\\\":\\\"True\\\",\\\"OrganisationName\\\":\\\"Birmingham And The Black Country Area Team\\\",\\\"Address1\\\":\\\"St Chads Court\\\",\\\"Address2\\\":\\\"213 Hagley Road\\\",\\\"Address3\\\":\\\"Edgbaston\\\",\\\"City\\\":\\\"Birmingham\\\",\\\"County\\\":\\\"West Midlands\\\",\\\"Postcode\\\":\\\"B16 9RG\\\",\\\"Phone\\\":\\\"0121 695 2222\\\",\\\"Email\\\":\\\"england.contactus@nhs.net\\\",\\\"Website\\\":\\\"http://www.england.nhs.uk/mids-east/mids-east-3/bsbc-at/\\\"}},{\\\"type\\\":\\\"Feature\\\",\\\"id\\\":\\\"463131\\\",\\\"geometry\\\":{\\\"type\\\":\\\"Point\\\",\\\"coordinates\\\":[-1.1435775756835938,53.12958526611328]},\\\"properties\\\":{\\\"OrganisationCode\\\":\\\"Q55\\\",\\\"OrganisationType\\\":\\\"Area Team\\\",\\\"SubType\\\":\\\"UNKNOWN\\\",\\\"OrganisationStatus\\\":\\\"Visible\\\",\\\"IsPimsManaged\\\":\\\"True\\\",\\\"OrganisationName\\\":\\\"Derbyshire And Nottinghamshire Area Team\\\",\\\"Address1\\\":\\\"Birch House\\\",\\\"Address2\\\":\\\"Ransom Wood Business Park\\\",\\\"Address3\\\":\\\"Southwell Road West, Rainworth\\\",\\\"City\\\":\\\"Nottingham\\\",\\\"County\\\":\\\"Nottinghamshire\\\",\\\"Postcode\\\":\\\"NG21 0HJ\\\",\\\"Phone\\\":\\\"0300 300 1234\\\",\\\"Email\\\":\\\"england.contactus@nhs.net\\\",\\\"Website\\\":\\\"http://www.england.nhs.uk/mids-east/mids-east-3/dn-at/\\\"}},{\\\"type\\\":\\\"Feature\\\",\\\"id\\\":\\\"463132\\\",\\\"geometry\\\":{\\\"type\\\":\\\"Point\\\",\\\"coordinates\\\":[0.19126050174236298,52.18547821044922]},\\\"properties\\\":{\\\"OrganisationCode\\\":\\\"Q56\\\",\\\"OrganisationType\\\":\\\"Area Team\\\",\\\"SubType\\\":\\\"UNKNOWN\\\",\\\"OrganisationStatus\\\":\\\"Visible\\\",\\\"IsPimsManaged\\\":\\\"True\\\",\\\"OrganisationName\\\":\\\"East Anglia Area Team\\\",\\\"Address1\\\":\\\"CPC1\\\",\\\"Address2\\\":\\\"Capital Business Park\\\",\\\"Address3\\\":\\\"Fulbourn\\\",\\\"City\\\":\\\"Cambridge\\\",\\\"County\\\":\\\"Cambridgeshire\\\",\\\"Postcode\\\":\\\"CB21 5XE\\\",\\\"Phone\\\":\\\"01223 708700\\\",\\\"Email\\\":\\\"england.contactus@nhs.net\\\",\\\"Website\\\":\\\"http://www.england.nhs.uk/mids-east/mids-east-3/ea-at/\\\"}},{\\\"type\\\":\\\"Feature\\\",\\\"id\\\":\\\"463133\\\",\\\"geometry\\\":{\\\"type\\\":\\\"Point\\\",\\\"coordinates\\\":[0.5076583027839661,51.74932098388672]},\\\"properties\\\":{\\\"OrganisationCode\\\":\\\"Q57\\\",\\\"OrganisationType\\\":\\\"Area Team\\\",\\\"SubType\\\":\\\"UNKNOWN\\\",\\\"OrganisationStatus\\\":\\\"Visible\\\",\\\"IsPimsManaged\\\":\\\"True\\\",\\\"OrganisationName\\\":\\\"Essex Area Team\\\",\\\"Address1\\\":\\\"Swift House\\\",\\\"Address2\\\":\\\"Hedgerows Business Park\\\",\\\"Address3\\\":\\\"Colchester Road, Springfield\\\",\\\"City\\\":\\\"Chelmsford\\\",\\\"County\\\":\\\"Essex\\\",\\\"Postcode\\\":\\\"CM2 5PF\\\",\\\"Phone\\\":\\\"01245 398770\\\",\\\"Email\\\":\\\"england.contactus@nhs.net\\\",\\\"Website\\\":\\\"http://www.england.nhs.uk/mids-east/mids-east-3/essex-at/\\\"}},{\\\"type\\\":\\\"Feature\\\",\\\"id\\\":\\\"463134\\\",\\\"geometry\\\":{\\\"type\\\":\\\"Point\\\",\\\"coordinates\\\":[-0.20884820818901062,51.8019905090332]},\\\"properties\\\":{\\\"OrganisationCode\\\":\\\"Q58\\\",\\\"OrganisationType\\\":\\\"Area Team\\\",\\\"SubType\\\":\\\"UNKNOWN\\\",\\\"OrganisationStatus\\\":\\\"Visible\\\",\\\"IsPimsManaged\\\":\\\"True\\\",\\\"OrganisationName\\\":\\\"Hertfordshire And The South Midlands Area Team\\\",\\\"Address1\\\":\\\"Charter House\\\",\\\"Address2\\\":\\\"Parkway\\\",\\\"City\\\":\\\"Welwyn Garden City\\\",\\\"County\\\":\\\"Hertfordshire\\\",\\\"Postcode\\\":\\\"AL8 6JL\\\",\\\"Phone\\\":\\\"01707 390855\\\",\\\"Email\\\":\\\"england.contactus@nhs.net\\\",\\\"Website\\\":\\\"http://www.england.nhs.uk/mids-east/mids-east-3/hsm-at/\\\"}},{\\\"type\\\":\\\"Feature\\\",\\\"id\\\":\\\"463135\\\",\\\"geometry\\\":{\\\"type\\\":\\\"Point\\\",\\\"coordinates\\\":[-1.189500093460083,52.593223571777344]},\\\"properties\\\":{\\\"OrganisationCode\\\":\\\"Q59\\\",\\\"OrganisationType\\\":\\\"Area Team\\\",\\\"SubType\\\":\\\"UNKNOWN\\\",\\\"OrganisationStatus\\\":\\\"Visible\\\",\\\"IsPimsManaged\\\":\\\"True\\\",\\\"OrganisationName\\\":\\\"Leicestershire And Lincolnshire Area Team\\\",\\\"Address1\\\":\\\"Fosse House\\\",\\\"Address2\\\":\\\"6 Smith Way\\\",\\\"Address3\\\":\\\"Grove Park, Enderby\\\",\\\"City\\\":\\\"Leicester\\\",\\\"County\\\":\\\"Leicestershire\\\",\\\"Postcode\\\":\\\"LE19 1SX\\\",\\\"Phone\\\":\\\"0116 295 7500\\\",\\\"Email\\\":\\\"england.leicsandlincsareateam@nhs.net\\\",\\\"Website\\\":\\\"http://www.england.nhs.uk/mids-east/mids-east-3/ll-at/\\\"}},{\\\"type\\\":\\\"Feature\\\",\\\"id\\\":\\\"463136\\\",\\\"geometry\\\":{\\\"type\\\":\\\"Point\\\",\\\"coordinates\\\":[-1.9140186309814453,52.7487907409668]},\\\"properties\\\":{\\\"OrganisationCode\\\":\\\"Q60\\\",\\\"OrganisationType\\\":\\\"Area Team\\\",\\\"SubType\\\":\\\"UNKNOWN\\\",\\\"OrganisationStatus\\\":\\\"Visible\\\",\\\"IsPimsManaged\\\":\\\"True\\\",\\\"OrganisationName\\\":\\\"Shropshire And Staffordshire Area Team\\\",\\\"Address1\\\":\\\"Anglesey House,\\\",\\\"Address2\\\":\\\"Wheelhouse Road,\\\",\\\"Address3\\\":\\\"Towers Plaza,\\\",\\\"City\\\":\\\"Rugeley,\\\",\\\"County\\\":\\\"Staffordshire\\\",\\\"Postcode\\\":\\\"WS15 1UL\\\",\\\"Phone\\\":\\\"0300 7900233\\\",\\\"Email\\\":\\\"england.contactus@nhs.net\\\",\\\"Website\\\":\\\"http://www.england.nhs.uk/mids-east/mids-east-3/ss-at/\\\"}}]}\\n\"},\"id\":\"1475d422-d18c-48af-b469-6091d6e3b361\",\"type\":\"GeoJSONDataSource\"},{\"attributes\":{},\"id\":\"4ad47531-4b6b-4c86-a774-fa4c3633dda7\",\"type\":\"BasicTickFormatter\"},{\"attributes\":{\"callback\":null},\"id\":\"4e2cbc92-aa2d-46a7-9f60-b3dcf9b291db\",\"type\":\"DataRange1d\"},{\"attributes\":{\"formatter\":{\"id\":\"6127061d-2b16-475e-93a0-c9ccfee7d36a\",\"type\":\"BasicTickFormatter\"},\"plot\":{\"id\":\"767f6a78-3465-4d3e-935e-22bfecb27a47\",\"subtype\":\"Figure\",\"type\":\"Plot\"},\"ticker\":{\"id\":\"9ce00b8d-dfc7-497f-b92b-f43559875e8c\",\"type\":\"BasicTicker\"}},\"id\":\"c5cd3928-8987-441a-a95a-ddaf66a8740b\",\"type\":\"LinearAxis\"},{\"attributes\":{\"formatter\":{\"id\":\"10f5d90d-a479-4d5b-9204-5b1cfa387eb9\",\"type\":\"BasicTickFormatter\"},\"plot\":{\"id\":\"bbd8bef8-a19c-4259-8905-e4a2ce2145cb\",\"subtype\":\"Figure\",\"type\":\"Plot\"},\"ticker\":{\"id\":\"673894e4-905e-4304-92d3-4f62732e172c\",\"type\":\"BasicTicker\"},\"visible\":false},\"id\":\"85eeea97-943d-485f-87c6-7ba8be400092\",\"type\":\"LinearAxis\"},{\"attributes\":{},\"id\":\"0d9812f2-ad6f-41cd-975c-0b737d7d0df8\",\"type\":\"BasicTicker\"},{\"attributes\":{\"plot\":{\"id\":\"c19b74dd-5691-47aa-994a-0c2e3fe90b5f\",\"subtype\":\"Figure\",\"type\":\"Plot\"}},\"id\":\"c70b2c89-8429-48ab-bfc3-361a09d8e484\",\"type\":\"WheelZoomTool\"},{\"attributes\":{},\"id\":\"fdabd697-bc80-418c-81e6-ab39795b3bda\",\"type\":\"BasicTickFormatter\"},{\"attributes\":{\"formatter\":{\"id\":\"3264a3af-31a1-47a0-bff5-e2c4b0776dbc\",\"type\":\"BasicTickFormatter\"},\"plot\":{\"id\":\"c19b74dd-5691-47aa-994a-0c2e3fe90b5f\",\"subtype\":\"Figure\",\"type\":\"Plot\"},\"ticker\":{\"id\":\"82d83c21-4a9d-4a09-abc9-ea15d727d9d8\",\"type\":\"BasicTicker\"}},\"id\":\"6f39407e-8e44-44ec-9c99-513b48fc4848\",\"type\":\"LinearAxis\"},{\"attributes\":{\"plot\":{\"id\":\"b91e28d2-6175-4751-80a0-0ebd9b8cfcf4\",\"subtype\":\"Figure\",\"type\":\"Plot\"}},\"id\":\"e54c451c-7a8e-4d43-9bb2-33f590984ace\",\"type\":\"WheelZoomTool\"},{\"attributes\":{\"formatter\":{\"id\":\"cb55fb10-eee4-4fec-ac2f-a416c7fa017c\",\"type\":\"BasicTickFormatter\"},\"plot\":{\"id\":\"ccbd00f6-b12b-43f4-aa7c-cbb732740ee8\",\"subtype\":\"Figure\",\"type\":\"Plot\"},\"ticker\":{\"id\":\"eebb6a26-ece2-499a-a3b2-5c4206bb00d4\",\"type\":\"BasicTicker\"},\"visible\":false},\"id\":\"19514583-5023-4cea-b9d5-539af0961afb\",\"type\":\"LinearAxis\"},{\"attributes\":{\"below\":[{\"id\":\"5e3a6167-d4db-4328-8aad-c3689cab37b5\",\"type\":\"LinearAxis\"}],\"left\":[{\"id\":\"39771754-9213-4c21-af04-a8e06192d8cf\",\"type\":\"LinearAxis\"}],\"renderers\":[{\"id\":\"5e3a6167-d4db-4328-8aad-c3689cab37b5\",\"type\":\"LinearAxis\"},{\"id\":\"d71dbb95-bcd9-48a2-ab89-d258fdcdc931\",\"type\":\"Grid\"},{\"id\":\"39771754-9213-4c21-af04-a8e06192d8cf\",\"type\":\"LinearAxis\"},{\"id\":\"f803769c-7949-44c3-b50e-8a7cc9afc893\",\"type\":\"Grid\"},{\"id\":\"be8ae282-4623-4047-92e6-c8b5ae72db33\",\"type\":\"TileRenderer\"}],\"tool_events\":{\"id\":\"0ee05f6d-aa9c-4d9e-9042-d39606064fd7\",\"type\":\"ToolEvents\"},\"tools\":[{\"id\":\"1fa519df-0771-4023-9cab-7aa957fb2cfd\",\"type\":\"PanTool\"},{\"id\":\"e54c451c-7a8e-4d43-9bb2-33f590984ace\",\"type\":\"WheelZoomTool\"}],\"x_range\":{\"id\":\"b4523215-24c0-4206-82f7-667ee6ab4a24\",\"type\":\"DataRange1d\"},\"y_range\":{\"id\":\"4e2cbc92-aa2d-46a7-9f60-b3dcf9b291db\",\"type\":\"DataRange1d\"}},\"id\":\"b91e28d2-6175-4751-80a0-0ebd9b8cfcf4\",\"subtype\":\"Figure\",\"type\":\"Plot\"},{\"attributes\":{\"below\":[{\"id\":\"a2704263-edf5-4e20-b49a-0563dbdca3a6\",\"type\":\"LinearAxis\"}],\"left\":[{\"id\":\"90243804-acab-4add-9a78-2cdbfe4fd97b\",\"type\":\"LinearAxis\"}],\"renderers\":[{\"id\":\"a2704263-edf5-4e20-b49a-0563dbdca3a6\",\"type\":\"LinearAxis\"},{\"id\":\"7a6970b6-35a2-499e-953f-c5cf0c5b412a\",\"type\":\"Grid\"},{\"id\":\"90243804-acab-4add-9a78-2cdbfe4fd97b\",\"type\":\"LinearAxis\"},{\"id\":\"5b51f1c5-949f-4cec-b801-ac6cba408a77\",\"type\":\"Grid\"},{\"id\":\"41a62330-81bc-4fa9-886d-8a7da1a624d8\",\"type\":\"TileRenderer\"}],\"tool_events\":{\"id\":\"c6192ab5-e90c-4128-9ad2-75ff3987e3a4\",\"type\":\"ToolEvents\"},\"tools\":[{\"id\":\"01d18c4e-8904-40d7-8e05-ca4d7f8d0ebd\",\"type\":\"PanTool\"},{\"id\":\"925b0bd0-3c4e-4121-a6ba-5051e9e0a7ca\",\"type\":\"WheelZoomTool\"}],\"x_range\":{\"id\":\"f2039d3c-84a6-4d84-93a3-ee4f89b9f68f\",\"type\":\"Range1d\"},\"y_range\":{\"id\":\"37721f37-9cc2-4c7a-850d-3be072588bf0\",\"type\":\"Range1d\"}},\"id\":\"a85921f3-1112-4aa9-988a-d0b5fb7c5124\",\"subtype\":\"Figure\",\"type\":\"Plot\"},{\"attributes\":{\"dimension\":1,\"plot\":{\"id\":\"54a50281-ad51-4e43-b122-3a7c1148ae25\",\"subtype\":\"Figure\",\"type\":\"Plot\"},\"ticker\":{\"id\":\"22de600e-4df2-496a-b63a-a86d34ac68a6\",\"type\":\"BasicTicker\"}},\"id\":\"097da90f-ae44-45bd-9dbf-edc01cd55f86\",\"type\":\"Grid\"},{\"attributes\":{\"formatter\":{\"id\":\"1fb0996e-eea1-4168-8fbc-a1f54ec04009\",\"type\":\"BasicTickFormatter\"},\"plot\":{\"id\":\"e33a26de-2a70-4e33-901e-d989ecc47341\",\"subtype\":\"Figure\",\"type\":\"Plot\"},\"ticker\":{\"id\":\"dca64817-bbf9-45e6-bafa-0c463008d4c5\",\"type\":\"BasicTicker\"}},\"id\":\"829594e1-75fe-4139-b7b4-50390d283124\",\"type\":\"LinearAxis\"},{\"attributes\":{\"plot\":{\"id\":\"a85921f3-1112-4aa9-988a-d0b5fb7c5124\",\"subtype\":\"Figure\",\"type\":\"Plot\"}},\"id\":\"925b0bd0-3c4e-4121-a6ba-5051e9e0a7ca\",\"type\":\"WheelZoomTool\"},{\"attributes\":{\"below\":[{\"id\":\"222a7828-41f2-42b5-bd70-bedc31a67655\",\"type\":\"LinearAxis\"}],\"left\":[{\"id\":\"395474fb-c4f7-48fb-8ae5-9976f29c340e\",\"type\":\"LinearAxis\"}],\"renderers\":[{\"id\":\"222a7828-41f2-42b5-bd70-bedc31a67655\",\"type\":\"LinearAxis\"},{\"id\":\"89d9404e-9351-4c36-8631-7d875719b309\",\"type\":\"Grid\"},{\"id\":\"395474fb-c4f7-48fb-8ae5-9976f29c340e\",\"type\":\"LinearAxis\"},{\"id\":\"08d77bf1-bce3-41c2-a41e-cd6fe91d0a3b\",\"type\":\"Grid\"},{\"id\":\"6bd27a99-112d-4718-a249-faa101da1a01\",\"type\":\"TileRenderer\"}],\"tool_events\":{\"id\":\"305f4043-b886-4063-9166-01c201d08cdd\",\"type\":\"ToolEvents\"},\"tools\":[{\"id\":\"d87f43fb-081b-40be-9104-6b6651598b79\",\"type\":\"PanTool\"},{\"id\":\"f786dcbe-e0c0-43a5-b2d2-a254e5982c88\",\"type\":\"WheelZoomTool\"}],\"x_range\":{\"id\":\"485498d3-9d97-4e86-a671-f63bdee529dc\",\"type\":\"Range1d\"},\"y_range\":{\"id\":\"cb34c774-b461-4204-a401-93c8d27a3825\",\"type\":\"Range1d\"}},\"id\":\"0bcd04e7-a4b0-4371-8f0f-664b4bc195d0\",\"subtype\":\"Figure\",\"type\":\"Plot\"},{\"attributes\":{},\"id\":\"4d78350f-bd32-45ab-b5ec-9ca50ea42bde\",\"type\":\"BasicTickFormatter\"},{\"attributes\":{\"formatter\":{\"id\":\"579abdb3-711d-444b-9ac2-dd8ca312f7fe\",\"type\":\"BasicTickFormatter\"},\"plot\":{\"id\":\"bbd8bef8-a19c-4259-8905-e4a2ce2145cb\",\"subtype\":\"Figure\",\"type\":\"Plot\"},\"ticker\":{\"id\":\"ef9d1eb2-b8fa-4f24-96fd-fff0672f2ddf\",\"type\":\"BasicTicker\"},\"visible\":false},\"id\":\"eb6fbc3e-49ac-4518-83be-deb60d377829\",\"type\":\"LinearAxis\"},{\"attributes\":{\"dimension\":1,\"plot\":{\"id\":\"b91e28d2-6175-4751-80a0-0ebd9b8cfcf4\",\"subtype\":\"Figure\",\"type\":\"Plot\"},\"ticker\":{\"id\":\"6561e5a6-f631-4eb9-9596-b3eecc699164\",\"type\":\"BasicTicker\"}},\"id\":\"f803769c-7949-44c3-b50e-8a7cc9afc893\",\"type\":\"Grid\"},{\"attributes\":{\"fill_alpha\":{\"value\":0.9},\"fill_color\":{\"value\":\"#1f77b4\"},\"line_alpha\":{\"value\":0.9},\"line_color\":{\"value\":\"#1f77b4\"},\"x\":{\"field\":\"x\"},\"y\":{\"field\":\"y\"}},\"id\":\"b9d2aecc-442e-41b1-850b-73dee0f1b6b7\",\"type\":\"Circle\"},{\"attributes\":{\"tile_source\":{\"id\":\"7bce71c0-6e01-453f-bfd0-da6a622a5eda\",\"type\":\"WMTSTileSource\"}},\"id\":\"f74fc076-e819-4ca7-8133-67a191849a1a\",\"type\":\"TileRenderer\"}],\"root_ids\":[\"6852a52f-082d-485f-a84d-a5a32f22ac82\",\"bbd8bef8-a19c-4259-8905-e4a2ce2145cb\",\"ccbd00f6-b12b-43f4-aa7c-cbb732740ee8\",\"0bcd04e7-a4b0-4371-8f0f-664b4bc195d0\",\"a85921f3-1112-4aa9-988a-d0b5fb7c5124\",\"767f6a78-3465-4d3e-935e-22bfecb27a47\",\"b91e28d2-6175-4751-80a0-0ebd9b8cfcf4\",\"6387af47-2b00-47bb-adbf-143d68bbb3d6\",\"e33a26de-2a70-4e33-901e-d989ecc47341\",\"c19b74dd-5691-47aa-994a-0c2e3fe90b5f\",\"54a50281-ad51-4e43-b122-3a7c1148ae25\"]},\"title\":\"Bokeh Application\",\"version\":\"0.11.1\"}};\n",
       "            var render_items = [{\"docid\":\"7a7ff90b-c98b-432f-91ea-a540967a5dc3\",\"elementid\":\"d2eea96c-eae2-4389-ad33-6bb487602d15\",\"modelid\":\"54a50281-ad51-4e43-b122-3a7c1148ae25\",\"notebook_comms_target\":\"fcb26132-2d54-4289-8f64-2bff7db30a62\"}];\n",
       "            \n",
       "            Bokeh.embed.embed_items(docs_json, render_items);\n",
       "        });\n",
       "      },\n",
       "      function(Bokeh) {\n",
       "      }\n",
       "    ];\n",
       "  \n",
       "    function run_inline_js() {\n",
       "      for (var i = 0; i < inline_js.length; i++) {\n",
       "        inline_js[i](window.Bokeh);\n",
       "      }\n",
       "    }\n",
       "  \n",
       "    if (window._bokeh_is_loading === 0) {\n",
       "      console.log(\"Bokeh: BokehJS loaded, going straight to plotting\");\n",
       "      run_inline_js();\n",
       "    } else {\n",
       "      load_libs(js_urls, function() {\n",
       "        console.log(\"Bokeh: BokehJS plotting callback run at\", now());\n",
       "        run_inline_js();\n",
       "      });\n",
       "    }\n",
       "  }(this));\n",
       "</script>"
      ]
     },
     "metadata": {},
     "output_type": "display_data"
    },
    {
     "data": {
      "text/html": [
       "<p><code>&lt;Bokeh Notebook handle for <strong>In[76]</strong>&gt;</code></p>"
      ],
      "text/plain": [
       "<bokeh.io._CommsHandle at 0x7f009532b978>"
      ]
     },
     "execution_count": 76,
     "metadata": {},
     "output_type": "execute_result"
    }
   ],
   "source": [
    "bound = 20000 # meters\n",
    "geo_source = GeoJSONDataSource(geojson=geojson)\n",
    "fig = figure(tools='pan, wheel_zoom')\n",
    "fig.circle(x='x', y='y', alpha=0.9, source=geo_source)\n",
    "output_notebook()\n",
    "show(fig)"
   ]
  },
  {
   "cell_type": "code",
   "execution_count": null,
   "metadata": {
    "collapsed": true
   },
   "outputs": [],
   "source": []
  },
  {
   "cell_type": "code",
   "execution_count": null,
   "metadata": {
    "collapsed": true
   },
   "outputs": [],
   "source": []
  },
  {
   "cell_type": "code",
   "execution_count": null,
   "metadata": {
    "collapsed": true
   },
   "outputs": [],
   "source": []
  },
  {
   "cell_type": "code",
   "execution_count": null,
   "metadata": {
    "collapsed": true
   },
   "outputs": [],
   "source": []
  },
  {
   "cell_type": "code",
   "execution_count": null,
   "metadata": {
    "collapsed": true
   },
   "outputs": [],
   "source": []
  },
  {
   "cell_type": "code",
   "execution_count": null,
   "metadata": {
    "collapsed": true
   },
   "outputs": [],
   "source": []
  },
  {
   "cell_type": "code",
   "execution_count": null,
   "metadata": {
    "collapsed": true
   },
   "outputs": [],
   "source": []
  },
  {
   "cell_type": "code",
   "execution_count": null,
   "metadata": {
    "collapsed": true
   },
   "outputs": [],
   "source": []
  },
  {
   "cell_type": "code",
   "execution_count": 12,
   "metadata": {
    "collapsed": false
   },
   "outputs": [],
   "source": [
    "dates_str = df.fecha_dato.value_counts().index\n",
    "count_dates = df.fecha_dato.value_counts().values"
   ]
  },
  {
   "cell_type": "code",
   "execution_count": 13,
   "metadata": {
    "collapsed": false
   },
   "outputs": [
    {
     "data": {
      "text/plain": [
       "(array([ 0,  1,  2,  3,  4,  5,  6,  7,  8,  9, 10, 11, 12, 13, 14, 15, 16]),\n",
       " <a list of 17 Text xticklabel objects>)"
      ]
     },
     "execution_count": 13,
     "metadata": {},
     "output_type": "execute_result"
    },
    {
     "data": {
      "image/png": "[encoded data removed]",
      "text/plain": [
       "<matplotlib.figure.Figure at 0x7f5be62aacf8>"
      ]
     },
     "metadata": {},
     "output_type": "display_data"
    }
   ],
   "source": [
    "plt.figure(figsize=(10, 6))\n",
    "sns.barplot(dates_str, count_dates)\n",
    "plt.xticks(rotation='vertical')"
   ]
  },
  {
   "cell_type": "code",
   "execution_count": null,
   "metadata": {
    "collapsed": true
   },
   "outputs": [],
   "source": []
  },
  {
   "cell_type": "code",
   "execution_count": null,
   "metadata": {
    "collapsed": true
   },
   "outputs": [],
   "source": []
  },
  {
   "cell_type": "code",
   "execution_count": null,
   "metadata": {
    "collapsed": true
   },
   "outputs": [],
   "source": []
  },
  {
   "cell_type": "code",
   "execution_count": null,
   "metadata": {
    "collapsed": true
   },
   "outputs": [],
   "source": []
  },
  {
   "cell_type": "code",
   "execution_count": null,
   "metadata": {
    "collapsed": true
   },
   "outputs": [],
   "source": []
  },
  {
   "cell_type": "code",
   "execution_count": null,
   "metadata": {
    "collapsed": true
   },
   "outputs": [],
   "source": []
  },
  {
   "cell_type": "code",
   "execution_count": null,
   "metadata": {
    "collapsed": true
   },
   "outputs": [],
   "source": []
  }
 ],
 "metadata": {
  "celltoolbar": "Raw Cell Format",
  "kernelspec": {
   "display_name": "Python 3 + Anaconda",
   "language": "python",
   "name": "pyconda3"
  },
  "language_info": {
   "codemirror_mode": {
    "name": "ipython",
    "version": 3
   },
   "file_extension": ".py",
   "mimetype": "text/x-python",
   "name": "python",
   "nbconvert_exporter": "python",
   "pygments_lexer": "ipython3",
   "version": "3.5.1"
  }
 },
 "nbformat": 4,
 "nbformat_minor": 0
}
