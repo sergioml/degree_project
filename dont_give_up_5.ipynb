{
 "cells": [
  {
   "cell_type": "markdown",
   "metadata": {},
   "source": [
    "## Experimentos finales PARTE II"
   ]
  },
  {
   "cell_type": "code",
   "execution_count": 1,
   "metadata": {
    "collapsed": true
   },
   "outputs": [],
   "source": [
    "import numpy as np\n",
    "import pandas as pd\n",
    "import matplotlib.pyplot as plt\n",
    "\n",
    "%matplotlib inline"
   ]
  },
  {
   "cell_type": "code",
   "execution_count": 2,
   "metadata": {
    "collapsed": false
   },
   "outputs": [
    {
     "data": {
      "text/plain": [
       "<module 'scripts.local_environment' from '/home/sergioml/degree_project/scripts/local_environment.py'>"
      ]
     },
     "execution_count": 2,
     "metadata": {},
     "output_type": "execute_result"
    }
   ],
   "source": [
    "import scripts.local_environment as local\n",
    "import importlib\n",
    "\n",
    "importlib.reload(local)"
   ]
  },
  {
   "cell_type": "code",
   "execution_count": 3,
   "metadata": {
    "collapsed": true
   },
   "outputs": [],
   "source": [
    "from sklearn.ensemble import RandomForestClassifier\n",
    "from sklearn.tree import DecisionTreeClassifier"
   ]
  },
  {
   "cell_type": "code",
   "execution_count": 4,
   "metadata": {
    "collapsed": true
   },
   "outputs": [],
   "source": [
    "df = pd.read_csv('data/clean/train_clean.csv')\n",
    "df_targets = pd.read_csv('data/clean/train_labels.csv')\n",
    "\n",
    "df_test = pd.read_csv('data/clean/test_clean.csv')\n",
    "\n",
    "df_purchasers = pd.read_csv('data/clean/train_purchasers.csv', index_col='index')"
   ]
  },
  {
   "cell_type": "markdown",
   "metadata": {
    "collapsed": true
   },
   "source": [
    "### Experimento Mayo 2016 \n",
    "#### Experimento con *purchasers* y RandomForest"
   ]
  },
  {
   "cell_type": "code",
   "execution_count": 10,
   "metadata": {
    "collapsed": false
   },
   "outputs": [
    {
     "name": "stdout",
     "output_type": "stream",
     "text": [
      "results/submissions/2018-07-20-h16-52-11_submission.csv\n",
      "CPU times: user 2min 26s, sys: 4.21 s, total: 2min 30s\n",
      "Wall time: 1min 21s\n"
     ]
    }
   ],
   "source": [
    "%%time\n",
    "x_train = df_purchasers[df_purchasers['fecha_dato'] == '2016-05-28']\n",
    "y_train = df_targets.loc[x_train.index]\n",
    "\n",
    "x = x_train.drop(['fecha_dato', 'fecha_alta'], axis=1).as_matrix()\n",
    "y = y_train.as_matrix()\n",
    "\n",
    "model = local.model(x, y, RandomForestClassifier(n_jobs=4))\n",
    "\n",
    "x_test = df_test.drop(['fecha_dato', 'fecha_alta'], axis=1).as_matrix()\n",
    "probs, preds = local.calculatePredsProbs(x_test, model)\n",
    "\n",
    "subm = local.processPredictions(probs=probs, preds=preds, df_prev=x_train, df_test=df_test, df_targets=y_train, env='submit')"
   ]
  },
  {
   "cell_type": "code",
   "execution_count": 11,
   "metadata": {
    "collapsed": false
   },
   "outputs": [
    {
     "name": "stdout",
     "output_type": "stream",
     "text": [
      "2018-07-20-h16-52-11_submission.csv\n",
      "/home/sergioml/.local/lib/python2.7/site-packages/urllib3/contrib/socks.py:37: DependencyWarning: SOCKS support in urllib3 requires the installation of optional dependencies: specifically, PySocks.  For more information, see https://urllib3.readthedocs.io/en/latest/contrib.html#socks-proxies\n",
      "  DependencyWarning\n",
      "Warning: Looks like you're using an outdated API Version, please consider updating (server 1.4.2 / client 1.3.12)\n",
      "Successfully submitted to Santander Product Recommendation\n",
      "real\t0m46.450s\n",
      "user\t0m1.456s\n",
      "sys\t0m0.416s\n"
     ]
    }
   ],
   "source": [
    "!bash results/submissions/kaggle_submission \"RF, Mayo 2016, Compradores\""
   ]
  },
  {
   "cell_type": "markdown",
   "metadata": {},
   "source": [
    "#### Experimento con *purchasers* y DecisionTree"
   ]
  },
  {
   "cell_type": "code",
   "execution_count": 12,
   "metadata": {
    "collapsed": false
   },
   "outputs": [
    {
     "name": "stdout",
     "output_type": "stream",
     "text": [
      "results/submissions/2018-07-20-h16-53-26_submission.csv\n",
      "CPU times: user 25.5 s, sys: 800 ms, total: 26.3 s\n",
      "Wall time: 27.5 s\n"
     ]
    }
   ],
   "source": [
    "%%time\n",
    "x_train = df_purchasers[df_purchasers['fecha_dato'] == '2016-05-28']\n",
    "y_train = df_targets.loc[x_train.index]\n",
    "\n",
    "x = x_train.drop(['fecha_dato', 'fecha_alta'], axis=1).as_matrix()\n",
    "y = y_train.as_matrix()\n",
    "\n",
    "model = local.model(x, y, DecisionTreeClassifier())\n",
    "\n",
    "x_test = df_test.drop(['fecha_dato', 'fecha_alta'], axis=1).as_matrix()\n",
    "probs, preds = local.calculatePredsProbs(x_test, model)\n",
    "\n",
    "subm = local.processPredictions(probs=probs, preds=preds, df_prev=x_train, df_test=df_test, df_targets=y_train, env='submit')"
   ]
  },
  {
   "cell_type": "code",
   "execution_count": 13,
   "metadata": {
    "collapsed": false,
    "scrolled": true
   },
   "outputs": [
    {
     "name": "stdout",
     "output_type": "stream",
     "text": [
      "2018-07-20-h16-53-26_submission.csv\n",
      "/home/sergioml/.local/lib/python2.7/site-packages/urllib3/contrib/socks.py:37: DependencyWarning: SOCKS support in urllib3 requires the installation of optional dependencies: specifically, PySocks.  For more information, see https://urllib3.readthedocs.io/en/latest/contrib.html#socks-proxies\n",
      "  DependencyWarning\n",
      "Warning: Looks like you're using an outdated API Version, please consider updating (server 1.4.2 / client 1.3.12)\n",
      "Successfully submitted to Santander Product Recommendation\n",
      "real\t2m10.660s\n",
      "user\t0m1.624s\n",
      "sys\t0m0.392s\n"
     ]
    }
   ],
   "source": [
    "!bash results/submissions/kaggle_submission \"DT, Mayo 2016, Compradores\""
   ]
  },
  {
   "cell_type": "markdown",
   "metadata": {},
   "source": [
    "#### Experimento con dataset original y DecisionTree"
   ]
  },
  {
   "cell_type": "code",
   "execution_count": 14,
   "metadata": {
    "collapsed": false
   },
   "outputs": [
    {
     "name": "stdout",
     "output_type": "stream",
     "text": [
      "results/submissions/2018-07-20-h16-59-27_submission.csv\n",
      "CPU times: user 1min 42s, sys: 1.85 s, total: 1min 44s\n",
      "Wall time: 1min 45s\n"
     ]
    }
   ],
   "source": [
    "%%time\n",
    "x_train = df[df['fecha_dato'] == '2016-05-28']\n",
    "y_train = df_targets.loc[x_train.index]\n",
    "\n",
    "x = x_train.drop(['fecha_dato', 'fecha_alta'], axis=1).as_matrix()\n",
    "y = y_train.as_matrix()\n",
    "\n",
    "model = local.model(x, y, DecisionTreeClassifier())\n",
    "\n",
    "x_test = df_test.drop(['fecha_dato', 'fecha_alta'], axis=1).as_matrix()\n",
    "probs, preds = local.calculatePredsProbs(x_test, model)\n",
    "\n",
    "subm = local.processPredictions(probs=probs, preds=preds, df_prev=x_train, df_test=df_test, df_targets=y_train, env='submit')"
   ]
  },
  {
   "cell_type": "code",
   "execution_count": 15,
   "metadata": {
    "collapsed": false,
    "scrolled": true
   },
   "outputs": [
    {
     "name": "stdout",
     "output_type": "stream",
     "text": [
      "2018-07-20-h16-59-27_submission.csv\n",
      "/home/sergioml/.local/lib/python2.7/site-packages/urllib3/contrib/socks.py:37: DependencyWarning: SOCKS support in urllib3 requires the installation of optional dependencies: specifically, PySocks.  For more information, see https://urllib3.readthedocs.io/en/latest/contrib.html#socks-proxies\n",
      "  DependencyWarning\n",
      "Warning: Looks like you're using an outdated API Version, please consider updating (server 1.4.2 / client 1.3.12)\n",
      "Successfully submitted to Santander Product Recommendation\n",
      "real\t1m38.700s\n",
      "user\t0m1.492s\n",
      "sys\t0m0.420s\n"
     ]
    }
   ],
   "source": [
    "!bash results/submissions/kaggle_submission \"DT, Mayo 2016, Dataset Original\""
   ]
  },
  {
   "cell_type": "markdown",
   "metadata": {
    "collapsed": true
   },
   "source": [
    "### Experimento Junio 2015\n",
    "#### Experimento con *purchasers* y RandomForest"
   ]
  },
  {
   "cell_type": "code",
   "execution_count": 20,
   "metadata": {
    "collapsed": false
   },
   "outputs": [
    {
     "name": "stdout",
     "output_type": "stream",
     "text": [
      "results/submissions/2018-07-20-h17-11-50_submission.csv\n",
      "CPU times: user 2min 26s, sys: 4.17 s, total: 2min 31s\n",
      "Wall time: 1min 21s\n"
     ]
    }
   ],
   "source": [
    "%%time\n",
    "x_train = df_purchasers[df_purchasers['fecha_dato'] == '2015-06-28']\n",
    "y_train = df_targets.loc[x_train.index]\n",
    "\n",
    "x = x_train.drop(['fecha_dato', 'fecha_alta'], axis=1).as_matrix()\n",
    "y = y_train.as_matrix()\n",
    "\n",
    "model = local.model(x, y, RandomForestClassifier(n_jobs=4))\n",
    "\n",
    "x_test = df_test.drop(['fecha_dato', 'fecha_alta'], axis=1).as_matrix()\n",
    "probs, preds = local.calculatePredsProbs(x_test, model)\n",
    "\n",
    "x_prev = df_purchasers[df_purchasers['fecha_dato'] == '2016-05-28']\n",
    "subm = local.processPredictions(probs=probs, preds=preds, df_prev=x_prev, df_test=df_test, df_targets=y_train, env='submit')"
   ]
  },
  {
   "cell_type": "code",
   "execution_count": 23,
   "metadata": {
    "collapsed": false,
    "scrolled": true
   },
   "outputs": [
    {
     "name": "stdout",
     "output_type": "stream",
     "text": [
      "2018-07-20-h17-11-50_submission.csv\n",
      "/home/sergioml/.local/lib/python2.7/site-packages/urllib3/contrib/socks.py:37: DependencyWarning: SOCKS support in urllib3 requires the installation of optional dependencies: specifically, PySocks.  For more information, see https://urllib3.readthedocs.io/en/latest/contrib.html#socks-proxies\n",
      "  DependencyWarning\n",
      "Warning: Looks like you're using an outdated API Version, please consider updating (server 1.4.2 / client 1.3.12)\n",
      "Successfully submitted to Santander Product Recommendation\n",
      "real\t1m41.797s\n",
      "user\t0m1.572s\n",
      "sys\t0m0.380s\n"
     ]
    }
   ],
   "source": [
    "!bash results/submissions/kaggle_submission \"RF, Junio 2015, purchasers, CORREGIDO\""
   ]
  },
  {
   "cell_type": "markdown",
   "metadata": {
    "collapsed": true
   },
   "source": [
    "#### Experimento con purchasers y DecisionTree"
   ]
  },
  {
   "cell_type": "code",
   "execution_count": 24,
   "metadata": {
    "collapsed": false
   },
   "outputs": [
    {
     "name": "stdout",
     "output_type": "stream",
     "text": [
      "results/submissions/2018-07-20-h17-14-12_submission.csv\n",
      "CPU times: user 26 s, sys: 760 ms, total: 26.7 s\n",
      "Wall time: 27.9 s\n"
     ]
    }
   ],
   "source": [
    "%%time\n",
    "x_train = df_purchasers[df_purchasers['fecha_dato'] == '2015-06-28']\n",
    "y_train = df_targets.loc[x_train.index]\n",
    "\n",
    "x = x_train.drop(['fecha_dato', 'fecha_alta'], axis=1).as_matrix()\n",
    "y = y_train.as_matrix()\n",
    "\n",
    "model = local.model(x, y, DecisionTreeClassifier())\n",
    "\n",
    "x_test = df_test.drop(['fecha_dato', 'fecha_alta'], axis=1).as_matrix()\n",
    "probs, preds = local.calculatePredsProbs(x_test, model)\n",
    "\n",
    "x_prev = df_purchasers[df_purchasers['fecha_dato'] == '2016-05-28']\n",
    "subm = local.processPredictions(probs=probs, preds=preds, df_prev=x_prev, df_test=df_test, df_targets=y_train, env='submit')"
   ]
  },
  {
   "cell_type": "code",
   "execution_count": 25,
   "metadata": {
    "collapsed": false,
    "scrolled": true
   },
   "outputs": [
    {
     "name": "stdout",
     "output_type": "stream",
     "text": [
      "2018-07-20-h17-14-12_submission.csv\n",
      "/home/sergioml/.local/lib/python2.7/site-packages/urllib3/contrib/socks.py:37: DependencyWarning: SOCKS support in urllib3 requires the installation of optional dependencies: specifically, PySocks.  For more information, see https://urllib3.readthedocs.io/en/latest/contrib.html#socks-proxies\n",
      "  DependencyWarning\n",
      "Warning: Looks like you're using an outdated API Version, please consider updating (server 1.4.2 / client 1.3.12)\n",
      "Successfully submitted to Santander Product Recommendation\n",
      "real\t2m19.094s\n",
      "user\t0m1.616s\n",
      "sys\t0m0.440s\n"
     ]
    }
   ],
   "source": [
    "!bash results/submissions/kaggle_submission \"DT, Junio 2015, purcharsers\""
   ]
  },
  {
   "cell_type": "markdown",
   "metadata": {
    "collapsed": true
   },
   "source": [
    "#### Experimento con dataset original y DecisionTree"
   ]
  },
  {
   "cell_type": "code",
   "execution_count": 27,
   "metadata": {
    "collapsed": false
   },
   "outputs": [
    {
     "name": "stdout",
     "output_type": "stream",
     "text": [
      "results/submissions/2018-07-20-h17-20-02_submission.csv\n",
      "CPU times: user 1min 17s, sys: 1.76 s, total: 1min 18s\n",
      "Wall time: 1min 20s\n"
     ]
    }
   ],
   "source": [
    "%%time\n",
    "x_train = df[df['fecha_dato'] == '2015-06-28']\n",
    "y_train = df_targets.loc[x_train.index]\n",
    "\n",
    "x = x_train.drop(['fecha_dato', 'fecha_alta'], axis=1).as_matrix()\n",
    "y = y_train.as_matrix()\n",
    "\n",
    "model = local.model(x, y, DecisionTreeClassifier())\n",
    "\n",
    "x_test = df_test.drop(['fecha_dato', 'fecha_alta'], axis=1).as_matrix()\n",
    "probs, preds = local.calculatePredsProbs(x_test, model)\n",
    "\n",
    "x_prev = df[df['fecha_dato'] == '2016-05-28']\n",
    "subm = local.processPredictions(probs=probs, preds=preds, df_prev=x_prev, df_test=df_test, df_targets=y_train, env='submit')"
   ]
  },
  {
   "cell_type": "code",
   "execution_count": 28,
   "metadata": {
    "collapsed": false,
    "scrolled": true
   },
   "outputs": [
    {
     "name": "stdout",
     "output_type": "stream",
     "text": [
      "2018-07-20-h17-20-02_submission.csv\n",
      "/home/sergioml/.local/lib/python2.7/site-packages/urllib3/contrib/socks.py:37: DependencyWarning: SOCKS support in urllib3 requires the installation of optional dependencies: specifically, PySocks.  For more information, see https://urllib3.readthedocs.io/en/latest/contrib.html#socks-proxies\n",
      "  DependencyWarning\n",
      "Warning: Looks like you're using an outdated API Version, please consider updating (server 1.4.2 / client 1.3.12)\n",
      "Successfully submitted to Santander Product Recommendation\n",
      "real\t0m36.305s\n",
      "user\t0m1.452s\n",
      "sys\t0m0.372s\n"
     ]
    }
   ],
   "source": [
    "!bash results/submissions/kaggle_submission \"DT, Junio 2015, dataset original\""
   ]
  },
  {
   "cell_type": "markdown",
   "metadata": {
    "collapsed": true
   },
   "source": [
    "### Experimentos con pesos en los targets, purchasers\n",
    "#### Mayo 2016 de purchases y con pesos en los targets, RandomForest"
   ]
  },
  {
   "cell_type": "code",
   "execution_count": 92,
   "metadata": {
    "collapsed": false
   },
   "outputs": [
    {
     "data": {
      "text/plain": [
       "Index(['2015-12-28', '2016-01-28', '2016-02-28', '2016-03-28', '2016-04-28',\n",
       "       '2016-05-28'],\n",
       "      dtype='object', name='fecha_dato')"
      ]
     },
     "execution_count": 92,
     "metadata": {},
     "output_type": "execute_result"
    }
   ],
   "source": [
    "df_a.index[-6:]"
   ]
  },
  {
   "cell_type": "code",
   "execution_count": 88,
   "metadata": {
    "collapsed": false
   },
   "outputs": [],
   "source": [
    "df_a = df_purchasers.loc[:, ['fecha_dato']].join(df_targets.loc[df_purchasers.index])\n",
    "df_a = df_a.groupby(['fecha_dato']).sum()\n",
    "df_a.head()\n",
    "\n",
    "dates = df_a.index\n",
    "\n",
    "df_b = pd.DataFrame(columns=df_a.columns.tolist()[0:]) #dataframe products prev bought\n",
    "for i in range(1, len(dates)):\n",
    "    prev_prods = df_a.loc[df_a.index[i-1]].as_matrix()\n",
    "    act_prods = df_a.loc[df_a.index[i]].as_matrix()\n",
    "    bought_prods = act_prods - prev_prods\n",
    "    df_b.loc[i] = bought_prods\n",
    "\n",
    "df_a = df_a.reset_index().loc[:, ['fecha_dato']].join(df_b).iloc[1:]\n",
    "df_a = df_a.set_index('fecha_dato')"
   ]
  },
  {
   "cell_type": "markdown",
   "metadata": {},
   "source": [
    "##### Clases con pesos\n",
    "Con el dataframe que se hizo previamente se definen los pesos para cada uno de los productos de la siguiente manera\n",
    "* Si el producto aumenta en el último mes se le asigna un peso de 0.6 de otra forma se le asigna 0.4, si no aumenta ni disminuye el producto se ele asigna cero"
   ]
  },
  {
   "cell_type": "code",
   "execution_count": 53,
   "metadata": {
    "collapsed": true
   },
   "outputs": [],
   "source": [
    "weighted_class = []\n",
    "\n",
    "purchases = df_a.loc['2016-05-28']\n",
    "\n",
    "for p in purchases:\n",
    "    if p > 0:\n",
    "        weight_one = 0.6\n",
    "        weight_zero = 1 - weight_one\n",
    "        weighted_class.append({0: weight_zero, 1: weight_one})\n",
    "    elif p < 0:\n",
    "        weight_zero = 0.6\n",
    "        weight_one = 1 - weight_zero\n",
    "        weighted_class.append({0: weight_zero, 1: weight_one})\n",
    "    else:\n",
    "        weighted_class.append({0: 1, 1: 1})"
   ]
  },
  {
   "cell_type": "code",
   "execution_count": 48,
   "metadata": {
    "collapsed": false
   },
   "outputs": [
    {
     "name": "stdout",
     "output_type": "stream",
     "text": [
      "results/submissions/2018-07-20-h18-18-07_submission.csv\n",
      "CPU times: user 2min 27s, sys: 4.09 s, total: 2min 31s\n",
      "Wall time: 1min 21s\n"
     ]
    }
   ],
   "source": [
    "%%time\n",
    "x_train = df_purchasers[df_purchasers['fecha_dato'] == '2016-05-28']\n",
    "y_train = df_targets.loc[x_train.index]\n",
    "\n",
    "x = x_train.drop(['fecha_dato', 'ncodpers','fecha_alta'], axis=1).as_matrix()\n",
    "y = y_train.as_matrix()\n",
    "\n",
    "model = local.model(x, y, RandomForestClassifier(n_jobs=4, class_weight=weighted_class))\n",
    "\n",
    "x_test = df_test.drop(['fecha_dato', 'ncodpers','fecha_alta'], axis=1).as_matrix()\n",
    "probs, preds = local.calculatePredsProbs(x_test, model)\n",
    "\n",
    "subm = local.processPredictions(probs=probs, preds=preds, df_prev=x_train, df_test=df_test, df_targets=y_train, env='submit')"
   ]
  },
  {
   "cell_type": "code",
   "execution_count": 49,
   "metadata": {
    "collapsed": false,
    "scrolled": true
   },
   "outputs": [
    {
     "name": "stdout",
     "output_type": "stream",
     "text": [
      "2018-07-20-h18-18-07_submission.csv\n",
      "/home/sergioml/.local/lib/python2.7/site-packages/urllib3/contrib/socks.py:37: DependencyWarning: SOCKS support in urllib3 requires the installation of optional dependencies: specifically, PySocks.  For more information, see https://urllib3.readthedocs.io/en/latest/contrib.html#socks-proxies\n",
      "  DependencyWarning\n",
      "Warning: Looks like you're using an outdated API Version, please consider updating (server 1.4.2 / client 1.3.12)\n",
      "Successfully submitted to Santander Product Recommendation\n",
      "real\t0m35.317s\n",
      "user\t0m1.460s\n",
      "sys\t0m0.320s\n"
     ]
    }
   ],
   "source": [
    "!bash results/submissions/kaggle_submission \"RF, Mayo 2016, con clases pesadas 0.6 y 0.4\""
   ]
  },
  {
   "cell_type": "markdown",
   "metadata": {},
   "source": [
    "#### DecisionTree, Mayo 2016 con pesos"
   ]
  },
  {
   "cell_type": "code",
   "execution_count": 54,
   "metadata": {
    "collapsed": false
   },
   "outputs": [
    {
     "name": "stdout",
     "output_type": "stream",
     "text": [
      "results/submissions/2018-07-20-h18-29-54_submission.csv\n",
      "CPU times: user 25.3 s, sys: 792 ms, total: 26.1 s\n",
      "Wall time: 27.3 s\n"
     ]
    }
   ],
   "source": [
    "%%time\n",
    "x_train = df_purchasers[df_purchasers['fecha_dato'] == '2016-05-28']\n",
    "y_train = df_targets.loc[x_train.index]\n",
    "\n",
    "x = x_train.drop(['fecha_dato', 'ncodpers','fecha_alta'], axis=1).as_matrix()\n",
    "y = y_train.as_matrix()\n",
    "\n",
    "model = local.model(x, y, DecisionTreeClassifier(class_weight=weighted_class))\n",
    "\n",
    "x_test = df_test.drop(['fecha_dato', 'ncodpers','fecha_alta'], axis=1).as_matrix()\n",
    "probs, preds = local.calculatePredsProbs(x_test, model)\n",
    "\n",
    "subm = local.processPredictions(probs=probs, preds=preds, df_prev=x_train, df_test=df_test, df_targets=y_train, env='submit')"
   ]
  },
  {
   "cell_type": "code",
   "execution_count": 55,
   "metadata": {
    "collapsed": false,
    "scrolled": true
   },
   "outputs": [
    {
     "name": "stdout",
     "output_type": "stream",
     "text": [
      "2018-07-20-h18-29-54_submission.csv\n",
      "/home/sergioml/.local/lib/python2.7/site-packages/urllib3/contrib/socks.py:37: DependencyWarning: SOCKS support in urllib3 requires the installation of optional dependencies: specifically, PySocks.  For more information, see https://urllib3.readthedocs.io/en/latest/contrib.html#socks-proxies\n",
      "  DependencyWarning\n",
      "Warning: Looks like you're using an outdated API Version, please consider updating (server 1.4.2 / client 1.3.12)\n",
      "Successfully submitted to Santander Product Recommendation\n",
      "real\t1m3.770s\n",
      "user\t0m1.492s\n",
      "sys\t0m0.416s\n"
     ]
    }
   ],
   "source": [
    "!bash results/submissions/kaggle_submission \"DT, Mayo 2016, con clases pesadas 0.6 y 0.4, purchasers\""
   ]
  },
  {
   "cell_type": "markdown",
   "metadata": {},
   "source": [
    "##### Clases con pesos\n",
    "Con el dataframe que se hizo previamente se definen los pesos para cada uno de los productos de la siguiente manera\n",
    "* Si el producto aumenta en el último mes se le asigna un peso de 0.8 de otra forma se le asigna 0.2, si no aumenta ni disminuye el producto se ele asigna cero"
   ]
  },
  {
   "cell_type": "code",
   "execution_count": 56,
   "metadata": {
    "collapsed": true
   },
   "outputs": [],
   "source": [
    "weighted_class = []\n",
    "\n",
    "purchases = df_a.loc['2016-05-28']\n",
    "\n",
    "for p in purchases:\n",
    "    if p > 0:\n",
    "        weight_one = 0.8\n",
    "        weight_zero = 1 - weight_one\n",
    "        weighted_class.append({0: weight_zero, 1: weight_one})\n",
    "    elif p < 0:\n",
    "        weight_zero = 0.8\n",
    "        weight_one = 1 - weight_zero\n",
    "        weighted_class.append({0: weight_zero, 1: weight_one})\n",
    "    else:\n",
    "        weighted_class.append({0: 1, 1: 1})"
   ]
  },
  {
   "cell_type": "code",
   "execution_count": null,
   "metadata": {
    "collapsed": false
   },
   "outputs": [],
   "source": [
    "%%time\n",
    "x_train = df_purchasers[df_purchasers['fecha_dato'] == '2016-05-28']\n",
    "y_train = df_targets.loc[x_train.index]\n",
    "\n",
    "x = x_train.drop(['fecha_dato', 'ncodpers','fecha_alta'], axis=1).as_matrix()\n",
    "y = y_train.as_matrix()\n",
    "\n",
    "model = local.model(x, y, RandomForestClassifier(n_jobs=4, class_weight=weighted_class))\n",
    "\n",
    "x_test = df_test.drop(['fecha_dato', 'ncodpers','fecha_alta'], axis=1).as_matrix()\n",
    "probs, preds = local.calculatePredsProbs(x_test, model)\n",
    "\n",
    "subm = local.processPredictions(probs=probs, preds=preds, df_prev=x_train, df_test=df_test, df_targets=y_train, env='submit')"
   ]
  },
  {
   "cell_type": "code",
   "execution_count": null,
   "metadata": {
    "collapsed": false,
    "scrolled": true
   },
   "outputs": [],
   "source": [
    "!bash results/submissions/kaggle_submission \"RF, Mayo 2016, con clases pesadas 0.8 y 0.2\""
   ]
  },
  {
   "cell_type": "markdown",
   "metadata": {},
   "source": [
    "#### DecisionTree, Mayo 2016 con pesos, purchasers"
   ]
  },
  {
   "cell_type": "code",
   "execution_count": 57,
   "metadata": {
    "collapsed": false
   },
   "outputs": [
    {
     "name": "stdout",
     "output_type": "stream",
     "text": [
      "results/submissions/2018-07-20-h18-32-12_submission.csv\n",
      "CPU times: user 25.5 s, sys: 888 ms, total: 26.4 s\n",
      "Wall time: 27.5 s\n"
     ]
    }
   ],
   "source": [
    "%%time\n",
    "x_train = df_purchasers[df_purchasers['fecha_dato'] == '2016-05-28']\n",
    "y_train = df_targets.loc[x_train.index]\n",
    "\n",
    "x = x_train.drop(['fecha_dato', 'ncodpers','fecha_alta'], axis=1).as_matrix()\n",
    "y = y_train.as_matrix()\n",
    "\n",
    "model = local.model(x, y, DecisionTreeClassifier(class_weight=weighted_class))\n",
    "\n",
    "x_test = df_test.drop(['fecha_dato', 'ncodpers','fecha_alta'], axis=1).as_matrix()\n",
    "probs, preds = local.calculatePredsProbs(x_test, model)\n",
    "\n",
    "subm = local.processPredictions(probs=probs, preds=preds, df_prev=x_train, df_test=df_test, df_targets=y_train, env='submit')"
   ]
  },
  {
   "cell_type": "code",
   "execution_count": 58,
   "metadata": {
    "collapsed": false,
    "scrolled": true
   },
   "outputs": [
    {
     "name": "stdout",
     "output_type": "stream",
     "text": [
      "2018-07-20-h18-32-12_submission.csv\n",
      "/home/sergioml/.local/lib/python2.7/site-packages/urllib3/contrib/socks.py:37: DependencyWarning: SOCKS support in urllib3 requires the installation of optional dependencies: specifically, PySocks.  For more information, see https://urllib3.readthedocs.io/en/latest/contrib.html#socks-proxies\n",
      "  DependencyWarning\n",
      "Warning: Looks like you're using an outdated API Version, please consider updating (server 1.4.2 / client 1.3.12)\n",
      "Successfully submitted to Santander Product Recommendation\n",
      "real\t1m48.229s\n",
      "user\t0m1.636s\n",
      "sys\t0m0.352s\n"
     ]
    }
   ],
   "source": [
    "!bash results/submissions/kaggle_submission \"DT, Mayo 2016, con clases pesadas 0.8 y 0.2, purchasers\""
   ]
  },
  {
   "cell_type": "markdown",
   "metadata": {
    "collapsed": true
   },
   "source": [
    "### Experimentos con pesos en los targets, dataset original\n",
    "#### Mayo 2016 de y con pesos, DecisionTree"
   ]
  },
  {
   "cell_type": "code",
   "execution_count": 113,
   "metadata": {
    "collapsed": false
   },
   "outputs": [],
   "source": [
    "df_a = df.loc[:, ['fecha_dato']].join(df_targets.loc[df.index])\n",
    "df_a = df_a.groupby(['fecha_dato']).sum()\n",
    "df_a.head()\n",
    "\n",
    "dates = df_a.index\n",
    "\n",
    "df_b = pd.DataFrame(columns=df_a.columns.tolist()[0:]) #dataframe products prev bought\n",
    "for i in range(1, len(dates)):\n",
    "    prev_prods = df_a.loc[df_a.index[i-1]].as_matrix()\n",
    "    act_prods = df_a.loc[df_a.index[i]].as_matrix()\n",
    "    bought_prods = act_prods - prev_prods\n",
    "    df_b.loc[i] = bought_prods\n",
    "\n",
    "df_a = df_a.reset_index().loc[:, ['fecha_dato']].join(df_b).iloc[1:]\n",
    "df_a = df_a.set_index('fecha_dato')"
   ]
  },
  {
   "cell_type": "markdown",
   "metadata": {},
   "source": [
    "##### Clases con pesos\n",
    "Con el dataframe que se hizo previamente se definen los pesos para cada uno de los productos de la siguiente manera\n",
    "* Si el producto aumenta en el último mes se le asigna un peso de 0.6 de otra forma se le asigna 0.4, si no aumenta ni disminuye el producto se ele asigna cero"
   ]
  },
  {
   "cell_type": "code",
   "execution_count": 60,
   "metadata": {
    "collapsed": true
   },
   "outputs": [],
   "source": [
    "weighted_class = []\n",
    "\n",
    "purchases = df_a.loc['2016-05-28']\n",
    "\n",
    "for p in purchases:\n",
    "    if p > 0:\n",
    "        weight_one = 0.6\n",
    "        weight_zero = 1 - weight_one\n",
    "        weighted_class.append({0: weight_zero, 1: weight_one})\n",
    "    elif p < 0:\n",
    "        weight_zero = 0.6\n",
    "        weight_one = 1 - weight_zero\n",
    "        weighted_class.append({0: weight_zero, 1: weight_one})\n",
    "    else:\n",
    "        weighted_class.append({0: 1, 1: 1})"
   ]
  },
  {
   "cell_type": "code",
   "execution_count": 61,
   "metadata": {
    "collapsed": false
   },
   "outputs": [
    {
     "name": "stdout",
     "output_type": "stream",
     "text": [
      "results/submissions/2018-07-20-h18-37-54_submission.csv\n",
      "CPU times: user 1min 24s, sys: 1.78 s, total: 1min 26s\n",
      "Wall time: 1min 27s\n"
     ]
    }
   ],
   "source": [
    "%%time\n",
    "x_train = df[df['fecha_dato'] == '2016-05-28']\n",
    "y_train = df_targets.loc[x_train.index]\n",
    "\n",
    "x = x_train.drop(['fecha_dato', 'ncodpers','fecha_alta'], axis=1).as_matrix()\n",
    "y = y_train.as_matrix()\n",
    "\n",
    "model = local.model(x, y, DecisionTreeClassifier(class_weight=weighted_class))\n",
    "\n",
    "x_test = df_test.drop(['fecha_dato', 'ncodpers','fecha_alta'], axis=1).as_matrix()\n",
    "probs, preds = local.calculatePredsProbs(x_test, model)\n",
    "\n",
    "subm = local.processPredictions(probs=probs, preds=preds, df_prev=x_train, df_test=df_test, df_targets=y_train, env='submit')"
   ]
  },
  {
   "cell_type": "code",
   "execution_count": 62,
   "metadata": {
    "collapsed": false,
    "scrolled": true
   },
   "outputs": [
    {
     "name": "stdout",
     "output_type": "stream",
     "text": [
      "2018-07-20-h18-37-54_submission.csv\n",
      "/home/sergioml/.local/lib/python2.7/site-packages/urllib3/contrib/socks.py:37: DependencyWarning: SOCKS support in urllib3 requires the installation of optional dependencies: specifically, PySocks.  For more information, see https://urllib3.readthedocs.io/en/latest/contrib.html#socks-proxies\n",
      "  DependencyWarning\n",
      "Warning: Looks like you're using an outdated API Version, please consider updating (server 1.4.2 / client 1.3.12)\n",
      "Successfully submitted to Santander Product Recommendation\n",
      "real\t0m28.705s\n",
      "user\t0m1.444s\n",
      "sys\t0m0.440s\n"
     ]
    }
   ],
   "source": [
    "!bash results/submissions/kaggle_submission \"DT, Mayo 2016, con clases pesadas 0.6 y 0.4, ORIGINAL\""
   ]
  },
  {
   "cell_type": "markdown",
   "metadata": {},
   "source": [
    "##### Clases con pesos\n",
    "Con el dataframe que se hizo previamente se definen los pesos para cada uno de los productos de la siguiente manera\n",
    "* Si el producto aumenta en el último mes se le asigna un peso de 0.8 de otra forma se le asigna 0.2, si no aumenta ni disminuye el producto se ele asigna cero"
   ]
  },
  {
   "cell_type": "code",
   "execution_count": 63,
   "metadata": {
    "collapsed": true
   },
   "outputs": [],
   "source": [
    "weighted_class = []\n",
    "\n",
    "purchases = df_a.loc['2016-05-28']\n",
    "\n",
    "for p in purchases:\n",
    "    if p > 0:\n",
    "        weight_one = 0.8\n",
    "        weight_zero = 1 - weight_one\n",
    "        weighted_class.append({0: weight_zero, 1: weight_one})\n",
    "    elif p < 0:\n",
    "        weight_zero = 0.8\n",
    "        weight_one = 1 - weight_zero\n",
    "        weighted_class.append({0: weight_zero, 1: weight_one})\n",
    "    else:\n",
    "        weighted_class.append({0: 1, 1: 1})"
   ]
  },
  {
   "cell_type": "code",
   "execution_count": 64,
   "metadata": {
    "collapsed": false
   },
   "outputs": [
    {
     "name": "stdout",
     "output_type": "stream",
     "text": [
      "results/submissions/2018-07-20-h18-39-53_submission.csv\n",
      "CPU times: user 1min 26s, sys: 2.28 s, total: 1min 28s\n",
      "Wall time: 1min 29s\n"
     ]
    }
   ],
   "source": [
    "%%time\n",
    "x_train = df[df['fecha_dato'] == '2016-05-28']\n",
    "y_train = df_targets.loc[x_train.index]\n",
    "\n",
    "x = x_train.drop(['fecha_dato', 'ncodpers','fecha_alta'], axis=1).as_matrix()\n",
    "y = y_train.as_matrix()\n",
    "\n",
    "model = local.model(x, y, DecisionTreeClassifier(class_weight=weighted_class))\n",
    "\n",
    "x_test = df_test.drop(['fecha_dato', 'ncodpers','fecha_alta'], axis=1).as_matrix()\n",
    "probs, preds = local.calculatePredsProbs(x_test, model)\n",
    "\n",
    "subm = local.processPredictions(probs=probs, preds=preds, df_prev=x_train, df_test=df_test, df_targets=y_train, env='submit')"
   ]
  },
  {
   "cell_type": "code",
   "execution_count": 65,
   "metadata": {
    "collapsed": false,
    "scrolled": true
   },
   "outputs": [
    {
     "name": "stdout",
     "output_type": "stream",
     "text": [
      "2018-07-20-h18-39-53_submission.csv\n",
      "/home/sergioml/.local/lib/python2.7/site-packages/urllib3/contrib/socks.py:37: DependencyWarning: SOCKS support in urllib3 requires the installation of optional dependencies: specifically, PySocks.  For more information, see https://urllib3.readthedocs.io/en/latest/contrib.html#socks-proxies\n",
      "  DependencyWarning\n",
      "Warning: Looks like you're using an outdated API Version, please consider updating (server 1.4.2 / client 1.3.12)\n",
      "Successfully submitted to Santander Product Recommendation\n",
      "real\t1m27.860s\n",
      "user\t0m1.576s\n",
      "sys\t0m0.396s\n"
     ]
    }
   ],
   "source": [
    "!bash results/submissions/kaggle_submission \"DT, Mayo 2016, con clases pesadas 0.8 y 0.2, ORIGINAL\""
   ]
  },
  {
   "cell_type": "markdown",
   "metadata": {},
   "source": [
    "### Experimento con productos anteriores como *features*"
   ]
  },
  {
   "cell_type": "markdown",
   "metadata": {},
   "source": [
    "#### Experimento con purchasers, Mayo 2016, y RandomForest"
   ]
  },
  {
   "cell_type": "code",
   "execution_count": 66,
   "metadata": {
    "collapsed": true
   },
   "outputs": [],
   "source": [
    "prev = df_purchasers[df_purchasers['fecha_dato'] == '2016-04-28']\n",
    "last = df_purchasers[df_purchasers['fecha_dato'] == '2016-05-28']\n",
    "\n",
    "ncodpers_both_month = list(set(prev['ncodpers'].values) & set(last['ncodpers'].values))\n",
    "\n",
    "index_prev = prev.loc[prev['ncodpers'].isin(ncodpers_both_month)].index\n",
    "\n",
    "df_aux = df_targets.loc[index_prev]\n",
    "df_aux = df_aux.join(df['ncodpers'], how='inner')\n",
    "\n",
    "last = last.merge(df_aux, on='ncodpers', how='outer', right_index=True)\n",
    "last.dropna(axis=0, inplace=True)"
   ]
  },
  {
   "cell_type": "code",
   "execution_count": 69,
   "metadata": {
    "collapsed": false
   },
   "outputs": [
    {
     "name": "stdout",
     "output_type": "stream",
     "text": [
      "results/submissions/2018-07-20-h18-54-17_submission.csv\n",
      "CPU times: user 5min 30s, sys: 15.4 s, total: 5min 46s\n",
      "Wall time: 2min 26s\n"
     ]
    }
   ],
   "source": [
    "%%time\n",
    "x_train = last.copy()\n",
    "y_train = df_targets.loc[x_train.index]\n",
    "\n",
    "x = x_train.drop(['fecha_dato', 'fecha_alta', 'ncodpers'], axis=1).as_matrix()\n",
    "y = y_train.as_matrix()\n",
    "\n",
    "model = local.model(x, y, RandomForestClassifier(n_jobs=4))\n",
    "\n",
    "##Test\n",
    "prev = df_purchasers[df_purchasers['fecha_dato'] == '2016-05-28']\n",
    "last = df_test.copy()\n",
    "\n",
    "ncodpers_both_month = list(set(prev['ncodpers'].values) & set(last['ncodpers'].values))\n",
    "\n",
    "index_prev = prev.loc[prev['ncodpers'].isin(ncodpers_both_month)].index\n",
    "\n",
    "df_aux = df_targets.loc[index_prev]\n",
    "df_aux = df_aux.join(df['ncodpers'], how='inner')\n",
    "\n",
    "last = last.merge(df_aux, on='ncodpers', how='outer', right_index=True)\n",
    "last.fillna(0, inplace=True)\n",
    "\n",
    "x_test = last.drop(['fecha_dato', 'fecha_alta', 'ncodpers'], axis=1).as_matrix()\n",
    "probs, preds = local.calculatePredsProbs(x_test, model)\n",
    "\n",
    "subm = local.processPredictions(probs=probs, preds=preds, df_prev=x_train, df_test=df_test, df_targets=y_train, env='submit')"
   ]
  },
  {
   "cell_type": "code",
   "execution_count": 70,
   "metadata": {
    "collapsed": false,
    "scrolled": true
   },
   "outputs": [
    {
     "name": "stdout",
     "output_type": "stream",
     "text": [
      "2018-07-20-h18-54-17_submission.csv\n",
      "/home/sergioml/.local/lib/python2.7/site-packages/urllib3/contrib/socks.py:37: DependencyWarning: SOCKS support in urllib3 requires the installation of optional dependencies: specifically, PySocks.  For more information, see https://urllib3.readthedocs.io/en/latest/contrib.html#socks-proxies\n",
      "  DependencyWarning\n",
      "Warning: Looks like you're using an outdated API Version, please consider updating (server 1.4.2 / client 1.3.12)\n",
      "Successfully submitted to Santander Product Recommendation\n",
      "real\t1m53.888s\n",
      "user\t0m1.552s\n",
      "sys\t0m0.432s\n"
     ]
    }
   ],
   "source": [
    "!bash results/submissions/kaggle_submission \"RF, Mayo 2016 con productos del mes previo, purchasers\""
   ]
  },
  {
   "cell_type": "markdown",
   "metadata": {},
   "source": [
    "#### Experimento con purchasers, Mayo 2016, y DecisionTree"
   ]
  },
  {
   "cell_type": "code",
   "execution_count": 71,
   "metadata": {
    "collapsed": false
   },
   "outputs": [
    {
     "name": "stdout",
     "output_type": "stream",
     "text": [
      "results/submissions/2018-07-20-h18-56-39_submission.csv\n",
      "CPU times: user 25.1 s, sys: 2.01 s, total: 27.1 s\n",
      "Wall time: 28.3 s\n"
     ]
    }
   ],
   "source": [
    "%%time\n",
    "prev = df_purchasers[df_purchasers['fecha_dato'] == '2016-04-28']\n",
    "last = df_purchasers[df_purchasers['fecha_dato'] == '2016-05-28']\n",
    "\n",
    "ncodpers_both_month = list(set(prev['ncodpers'].values) & set(last['ncodpers'].values))\n",
    "\n",
    "index_prev = prev.loc[prev['ncodpers'].isin(ncodpers_both_month)].index\n",
    "\n",
    "df_aux = df_targets.loc[index_prev]\n",
    "df_aux = df_aux.join(df['ncodpers'], how='inner')\n",
    "\n",
    "last = last.merge(df_aux, on='ncodpers', how='outer', right_index=True)\n",
    "last.dropna(axis=0, inplace=True)\n",
    "\n",
    "#Train\n",
    "x_train = last.copy()\n",
    "y_train = df_targets.loc[x_train.index]\n",
    "\n",
    "x = x_train.drop(['fecha_dato', 'fecha_alta', 'ncodpers'], axis=1).as_matrix()\n",
    "y = y_train.as_matrix()\n",
    "\n",
    "model = local.model(x, y, DecisionTreeClassifier())\n",
    "\n",
    "##Test\n",
    "prev = df_purchasers[df_purchasers['fecha_dato'] == '2016-05-28']\n",
    "last = df_test.copy()\n",
    "\n",
    "ncodpers_both_month = list(set(prev['ncodpers'].values) & set(last['ncodpers'].values))\n",
    "\n",
    "index_prev = prev.loc[prev['ncodpers'].isin(ncodpers_both_month)].index\n",
    "\n",
    "df_aux = df_targets.loc[index_prev]\n",
    "df_aux = df_aux.join(df['ncodpers'], how='inner')\n",
    "\n",
    "last = last.merge(df_aux, on='ncodpers', how='outer', right_index=True)\n",
    "last.fillna(0, inplace=True)\n",
    "\n",
    "x_test = last.drop(['fecha_dato', 'fecha_alta', 'ncodpers'], axis=1).as_matrix()\n",
    "probs, preds = local.calculatePredsProbs(x_test, model)\n",
    "\n",
    "subm = local.processPredictions(probs=probs, preds=preds, df_prev=x_train, df_test=df_test, df_targets=y_train, env='submit')"
   ]
  },
  {
   "cell_type": "code",
   "execution_count": 72,
   "metadata": {
    "collapsed": false,
    "scrolled": true
   },
   "outputs": [
    {
     "name": "stdout",
     "output_type": "stream",
     "text": [
      "2018-07-20-h18-56-39_submission.csv\n",
      "/home/sergioml/.local/lib/python2.7/site-packages/urllib3/contrib/socks.py:37: DependencyWarning: SOCKS support in urllib3 requires the installation of optional dependencies: specifically, PySocks.  For more information, see https://urllib3.readthedocs.io/en/latest/contrib.html#socks-proxies\n",
      "  DependencyWarning\n",
      "Warning: Looks like you're using an outdated API Version, please consider updating (server 1.4.2 / client 1.3.12)\n",
      "Successfully submitted to Santander Product Recommendation\n",
      "real\t1m54.463s\n",
      "user\t0m1.564s\n",
      "sys\t0m0.392s\n"
     ]
    }
   ],
   "source": [
    "!bash results/submissions/kaggle_submission \"DT, Mayo 2016 con productos del mes previo, purchasers\""
   ]
  },
  {
   "cell_type": "markdown",
   "metadata": {},
   "source": [
    "### Experimento con productos anteriores como *features*"
   ]
  },
  {
   "cell_type": "markdown",
   "metadata": {},
   "source": [
    "#### Experimento con dataset original, Mayo 2016, y DecisionTree"
   ]
  },
  {
   "cell_type": "code",
   "execution_count": 73,
   "metadata": {
    "collapsed": false
   },
   "outputs": [
    {
     "name": "stdout",
     "output_type": "stream",
     "text": [
      "results/submissions/2018-07-20-h19-03-14_submission.csv\n",
      "CPU times: user 2min 14s, sys: 4.36 s, total: 2min 19s\n",
      "Wall time: 2min 20s\n"
     ]
    }
   ],
   "source": [
    "%%time\n",
    "prev = df[df['fecha_dato'] == '2016-04-28']\n",
    "last = df[df['fecha_dato'] == '2016-05-28']\n",
    "\n",
    "ncodpers_both_month = list(set(prev['ncodpers'].values) & set(last['ncodpers'].values))\n",
    "\n",
    "index_prev = prev.loc[prev['ncodpers'].isin(ncodpers_both_month)].index\n",
    "\n",
    "df_aux = df_targets.loc[index_prev]\n",
    "df_aux = df_aux.join(df['ncodpers'], how='inner')\n",
    "\n",
    "last = last.merge(df_aux, on='ncodpers', how='outer', right_index=True)\n",
    "last.dropna(axis=0, inplace=True)\n",
    "\n",
    "#Train\n",
    "x_train = last.copy()\n",
    "y_train = df_targets.loc[x_train.index]\n",
    "\n",
    "x = x_train.drop(['fecha_dato', 'fecha_alta', 'ncodpers'], axis=1).as_matrix()\n",
    "y = y_train.as_matrix()\n",
    "\n",
    "model = local.model(x, y, DecisionTreeClassifier())\n",
    "\n",
    "##Test\n",
    "prev = df[df['fecha_dato'] == '2016-05-28']\n",
    "last = df_test.copy()\n",
    "\n",
    "ncodpers_both_month = list(set(prev['ncodpers'].values) & set(last['ncodpers'].values))\n",
    "\n",
    "index_prev = prev.loc[prev['ncodpers'].isin(ncodpers_both_month)].index\n",
    "\n",
    "df_aux = df_targets.loc[index_prev]\n",
    "df_aux = df_aux.join(df['ncodpers'], how='inner')\n",
    "\n",
    "last = last.merge(df_aux, on='ncodpers', how='outer', right_index=True)\n",
    "last.fillna(0, inplace=True)\n",
    "\n",
    "x_test = last.drop(['fecha_dato', 'fecha_alta', 'ncodpers'], axis=1).as_matrix()\n",
    "probs, preds = local.calculatePredsProbs(x_test, model)\n",
    "\n",
    "subm = local.processPredictions(probs=probs, preds=preds, df_prev=x_train, df_test=df_test, df_targets=y_train, env='submit')"
   ]
  },
  {
   "cell_type": "code",
   "execution_count": 74,
   "metadata": {
    "collapsed": false,
    "scrolled": true
   },
   "outputs": [
    {
     "name": "stdout",
     "output_type": "stream",
     "text": [
      "2018-07-20-h19-03-14_submission.csv\n",
      "/home/sergioml/.local/lib/python2.7/site-packages/urllib3/contrib/socks.py:37: DependencyWarning: SOCKS support in urllib3 requires the installation of optional dependencies: specifically, PySocks.  For more information, see https://urllib3.readthedocs.io/en/latest/contrib.html#socks-proxies\n",
      "  DependencyWarning\n",
      "Warning: Looks like you're using an outdated API Version, please consider updating (server 1.4.2 / client 1.3.12)\n",
      "Successfully submitted to Santander Product Recommendation\n",
      "real\t0m29.112s\n",
      "user\t0m1.492s\n",
      "sys\t0m0.356s\n"
     ]
    }
   ],
   "source": [
    "!bash results/submissions/kaggle_submission \"DT, Mayo 2016 con productos del mes previo, ORIGINAL\""
   ]
  },
  {
   "cell_type": "markdown",
   "metadata": {},
   "source": [
    "### Experimento con Abril de 2016\n",
    "Basado en experimentos previos\n",
    "* **DATASET:** Purchasers\n",
    "* **TRAIN:** Abril 2016\n",
    "* **ALGORITMO:** DecisionTreeClassifier\n",
    "* **TEST:** Junio 2016"
   ]
  },
  {
   "cell_type": "code",
   "execution_count": 76,
   "metadata": {
    "collapsed": false
   },
   "outputs": [
    {
     "name": "stdout",
     "output_type": "stream",
     "text": [
      "results/submissions/2018-07-21-h00-03-27_submission.csv\n",
      "CPU times: user 25.5 s, sys: 936 ms, total: 26.4 s\n",
      "Wall time: 27.5 s\n"
     ]
    }
   ],
   "source": [
    "%%time\n",
    "x_train = df_purchasers[df_purchasers['fecha_dato'] == '2016-04-28']\n",
    "y_train = df_targets.loc[x_train.index]\n",
    "\n",
    "x = x_train.drop(['fecha_dato', 'fecha_alta'], axis=1).as_matrix()\n",
    "y = y_train.as_matrix()\n",
    "\n",
    "model = local.model(x, y, DecisionTreeClassifier())\n",
    "\n",
    "x_test = df_test.drop(['fecha_dato', 'fecha_alta'], axis=1).as_matrix()\n",
    "probs, preds = local.calculatePredsProbs(x_test, model)\n",
    "\n",
    "x_prev = df_purchasers[df_purchasers['fecha_dato'] == '2016-05-28']\n",
    "subm = local.processPredictions(probs=probs, preds=preds, df_prev=x_prev, df_test=df_test, df_targets=y_train, env='submit')"
   ]
  },
  {
   "cell_type": "code",
   "execution_count": 77,
   "metadata": {
    "collapsed": false,
    "scrolled": true
   },
   "outputs": [
    {
     "name": "stdout",
     "output_type": "stream",
     "text": [
      "2018-07-21-h00-03-27_submission.csv\n",
      "/home/sergioml/.local/lib/python2.7/site-packages/urllib3/contrib/socks.py:37: DependencyWarning: SOCKS support in urllib3 requires the installation of optional dependencies: specifically, PySocks.  For more information, see https://urllib3.readthedocs.io/en/latest/contrib.html#socks-proxies\n",
      "  DependencyWarning\n",
      "Warning: Looks like you're using an outdated API Version, please consider updating (server 1.4.2 / client 1.3.12)\n",
      "Successfully submitted to Santander Product Recommendation\n",
      "real\t1m47.459s\n",
      "user\t0m1.568s\n",
      "sys\t0m0.412s\n"
     ]
    }
   ],
   "source": [
    "!bash results/submissions/kaggle_submission \"DT, Abril 2016, purchasers\""
   ]
  },
  {
   "cell_type": "markdown",
   "metadata": {},
   "source": [
    "* **DATASET:** Original\n",
    "* **TRAIN:** Abril 2016\n",
    "* **ALGORITMO:** DecisionTreeClassifier\n",
    "* **TEST:** Junio 2016"
   ]
  },
  {
   "cell_type": "code",
   "execution_count": 78,
   "metadata": {
    "collapsed": false
   },
   "outputs": [
    {
     "name": "stdout",
     "output_type": "stream",
     "text": [
      "results/submissions/2018-07-21-h00-07-01_submission.csv\n",
      "CPU times: user 1min 43s, sys: 2.21 s, total: 1min 45s\n",
      "Wall time: 1min 46s\n"
     ]
    }
   ],
   "source": [
    "%%time\n",
    "x_train = df[df['fecha_dato'] == '2016-04-28']\n",
    "y_train = df_targets.loc[x_train.index]\n",
    "\n",
    "x = x_train.drop(['fecha_dato', 'fecha_alta'], axis=1).as_matrix()\n",
    "y = y_train.as_matrix()\n",
    "\n",
    "model = local.model(x, y, DecisionTreeClassifier())\n",
    "\n",
    "x_test = df_test.drop(['fecha_dato', 'fecha_alta'], axis=1).as_matrix()\n",
    "probs, preds = local.calculatePredsProbs(x_test, model)\n",
    "\n",
    "x_prev = df[df['fecha_dato'] == '2016-05-28']\n",
    "subm = local.processPredictions(probs=probs, preds=preds, df_prev=x_prev, df_test=df_test, df_targets=y_train, env='submit')"
   ]
  },
  {
   "cell_type": "code",
   "execution_count": 79,
   "metadata": {
    "collapsed": false,
    "scrolled": true
   },
   "outputs": [
    {
     "name": "stdout",
     "output_type": "stream",
     "text": [
      "2018-07-21-h00-07-01_submission.csv\n",
      "/home/sergioml/.local/lib/python2.7/site-packages/urllib3/contrib/socks.py:37: DependencyWarning: SOCKS support in urllib3 requires the installation of optional dependencies: specifically, PySocks.  For more information, see https://urllib3.readthedocs.io/en/latest/contrib.html#socks-proxies\n",
      "  DependencyWarning\n",
      "Warning: Looks like you're using an outdated API Version, please consider updating (server 1.4.2 / client 1.3.12)\n",
      "Successfully submitted to Santander Product Recommendation\n",
      "real\t0m28.957s\n",
      "user\t0m1.484s\n",
      "sys\t0m0.356s\n"
     ]
    }
   ],
   "source": [
    "!bash results/submissions/kaggle_submission \"DT, Abril 2016, ORIGINAL\""
   ]
  },
  {
   "cell_type": "markdown",
   "metadata": {},
   "source": [
    "### Experimento Mayo 2016 con PCA\n",
    "* **DATASET:** Purchases\n",
    "* **ALGORITMO:** DecisionTree\n",
    "* **TEST:** Junio 2016\n",
    "* **PCA:** 10 Componentes"
   ]
  },
  {
   "cell_type": "code",
   "execution_count": 5,
   "metadata": {
    "collapsed": true
   },
   "outputs": [],
   "source": [
    "from sklearn.decomposition import PCA"
   ]
  },
  {
   "cell_type": "code",
   "execution_count": 11,
   "metadata": {
    "collapsed": false
   },
   "outputs": [
    {
     "name": "stdout",
     "output_type": "stream",
     "text": [
      "results/submissions/2018-07-27-h13-30-16_submission.csv\n",
      "CPU times: user 4min 50s, sys: 2.78 s, total: 4min 53s\n",
      "Wall time: 4min 41s\n"
     ]
    }
   ],
   "source": [
    "%%time\n",
    "x_train = df[df['fecha_dato'] == '2016-05-28']\n",
    "y_train = df_targets.loc[x_train.index]\n",
    "\n",
    "x = x_train.drop(['fecha_dato', 'fecha_alta'], axis=1).as_matrix()\n",
    "pca = PCA(n_components=10)\n",
    "x = pca.fit_transform(x)\n",
    "y = y_train.as_matrix()\n",
    "\n",
    "model = local.model(x, y, DecisionTreeClassifier())\n",
    "\n",
    "x_test = df_test.drop(['fecha_dato', 'fecha_alta'], axis=1).as_matrix()\n",
    "x_test = pca.fit_transform(x_test)\n",
    "probs, preds = local.calculatePredsProbs(x_test, model)\n",
    "\n",
    "x_prev = df[df['fecha_dato'] == '2016-05-28']\n",
    "subm = local.processPredictions(probs=probs, preds=preds, df_prev=x_prev, df_test=df_test, df_targets=y_train, env='submit')"
   ]
  },
  {
   "cell_type": "code",
   "execution_count": 12,
   "metadata": {
    "collapsed": false,
    "scrolled": false
   },
   "outputs": [
    {
     "name": "stdout",
     "output_type": "stream",
     "text": [
      "2018-07-27-h13-30-16_submission.csv\n",
      "/home/sergioml/.local/lib/python2.7/site-packages/urllib3/contrib/socks.py:37: DependencyWarning: SOCKS support in urllib3 requires the installation of optional dependencies: specifically, PySocks.  For more information, see https://urllib3.readthedocs.io/en/latest/contrib.html#socks-proxies\n",
      "  DependencyWarning\n",
      "Warning: Looks like you're using an outdated API Version, please consider updating (server 1.4.2 / client 1.3.12)\n",
      "Successfully submitted to Santander Product Recommendation\n",
      "real\t1m0.181s\n",
      "user\t0m1.488s\n",
      "sys\t0m0.368s\n"
     ]
    }
   ],
   "source": [
    "!bash results/submissions/kaggle_submission \"DT, Mayo 2016, PCA 10 componentes, ORIGINAL\""
   ]
  },
  {
   "cell_type": "markdown",
   "metadata": {},
   "source": [
    "#### Con 15 componentes"
   ]
  },
  {
   "cell_type": "code",
   "execution_count": 13,
   "metadata": {
    "collapsed": false
   },
   "outputs": [
    {
     "name": "stdout",
     "output_type": "stream",
     "text": [
      "results/submissions/2018-07-27-h13-37-42_submission.csv\n",
      "CPU times: user 6min 31s, sys: 2.58 s, total: 6min 33s\n",
      "Wall time: 6min 24s\n"
     ]
    }
   ],
   "source": [
    "%%time\n",
    "x_train = df[df['fecha_dato'] == '2016-05-28']\n",
    "y_train = df_targets.loc[x_train.index]\n",
    "\n",
    "x = x_train.drop(['fecha_dato', 'fecha_alta'], axis=1).as_matrix()\n",
    "pca = PCA(n_components=15)\n",
    "x = pca.fit_transform(x)\n",
    "y = y_train.as_matrix()\n",
    "\n",
    "model = local.model(x, y, DecisionTreeClassifier())\n",
    "\n",
    "x_test = df_test.drop(['fecha_dato', 'fecha_alta'], axis=1).as_matrix()\n",
    "x_test = pca.fit_transform(x_test)\n",
    "probs, preds = local.calculatePredsProbs(x_test, model)\n",
    "\n",
    "x_prev = df[df['fecha_dato'] == '2016-05-28']\n",
    "subm = local.processPredictions(probs=probs, preds=preds, df_prev=x_prev, df_test=df_test, df_targets=y_train, env='submit')"
   ]
  },
  {
   "cell_type": "code",
   "execution_count": 14,
   "metadata": {
    "collapsed": false,
    "scrolled": false
   },
   "outputs": [
    {
     "name": "stdout",
     "output_type": "stream",
     "text": [
      "2018-07-27-h13-37-42_submission.csv\n",
      "/home/sergioml/.local/lib/python2.7/site-packages/urllib3/contrib/socks.py:37: DependencyWarning: SOCKS support in urllib3 requires the installation of optional dependencies: specifically, PySocks.  For more information, see https://urllib3.readthedocs.io/en/latest/contrib.html#socks-proxies\n",
      "  DependencyWarning\n",
      "Warning: Looks like you're using an outdated API Version, please consider updating (server 1.4.2 / client 1.3.12)\n",
      "Successfully submitted to Santander Product Recommendation\n",
      "real\t0m54.956s\n",
      "user\t0m1.484s\n",
      "sys\t0m0.416s\n"
     ]
    }
   ],
   "source": [
    "!bash results/submissions/kaggle_submission \"DT, Mayo 2016, PCA 15 componentes, ORIGINAL\""
   ]
  },
  {
   "cell_type": "code",
   "execution_count": null,
   "metadata": {
    "collapsed": true
   },
   "outputs": [],
   "source": []
  },
  {
   "cell_type": "code",
   "execution_count": null,
   "metadata": {
    "collapsed": true
   },
   "outputs": [],
   "source": []
  },
  {
   "cell_type": "code",
   "execution_count": null,
   "metadata": {
    "collapsed": true
   },
   "outputs": [],
   "source": []
  },
  {
   "cell_type": "markdown",
   "metadata": {},
   "source": [
    "----\n",
    "\n",
    "* **DATASET:** Purchases\n",
    "* **ALGORITMO:** RandomForest\n",
    "* **TEST:** Junio 2016\n",
    "* **PCA:** 10 Componentes"
   ]
  },
  {
   "cell_type": "code",
   "execution_count": 86,
   "metadata": {
    "collapsed": false
   },
   "outputs": [
    {
     "name": "stdout",
     "output_type": "stream",
     "text": [
      "results/submissions/2018-07-21-h01-47-00_submission.csv\n",
      "CPU times: user 2min 37s, sys: 4.33 s, total: 2min 41s\n",
      "Wall time: 1min 24s\n"
     ]
    }
   ],
   "source": [
    "%%time\n",
    "x_train = df_purchasers[df_purchasers['fecha_dato'] == '2016-05-28']\n",
    "y_train = df_targets.loc[x_train.index]\n",
    "\n",
    "x = x_train.drop(['fecha_dato', 'fecha_alta'], axis=1).as_matrix()\n",
    "pca = PCA(n_components=10)\n",
    "x = pca.fit_transform(x)\n",
    "y = y_train.as_matrix()\n",
    "\n",
    "model = local.model(x, y, RandomForestClassifier(n_jobs=4))\n",
    "\n",
    "x_test = df_test.drop(['fecha_dato', 'fecha_alta'], axis=1).as_matrix()\n",
    "x_test = pca.fit_transform(x_test)\n",
    "probs, preds = local.calculatePredsProbs(x_test, model)\n",
    "\n",
    "x_prev = df_purchasers[df_purchasers['fecha_dato'] == '2016-05-28']\n",
    "subm = local.processPredictions(probs=probs, preds=preds, df_prev=x_prev, df_test=df_test, df_targets=y_train, env='submit')"
   ]
  },
  {
   "cell_type": "code",
   "execution_count": 87,
   "metadata": {
    "collapsed": false,
    "scrolled": true
   },
   "outputs": [
    {
     "name": "stdout",
     "output_type": "stream",
     "text": [
      "2018-07-21-h01-47-00_submission.csv\n",
      "/home/sergioml/.local/lib/python2.7/site-packages/urllib3/contrib/socks.py:37: DependencyWarning: SOCKS support in urllib3 requires the installation of optional dependencies: specifically, PySocks.  For more information, see https://urllib3.readthedocs.io/en/latest/contrib.html#socks-proxies\n",
      "  DependencyWarning\n",
      "Warning: Looks like you're using an outdated API Version, please consider updating (server 1.4.2 / client 1.3.12)\n",
      "Successfully submitted to Santander Product Recommendation\n",
      "real\t0m41.810s\n",
      "user\t0m1.520s\n",
      "sys\t0m0.352s\n"
     ]
    }
   ],
   "source": [
    "!bash results/submissions/kaggle_submission \"RF, Mayo 2016, PCA 10 componentes, PURCHASES\""
   ]
  },
  {
   "cell_type": "markdown",
   "metadata": {},
   "source": [
    "* **DATASET:** Purchases\n",
    "* **ALGORITMO:** RandomForest\n",
    "* **TEST:** Junio 2016\n",
    "* **PCA:** 15 Componentes"
   ]
  },
  {
   "cell_type": "code",
   "execution_count": 84,
   "metadata": {
    "collapsed": false
   },
   "outputs": [
    {
     "name": "stdout",
     "output_type": "stream",
     "text": [
      "results/submissions/2018-07-21-h01-45-11_submission.csv\n",
      "CPU times: user 2min 38s, sys: 5.02 s, total: 2min 43s\n",
      "Wall time: 1min 27s\n"
     ]
    }
   ],
   "source": [
    "%%time\n",
    "x_train = df_purchasers[df_purchasers['fecha_dato'] == '2016-05-28']\n",
    "y_train = df_targets.loc[x_train.index]\n",
    "\n",
    "x = x_train.drop(['fecha_dato', 'fecha_alta'], axis=1).as_matrix()\n",
    "pca = PCA(n_components=15)\n",
    "x = pca.fit_transform(x)\n",
    "y = y_train.as_matrix()\n",
    "\n",
    "model = local.model(x, y, RandomForestClassifierForestClassifier(n_jobs=4))\n",
    "\n",
    "x_test = df_test.drop(['fecha_dato', 'fecha_alta'], axis=1).as_matrix()\n",
    "x_test = pca.fit_transform(x_test)\n",
    "probs, preds = local.calculatePredsProbs(x_test, model)\n",
    "\n",
    "x_prev = df_purchasers[df_purchasers['fecha_dato'] == '2016-05-28']\n",
    "subm = local.processPredictions(probs=probs, preds=preds, df_prev=x_prev, df_test=df_test, df_targets=y_train, env='submit')"
   ]
  },
  {
   "cell_type": "code",
   "execution_count": 85,
   "metadata": {
    "collapsed": false,
    "scrolled": true
   },
   "outputs": [
    {
     "name": "stdout",
     "output_type": "stream",
     "text": [
      "2018-07-21-h01-45-11_submission.csv\n",
      "/home/sergioml/.local/lib/python2.7/site-packages/urllib3/contrib/socks.py:37: DependencyWarning: SOCKS support in urllib3 requires the installation of optional dependencies: specifically, PySocks.  For more information, see https://urllib3.readthedocs.io/en/latest/contrib.html#socks-proxies\n",
      "  DependencyWarning\n",
      "Warning: Looks like you're using an outdated API Version, please consider updating (server 1.4.2 / client 1.3.12)\n",
      "Successfully submitted to Santander Product Recommendation\n",
      "real\t0m23.998s\n",
      "user\t0m1.384s\n",
      "sys\t0m0.388s\n"
     ]
    }
   ],
   "source": [
    "!bash results/submissions/kaggle_submission \"RF, Mayo 2016, PCA 15 componentes, PURCHASES\""
   ]
  },
  {
   "cell_type": "markdown",
   "metadata": {},
   "source": [
    "### Experimento TODO el dataset de PURCHASES"
   ]
  },
  {
   "cell_type": "code",
   "execution_count": 90,
   "metadata": {
    "collapsed": false
   },
   "outputs": [
    {
     "name": "stdout",
     "output_type": "stream",
     "text": [
      "results/submissions/2018-07-21-h02-22-24_submission.csv\n",
      "CPU times: user 3min 51s, sys: 8.44 s, total: 3min 59s\n",
      "Wall time: 1min 47s\n"
     ]
    }
   ],
   "source": [
    "%%time\n",
    "x_train = df_purchasers.copy()\n",
    "y_train = df_targets.loc[x_train.index]\n",
    "\n",
    "x = x_train.drop(['fecha_dato', 'fecha_alta'], axis=1).as_matrix()\n",
    "y = y_train.as_matrix()\n",
    "\n",
    "model = local.model(x, y, RandomForestClassifier(n_jobs=4))\n",
    "\n",
    "x_test = df_test.drop(['fecha_dato', 'fecha_alta'], axis=1).as_matrix()\n",
    "probs, preds = local.calculatePredsProbs(x_test, model)\n",
    "\n",
    "x_prev = df_purchasers[df_purchasers['fecha_dato'] == '2016-05-28']\n",
    "subm = local.processPredictions(probs=probs, preds=preds, df_prev=x_prev, df_test=df_test, df_targets=y_train, env='submit')"
   ]
  },
  {
   "cell_type": "code",
   "execution_count": 91,
   "metadata": {
    "collapsed": false,
    "scrolled": true
   },
   "outputs": [
    {
     "name": "stdout",
     "output_type": "stream",
     "text": [
      "2018-07-21-h02-22-24_submission.csv\n",
      "/home/sergioml/.local/lib/python2.7/site-packages/urllib3/contrib/socks.py:37: DependencyWarning: SOCKS support in urllib3 requires the installation of optional dependencies: specifically, PySocks.  For more information, see https://urllib3.readthedocs.io/en/latest/contrib.html#socks-proxies\n",
      "  DependencyWarning\n",
      "Warning: Looks like you're using an outdated API Version, please consider updating (server 1.4.2 / client 1.3.12)\n",
      "Successfully submitted to Santander Product Recommendation\n",
      "real\t1m31.771s\n",
      "user\t0m1.488s\n",
      "sys\t0m0.452s\n"
     ]
    }
   ],
   "source": [
    "!bash results/submissions/kaggle_submission \"RF, Todo el dataset, PURCHASES, VERSION 2\""
   ]
  },
  {
   "cell_type": "markdown",
   "metadata": {},
   "source": [
    "---\n",
    "### Groupby ncodpers y sum products\n",
    "Este experimento está orientado a la cantidad de veces que el cliente ha tenido el producto. Porque hay ocasiones en las que los clientes dejan el producto y lo vuelven a adquirir"
   ]
  },
  {
   "cell_type": "code",
   "execution_count": 15,
   "metadata": {
    "collapsed": true
   },
   "outputs": [],
   "source": [
    "dates = df.loc[:, 'fecha_dato'].unique()"
   ]
  },
  {
   "cell_type": "code",
   "execution_count": 16,
   "metadata": {
    "collapsed": false
   },
   "outputs": [
    {
     "data": {
      "text/plain": [
       "array(['2015-01-28', '2015-02-28', '2015-03-28', '2015-04-28',\n",
       "       '2015-05-28', '2015-06-28', '2015-07-28', '2015-08-28',\n",
       "       '2015-09-28', '2015-10-28', '2015-11-28', '2015-12-28',\n",
       "       '2016-01-28', '2016-02-28', '2016-03-28', '2016-04-28'], dtype=object)"
      ]
     },
     "execution_count": 16,
     "metadata": {},
     "output_type": "execute_result"
    }
   ],
   "source": [
    "dates[:-1]"
   ]
  },
  {
   "cell_type": "code",
   "execution_count": 17,
   "metadata": {
    "collapsed": true
   },
   "outputs": [],
   "source": [
    "df_aux = df.loc[df['fecha_dato'].isin(dates[:-1]), ['ncodpers']].join(df_targets)"
   ]
  },
  {
   "cell_type": "code",
   "execution_count": 18,
   "metadata": {
    "collapsed": false
   },
   "outputs": [],
   "source": [
    "df_aux = df_aux.groupby(['ncodpers']).sum()"
   ]
  },
  {
   "cell_type": "code",
   "execution_count": 19,
   "metadata": {
    "collapsed": false
   },
   "outputs": [],
   "source": [
    "df_aux.reset_index(inplace=True)"
   ]
  },
  {
   "cell_type": "code",
   "execution_count": 20,
   "metadata": {
    "collapsed": false
   },
   "outputs": [],
   "source": [
    "x_train = df.loc[df['fecha_dato'] == '2016-05-28']\n",
    "y_train = df_targets.loc[x_train.index].reset_index(drop=True)\n",
    "x_train = x_train.merge(df_aux, on='ncodpers', how='left')"
   ]
  },
  {
   "cell_type": "code",
   "execution_count": 21,
   "metadata": {
    "collapsed": true
   },
   "outputs": [],
   "source": [
    "x_train.replace(np.nan, 0, inplace=True)"
   ]
  },
  {
   "cell_type": "code",
   "execution_count": 22,
   "metadata": {
    "collapsed": false
   },
   "outputs": [
    {
     "data": {
      "text/plain": [
       "((920194, 52), (920194, 24))"
      ]
     },
     "execution_count": 22,
     "metadata": {},
     "output_type": "execute_result"
    }
   ],
   "source": [
    "x_train.shape, y_train.shape"
   ]
  },
  {
   "cell_type": "code",
   "execution_count": 23,
   "metadata": {
    "collapsed": false
   },
   "outputs": [],
   "source": [
    "x = x_train.drop(['fecha_dato', 'fecha_alta'], axis=1).as_matrix()\n",
    "y = y_train.as_matrix()"
   ]
  },
  {
   "cell_type": "code",
   "execution_count": 25,
   "metadata": {
    "collapsed": false
   },
   "outputs": [
    {
     "name": "stdout",
     "output_type": "stream",
     "text": [
      "CPU times: user 2min 22s, sys: 328 ms, total: 2min 22s\n",
      "Wall time: 2min 22s\n"
     ]
    }
   ],
   "source": [
    "%%time\n",
    "model = local.model(x,y, DecisionTreeClassifier())"
   ]
  },
  {
   "cell_type": "code",
   "execution_count": 26,
   "metadata": {
    "collapsed": true
   },
   "outputs": [],
   "source": [
    "df_aux = df.loc[:, ['ncodpers']].join(df_targets)\n",
    "df_aux = df_aux.groupby(['ncodpers']).sum()\n",
    "df_aux.reset_index(inplace=True)\n",
    "\n",
    "x_test = df_test.merge(df_aux, on='ncodpers', how='left')\n",
    "\n",
    "x_test.isnull().sum()\n",
    "\n",
    "x_test.replace(np.nan, 0, inplace=True)\n",
    "\n",
    "x_test = x_test.drop(['fecha_dato', 'fecha_alta'], axis=1).as_matrix()"
   ]
  },
  {
   "cell_type": "code",
   "execution_count": 27,
   "metadata": {
    "collapsed": false
   },
   "outputs": [
    {
     "name": "stdout",
     "output_type": "stream",
     "text": [
      "CPU times: user 6.48 s, sys: 552 ms, total: 7.03 s\n",
      "Wall time: 7.02 s\n"
     ]
    }
   ],
   "source": [
    "%%time\n",
    "probs, preds = local.calculatePredsProbs(x_test, model)"
   ]
  },
  {
   "cell_type": "code",
   "execution_count": 28,
   "metadata": {
    "collapsed": false
   },
   "outputs": [
    {
     "name": "stdout",
     "output_type": "stream",
     "text": [
      "results/submissions/2018-07-27-h21-35-50_submission.csv\n",
      "CPU times: user 20 s, sys: 912 ms, total: 20.9 s\n",
      "Wall time: 22.1 s\n"
     ]
    }
   ],
   "source": [
    "%%time\n",
    "x_prev = df.loc[df['fecha_dato'] == '2016-05-28']\n",
    "y_prev = df_targets.loc[x_prev.index]\n",
    "\n",
    "subm = local.processPredictions(probs, preds, x_prev, df_test, y_prev, env='submit')"
   ]
  },
  {
   "cell_type": "code",
   "execution_count": 29,
   "metadata": {
    "collapsed": false,
    "scrolled": true
   },
   "outputs": [
    {
     "name": "stdout",
     "output_type": "stream",
     "text": [
      "2018-07-27-h21-35-50_submission.csv\n",
      "/home/sergioml/.local/lib/python2.7/site-packages/urllib3/contrib/socks.py:37: DependencyWarning: SOCKS support in urllib3 requires the installation of optional dependencies: specifically, PySocks.  For more information, see https://urllib3.readthedocs.io/en/latest/contrib.html#socks-proxies\n",
      "  DependencyWarning\n",
      "Warning: Looks like you're using an outdated API Version, please consider updating (server 1.4.2 / client 1.3.12)\n",
      "Successfully submitted to Santander Product Recommendation\n",
      "real\t0m19.335s\n",
      "user\t0m1.260s\n",
      "sys\t0m0.304s\n"
     ]
    }
   ],
   "source": [
    "!bash results/submissions/kaggle_submission \"DT, Mayo 2016, con información de todos los productos usados hasta el momento, ORIGINAL\""
   ]
  },
  {
   "cell_type": "markdown",
   "metadata": {},
   "source": [
    "---\n",
    "#### Anterior experimento con purchasers"
   ]
  },
  {
   "cell_type": "code",
   "execution_count": 30,
   "metadata": {
    "collapsed": true
   },
   "outputs": [],
   "source": [
    "df_aux = df_purchasers.loc[df_purchasers['fecha_dato'].isin(dates[:-1]), ['ncodpers']].join(df_targets.loc[df_purchasers.index])\n",
    "\n",
    "df_aux = df_aux.groupby(['ncodpers']).sum()\n",
    "\n",
    "df_aux.reset_index(inplace=True)\n",
    "\n",
    "x_train = df_purchasers.loc[df_purchasers['fecha_dato'] == '2016-05-28']\n",
    "y_train = df_targets.loc[x_train.index].reset_index(drop=True)\n",
    "x_train = x_train.merge(df_aux, on='ncodpers', how='left')\n",
    "\n",
    "x_train.replace(np.nan, 0, inplace=True)"
   ]
  },
  {
   "cell_type": "code",
   "execution_count": 32,
   "metadata": {
    "collapsed": false
   },
   "outputs": [
    {
     "name": "stdout",
     "output_type": "stream",
     "text": [
      "CPU times: user 2.42 s, sys: 28 ms, total: 2.45 s\n",
      "Wall time: 2.45 s\n"
     ]
    }
   ],
   "source": [
    "%%time\n",
    "x = x_train.drop(['fecha_dato', 'fecha_alta'], axis=1).as_matrix()\n",
    "y = y_train.as_matrix()\n",
    "\n",
    "model = local.model(x, y, DecisionTreeClassifier())"
   ]
  },
  {
   "cell_type": "code",
   "execution_count": 33,
   "metadata": {
    "collapsed": true
   },
   "outputs": [],
   "source": [
    "df_aux = df_purchasers.loc[:, ['ncodpers']].join(df_targets)\n",
    "df_aux = df_aux.groupby(['ncodpers']).sum()\n",
    "df_aux.reset_index(inplace=True)\n",
    "\n",
    "x_test = df_test.merge(df_aux, on='ncodpers', how='left')\n",
    "\n",
    "x_test.replace(np.nan, 0, inplace=True)\n",
    "\n",
    "x_test = x_test.drop(['fecha_dato', 'fecha_alta'], axis=1).as_matrix()"
   ]
  },
  {
   "cell_type": "code",
   "execution_count": 34,
   "metadata": {
    "collapsed": false
   },
   "outputs": [
    {
     "data": {
      "text/plain": [
       "(929615, 50)"
      ]
     },
     "execution_count": 34,
     "metadata": {},
     "output_type": "execute_result"
    }
   ],
   "source": [
    "x_test.shape"
   ]
  },
  {
   "cell_type": "code",
   "execution_count": 35,
   "metadata": {
    "collapsed": false,
    "scrolled": false
   },
   "outputs": [
    {
     "name": "stdout",
     "output_type": "stream",
     "text": [
      "results/submissions/2018-07-27-h21-39-21_submission.csv\n",
      "CPU times: user 25.9 s, sys: 1.46 s, total: 27.4 s\n",
      "Wall time: 28.6 s\n"
     ]
    }
   ],
   "source": [
    "%%time\n",
    "probs, preds = local.calculatePredsProbs(x_test, model)\n",
    "\n",
    "x_prev = df.loc[df['fecha_dato'] == '2016-05-28']\n",
    "y_prev = df_targets.loc[x_prev.index]\n",
    "\n",
    "subm = local.processPredictions(probs, preds, x_prev, df_test, y_prev, env='submit')"
   ]
  },
  {
   "cell_type": "code",
   "execution_count": 36,
   "metadata": {
    "collapsed": false,
    "scrolled": true
   },
   "outputs": [
    {
     "name": "stdout",
     "output_type": "stream",
     "text": [
      "2018-07-27-h21-39-21_submission.csv\n",
      "/home/sergioml/.local/lib/python2.7/site-packages/urllib3/contrib/socks.py:37: DependencyWarning: SOCKS support in urllib3 requires the installation of optional dependencies: specifically, PySocks.  For more information, see https://urllib3.readthedocs.io/en/latest/contrib.html#socks-proxies\n",
      "  DependencyWarning\n",
      "Warning: Looks like you're using an outdated API Version, please consider updating (server 1.4.2 / client 1.3.12)\n",
      "Successfully submitted to Santander Product Recommendation\n",
      "real\t0m28.009s\n",
      "user\t0m1.440s\n",
      "sys\t0m0.412s\n"
     ]
    }
   ],
   "source": [
    "!bash results/submissions/kaggle_submission \"DT, Mayo 2016, con información de todos los productos usados hasta el momento, PURCHASERS\""
   ]
  },
  {
   "cell_type": "code",
   "execution_count": null,
   "metadata": {
    "collapsed": true
   },
   "outputs": [],
   "source": []
  },
  {
   "cell_type": "markdown",
   "metadata": {},
   "source": [
    "#### Con DecisionTree"
   ]
  },
  {
   "cell_type": "code",
   "execution_count": 100,
   "metadata": {
    "collapsed": false
   },
   "outputs": [
    {
     "name": "stdout",
     "output_type": "stream",
     "text": [
      "CPU times: user 12.6 s, sys: 36 ms, total: 12.6 s\n",
      "Wall time: 3.15 s\n"
     ]
    }
   ],
   "source": [
    "%%time\n",
    "x = x_train.drop(['fecha_dato', 'fecha_alta'], axis=1).as_matrix()\n",
    "y = y_train.as_matrix()\n",
    "\n",
    "model = local.model(x, y, DecisionTreeClassifier())"
   ]
  },
  {
   "cell_type": "code",
   "execution_count": 103,
   "metadata": {
    "collapsed": false
   },
   "outputs": [
    {
     "name": "stdout",
     "output_type": "stream",
     "text": [
      "results/submissions/2018-07-24-h15-35-18_submission.csv\n",
      "CPU times: user 2min 11s, sys: 2.08 s, total: 2min 13s\n",
      "Wall time: 33.8 s\n"
     ]
    }
   ],
   "source": [
    "%%time\n",
    "x_prev = df.loc[df['fecha_dato'] == '2016-05-28']\n",
    "y_prev = df_targets.loc[x_prev.index]\n",
    "\n",
    "subm = local.processPredictions(probs, preds, x_prev, df_test, y_prev, env='submit')"
   ]
  },
  {
   "cell_type": "code",
   "execution_count": 79,
   "metadata": {
    "collapsed": false
   },
   "outputs": [
    {
     "data": {
      "text/plain": [
       "array(['2015-01-28', '2015-02-28', '2015-03-28', '2015-04-28',\n",
       "       '2015-05-28', '2015-06-28', '2015-07-28', '2015-08-28',\n",
       "       '2015-09-28', '2015-10-28', '2015-11-28', '2015-12-28',\n",
       "       '2016-01-28', '2016-02-28', '2016-03-28', '2016-04-28', '2016-05-28'], dtype=object)"
      ]
     },
     "execution_count": 79,
     "metadata": {},
     "output_type": "execute_result"
    }
   ],
   "source": [
    "dates"
   ]
  },
  {
   "cell_type": "code",
   "execution_count": 80,
   "metadata": {
    "collapsed": false
   },
   "outputs": [
    {
     "data": {
      "text/plain": [
       "array(['2015-12-28', '2016-01-28', '2016-02-28', '2016-03-28',\n",
       "       '2016-04-28', '2016-05-28'], dtype=object)"
      ]
     },
     "execution_count": 80,
     "metadata": {},
     "output_type": "execute_result"
    }
   ],
   "source": [
    "date_range = dates[-6:]\n",
    "date_range"
   ]
  },
  {
   "cell_type": "code",
   "execution_count": 5,
   "metadata": {
    "collapsed": false
   },
   "outputs": [],
   "source": [
    "df_aux2 = df_purchasers.loc[:, ['fecha_dato']].join(df_targets.loc[df_purchasers.index])"
   ]
  },
  {
   "cell_type": "code",
   "execution_count": 6,
   "metadata": {
    "collapsed": true
   },
   "outputs": [],
   "source": [
    "df_aux2 = df_aux2.groupby(['fecha_dato']).sum()"
   ]
  },
  {
   "cell_type": "code",
   "execution_count": 7,
   "metadata": {
    "collapsed": false
   },
   "outputs": [
    {
     "data": {
      "text/html": [
       "<div>\n",
       "<table border=\"1\" class=\"dataframe\">\n",
       "  <thead>\n",
       "    <tr style=\"text-align: right;\">\n",
       "      <th></th>\n",
       "      <th>ind_ahor_fin_ult1</th>\n",
       "      <th>ind_aval_fin_ult1</th>\n",
       "      <th>ind_cco_fin_ult1</th>\n",
       "      <th>ind_cder_fin_ult1</th>\n",
       "      <th>ind_cno_fin_ult1</th>\n",
       "      <th>ind_ctju_fin_ult1</th>\n",
       "      <th>ind_ctma_fin_ult1</th>\n",
       "      <th>ind_ctop_fin_ult1</th>\n",
       "      <th>ind_ctpp_fin_ult1</th>\n",
       "      <th>ind_deco_fin_ult1</th>\n",
       "      <th>...</th>\n",
       "      <th>ind_hip_fin_ult1</th>\n",
       "      <th>ind_plan_fin_ult1</th>\n",
       "      <th>ind_pres_fin_ult1</th>\n",
       "      <th>ind_reca_fin_ult1</th>\n",
       "      <th>ind_tjcr_fin_ult1</th>\n",
       "      <th>ind_valo_fin_ult1</th>\n",
       "      <th>ind_viv_fin_ult1</th>\n",
       "      <th>ind_nomina_ult1</th>\n",
       "      <th>ind_nom_pens_ult1</th>\n",
       "      <th>ind_recibo_ult1</th>\n",
       "    </tr>\n",
       "    <tr>\n",
       "      <th>fecha_dato</th>\n",
       "      <th></th>\n",
       "      <th></th>\n",
       "      <th></th>\n",
       "      <th></th>\n",
       "      <th></th>\n",
       "      <th></th>\n",
       "      <th></th>\n",
       "      <th></th>\n",
       "      <th></th>\n",
       "      <th></th>\n",
       "      <th></th>\n",
       "      <th></th>\n",
       "      <th></th>\n",
       "      <th></th>\n",
       "      <th></th>\n",
       "      <th></th>\n",
       "      <th></th>\n",
       "      <th></th>\n",
       "      <th></th>\n",
       "      <th></th>\n",
       "      <th></th>\n",
       "    </tr>\n",
       "  </thead>\n",
       "  <tbody>\n",
       "    <tr>\n",
       "      <th>2016-01-28</th>\n",
       "      <td>1</td>\n",
       "      <td>1</td>\n",
       "      <td>15245</td>\n",
       "      <td>35</td>\n",
       "      <td>8369</td>\n",
       "      <td>31</td>\n",
       "      <td>541</td>\n",
       "      <td>3704</td>\n",
       "      <td>2194</td>\n",
       "      <td>29</td>\n",
       "      <td>...</td>\n",
       "      <td>283</td>\n",
       "      <td>668</td>\n",
       "      <td>42</td>\n",
       "      <td>4044</td>\n",
       "      <td>5931</td>\n",
       "      <td>2315</td>\n",
       "      <td>187</td>\n",
       "      <td>5614</td>\n",
       "      <td>6201</td>\n",
       "      <td>16061</td>\n",
       "    </tr>\n",
       "    <tr>\n",
       "      <th>2016-02-28</th>\n",
       "      <td>2</td>\n",
       "      <td>2</td>\n",
       "      <td>16554</td>\n",
       "      <td>32</td>\n",
       "      <td>16662</td>\n",
       "      <td>37</td>\n",
       "      <td>797</td>\n",
       "      <td>4685</td>\n",
       "      <td>3523</td>\n",
       "      <td>20</td>\n",
       "      <td>...</td>\n",
       "      <td>619</td>\n",
       "      <td>839</td>\n",
       "      <td>73</td>\n",
       "      <td>6857</td>\n",
       "      <td>8485</td>\n",
       "      <td>2651</td>\n",
       "      <td>206</td>\n",
       "      <td>12637</td>\n",
       "      <td>15977</td>\n",
       "      <td>23752</td>\n",
       "    </tr>\n",
       "    <tr>\n",
       "      <th>2016-03-28</th>\n",
       "      <td>0</td>\n",
       "      <td>2</td>\n",
       "      <td>14775</td>\n",
       "      <td>27</td>\n",
       "      <td>10376</td>\n",
       "      <td>35</td>\n",
       "      <td>680</td>\n",
       "      <td>3461</td>\n",
       "      <td>2414</td>\n",
       "      <td>23</td>\n",
       "      <td>...</td>\n",
       "      <td>403</td>\n",
       "      <td>628</td>\n",
       "      <td>48</td>\n",
       "      <td>4485</td>\n",
       "      <td>6855</td>\n",
       "      <td>1713</td>\n",
       "      <td>174</td>\n",
       "      <td>8653</td>\n",
       "      <td>9073</td>\n",
       "      <td>17787</td>\n",
       "    </tr>\n",
       "    <tr>\n",
       "      <th>2016-04-28</th>\n",
       "      <td>4</td>\n",
       "      <td>2</td>\n",
       "      <td>14742</td>\n",
       "      <td>21</td>\n",
       "      <td>9714</td>\n",
       "      <td>35</td>\n",
       "      <td>572</td>\n",
       "      <td>3510</td>\n",
       "      <td>2249</td>\n",
       "      <td>26</td>\n",
       "      <td>...</td>\n",
       "      <td>341</td>\n",
       "      <td>568</td>\n",
       "      <td>45</td>\n",
       "      <td>4809</td>\n",
       "      <td>6472</td>\n",
       "      <td>1801</td>\n",
       "      <td>151</td>\n",
       "      <td>7337</td>\n",
       "      <td>8319</td>\n",
       "      <td>17001</td>\n",
       "    </tr>\n",
       "    <tr>\n",
       "      <th>2016-05-28</th>\n",
       "      <td>3</td>\n",
       "      <td>3</td>\n",
       "      <td>14844</td>\n",
       "      <td>30</td>\n",
       "      <td>10692</td>\n",
       "      <td>77</td>\n",
       "      <td>521</td>\n",
       "      <td>3577</td>\n",
       "      <td>2475</td>\n",
       "      <td>11</td>\n",
       "      <td>...</td>\n",
       "      <td>369</td>\n",
       "      <td>577</td>\n",
       "      <td>49</td>\n",
       "      <td>4667</td>\n",
       "      <td>6800</td>\n",
       "      <td>1853</td>\n",
       "      <td>196</td>\n",
       "      <td>9148</td>\n",
       "      <td>9663</td>\n",
       "      <td>17771</td>\n",
       "    </tr>\n",
       "  </tbody>\n",
       "</table>\n",
       "<p>5 rows × 24 columns</p>\n",
       "</div>"
      ],
      "text/plain": [
       "            ind_ahor_fin_ult1  ind_aval_fin_ult1  ind_cco_fin_ult1  \\\n",
       "fecha_dato                                                           \n",
       "2016-01-28                  1                  1             15245   \n",
       "2016-02-28                  2                  2             16554   \n",
       "2016-03-28                  0                  2             14775   \n",
       "2016-04-28                  4                  2             14742   \n",
       "2016-05-28                  3                  3             14844   \n",
       "\n",
       "            ind_cder_fin_ult1  ind_cno_fin_ult1  ind_ctju_fin_ult1  \\\n",
       "fecha_dato                                                           \n",
       "2016-01-28                 35              8369                 31   \n",
       "2016-02-28                 32             16662                 37   \n",
       "2016-03-28                 27             10376                 35   \n",
       "2016-04-28                 21              9714                 35   \n",
       "2016-05-28                 30             10692                 77   \n",
       "\n",
       "            ind_ctma_fin_ult1  ind_ctop_fin_ult1  ind_ctpp_fin_ult1  \\\n",
       "fecha_dato                                                            \n",
       "2016-01-28                541               3704               2194   \n",
       "2016-02-28                797               4685               3523   \n",
       "2016-03-28                680               3461               2414   \n",
       "2016-04-28                572               3510               2249   \n",
       "2016-05-28                521               3577               2475   \n",
       "\n",
       "            ind_deco_fin_ult1       ...         ind_hip_fin_ult1  \\\n",
       "fecha_dato                          ...                            \n",
       "2016-01-28                 29       ...                      283   \n",
       "2016-02-28                 20       ...                      619   \n",
       "2016-03-28                 23       ...                      403   \n",
       "2016-04-28                 26       ...                      341   \n",
       "2016-05-28                 11       ...                      369   \n",
       "\n",
       "            ind_plan_fin_ult1  ind_pres_fin_ult1  ind_reca_fin_ult1  \\\n",
       "fecha_dato                                                            \n",
       "2016-01-28                668                 42               4044   \n",
       "2016-02-28                839                 73               6857   \n",
       "2016-03-28                628                 48               4485   \n",
       "2016-04-28                568                 45               4809   \n",
       "2016-05-28                577                 49               4667   \n",
       "\n",
       "            ind_tjcr_fin_ult1  ind_valo_fin_ult1  ind_viv_fin_ult1  \\\n",
       "fecha_dato                                                           \n",
       "2016-01-28               5931               2315               187   \n",
       "2016-02-28               8485               2651               206   \n",
       "2016-03-28               6855               1713               174   \n",
       "2016-04-28               6472               1801               151   \n",
       "2016-05-28               6800               1853               196   \n",
       "\n",
       "            ind_nomina_ult1  ind_nom_pens_ult1  ind_recibo_ult1  \n",
       "fecha_dato                                                       \n",
       "2016-01-28             5614               6201            16061  \n",
       "2016-02-28            12637              15977            23752  \n",
       "2016-03-28             8653               9073            17787  \n",
       "2016-04-28             7337               8319            17001  \n",
       "2016-05-28             9148               9663            17771  \n",
       "\n",
       "[5 rows x 24 columns]"
      ]
     },
     "execution_count": 7,
     "metadata": {},
     "output_type": "execute_result"
    }
   ],
   "source": [
    "df_aux2.tail()"
   ]
  },
  {
   "cell_type": "code",
   "execution_count": 8,
   "metadata": {
    "collapsed": false
   },
   "outputs": [],
   "source": [
    "purchases = df_aux2.loc[['2016-04-28']].as_matrix() - df_aux2.loc[['2016-03-28']].as_matrix()"
   ]
  },
  {
   "cell_type": "code",
   "execution_count": 9,
   "metadata": {
    "collapsed": false
   },
   "outputs": [],
   "source": [
    "purchases = purchases.reshape((-1, 1))"
   ]
  },
  {
   "cell_type": "code",
   "execution_count": 30,
   "metadata": {
    "collapsed": false
   },
   "outputs": [],
   "source": [
    "weighted_class = []\n",
    "\n",
    "for p in purchases:\n",
    "    if p > 0:\n",
    "        weight_one = 0.5\n",
    "        weight_zero = 1 - weight_one\n",
    "        weighted_class.append({0: weight_zero, 1: weight_one})\n",
    "    elif p < 0:\n",
    "        weight_zero = 0.5\n",
    "        weight_one = 1 - weight_zero\n",
    "        weighted_class.append({0: weight_zero, 1: weight_one})\n",
    "    else:\n",
    "        weighted_class.append({0: 1})"
   ]
  },
  {
   "cell_type": "code",
   "execution_count": 13,
   "metadata": {
    "collapsed": true
   },
   "outputs": [],
   "source": [
    "dates = df['fecha_dato'].unique()"
   ]
  },
  {
   "cell_type": "code",
   "execution_count": 15,
   "metadata": {
    "collapsed": false
   },
   "outputs": [],
   "source": [
    "df_aux = df_purchasers.loc[df_purchasers['fecha_dato'].isin(dates[:-1]), ['ncodpers']].join(df_targets.loc[df_purchasers.index])\n",
    "\n",
    "df_aux = df_aux.groupby(['ncodpers']).sum()\n",
    "\n",
    "df_aux.reset_index(inplace=True)\n",
    "\n",
    "x_train = df_purchasers.loc[df_purchasers['fecha_dato'] == '2016-05-28']\n",
    "y_train = df_targets.loc[x_train.index].reset_index(drop=True)\n",
    "x_train = x_train.merge(df_aux, on='ncodpers', how='left')\n",
    "\n",
    "x_train.replace(np.nan, 0, inplace=True)"
   ]
  },
  {
   "cell_type": "code",
   "execution_count": 32,
   "metadata": {
    "collapsed": false
   },
   "outputs": [
    {
     "name": "stdout",
     "output_type": "stream",
     "text": [
      "CPU times: user 8.39 s, sys: 208 ms, total: 8.6 s\n",
      "Wall time: 2.32 s\n"
     ]
    }
   ],
   "source": [
    "%%time\n",
    "x = x_train.drop(['fecha_dato', 'fecha_alta'], axis=1).as_matrix()\n",
    "y = y_train.as_matrix()\n",
    "\n",
    "model = local.model(x, y, RandomForestClassifier(n_jobs=4, class_weight=weighted_class))"
   ]
  },
  {
   "cell_type": "code",
   "execution_count": 27,
   "metadata": {
    "collapsed": true
   },
   "outputs": [],
   "source": [
    "df_aux = df_purchasers.loc[:, ['ncodpers']].join(df_targets)\n",
    "df_aux = df_aux.groupby(['ncodpers']).sum()\n",
    "df_aux.reset_index(inplace=True)\n",
    "\n",
    "x_test = df_test.merge(df_aux, on='ncodpers', how='left')\n",
    "\n",
    "x_test.replace(np.nan, 0, inplace=True)\n",
    "\n",
    "x_test = x_test.drop(['fecha_dato', 'fecha_alta'], axis=1).as_matrix()"
   ]
  },
  {
   "cell_type": "code",
   "execution_count": 33,
   "metadata": {
    "collapsed": false,
    "scrolled": true
   },
   "outputs": [
    {
     "name": "stdout",
     "output_type": "stream",
     "text": [
      "results/submissions/2018-07-24-h18-27-03_submission.csv\n",
      "CPU times: user 2min 26s, sys: 5.41 s, total: 2min 32s\n",
      "Wall time: 1min 24s\n"
     ]
    }
   ],
   "source": [
    "%%time\n",
    "probs, preds = local.calculatePredsProbs(x_test, model)\n",
    "\n",
    "x_prev = df.loc[df['fecha_dato'] == '2016-05-28']\n",
    "y_prev = df_targets.loc[x_prev.index]\n",
    "\n",
    "subm = local.processPredictions(probs, preds, x_prev, df_test, y_prev, env='submit')"
   ]
  },
  {
   "cell_type": "code",
   "execution_count": 34,
   "metadata": {
    "collapsed": false,
    "scrolled": true
   },
   "outputs": [
    {
     "name": "stdout",
     "output_type": "stream",
     "text": [
      "2018-07-24-h18-27-03_submission.csv\n",
      "/home/sergioml/.local/lib/python2.7/site-packages/urllib3/contrib/socks.py:37: DependencyWarning: SOCKS support in urllib3 requires the installation of optional dependencies: specifically, PySocks.  For more information, see https://urllib3.readthedocs.io/en/latest/contrib.html#socks-proxies\n",
      "  DependencyWarning\n",
      "Warning: Looks like you're using an outdated API Version, please consider updating (server 1.4.2 / client 1.3.12)\n",
      "Successfully submitted to Santander Product Recommendation\n",
      "real\t0m20.814s\n",
      "user\t0m1.396s\n",
      "sys\t0m0.376s\n"
     ]
    }
   ],
   "source": [
    "!bash results/submissions/kaggle_submission \"RF, Mayo 2016, con información de todos los productos usados hasta el momento, con pesos 0.5, PURCHASERS\""
   ]
  },
  {
   "cell_type": "markdown",
   "metadata": {},
   "source": [
    "---\n",
    "### Experimento con diferentes pesos, según la cantidad de productos comprados"
   ]
  },
  {
   "cell_type": "code",
   "execution_count": 43,
   "metadata": {
    "collapsed": false
   },
   "outputs": [
    {
     "data": {
      "text/plain": [
       "24939"
      ]
     },
     "execution_count": 43,
     "metadata": {},
     "output_type": "execute_result"
    }
   ],
   "source": [
    "cant = df_purchasers.loc[df_purchasers['fecha_dato'] == '2016-04-28'].shape[0]\n",
    "cant"
   ]
  },
  {
   "cell_type": "code",
   "execution_count": 61,
   "metadata": {
    "collapsed": false
   },
   "outputs": [],
   "source": [
    "weight1 = (cant / df_aux2.loc['2016-04-28']).values.reshape((-1, 1))"
   ]
  },
  {
   "cell_type": "code",
   "execution_count": 62,
   "metadata": {
    "collapsed": false
   },
   "outputs": [],
   "source": [
    "weight0 = cant/(cant - df_aux2.loc['2016-04-28']).values.reshape((-1, 1))"
   ]
  },
  {
   "cell_type": "code",
   "execution_count": 66,
   "metadata": {
    "collapsed": false
   },
   "outputs": [],
   "source": [
    "weights = np.hstack((weight0, weight1))"
   ]
  },
  {
   "cell_type": "code",
   "execution_count": 69,
   "metadata": {
    "collapsed": false
   },
   "outputs": [],
   "source": [
    "weighted_class = [ {0: i[0], 1:i[1]} for i in weights ]   "
   ]
  },
  {
   "cell_type": "code",
   "execution_count": 71,
   "metadata": {
    "collapsed": false
   },
   "outputs": [
    {
     "data": {
      "text/plain": [
       "((26272, 52), (26272, 24))"
      ]
     },
     "execution_count": 71,
     "metadata": {},
     "output_type": "execute_result"
    }
   ],
   "source": [
    "x_train.shape, y_train.shape"
   ]
  },
  {
   "cell_type": "code",
   "execution_count": 74,
   "metadata": {
    "collapsed": false,
    "scrolled": true
   },
   "outputs": [
    {
     "name": "stdout",
     "output_type": "stream",
     "text": [
      "CPU times: user 6.01 s, sys: 156 ms, total: 6.16 s\n",
      "Wall time: 1.94 s\n"
     ]
    }
   ],
   "source": [
    "%%time\n",
    "x = x_train.drop(['fecha_dato', 'fecha_alta'], axis=1).as_matrix()\n",
    "y = y_train.as_matrix()\n",
    "\n",
    "model = local.model(x, y, RandomForestClassifier(n_jobs=4, class_weight=weighted_class))"
   ]
  },
  {
   "cell_type": "code",
   "execution_count": 76,
   "metadata": {
    "collapsed": false,
    "scrolled": true
   },
   "outputs": [
    {
     "name": "stdout",
     "output_type": "stream",
     "text": [
      "results/submissions/2018-07-24-h18-58-18_submission.csv\n",
      "CPU times: user 2min 33s, sys: 5.33 s, total: 2min 38s\n",
      "Wall time: 1min 27s\n"
     ]
    }
   ],
   "source": [
    "%%time\n",
    "probs, preds = local.calculatePredsProbs(x_test, model)\n",
    "\n",
    "x_prev = df.loc[df['fecha_dato'] == '2016-05-28']\n",
    "y_prev = df_targets.loc[x_prev.index]\n",
    "\n",
    "subm = local.processPredictions(probs, preds, x_prev, df_test, y_prev, env='submit')"
   ]
  },
  {
   "cell_type": "code",
   "execution_count": 77,
   "metadata": {
    "collapsed": false,
    "scrolled": true
   },
   "outputs": [
    {
     "name": "stdout",
     "output_type": "stream",
     "text": [
      "2018-07-24-h18-58-18_submission.csv\n",
      "/home/sergioml/.local/lib/python2.7/site-packages/urllib3/contrib/socks.py:37: DependencyWarning: SOCKS support in urllib3 requires the installation of optional dependencies: specifically, PySocks.  For more information, see https://urllib3.readthedocs.io/en/latest/contrib.html#socks-proxies\n",
      "  DependencyWarning\n",
      "Warning: Looks like you're using an outdated API Version, please consider updating (server 1.4.2 / client 1.3.12)\n",
      "Successfully submitted to Santander Product Recommendation\n",
      "real\t0m17.798s\n",
      "user\t0m1.480s\n",
      "sys\t0m0.368s\n"
     ]
    }
   ],
   "source": [
    "!bash results/submissions/kaggle_submission \"RF, Mayo 2016, con información de todos los productos usados hasta el momento, con pesos proporcionales en cada producto, PURCHASERS\""
   ]
  },
  {
   "cell_type": "markdown",
   "metadata": {
    "collapsed": true
   },
   "source": [
    "### ÚLTIMA PRUEBA"
   ]
  },
  {
   "cell_type": "code",
   "execution_count": 21,
   "metadata": {
    "collapsed": true
   },
   "outputs": [],
   "source": [
    "dates = df.loc[:, 'fecha_dato'].unique()"
   ]
  },
  {
   "cell_type": "code",
   "execution_count": 22,
   "metadata": {
    "collapsed": false
   },
   "outputs": [],
   "source": [
    "df_aux = df_purchasers.loc[df_purchasers['fecha_dato'].isin(dates[:-1]), ['ncodpers']].join(df_targets.loc[df_purchasers.index])\n",
    "\n",
    "df_aux = df_aux.groupby(['ncodpers']).sum()\n",
    "\n",
    "df_aux.reset_index(inplace=True)"
   ]
  },
  {
   "cell_type": "code",
   "execution_count": 23,
   "metadata": {
    "collapsed": true
   },
   "outputs": [],
   "source": [
    "df_copy_targets = df_targets.copy()"
   ]
  },
  {
   "cell_type": "code",
   "execution_count": 12,
   "metadata": {
    "collapsed": true
   },
   "outputs": [],
   "source": [
    "df_copy_targets.drop(['ind_deme_fin_ult1', 'ind_hip_fin_ult1', 'ind_ctop_fin_ult1',\n",
    "                      'ind_viv_fin_ult1', 'ind_ctpp_fin_ult1'], axis=1, inplace=True)"
   ]
  },
  {
   "cell_type": "code",
   "execution_count": 24,
   "metadata": {
    "collapsed": false
   },
   "outputs": [
    {
     "data": {
      "text/plain": [
       "(13387956, 24)"
      ]
     },
     "execution_count": 24,
     "metadata": {},
     "output_type": "execute_result"
    }
   ],
   "source": [
    "df_copy_targets.shape"
   ]
  },
  {
   "cell_type": "code",
   "execution_count": 25,
   "metadata": {
    "collapsed": true
   },
   "outputs": [],
   "source": [
    "x_train = df_purchasers.loc[df_purchasers['fecha_dato'] == '2016-05-28']\n",
    "y_train = df_copy_targets.loc[x_train.index].reset_index(drop=True)\n",
    "x_train = x_train.merge(df_aux, on='ncodpers', how='left')\n",
    "\n",
    "x_train.replace(np.nan, 0, inplace=True)"
   ]
  },
  {
   "cell_type": "code",
   "execution_count": 26,
   "metadata": {
    "collapsed": false,
    "scrolled": true
   },
   "outputs": [
    {
     "name": "stdout",
     "output_type": "stream",
     "text": [
      "CPU times: user 6 s, sys: 252 ms, total: 6.26 s\n",
      "Wall time: 1.89 s\n"
     ]
    }
   ],
   "source": [
    "%%time\n",
    "x = x_train.drop(['fecha_dato', 'fecha_alta'], axis=1).as_matrix()\n",
    "y = y_train.as_matrix()\n",
    "\n",
    "model = local.model(x, y, RandomForestClassifier(n_jobs=4))"
   ]
  },
  {
   "cell_type": "code",
   "execution_count": 27,
   "metadata": {
    "collapsed": true
   },
   "outputs": [],
   "source": [
    "df_aux = df_purchasers.loc[:, ['ncodpers']].join(df_targets)\n",
    "df_aux = df_aux.groupby(['ncodpers']).sum()\n",
    "df_aux.reset_index(inplace=True)\n",
    "\n",
    "x_test = df_test.merge(df_aux, on='ncodpers', how='left')\n",
    "\n",
    "x_test.replace(np.nan, 0, inplace=True)\n",
    "\n",
    "x_test = x_test.drop(['fecha_dato', 'fecha_alta'], axis=1).as_matrix()"
   ]
  },
  {
   "cell_type": "code",
   "execution_count": 28,
   "metadata": {
    "collapsed": false,
    "scrolled": true
   },
   "outputs": [
    {
     "name": "stdout",
     "output_type": "stream",
     "text": [
      "results/submissions/2018-07-24-h23-30-39_submission.csv\n",
      "CPU times: user 2min 58s, sys: 7.76 s, total: 3min 6s\n",
      "Wall time: 1min 39s\n"
     ]
    }
   ],
   "source": [
    "%%time\n",
    "probs, preds = local.calculatePredsProbs(x_test, model)\n",
    "\n",
    "x_prev = df.loc[df['fecha_dato'] == '2016-05-28']\n",
    "y_prev = df_copy_targets.loc[x_prev.index]\n",
    "\n",
    "subm = local.processPredictions(probs, preds, x_prev, df_test, y_prev, env='submit')"
   ]
  },
  {
   "cell_type": "code",
   "execution_count": 29,
   "metadata": {
    "collapsed": false,
    "scrolled": true
   },
   "outputs": [
    {
     "name": "stdout",
     "output_type": "stream",
     "text": [
      "2018-07-24-h23-30-39_submission.csv\n",
      "/home/sergioml/.local/lib/python2.7/site-packages/urllib3/contrib/socks.py:37: DependencyWarning: SOCKS support in urllib3 requires the installation of optional dependencies: specifically, PySocks.  For more information, see https://urllib3.readthedocs.io/en/latest/contrib.html#socks-proxies\n",
      "  DependencyWarning\n",
      "Warning: Looks like you're using an outdated API Version, please consider updating (server 1.4.2 / client 1.3.12)\n",
      "Successfully submitted to Santander Product Recommendation\n",
      "real\t0m25.899s\n",
      "user\t0m1.304s\n",
      "sys\t0m0.448s\n"
     ]
    }
   ],
   "source": [
    "!bash results/submissions/kaggle_submission \"RF, Mayo 2016, con información de todos los productos usados hasta el momento, PURCHASERS, V2\""
   ]
  },
  {
   "cell_type": "markdown",
   "metadata": {
    "collapsed": true
   },
   "source": [
    "---\n",
    "### EXPERIMENTOS FINALES PARA EL LIBRO "
   ]
  },
  {
   "cell_type": "code",
   "execution_count": null,
   "metadata": {
    "collapsed": true
   },
   "outputs": [],
   "source": []
  },
  {
   "cell_type": "code",
   "execution_count": null,
   "metadata": {
    "collapsed": true
   },
   "outputs": [],
   "source": []
  },
  {
   "cell_type": "code",
   "execution_count": null,
   "metadata": {
    "collapsed": true
   },
   "outputs": [],
   "source": []
  },
  {
   "cell_type": "code",
   "execution_count": null,
   "metadata": {
    "collapsed": true
   },
   "outputs": [],
   "source": []
  }
 ],
 "metadata": {
  "kernelspec": {
   "display_name": "Python 3 + Anaconda",
   "language": "python",
   "name": "pyconda3"
  },
  "language_info": {
   "codemirror_mode": {
    "name": "ipython",
    "version": 3
   },
   "file_extension": ".py",
   "mimetype": "text/x-python",
   "name": "python",
   "nbconvert_exporter": "python",
   "pygments_lexer": "ipython3",
   "version": "3.5.1"
  }
 },
 "nbformat": 4,
 "nbformat_minor": 0
}
