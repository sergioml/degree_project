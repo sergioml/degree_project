{
 "cells": [
  {
   "cell_type": "markdown",
   "metadata": {},
   "source": [
    "## Experimentos finales PARTE II"
   ]
  },
  {
   "cell_type": "code",
   "execution_count": 1,
   "metadata": {
    "collapsed": true
   },
   "outputs": [],
   "source": [
    "import numpy as np\n",
    "import pandas as pd\n",
    "import matplotlib.pyplot as plt\n",
    "\n",
    "%matplotlib inline"
   ]
  },
  {
   "cell_type": "code",
   "execution_count": 2,
   "metadata": {
    "collapsed": false
   },
   "outputs": [
    {
     "data": {
      "text/plain": [
       "<module 'scripts.local_environment' from '/home/sergioml/degree_project/scripts/local_environment.py'>"
      ]
     },
     "execution_count": 2,
     "metadata": {},
     "output_type": "execute_result"
    }
   ],
   "source": [
    "import scripts.local_environment as local\n",
    "import importlib\n",
    "\n",
    "importlib.reload(local)"
   ]
  },
  {
   "cell_type": "code",
   "execution_count": 3,
   "metadata": {
    "collapsed": true
   },
   "outputs": [],
   "source": [
    "from sklearn.ensemble import RandomForestClassifier\n",
    "from sklearn.tree import DecisionTreeClassifier"
   ]
  },
  {
   "cell_type": "code",
   "execution_count": 4,
   "metadata": {
    "collapsed": true
   },
   "outputs": [],
   "source": [
    "df = pd.read_csv('data/clean/train_clean.csv')\n",
    "df_targets = pd.read_csv('data/clean/train_labels.csv')\n",
    "\n",
    "df_test = pd.read_csv('data/clean/test_clean.csv')\n",
    "\n",
    "df_purchasers = pd.read_csv('data/clean/train_purchasers.csv', index_col='index')"
   ]
  },
  {
   "cell_type": "markdown",
   "metadata": {
    "collapsed": true
   },
   "source": [
    "### Experimento Mayo 2016 \n",
    "#### Experimento con *purchasers* y RandomForest"
   ]
  },
  {
   "cell_type": "code",
   "execution_count": 10,
   "metadata": {
    "collapsed": false
   },
   "outputs": [
    {
     "name": "stdout",
     "output_type": "stream",
     "text": [
      "results/submissions/2018-07-20-h16-52-11_submission.csv\n",
      "CPU times: user 2min 26s, sys: 4.21 s, total: 2min 30s\n",
      "Wall time: 1min 21s\n"
     ]
    }
   ],
   "source": [
    "%%time\n",
    "x_train = df_purchasers[df_purchasers['fecha_dato'] == '2016-05-28']\n",
    "y_train = df_targets.loc[x_train.index]\n",
    "\n",
    "x = x_train.drop(['fecha_dato', 'fecha_alta'], axis=1).as_matrix()\n",
    "y = y_train.as_matrix()\n",
    "\n",
    "model = local.model(x, y, RandomForestClassifier(n_jobs=4))\n",
    "\n",
    "x_test = df_test.drop(['fecha_dato', 'fecha_alta'], axis=1).as_matrix()\n",
    "probs, preds = local.calculatePredsProbs(x_test, model)\n",
    "\n",
    "subm = local.processPredictions(probs=probs, preds=preds, df_prev=x_train, df_test=df_test, df_targets=y_train, env='submit')"
   ]
  },
  {
   "cell_type": "code",
   "execution_count": 11,
   "metadata": {
    "collapsed": false
   },
   "outputs": [
    {
     "name": "stdout",
     "output_type": "stream",
     "text": [
      "2018-07-20-h16-52-11_submission.csv\n",
      "/home/sergioml/.local/lib/python2.7/site-packages/urllib3/contrib/socks.py:37: DependencyWarning: SOCKS support in urllib3 requires the installation of optional dependencies: specifically, PySocks.  For more information, see https://urllib3.readthedocs.io/en/latest/contrib.html#socks-proxies\n",
      "  DependencyWarning\n",
      "Warning: Looks like you're using an outdated API Version, please consider updating (server 1.4.2 / client 1.3.12)\n",
      "Successfully submitted to Santander Product Recommendation\n",
      "real\t0m46.450s\n",
      "user\t0m1.456s\n",
      "sys\t0m0.416s\n"
     ]
    }
   ],
   "source": [
    "!bash results/submissions/kaggle_submission \"RF, Mayo 2016, Compradores\""
   ]
  },
  {
   "cell_type": "markdown",
   "metadata": {},
   "source": [
    "#### Experimento con *purchasers* y DecisionTree"
   ]
  },
  {
   "cell_type": "code",
   "execution_count": 12,
   "metadata": {
    "collapsed": false
   },
   "outputs": [
    {
     "name": "stdout",
     "output_type": "stream",
     "text": [
      "results/submissions/2018-07-20-h16-53-26_submission.csv\n",
      "CPU times: user 25.5 s, sys: 800 ms, total: 26.3 s\n",
      "Wall time: 27.5 s\n"
     ]
    }
   ],
   "source": [
    "%%time\n",
    "x_train = df_purchasers[df_purchasers['fecha_dato'] == '2016-05-28']\n",
    "y_train = df_targets.loc[x_train.index]\n",
    "\n",
    "x = x_train.drop(['fecha_dato', 'fecha_alta'], axis=1).as_matrix()\n",
    "y = y_train.as_matrix()\n",
    "\n",
    "model = local.model(x, y, DecisionTreeClassifier())\n",
    "\n",
    "x_test = df_test.drop(['fecha_dato', 'fecha_alta'], axis=1).as_matrix()\n",
    "probs, preds = local.calculatePredsProbs(x_test, model)\n",
    "\n",
    "subm = local.processPredictions(probs=probs, preds=preds, df_prev=x_train, df_test=df_test, df_targets=y_train, env='submit')"
   ]
  },
  {
   "cell_type": "code",
   "execution_count": 13,
   "metadata": {
    "collapsed": false,
    "scrolled": true
   },
   "outputs": [
    {
     "name": "stdout",
     "output_type": "stream",
     "text": [
      "2018-07-20-h16-53-26_submission.csv\n",
      "/home/sergioml/.local/lib/python2.7/site-packages/urllib3/contrib/socks.py:37: DependencyWarning: SOCKS support in urllib3 requires the installation of optional dependencies: specifically, PySocks.  For more information, see https://urllib3.readthedocs.io/en/latest/contrib.html#socks-proxies\n",
      "  DependencyWarning\n",
      "Warning: Looks like you're using an outdated API Version, please consider updating (server 1.4.2 / client 1.3.12)\n",
      "Successfully submitted to Santander Product Recommendation\n",
      "real\t2m10.660s\n",
      "user\t0m1.624s\n",
      "sys\t0m0.392s\n"
     ]
    }
   ],
   "source": [
    "!bash results/submissions/kaggle_submission \"DT, Mayo 2016, Compradores\""
   ]
  },
  {
   "cell_type": "markdown",
   "metadata": {},
   "source": [
    "#### Experimento con dataset original y DecisionTree"
   ]
  },
  {
   "cell_type": "code",
   "execution_count": 14,
   "metadata": {
    "collapsed": false
   },
   "outputs": [
    {
     "name": "stdout",
     "output_type": "stream",
     "text": [
      "results/submissions/2018-07-20-h16-59-27_submission.csv\n",
      "CPU times: user 1min 42s, sys: 1.85 s, total: 1min 44s\n",
      "Wall time: 1min 45s\n"
     ]
    }
   ],
   "source": [
    "%%time\n",
    "x_train = df[df['fecha_dato'] == '2016-05-28']\n",
    "y_train = df_targets.loc[x_train.index]\n",
    "\n",
    "x = x_train.drop(['fecha_dato', 'fecha_alta'], axis=1).as_matrix()\n",
    "y = y_train.as_matrix()\n",
    "\n",
    "model = local.model(x, y, DecisionTreeClassifier())\n",
    "\n",
    "x_test = df_test.drop(['fecha_dato', 'fecha_alta'], axis=1).as_matrix()\n",
    "probs, preds = local.calculatePredsProbs(x_test, model)\n",
    "\n",
    "subm = local.processPredictions(probs=probs, preds=preds, df_prev=x_train, df_test=df_test, df_targets=y_train, env='submit')"
   ]
  },
  {
   "cell_type": "code",
   "execution_count": 15,
   "metadata": {
    "collapsed": false,
    "scrolled": true
   },
   "outputs": [
    {
     "name": "stdout",
     "output_type": "stream",
     "text": [
      "2018-07-20-h16-59-27_submission.csv\n",
      "/home/sergioml/.local/lib/python2.7/site-packages/urllib3/contrib/socks.py:37: DependencyWarning: SOCKS support in urllib3 requires the installation of optional dependencies: specifically, PySocks.  For more information, see https://urllib3.readthedocs.io/en/latest/contrib.html#socks-proxies\n",
      "  DependencyWarning\n",
      "Warning: Looks like you're using an outdated API Version, please consider updating (server 1.4.2 / client 1.3.12)\n",
      "Successfully submitted to Santander Product Recommendation\n",
      "real\t1m38.700s\n",
      "user\t0m1.492s\n",
      "sys\t0m0.420s\n"
     ]
    }
   ],
   "source": [
    "!bash results/submissions/kaggle_submission \"DT, Mayo 2016, Dataset Original\""
   ]
  },
  {
   "cell_type": "markdown",
   "metadata": {
    "collapsed": true
   },
   "source": [
    "### Experimento Junio 2015\n",
    "#### Experimento con *purchasers* y RandomForest"
   ]
  },
  {
   "cell_type": "code",
   "execution_count": 20,
   "metadata": {
    "collapsed": false
   },
   "outputs": [
    {
     "name": "stdout",
     "output_type": "stream",
     "text": [
      "results/submissions/2018-07-20-h17-11-50_submission.csv\n",
      "CPU times: user 2min 26s, sys: 4.17 s, total: 2min 31s\n",
      "Wall time: 1min 21s\n"
     ]
    }
   ],
   "source": [
    "%%time\n",
    "x_train = df_purchasers[df_purchasers['fecha_dato'] == '2015-06-28']\n",
    "y_train = df_targets.loc[x_train.index]\n",
    "\n",
    "x = x_train.drop(['fecha_dato', 'fecha_alta'], axis=1).as_matrix()\n",
    "y = y_train.as_matrix()\n",
    "\n",
    "model = local.model(x, y, RandomForestClassifier(n_jobs=4))\n",
    "\n",
    "x_test = df_test.drop(['fecha_dato', 'fecha_alta'], axis=1).as_matrix()\n",
    "probs, preds = local.calculatePredsProbs(x_test, model)\n",
    "\n",
    "x_prev = df_purchasers[df_purchasers['fecha_dato'] == '2016-05-28']\n",
    "subm = local.processPredictions(probs=probs, preds=preds, df_prev=x_prev, df_test=df_test, df_targets=y_train, env='submit')"
   ]
  },
  {
   "cell_type": "code",
   "execution_count": 23,
   "metadata": {
    "collapsed": false,
    "scrolled": true
   },
   "outputs": [
    {
     "name": "stdout",
     "output_type": "stream",
     "text": [
      "2018-07-20-h17-11-50_submission.csv\n",
      "/home/sergioml/.local/lib/python2.7/site-packages/urllib3/contrib/socks.py:37: DependencyWarning: SOCKS support in urllib3 requires the installation of optional dependencies: specifically, PySocks.  For more information, see https://urllib3.readthedocs.io/en/latest/contrib.html#socks-proxies\n",
      "  DependencyWarning\n",
      "Warning: Looks like you're using an outdated API Version, please consider updating (server 1.4.2 / client 1.3.12)\n",
      "Successfully submitted to Santander Product Recommendation\n",
      "real\t1m41.797s\n",
      "user\t0m1.572s\n",
      "sys\t0m0.380s\n"
     ]
    }
   ],
   "source": [
    "!bash results/submissions/kaggle_submission \"RF, Junio 2015, purchasers, CORREGIDO\""
   ]
  },
  {
   "cell_type": "markdown",
   "metadata": {
    "collapsed": true
   },
   "source": [
    "#### Experimento con purchasers y DecisionTree"
   ]
  },
  {
   "cell_type": "code",
   "execution_count": 24,
   "metadata": {
    "collapsed": false
   },
   "outputs": [
    {
     "name": "stdout",
     "output_type": "stream",
     "text": [
      "results/submissions/2018-07-20-h17-14-12_submission.csv\n",
      "CPU times: user 26 s, sys: 760 ms, total: 26.7 s\n",
      "Wall time: 27.9 s\n"
     ]
    }
   ],
   "source": [
    "%%time\n",
    "x_train = df_purchasers[df_purchasers['fecha_dato'] == '2015-06-28']\n",
    "y_train = df_targets.loc[x_train.index]\n",
    "\n",
    "x = x_train.drop(['fecha_dato', 'fecha_alta'], axis=1).as_matrix()\n",
    "y = y_train.as_matrix()\n",
    "\n",
    "model = local.model(x, y, DecisionTreeClassifier())\n",
    "\n",
    "x_test = df_test.drop(['fecha_dato', 'fecha_alta'], axis=1).as_matrix()\n",
    "probs, preds = local.calculatePredsProbs(x_test, model)\n",
    "\n",
    "x_prev = df_purchasers[df_purchasers['fecha_dato'] == '2016-05-28']\n",
    "subm = local.processPredictions(probs=probs, preds=preds, df_prev=x_prev, df_test=df_test, df_targets=y_train, env='submit')"
   ]
  },
  {
   "cell_type": "code",
   "execution_count": 25,
   "metadata": {
    "collapsed": false,
    "scrolled": true
   },
   "outputs": [
    {
     "name": "stdout",
     "output_type": "stream",
     "text": [
      "2018-07-20-h17-14-12_submission.csv\n",
      "/home/sergioml/.local/lib/python2.7/site-packages/urllib3/contrib/socks.py:37: DependencyWarning: SOCKS support in urllib3 requires the installation of optional dependencies: specifically, PySocks.  For more information, see https://urllib3.readthedocs.io/en/latest/contrib.html#socks-proxies\n",
      "  DependencyWarning\n",
      "Warning: Looks like you're using an outdated API Version, please consider updating (server 1.4.2 / client 1.3.12)\n",
      "Successfully submitted to Santander Product Recommendation\n",
      "real\t2m19.094s\n",
      "user\t0m1.616s\n",
      "sys\t0m0.440s\n"
     ]
    }
   ],
   "source": [
    "!bash results/submissions/kaggle_submission \"DT, Junio 2015, purcharsers\""
   ]
  },
  {
   "cell_type": "markdown",
   "metadata": {
    "collapsed": true
   },
   "source": [
    "#### Experimento con dataset original y DecisionTree"
   ]
  },
  {
   "cell_type": "code",
   "execution_count": 27,
   "metadata": {
    "collapsed": false
   },
   "outputs": [
    {
     "name": "stdout",
     "output_type": "stream",
     "text": [
      "results/submissions/2018-07-20-h17-20-02_submission.csv\n",
      "CPU times: user 1min 17s, sys: 1.76 s, total: 1min 18s\n",
      "Wall time: 1min 20s\n"
     ]
    }
   ],
   "source": [
    "%%time\n",
    "x_train = df[df['fecha_dato'] == '2015-06-28']\n",
    "y_train = df_targets.loc[x_train.index]\n",
    "\n",
    "x = x_train.drop(['fecha_dato', 'fecha_alta'], axis=1).as_matrix()\n",
    "y = y_train.as_matrix()\n",
    "\n",
    "model = local.model(x, y, DecisionTreeClassifier())\n",
    "\n",
    "x_test = df_test.drop(['fecha_dato', 'fecha_alta'], axis=1).as_matrix()\n",
    "probs, preds = local.calculatePredsProbs(x_test, model)\n",
    "\n",
    "x_prev = df[df['fecha_dato'] == '2016-05-28']\n",
    "subm = local.processPredictions(probs=probs, preds=preds, df_prev=x_prev, df_test=df_test, df_targets=y_train, env='submit')"
   ]
  },
  {
   "cell_type": "code",
   "execution_count": 28,
   "metadata": {
    "collapsed": false,
    "scrolled": true
   },
   "outputs": [
    {
     "name": "stdout",
     "output_type": "stream",
     "text": [
      "2018-07-20-h17-20-02_submission.csv\n",
      "/home/sergioml/.local/lib/python2.7/site-packages/urllib3/contrib/socks.py:37: DependencyWarning: SOCKS support in urllib3 requires the installation of optional dependencies: specifically, PySocks.  For more information, see https://urllib3.readthedocs.io/en/latest/contrib.html#socks-proxies\n",
      "  DependencyWarning\n",
      "Warning: Looks like you're using an outdated API Version, please consider updating (server 1.4.2 / client 1.3.12)\n",
      "Successfully submitted to Santander Product Recommendation\n",
      "real\t0m36.305s\n",
      "user\t0m1.452s\n",
      "sys\t0m0.372s\n"
     ]
    }
   ],
   "source": [
    "!bash results/submissions/kaggle_submission \"DT, Junio 2015, dataset original\""
   ]
  },
  {
   "cell_type": "markdown",
   "metadata": {
    "collapsed": true
   },
   "source": [
    "### Experimentos con pesos en los targets, purchasers\n",
    "#### Mayo 2016 de purchases y con pesos en los targets, RandomForest"
   ]
  },
  {
   "cell_type": "code",
   "execution_count": 92,
   "metadata": {
    "collapsed": false
   },
   "outputs": [
    {
     "data": {
      "text/plain": [
       "Index(['2015-12-28', '2016-01-28', '2016-02-28', '2016-03-28', '2016-04-28',\n",
       "       '2016-05-28'],\n",
       "      dtype='object', name='fecha_dato')"
      ]
     },
     "execution_count": 92,
     "metadata": {},
     "output_type": "execute_result"
    }
   ],
   "source": [
    "df_a.index[-6:]"
   ]
  },
  {
   "cell_type": "code",
   "execution_count": 88,
   "metadata": {
    "collapsed": false
   },
   "outputs": [],
   "source": [
    "df_a = df_purchasers.loc[:, ['fecha_dato']].join(df_targets.loc[df_purchasers.index])\n",
    "df_a = df_a.groupby(['fecha_dato']).sum()\n",
    "df_a.head()\n",
    "\n",
    "dates = df_a.index\n",
    "\n",
    "df_b = pd.DataFrame(columns=df_a.columns.tolist()[0:]) #dataframe products prev bought\n",
    "for i in range(1, len(dates)):\n",
    "    prev_prods = df_a.loc[df_a.index[i-1]].as_matrix()\n",
    "    act_prods = df_a.loc[df_a.index[i]].as_matrix()\n",
    "    bought_prods = act_prods - prev_prods\n",
    "    df_b.loc[i] = bought_prods\n",
    "\n",
    "df_a = df_a.reset_index().loc[:, ['fecha_dato']].join(df_b).iloc[1:]\n",
    "df_a = df_a.set_index('fecha_dato')"
   ]
  },
  {
   "cell_type": "markdown",
   "metadata": {},
   "source": [
    "##### Clases con pesos\n",
    "Con el dataframe que se hizo previamente se definen los pesos para cada uno de los productos de la siguiente manera\n",
    "* Si el producto aumenta en el último mes se le asigna un peso de 0.6 de otra forma se le asigna 0.4, si no aumenta ni disminuye el producto se ele asigna cero"
   ]
  },
  {
   "cell_type": "code",
   "execution_count": 53,
   "metadata": {
    "collapsed": true
   },
   "outputs": [],
   "source": [
    "weighted_class = []\n",
    "\n",
    "purchases = df_a.loc['2016-05-28']\n",
    "\n",
    "for p in purchases:\n",
    "    if p > 0:\n",
    "        weight_one = 0.6\n",
    "        weight_zero = 1 - weight_one\n",
    "        weighted_class.append({0: weight_zero, 1: weight_one})\n",
    "    elif p < 0:\n",
    "        weight_zero = 0.6\n",
    "        weight_one = 1 - weight_zero\n",
    "        weighted_class.append({0: weight_zero, 1: weight_one})\n",
    "    else:\n",
    "        weighted_class.append({0: 1, 1: 1})"
   ]
  },
  {
   "cell_type": "code",
   "execution_count": 48,
   "metadata": {
    "collapsed": false
   },
   "outputs": [
    {
     "name": "stdout",
     "output_type": "stream",
     "text": [
      "results/submissions/2018-07-20-h18-18-07_submission.csv\n",
      "CPU times: user 2min 27s, sys: 4.09 s, total: 2min 31s\n",
      "Wall time: 1min 21s\n"
     ]
    }
   ],
   "source": [
    "%%time\n",
    "x_train = df_purchasers[df_purchasers['fecha_dato'] == '2016-05-28']\n",
    "y_train = df_targets.loc[x_train.index]\n",
    "\n",
    "x = x_train.drop(['fecha_dato', 'ncodpers','fecha_alta'], axis=1).as_matrix()\n",
    "y = y_train.as_matrix()\n",
    "\n",
    "model = local.model(x, y, RandomForestClassifier(n_jobs=4, class_weight=weighted_class))\n",
    "\n",
    "x_test = df_test.drop(['fecha_dato', 'ncodpers','fecha_alta'], axis=1).as_matrix()\n",
    "probs, preds = local.calculatePredsProbs(x_test, model)\n",
    "\n",
    "subm = local.processPredictions(probs=probs, preds=preds, df_prev=x_train, df_test=df_test, df_targets=y_train, env='submit')"
   ]
  },
  {
   "cell_type": "code",
   "execution_count": 49,
   "metadata": {
    "collapsed": false,
    "scrolled": true
   },
   "outputs": [
    {
     "name": "stdout",
     "output_type": "stream",
     "text": [
      "2018-07-20-h18-18-07_submission.csv\n",
      "/home/sergioml/.local/lib/python2.7/site-packages/urllib3/contrib/socks.py:37: DependencyWarning: SOCKS support in urllib3 requires the installation of optional dependencies: specifically, PySocks.  For more information, see https://urllib3.readthedocs.io/en/latest/contrib.html#socks-proxies\n",
      "  DependencyWarning\n",
      "Warning: Looks like you're using an outdated API Version, please consider updating (server 1.4.2 / client 1.3.12)\n",
      "Successfully submitted to Santander Product Recommendation\n",
      "real\t0m35.317s\n",
      "user\t0m1.460s\n",
      "sys\t0m0.320s\n"
     ]
    }
   ],
   "source": [
    "!bash results/submissions/kaggle_submission \"RF, Mayo 2016, con clases pesadas 0.6 y 0.4\""
   ]
  },
  {
   "cell_type": "markdown",
   "metadata": {},
   "source": [
    "#### DecisionTree, Mayo 2016 con pesos"
   ]
  },
  {
   "cell_type": "code",
   "execution_count": 54,
   "metadata": {
    "collapsed": false
   },
   "outputs": [
    {
     "name": "stdout",
     "output_type": "stream",
     "text": [
      "results/submissions/2018-07-20-h18-29-54_submission.csv\n",
      "CPU times: user 25.3 s, sys: 792 ms, total: 26.1 s\n",
      "Wall time: 27.3 s\n"
     ]
    }
   ],
   "source": [
    "%%time\n",
    "x_train = df_purchasers[df_purchasers['fecha_dato'] == '2016-05-28']\n",
    "y_train = df_targets.loc[x_train.index]\n",
    "\n",
    "x = x_train.drop(['fecha_dato', 'ncodpers','fecha_alta'], axis=1).as_matrix()\n",
    "y = y_train.as_matrix()\n",
    "\n",
    "model = local.model(x, y, DecisionTreeClassifier(class_weight=weighted_class))\n",
    "\n",
    "x_test = df_test.drop(['fecha_dato', 'ncodpers','fecha_alta'], axis=1).as_matrix()\n",
    "probs, preds = local.calculatePredsProbs(x_test, model)\n",
    "\n",
    "subm = local.processPredictions(probs=probs, preds=preds, df_prev=x_train, df_test=df_test, df_targets=y_train, env='submit')"
   ]
  },
  {
   "cell_type": "code",
   "execution_count": 55,
   "metadata": {
    "collapsed": false,
    "scrolled": true
   },
   "outputs": [
    {
     "name": "stdout",
     "output_type": "stream",
     "text": [
      "2018-07-20-h18-29-54_submission.csv\n",
      "/home/sergioml/.local/lib/python2.7/site-packages/urllib3/contrib/socks.py:37: DependencyWarning: SOCKS support in urllib3 requires the installation of optional dependencies: specifically, PySocks.  For more information, see https://urllib3.readthedocs.io/en/latest/contrib.html#socks-proxies\n",
      "  DependencyWarning\n",
      "Warning: Looks like you're using an outdated API Version, please consider updating (server 1.4.2 / client 1.3.12)\n",
      "Successfully submitted to Santander Product Recommendation\n",
      "real\t1m3.770s\n",
      "user\t0m1.492s\n",
      "sys\t0m0.416s\n"
     ]
    }
   ],
   "source": [
    "!bash results/submissions/kaggle_submission \"DT, Mayo 2016, con clases pesadas 0.6 y 0.4, purchasers\""
   ]
  },
  {
   "cell_type": "markdown",
   "metadata": {},
   "source": [
    "##### Clases con pesos\n",
    "Con el dataframe que se hizo previamente se definen los pesos para cada uno de los productos de la siguiente manera\n",
    "* Si el producto aumenta en el último mes se le asigna un peso de 0.8 de otra forma se le asigna 0.2, si no aumenta ni disminuye el producto se ele asigna cero"
   ]
  },
  {
   "cell_type": "code",
   "execution_count": 56,
   "metadata": {
    "collapsed": true
   },
   "outputs": [],
   "source": [
    "weighted_class = []\n",
    "\n",
    "purchases = df_a.loc['2016-05-28']\n",
    "\n",
    "for p in purchases:\n",
    "    if p > 0:\n",
    "        weight_one = 0.8\n",
    "        weight_zero = 1 - weight_one\n",
    "        weighted_class.append({0: weight_zero, 1: weight_one})\n",
    "    elif p < 0:\n",
    "        weight_zero = 0.8\n",
    "        weight_one = 1 - weight_zero\n",
    "        weighted_class.append({0: weight_zero, 1: weight_one})\n",
    "    else:\n",
    "        weighted_class.append({0: 1, 1: 1})"
   ]
  },
  {
   "cell_type": "code",
   "execution_count": null,
   "metadata": {
    "collapsed": false
   },
   "outputs": [],
   "source": [
    "%%time\n",
    "x_train = df_purchasers[df_purchasers['fecha_dato'] == '2016-05-28']\n",
    "y_train = df_targets.loc[x_train.index]\n",
    "\n",
    "x = x_train.drop(['fecha_dato', 'ncodpers','fecha_alta'], axis=1).as_matrix()\n",
    "y = y_train.as_matrix()\n",
    "\n",
    "model = local.model(x, y, RandomForestClassifier(n_jobs=4, class_weight=weighted_class))\n",
    "\n",
    "x_test = df_test.drop(['fecha_dato', 'ncodpers','fecha_alta'], axis=1).as_matrix()\n",
    "probs, preds = local.calculatePredsProbs(x_test, model)\n",
    "\n",
    "subm = local.processPredictions(probs=probs, preds=preds, df_prev=x_train, df_test=df_test, df_targets=y_train, env='submit')"
   ]
  },
  {
   "cell_type": "code",
   "execution_count": null,
   "metadata": {
    "collapsed": false,
    "scrolled": true
   },
   "outputs": [],
   "source": [
    "!bash results/submissions/kaggle_submission \"RF, Mayo 2016, con clases pesadas 0.8 y 0.2\""
   ]
  },
  {
   "cell_type": "markdown",
   "metadata": {},
   "source": [
    "#### DecisionTree, Mayo 2016 con pesos, purchasers"
   ]
  },
  {
   "cell_type": "code",
   "execution_count": 57,
   "metadata": {
    "collapsed": false
   },
   "outputs": [
    {
     "name": "stdout",
     "output_type": "stream",
     "text": [
      "results/submissions/2018-07-20-h18-32-12_submission.csv\n",
      "CPU times: user 25.5 s, sys: 888 ms, total: 26.4 s\n",
      "Wall time: 27.5 s\n"
     ]
    }
   ],
   "source": [
    "%%time\n",
    "x_train = df_purchasers[df_purchasers['fecha_dato'] == '2016-05-28']\n",
    "y_train = df_targets.loc[x_train.index]\n",
    "\n",
    "x = x_train.drop(['fecha_dato', 'ncodpers','fecha_alta'], axis=1).as_matrix()\n",
    "y = y_train.as_matrix()\n",
    "\n",
    "model = local.model(x, y, DecisionTreeClassifier(class_weight=weighted_class))\n",
    "\n",
    "x_test = df_test.drop(['fecha_dato', 'ncodpers','fecha_alta'], axis=1).as_matrix()\n",
    "probs, preds = local.calculatePredsProbs(x_test, model)\n",
    "\n",
    "subm = local.processPredictions(probs=probs, preds=preds, df_prev=x_train, df_test=df_test, df_targets=y_train, env='submit')"
   ]
  },
  {
   "cell_type": "code",
   "execution_count": 58,
   "metadata": {
    "collapsed": false,
    "scrolled": true
   },
   "outputs": [
    {
     "name": "stdout",
     "output_type": "stream",
     "text": [
      "2018-07-20-h18-32-12_submission.csv\n",
      "/home/sergioml/.local/lib/python2.7/site-packages/urllib3/contrib/socks.py:37: DependencyWarning: SOCKS support in urllib3 requires the installation of optional dependencies: specifically, PySocks.  For more information, see https://urllib3.readthedocs.io/en/latest/contrib.html#socks-proxies\n",
      "  DependencyWarning\n",
      "Warning: Looks like you're using an outdated API Version, please consider updating (server 1.4.2 / client 1.3.12)\n",
      "Successfully submitted to Santander Product Recommendation\n",
      "real\t1m48.229s\n",
      "user\t0m1.636s\n",
      "sys\t0m0.352s\n"
     ]
    }
   ],
   "source": [
    "!bash results/submissions/kaggle_submission \"DT, Mayo 2016, con clases pesadas 0.8 y 0.2, purchasers\""
   ]
  },
  {
   "cell_type": "markdown",
   "metadata": {
    "collapsed": true
   },
   "source": [
    "### Experimentos con pesos en los targets, dataset original\n",
    "#### Mayo 2016 de y con pesos, DecisionTree"
   ]
  },
  {
   "cell_type": "code",
   "execution_count": 113,
   "metadata": {
    "collapsed": false
   },
   "outputs": [],
   "source": [
    "df_a = df.loc[:, ['fecha_dato']].join(df_targets.loc[df.index])\n",
    "df_a = df_a.groupby(['fecha_dato']).sum()\n",
    "df_a.head()\n",
    "\n",
    "dates = df_a.index\n",
    "\n",
    "df_b = pd.DataFrame(columns=df_a.columns.tolist()[0:]) #dataframe products prev bought\n",
    "for i in range(1, len(dates)):\n",
    "    prev_prods = df_a.loc[df_a.index[i-1]].as_matrix()\n",
    "    act_prods = df_a.loc[df_a.index[i]].as_matrix()\n",
    "    bought_prods = act_prods - prev_prods\n",
    "    df_b.loc[i] = bought_prods\n",
    "\n",
    "df_a = df_a.reset_index().loc[:, ['fecha_dato']].join(df_b).iloc[1:]\n",
    "df_a = df_a.set_index('fecha_dato')"
   ]
  },
  {
   "cell_type": "markdown",
   "metadata": {},
   "source": [
    "##### Clases con pesos\n",
    "Con el dataframe que se hizo previamente se definen los pesos para cada uno de los productos de la siguiente manera\n",
    "* Si el producto aumenta en el último mes se le asigna un peso de 0.6 de otra forma se le asigna 0.4, si no aumenta ni disminuye el producto se ele asigna cero"
   ]
  },
  {
   "cell_type": "code",
   "execution_count": 60,
   "metadata": {
    "collapsed": true
   },
   "outputs": [],
   "source": [
    "weighted_class = []\n",
    "\n",
    "purchases = df_a.loc['2016-05-28']\n",
    "\n",
    "for p in purchases:\n",
    "    if p > 0:\n",
    "        weight_one = 0.6\n",
    "        weight_zero = 1 - weight_one\n",
    "        weighted_class.append({0: weight_zero, 1: weight_one})\n",
    "    elif p < 0:\n",
    "        weight_zero = 0.6\n",
    "        weight_one = 1 - weight_zero\n",
    "        weighted_class.append({0: weight_zero, 1: weight_one})\n",
    "    else:\n",
    "        weighted_class.append({0: 1, 1: 1})"
   ]
  },
  {
   "cell_type": "code",
   "execution_count": 61,
   "metadata": {
    "collapsed": false
   },
   "outputs": [
    {
     "name": "stdout",
     "output_type": "stream",
     "text": [
      "results/submissions/2018-07-20-h18-37-54_submission.csv\n",
      "CPU times: user 1min 24s, sys: 1.78 s, total: 1min 26s\n",
      "Wall time: 1min 27s\n"
     ]
    }
   ],
   "source": [
    "%%time\n",
    "x_train = df[df['fecha_dato'] == '2016-05-28']\n",
    "y_train = df_targets.loc[x_train.index]\n",
    "\n",
    "x = x_train.drop(['fecha_dato', 'ncodpers','fecha_alta'], axis=1).as_matrix()\n",
    "y = y_train.as_matrix()\n",
    "\n",
    "model = local.model(x, y, DecisionTreeClassifier(class_weight=weighted_class))\n",
    "\n",
    "x_test = df_test.drop(['fecha_dato', 'ncodpers','fecha_alta'], axis=1).as_matrix()\n",
    "probs, preds = local.calculatePredsProbs(x_test, model)\n",
    "\n",
    "subm = local.processPredictions(probs=probs, preds=preds, df_prev=x_train, df_test=df_test, df_targets=y_train, env='submit')"
   ]
  },
  {
   "cell_type": "code",
   "execution_count": 62,
   "metadata": {
    "collapsed": false,
    "scrolled": true
   },
   "outputs": [
    {
     "name": "stdout",
     "output_type": "stream",
     "text": [
      "2018-07-20-h18-37-54_submission.csv\n",
      "/home/sergioml/.local/lib/python2.7/site-packages/urllib3/contrib/socks.py:37: DependencyWarning: SOCKS support in urllib3 requires the installation of optional dependencies: specifically, PySocks.  For more information, see https://urllib3.readthedocs.io/en/latest/contrib.html#socks-proxies\n",
      "  DependencyWarning\n",
      "Warning: Looks like you're using an outdated API Version, please consider updating (server 1.4.2 / client 1.3.12)\n",
      "Successfully submitted to Santander Product Recommendation\n",
      "real\t0m28.705s\n",
      "user\t0m1.444s\n",
      "sys\t0m0.440s\n"
     ]
    }
   ],
   "source": [
    "!bash results/submissions/kaggle_submission \"DT, Mayo 2016, con clases pesadas 0.6 y 0.4, ORIGINAL\""
   ]
  },
  {
   "cell_type": "markdown",
   "metadata": {},
   "source": [
    "##### Clases con pesos\n",
    "Con el dataframe que se hizo previamente se definen los pesos para cada uno de los productos de la siguiente manera\n",
    "* Si el producto aumenta en el último mes se le asigna un peso de 0.8 de otra forma se le asigna 0.2, si no aumenta ni disminuye el producto se ele asigna cero"
   ]
  },
  {
   "cell_type": "code",
   "execution_count": 63,
   "metadata": {
    "collapsed": true
   },
   "outputs": [],
   "source": [
    "weighted_class = []\n",
    "\n",
    "purchases = df_a.loc['2016-05-28']\n",
    "\n",
    "for p in purchases:\n",
    "    if p > 0:\n",
    "        weight_one = 0.8\n",
    "        weight_zero = 1 - weight_one\n",
    "        weighted_class.append({0: weight_zero, 1: weight_one})\n",
    "    elif p < 0:\n",
    "        weight_zero = 0.8\n",
    "        weight_one = 1 - weight_zero\n",
    "        weighted_class.append({0: weight_zero, 1: weight_one})\n",
    "    else:\n",
    "        weighted_class.append({0: 1, 1: 1})"
   ]
  },
  {
   "cell_type": "code",
   "execution_count": 64,
   "metadata": {
    "collapsed": false
   },
   "outputs": [
    {
     "name": "stdout",
     "output_type": "stream",
     "text": [
      "results/submissions/2018-07-20-h18-39-53_submission.csv\n",
      "CPU times: user 1min 26s, sys: 2.28 s, total: 1min 28s\n",
      "Wall time: 1min 29s\n"
     ]
    }
   ],
   "source": [
    "%%time\n",
    "x_train = df[df['fecha_dato'] == '2016-05-28']\n",
    "y_train = df_targets.loc[x_train.index]\n",
    "\n",
    "x = x_train.drop(['fecha_dato', 'ncodpers','fecha_alta'], axis=1).as_matrix()\n",
    "y = y_train.as_matrix()\n",
    "\n",
    "model = local.model(x, y, DecisionTreeClassifier(class_weight=weighted_class))\n",
    "\n",
    "x_test = df_test.drop(['fecha_dato', 'ncodpers','fecha_alta'], axis=1).as_matrix()\n",
    "probs, preds = local.calculatePredsProbs(x_test, model)\n",
    "\n",
    "subm = local.processPredictions(probs=probs, preds=preds, df_prev=x_train, df_test=df_test, df_targets=y_train, env='submit')"
   ]
  },
  {
   "cell_type": "code",
   "execution_count": 65,
   "metadata": {
    "collapsed": false,
    "scrolled": true
   },
   "outputs": [
    {
     "name": "stdout",
     "output_type": "stream",
     "text": [
      "2018-07-20-h18-39-53_submission.csv\n",
      "/home/sergioml/.local/lib/python2.7/site-packages/urllib3/contrib/socks.py:37: DependencyWarning: SOCKS support in urllib3 requires the installation of optional dependencies: specifically, PySocks.  For more information, see https://urllib3.readthedocs.io/en/latest/contrib.html#socks-proxies\n",
      "  DependencyWarning\n",
      "Warning: Looks like you're using an outdated API Version, please consider updating (server 1.4.2 / client 1.3.12)\n",
      "Successfully submitted to Santander Product Recommendation\n",
      "real\t1m27.860s\n",
      "user\t0m1.576s\n",
      "sys\t0m0.396s\n"
     ]
    }
   ],
   "source": [
    "!bash results/submissions/kaggle_submission \"DT, Mayo 2016, con clases pesadas 0.8 y 0.2, ORIGINAL\""
   ]
  },
  {
   "cell_type": "markdown",
   "metadata": {},
   "source": [
    "### Experimento con productos anteriores como *features*"
   ]
  },
  {
   "cell_type": "markdown",
   "metadata": {},
   "source": [
    "#### Experimento con purchasers, Mayo 2016, y RandomForest"
   ]
  },
  {
   "cell_type": "code",
   "execution_count": 66,
   "metadata": {
    "collapsed": true
   },
   "outputs": [],
   "source": [
    "prev = df_purchasers[df_purchasers['fecha_dato'] == '2016-04-28']\n",
    "last = df_purchasers[df_purchasers['fecha_dato'] == '2016-05-28']\n",
    "\n",
    "ncodpers_both_month = list(set(prev['ncodpers'].values) & set(last['ncodpers'].values))\n",
    "\n",
    "index_prev = prev.loc[prev['ncodpers'].isin(ncodpers_both_month)].index\n",
    "\n",
    "df_aux = df_targets.loc[index_prev]\n",
    "df_aux = df_aux.join(df['ncodpers'], how='inner')\n",
    "\n",
    "last = last.merge(df_aux, on='ncodpers', how='outer', right_index=True)\n",
    "last.dropna(axis=0, inplace=True)"
   ]
  },
  {
   "cell_type": "code",
   "execution_count": 69,
   "metadata": {
    "collapsed": false
   },
   "outputs": [
    {
     "name": "stdout",
     "output_type": "stream",
     "text": [
      "results/submissions/2018-07-20-h18-54-17_submission.csv\n",
      "CPU times: user 5min 30s, sys: 15.4 s, total: 5min 46s\n",
      "Wall time: 2min 26s\n"
     ]
    }
   ],
   "source": [
    "%%time\n",
    "x_train = last.copy()\n",
    "y_train = df_targets.loc[x_train.index]\n",
    "\n",
    "x = x_train.drop(['fecha_dato', 'fecha_alta', 'ncodpers'], axis=1).as_matrix()\n",
    "y = y_train.as_matrix()\n",
    "\n",
    "model = local.model(x, y, RandomForestClassifier(n_jobs=4))\n",
    "\n",
    "##Test\n",
    "prev = df_purchasers[df_purchasers['fecha_dato'] == '2016-05-28']\n",
    "last = df_test.copy()\n",
    "\n",
    "ncodpers_both_month = list(set(prev['ncodpers'].values) & set(last['ncodpers'].values))\n",
    "\n",
    "index_prev = prev.loc[prev['ncodpers'].isin(ncodpers_both_month)].index\n",
    "\n",
    "df_aux = df_targets.loc[index_prev]\n",
    "df_aux = df_aux.join(df['ncodpers'], how='inner')\n",
    "\n",
    "last = last.merge(df_aux, on='ncodpers', how='outer', right_index=True)\n",
    "last.fillna(0, inplace=True)\n",
    "\n",
    "x_test = last.drop(['fecha_dato', 'fecha_alta', 'ncodpers'], axis=1).as_matrix()\n",
    "probs, preds = local.calculatePredsProbs(x_test, model)\n",
    "\n",
    "subm = local.processPredictions(probs=probs, preds=preds, df_prev=x_train, df_test=df_test, df_targets=y_train, env='submit')"
   ]
  },
  {
   "cell_type": "code",
   "execution_count": 70,
   "metadata": {
    "collapsed": false,
    "scrolled": true
   },
   "outputs": [
    {
     "name": "stdout",
     "output_type": "stream",
     "text": [
      "2018-07-20-h18-54-17_submission.csv\n",
      "/home/sergioml/.local/lib/python2.7/site-packages/urllib3/contrib/socks.py:37: DependencyWarning: SOCKS support in urllib3 requires the installation of optional dependencies: specifically, PySocks.  For more information, see https://urllib3.readthedocs.io/en/latest/contrib.html#socks-proxies\n",
      "  DependencyWarning\n",
      "Warning: Looks like you're using an outdated API Version, please consider updating (server 1.4.2 / client 1.3.12)\n",
      "Successfully submitted to Santander Product Recommendation\n",
      "real\t1m53.888s\n",
      "user\t0m1.552s\n",
      "sys\t0m0.432s\n"
     ]
    }
   ],
   "source": [
    "!bash results/submissions/kaggle_submission \"RF, Mayo 2016 con productos del mes previo, purchasers\""
   ]
  },
  {
   "cell_type": "markdown",
   "metadata": {},
   "source": [
    "#### Experimento con purchasers, Mayo 2016, y DecisionTree"
   ]
  },
  {
   "cell_type": "code",
   "execution_count": 71,
   "metadata": {
    "collapsed": false
   },
   "outputs": [
    {
     "name": "stdout",
     "output_type": "stream",
     "text": [
      "results/submissions/2018-07-20-h18-56-39_submission.csv\n",
      "CPU times: user 25.1 s, sys: 2.01 s, total: 27.1 s\n",
      "Wall time: 28.3 s\n"
     ]
    }
   ],
   "source": [
    "%%time\n",
    "prev = df_purchasers[df_purchasers['fecha_dato'] == '2016-04-28']\n",
    "last = df_purchasers[df_purchasers['fecha_dato'] == '2016-05-28']\n",
    "\n",
    "ncodpers_both_month = list(set(prev['ncodpers'].values) & set(last['ncodpers'].values))\n",
    "\n",
    "index_prev = prev.loc[prev['ncodpers'].isin(ncodpers_both_month)].index\n",
    "\n",
    "df_aux = df_targets.loc[index_prev]\n",
    "df_aux = df_aux.join(df['ncodpers'], how='inner')\n",
    "\n",
    "last = last.merge(df_aux, on='ncodpers', how='outer', right_index=True)\n",
    "last.dropna(axis=0, inplace=True)\n",
    "\n",
    "#Train\n",
    "x_train = last.copy()\n",
    "y_train = df_targets.loc[x_train.index]\n",
    "\n",
    "x = x_train.drop(['fecha_dato', 'fecha_alta', 'ncodpers'], axis=1).as_matrix()\n",
    "y = y_train.as_matrix()\n",
    "\n",
    "model = local.model(x, y, DecisionTreeClassifier())\n",
    "\n",
    "##Test\n",
    "prev = df_purchasers[df_purchasers['fecha_dato'] == '2016-05-28']\n",
    "last = df_test.copy()\n",
    "\n",
    "ncodpers_both_month = list(set(prev['ncodpers'].values) & set(last['ncodpers'].values))\n",
    "\n",
    "index_prev = prev.loc[prev['ncodpers'].isin(ncodpers_both_month)].index\n",
    "\n",
    "df_aux = df_targets.loc[index_prev]\n",
    "df_aux = df_aux.join(df['ncodpers'], how='inner')\n",
    "\n",
    "last = last.merge(df_aux, on='ncodpers', how='outer', right_index=True)\n",
    "last.fillna(0, inplace=True)\n",
    "\n",
    "x_test = last.drop(['fecha_dato', 'fecha_alta', 'ncodpers'], axis=1).as_matrix()\n",
    "probs, preds = local.calculatePredsProbs(x_test, model)\n",
    "\n",
    "subm = local.processPredictions(probs=probs, preds=preds, df_prev=x_train, df_test=df_test, df_targets=y_train, env='submit')"
   ]
  },
  {
   "cell_type": "code",
   "execution_count": 72,
   "metadata": {
    "collapsed": false,
    "scrolled": true
   },
   "outputs": [
    {
     "name": "stdout",
     "output_type": "stream",
     "text": [
      "2018-07-20-h18-56-39_submission.csv\n",
      "/home/sergioml/.local/lib/python2.7/site-packages/urllib3/contrib/socks.py:37: DependencyWarning: SOCKS support in urllib3 requires the installation of optional dependencies: specifically, PySocks.  For more information, see https://urllib3.readthedocs.io/en/latest/contrib.html#socks-proxies\n",
      "  DependencyWarning\n",
      "Warning: Looks like you're using an outdated API Version, please consider updating (server 1.4.2 / client 1.3.12)\n",
      "Successfully submitted to Santander Product Recommendation\n",
      "real\t1m54.463s\n",
      "user\t0m1.564s\n",
      "sys\t0m0.392s\n"
     ]
    }
   ],
   "source": [
    "!bash results/submissions/kaggle_submission \"DT, Mayo 2016 con productos del mes previo, purchasers\""
   ]
  },
  {
   "cell_type": "markdown",
   "metadata": {},
   "source": [
    "### Experimento con productos anteriores como *features*"
   ]
  },
  {
   "cell_type": "markdown",
   "metadata": {},
   "source": [
    "#### Experimento con dataset original, Mayo 2016, y DecisionTree"
   ]
  },
  {
   "cell_type": "code",
   "execution_count": 73,
   "metadata": {
    "collapsed": false
   },
   "outputs": [
    {
     "name": "stdout",
     "output_type": "stream",
     "text": [
      "results/submissions/2018-07-20-h19-03-14_submission.csv\n",
      "CPU times: user 2min 14s, sys: 4.36 s, total: 2min 19s\n",
      "Wall time: 2min 20s\n"
     ]
    }
   ],
   "source": [
    "%%time\n",
    "prev = df[df['fecha_dato'] == '2016-04-28']\n",
    "last = df[df['fecha_dato'] == '2016-05-28']\n",
    "\n",
    "ncodpers_both_month = list(set(prev['ncodpers'].values) & set(last['ncodpers'].values))\n",
    "\n",
    "index_prev = prev.loc[prev['ncodpers'].isin(ncodpers_both_month)].index\n",
    "\n",
    "df_aux = df_targets.loc[index_prev]\n",
    "df_aux = df_aux.join(df['ncodpers'], how='inner')\n",
    "\n",
    "last = last.merge(df_aux, on='ncodpers', how='outer', right_index=True)\n",
    "last.dropna(axis=0, inplace=True)\n",
    "\n",
    "#Train\n",
    "x_train = last.copy()\n",
    "y_train = df_targets.loc[x_train.index]\n",
    "\n",
    "x = x_train.drop(['fecha_dato', 'fecha_alta', 'ncodpers'], axis=1).as_matrix()\n",
    "y = y_train.as_matrix()\n",
    "\n",
    "model = local.model(x, y, DecisionTreeClassifier())\n",
    "\n",
    "##Test\n",
    "prev = df[df['fecha_dato'] == '2016-05-28']\n",
    "last = df_test.copy()\n",
    "\n",
    "ncodpers_both_month = list(set(prev['ncodpers'].values) & set(last['ncodpers'].values))\n",
    "\n",
    "index_prev = prev.loc[prev['ncodpers'].isin(ncodpers_both_month)].index\n",
    "\n",
    "df_aux = df_targets.loc[index_prev]\n",
    "df_aux = df_aux.join(df['ncodpers'], how='inner')\n",
    "\n",
    "last = last.merge(df_aux, on='ncodpers', how='outer', right_index=True)\n",
    "last.fillna(0, inplace=True)\n",
    "\n",
    "x_test = last.drop(['fecha_dato', 'fecha_alta', 'ncodpers'], axis=1).as_matrix()\n",
    "probs, preds = local.calculatePredsProbs(x_test, model)\n",
    "\n",
    "subm = local.processPredictions(probs=probs, preds=preds, df_prev=x_train, df_test=df_test, df_targets=y_train, env='submit')"
   ]
  },
  {
   "cell_type": "code",
   "execution_count": 74,
   "metadata": {
    "collapsed": false,
    "scrolled": true
   },
   "outputs": [
    {
     "name": "stdout",
     "output_type": "stream",
     "text": [
      "2018-07-20-h19-03-14_submission.csv\n",
      "/home/sergioml/.local/lib/python2.7/site-packages/urllib3/contrib/socks.py:37: DependencyWarning: SOCKS support in urllib3 requires the installation of optional dependencies: specifically, PySocks.  For more information, see https://urllib3.readthedocs.io/en/latest/contrib.html#socks-proxies\n",
      "  DependencyWarning\n",
      "Warning: Looks like you're using an outdated API Version, please consider updating (server 1.4.2 / client 1.3.12)\n",
      "Successfully submitted to Santander Product Recommendation\n",
      "real\t0m29.112s\n",
      "user\t0m1.492s\n",
      "sys\t0m0.356s\n"
     ]
    }
   ],
   "source": [
    "!bash results/submissions/kaggle_submission \"DT, Mayo 2016 con productos del mes previo, ORIGINAL\""
   ]
  },
  {
   "cell_type": "markdown",
   "metadata": {},
   "source": [
    "### Experimento con Abril de 2016\n",
    "Basado en experimentos previos\n",
    "* **DATASET:** Purchasers\n",
    "* **TRAIN:** Abril 2016\n",
    "* **ALGORITMO:** DecisionTreeClassifier\n",
    "* **TEST:** Junio 2016"
   ]
  },
  {
   "cell_type": "code",
   "execution_count": 76,
   "metadata": {
    "collapsed": false
   },
   "outputs": [
    {
     "name": "stdout",
     "output_type": "stream",
     "text": [
      "results/submissions/2018-07-21-h00-03-27_submission.csv\n",
      "CPU times: user 25.5 s, sys: 936 ms, total: 26.4 s\n",
      "Wall time: 27.5 s\n"
     ]
    }
   ],
   "source": [
    "%%time\n",
    "x_train = df_purchasers[df_purchasers['fecha_dato'] == '2016-04-28']\n",
    "y_train = df_targets.loc[x_train.index]\n",
    "\n",
    "x = x_train.drop(['fecha_dato', 'fecha_alta'], axis=1).as_matrix()\n",
    "y = y_train.as_matrix()\n",
    "\n",
    "model = local.model(x, y, DecisionTreeClassifier())\n",
    "\n",
    "x_test = df_test.drop(['fecha_dato', 'fecha_alta'], axis=1).as_matrix()\n",
    "probs, preds = local.calculatePredsProbs(x_test, model)\n",
    "\n",
    "x_prev = df_purchasers[df_purchasers['fecha_dato'] == '2016-05-28']\n",
    "subm = local.processPredictions(probs=probs, preds=preds, df_prev=x_prev, df_test=df_test, df_targets=y_train, env='submit')"
   ]
  },
  {
   "cell_type": "code",
   "execution_count": 77,
   "metadata": {
    "collapsed": false,
    "scrolled": true
   },
   "outputs": [
    {
     "name": "stdout",
     "output_type": "stream",
     "text": [
      "2018-07-21-h00-03-27_submission.csv\n",
      "/home/sergioml/.local/lib/python2.7/site-packages/urllib3/contrib/socks.py:37: DependencyWarning: SOCKS support in urllib3 requires the installation of optional dependencies: specifically, PySocks.  For more information, see https://urllib3.readthedocs.io/en/latest/contrib.html#socks-proxies\n",
      "  DependencyWarning\n",
      "Warning: Looks like you're using an outdated API Version, please consider updating (server 1.4.2 / client 1.3.12)\n",
      "Successfully submitted to Santander Product Recommendation\n",
      "real\t1m47.459s\n",
      "user\t0m1.568s\n",
      "sys\t0m0.412s\n"
     ]
    }
   ],
   "source": [
    "!bash results/submissions/kaggle_submission \"DT, Abril 2016, purchasers\""
   ]
  },
  {
   "cell_type": "markdown",
   "metadata": {},
   "source": [
    "* **DATASET:** Original\n",
    "* **TRAIN:** Abril 2016\n",
    "* **ALGORITMO:** DecisionTreeClassifier\n",
    "* **TEST:** Junio 2016"
   ]
  },
  {
   "cell_type": "code",
   "execution_count": 78,
   "metadata": {
    "collapsed": false
   },
   "outputs": [
    {
     "name": "stdout",
     "output_type": "stream",
     "text": [
      "results/submissions/2018-07-21-h00-07-01_submission.csv\n",
      "CPU times: user 1min 43s, sys: 2.21 s, total: 1min 45s\n",
      "Wall time: 1min 46s\n"
     ]
    }
   ],
   "source": [
    "%%time\n",
    "x_train = df[df['fecha_dato'] == '2016-04-28']\n",
    "y_train = df_targets.loc[x_train.index]\n",
    "\n",
    "x = x_train.drop(['fecha_dato', 'fecha_alta'], axis=1).as_matrix()\n",
    "y = y_train.as_matrix()\n",
    "\n",
    "model = local.model(x, y, DecisionTreeClassifier())\n",
    "\n",
    "x_test = df_test.drop(['fecha_dato', 'fecha_alta'], axis=1).as_matrix()\n",
    "probs, preds = local.calculatePredsProbs(x_test, model)\n",
    "\n",
    "x_prev = df[df['fecha_dato'] == '2016-05-28']\n",
    "subm = local.processPredictions(probs=probs, preds=preds, df_prev=x_prev, df_test=df_test, df_targets=y_train, env='submit')"
   ]
  },
  {
   "cell_type": "code",
   "execution_count": 79,
   "metadata": {
    "collapsed": false,
    "scrolled": true
   },
   "outputs": [
    {
     "name": "stdout",
     "output_type": "stream",
     "text": [
      "2018-07-21-h00-07-01_submission.csv\n",
      "/home/sergioml/.local/lib/python2.7/site-packages/urllib3/contrib/socks.py:37: DependencyWarning: SOCKS support in urllib3 requires the installation of optional dependencies: specifically, PySocks.  For more information, see https://urllib3.readthedocs.io/en/latest/contrib.html#socks-proxies\n",
      "  DependencyWarning\n",
      "Warning: Looks like you're using an outdated API Version, please consider updating (server 1.4.2 / client 1.3.12)\n",
      "Successfully submitted to Santander Product Recommendation\n",
      "real\t0m28.957s\n",
      "user\t0m1.484s\n",
      "sys\t0m0.356s\n"
     ]
    }
   ],
   "source": [
    "!bash results/submissions/kaggle_submission \"DT, Abril 2016, ORIGINAL\""
   ]
  },
  {
   "cell_type": "markdown",
   "metadata": {},
   "source": [
    "### Experimento Mayo 2016 con PCA\n",
    "* **DATASET:** Purchases\n",
    "* **ALGORITMO:** DecisionTree\n",
    "* **TEST:** Junio 2016\n",
    "* **PCA:** 10 Componentes"
   ]
  },
  {
   "cell_type": "code",
   "execution_count": 80,
   "metadata": {
    "collapsed": true
   },
   "outputs": [],
   "source": [
    "from sklearn.decomposition import PCA"
   ]
  },
  {
   "cell_type": "code",
   "execution_count": 82,
   "metadata": {
    "collapsed": false
   },
   "outputs": [
    {
     "name": "stdout",
     "output_type": "stream",
     "text": [
      "results/submissions/2018-07-21-h01-42-09_submission.csv\n",
      "CPU times: user 35.9 s, sys: 1.17 s, total: 37.1 s\n",
      "Wall time: 32.1 s\n"
     ]
    }
   ],
   "source": [
    "%%time\n",
    "x_train = df_purchasers[df_purchasers['fecha_dato'] == '2016-05-28']\n",
    "y_train = df_targets.loc[x_train.index]\n",
    "\n",
    "x = x_train.drop(['fecha_dato', 'fecha_alta'], axis=1).as_matrix()\n",
    "pca = PCA(n_components=10)\n",
    "x = pca.fit_transform(x)\n",
    "y = y_train.as_matrix()\n",
    "\n",
    "model = local.model(x, y, DecisionTreeClassifier())\n",
    "\n",
    "x_test = df_test.drop(['fecha_dato', 'fecha_alta'], axis=1).as_matrix()\n",
    "x_test = pca.fit_transform(x_test)\n",
    "probs, preds = local.calculatePredsProbs(x_test, model)\n",
    "\n",
    "x_prev = df_purchasers[df_purchasers['fecha_dato'] == '2016-05-28']\n",
    "subm = local.processPredictions(probs=probs, preds=preds, df_prev=x_prev, df_test=df_test, df_targets=y_train, env='submit')"
   ]
  },
  {
   "cell_type": "code",
   "execution_count": 83,
   "metadata": {
    "collapsed": false,
    "scrolled": true
   },
   "outputs": [
    {
     "name": "stdout",
     "output_type": "stream",
     "text": [
      "2018-07-21-h01-42-09_submission.csv\n",
      "/home/sergioml/.local/lib/python2.7/site-packages/urllib3/contrib/socks.py:37: DependencyWarning: SOCKS support in urllib3 requires the installation of optional dependencies: specifically, PySocks.  For more information, see https://urllib3.readthedocs.io/en/latest/contrib.html#socks-proxies\n",
      "  DependencyWarning\n",
      "Warning: Looks like you're using an outdated API Version, please consider updating (server 1.4.2 / client 1.3.12)\n",
      "Successfully submitted to Santander Product Recommendation\n",
      "real\t1m34.024s\n",
      "user\t0m1.496s\n",
      "sys\t0m0.408s\n"
     ]
    }
   ],
   "source": [
    "!bash results/submissions/kaggle_submission \"RF, Mayo 2016, PCA 10 componentes, PURCHASES\""
   ]
  },
  {
   "cell_type": "markdown",
   "metadata": {},
   "source": [
    "* **DATASET:** Purchases\n",
    "* **ALGORITMO:** RandomForest\n",
    "* **TEST:** Junio 2016\n",
    "* **PCA:** 10 Componentes"
   ]
  },
  {
   "cell_type": "code",
   "execution_count": 86,
   "metadata": {
    "collapsed": false
   },
   "outputs": [
    {
     "name": "stdout",
     "output_type": "stream",
     "text": [
      "results/submissions/2018-07-21-h01-47-00_submission.csv\n",
      "CPU times: user 2min 37s, sys: 4.33 s, total: 2min 41s\n",
      "Wall time: 1min 24s\n"
     ]
    }
   ],
   "source": [
    "%%time\n",
    "x_train = df_purchasers[df_purchasers['fecha_dato'] == '2016-05-28']\n",
    "y_train = df_targets.loc[x_train.index]\n",
    "\n",
    "x = x_train.drop(['fecha_dato', 'fecha_alta'], axis=1).as_matrix()\n",
    "pca = PCA(n_components=10)\n",
    "x = pca.fit_transform(x)\n",
    "y = y_train.as_matrix()\n",
    "\n",
    "model = local.model(x, y, RandomForestClassifier(n_jobs=4))\n",
    "\n",
    "x_test = df_test.drop(['fecha_dato', 'fecha_alta'], axis=1).as_matrix()\n",
    "x_test = pca.fit_transform(x_test)\n",
    "probs, preds = local.calculatePredsProbs(x_test, model)\n",
    "\n",
    "x_prev = df_purchasers[df_purchasers['fecha_dato'] == '2016-05-28']\n",
    "subm = local.processPredictions(probs=probs, preds=preds, df_prev=x_prev, df_test=df_test, df_targets=y_train, env='submit')"
   ]
  },
  {
   "cell_type": "code",
   "execution_count": 87,
   "metadata": {
    "collapsed": false,
    "scrolled": true
   },
   "outputs": [
    {
     "name": "stdout",
     "output_type": "stream",
     "text": [
      "2018-07-21-h01-47-00_submission.csv\n",
      "/home/sergioml/.local/lib/python2.7/site-packages/urllib3/contrib/socks.py:37: DependencyWarning: SOCKS support in urllib3 requires the installation of optional dependencies: specifically, PySocks.  For more information, see https://urllib3.readthedocs.io/en/latest/contrib.html#socks-proxies\n",
      "  DependencyWarning\n",
      "Warning: Looks like you're using an outdated API Version, please consider updating (server 1.4.2 / client 1.3.12)\n",
      "Successfully submitted to Santander Product Recommendation\n",
      "real\t0m41.810s\n",
      "user\t0m1.520s\n",
      "sys\t0m0.352s\n"
     ]
    }
   ],
   "source": [
    "!bash results/submissions/kaggle_submission \"RF, Mayo 2016, PCA 10 componentes, PURCHASES\""
   ]
  },
  {
   "cell_type": "markdown",
   "metadata": {},
   "source": [
    "* **DATASET:** Purchases\n",
    "* **ALGORITMO:** RandomForest\n",
    "* **TEST:** Junio 2016\n",
    "* **PCA:** 15 Componentes"
   ]
  },
  {
   "cell_type": "code",
   "execution_count": 84,
   "metadata": {
    "collapsed": false
   },
   "outputs": [
    {
     "name": "stdout",
     "output_type": "stream",
     "text": [
      "results/submissions/2018-07-21-h01-45-11_submission.csv\n",
      "CPU times: user 2min 38s, sys: 5.02 s, total: 2min 43s\n",
      "Wall time: 1min 27s\n"
     ]
    }
   ],
   "source": [
    "%%time\n",
    "x_train = df_purchasers[df_purchasers['fecha_dato'] == '2016-05-28']\n",
    "y_train = df_targets.loc[x_train.index]\n",
    "\n",
    "x = x_train.drop(['fecha_dato', 'fecha_alta'], axis=1).as_matrix()\n",
    "pca = PCA(n_components=15)\n",
    "x = pca.fit_transform(x)\n",
    "y = y_train.as_matrix()\n",
    "\n",
    "model = local.model(x, y, RandomForestClassifierForestClassifier(n_jobs=4))\n",
    "\n",
    "x_test = df_test.drop(['fecha_dato', 'fecha_alta'], axis=1).as_matrix()\n",
    "x_test = pca.fit_transform(x_test)\n",
    "probs, preds = local.calculatePredsProbs(x_test, model)\n",
    "\n",
    "x_prev = df_purchasers[df_purchasers['fecha_dato'] == '2016-05-28']\n",
    "subm = local.processPredictions(probs=probs, preds=preds, df_prev=x_prev, df_test=df_test, df_targets=y_train, env='submit')"
   ]
  },
  {
   "cell_type": "code",
   "execution_count": 85,
   "metadata": {
    "collapsed": false,
    "scrolled": true
   },
   "outputs": [
    {
     "name": "stdout",
     "output_type": "stream",
     "text": [
      "2018-07-21-h01-45-11_submission.csv\n",
      "/home/sergioml/.local/lib/python2.7/site-packages/urllib3/contrib/socks.py:37: DependencyWarning: SOCKS support in urllib3 requires the installation of optional dependencies: specifically, PySocks.  For more information, see https://urllib3.readthedocs.io/en/latest/contrib.html#socks-proxies\n",
      "  DependencyWarning\n",
      "Warning: Looks like you're using an outdated API Version, please consider updating (server 1.4.2 / client 1.3.12)\n",
      "Successfully submitted to Santander Product Recommendation\n",
      "real\t0m23.998s\n",
      "user\t0m1.384s\n",
      "sys\t0m0.388s\n"
     ]
    }
   ],
   "source": [
    "!bash results/submissions/kaggle_submission \"RF, Mayo 2016, PCA 15 componentes, PURCHASES\""
   ]
  },
  {
   "cell_type": "markdown",
   "metadata": {},
   "source": [
    "### Experimento TODO el dataset de PURCHASES"
   ]
  },
  {
   "cell_type": "code",
   "execution_count": 90,
   "metadata": {
    "collapsed": false
   },
   "outputs": [
    {
     "name": "stdout",
     "output_type": "stream",
     "text": [
      "results/submissions/2018-07-21-h02-22-24_submission.csv\n",
      "CPU times: user 3min 51s, sys: 8.44 s, total: 3min 59s\n",
      "Wall time: 1min 47s\n"
     ]
    }
   ],
   "source": [
    "%%time\n",
    "x_train = df_purchasers.copy()\n",
    "y_train = df_targets.loc[x_train.index]\n",
    "\n",
    "x = x_train.drop(['fecha_dato', 'fecha_alta'], axis=1).as_matrix()\n",
    "y = y_train.as_matrix()\n",
    "\n",
    "model = local.model(x, y, RandomForestClassifier(n_jobs=4))\n",
    "\n",
    "x_test = df_test.drop(['fecha_dato', 'fecha_alta'], axis=1).as_matrix()\n",
    "probs, preds = local.calculatePredsProbs(x_test, model)\n",
    "\n",
    "x_prev = df_purchasers[df_purchasers['fecha_dato'] == '2016-05-28']\n",
    "subm = local.processPredictions(probs=probs, preds=preds, df_prev=x_prev, df_test=df_test, df_targets=y_train, env='submit')"
   ]
  },
  {
   "cell_type": "code",
   "execution_count": 91,
   "metadata": {
    "collapsed": false,
    "scrolled": true
   },
   "outputs": [
    {
     "name": "stdout",
     "output_type": "stream",
     "text": [
      "2018-07-21-h02-22-24_submission.csv\n",
      "/home/sergioml/.local/lib/python2.7/site-packages/urllib3/contrib/socks.py:37: DependencyWarning: SOCKS support in urllib3 requires the installation of optional dependencies: specifically, PySocks.  For more information, see https://urllib3.readthedocs.io/en/latest/contrib.html#socks-proxies\n",
      "  DependencyWarning\n",
      "Warning: Looks like you're using an outdated API Version, please consider updating (server 1.4.2 / client 1.3.12)\n",
      "Successfully submitted to Santander Product Recommendation\n",
      "real\t1m31.771s\n",
      "user\t0m1.488s\n",
      "sys\t0m0.452s\n"
     ]
    }
   ],
   "source": [
    "!bash results/submissions/kaggle_submission \"RF, Todo el dataset, PURCHASES, VERSION 2\""
   ]
  }
 ],
 "metadata": {
  "kernelspec": {
   "display_name": "Python 3 + Anaconda",
   "language": "python",
   "name": "pyconda3"
  },
  "language_info": {
   "codemirror_mode": {
    "name": "ipython",
    "version": 3
   },
   "file_extension": ".py",
   "mimetype": "text/x-python",
   "name": "python",
   "nbconvert_exporter": "python",
   "pygments_lexer": "ipython3",
   "version": "3.5.1"
  }
 },
 "nbformat": 4,
 "nbformat_minor": 0
}
