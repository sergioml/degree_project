{
 "cells": [
  {
   "cell_type": "markdown",
   "metadata": {},
   "source": [
    "## Ambiente \"local\" de pruebas\n",
    "En este notebook se hará el desarrollo del ambiente local de pruebas, en el que se incluirán las funciones necesarias y poder hacer un script final"
   ]
  },
  {
   "cell_type": "code",
   "execution_count": 1,
   "metadata": {
    "collapsed": true
   },
   "outputs": [],
   "source": [
    "import numpy as np\n",
    "import pandas as pd\n",
    "import time\n",
    "\n",
    "from sklearn.ensemble import RandomForestClassifier"
   ]
  },
  {
   "cell_type": "code",
   "execution_count": 2,
   "metadata": {
    "collapsed": false
   },
   "outputs": [],
   "source": [
    "df = pd.read_csv('data/clean/train_clean.csv')\n",
    "df_targets = pd.read_csv('data/clean/train_labels.csv')"
   ]
  },
  {
   "cell_type": "markdown",
   "metadata": {},
   "source": [
    "### Pruebas"
   ]
  },
  {
   "cell_type": "code",
   "execution_count": 186,
   "metadata": {
    "collapsed": false
   },
   "outputs": [],
   "source": [
    "x_train = df[df['fecha_dato'] == '2015-01-28']\n",
    "y_train = df_targets.loc[x_train.index]"
   ]
  },
  {
   "cell_type": "code",
   "execution_count": 13,
   "metadata": {
    "collapsed": true
   },
   "outputs": [],
   "source": [
    "x = x_train.drop(['fecha_dato', 'fecha_alta'], axis=1).as_matrix()\n",
    "y = y_train.as_matrix()"
   ]
  },
  {
   "cell_type": "code",
   "execution_count": 187,
   "metadata": {
    "collapsed": false
   },
   "outputs": [],
   "source": [
    "x_test = df[df['fecha_dato'] == '2015-02-28']\n",
    "y_test = df_targets.loc[x_test.index]"
   ]
  },
  {
   "cell_type": "code",
   "execution_count": 16,
   "metadata": {
    "collapsed": true
   },
   "outputs": [],
   "source": [
    "x_test = x_test.drop(['fecha_dato', 'fecha_alta'], axis=1).as_matrix()"
   ]
  },
  {
   "cell_type": "code",
   "execution_count": 14,
   "metadata": {
    "collapsed": true
   },
   "outputs": [],
   "source": [
    "rf = RandomForestClassifier(n_jobs=4)\n",
    "rf = model(x, y, rf)"
   ]
  },
  {
   "cell_type": "code",
   "execution_count": 145,
   "metadata": {
    "collapsed": true
   },
   "outputs": [],
   "source": [
    "probs = rf.predict_proba(x_test)\n",
    "preds = rf.predict(x_test)"
   ]
  },
  {
   "cell_type": "code",
   "execution_count": 146,
   "metadata": {
    "collapsed": false
   },
   "outputs": [
    {
     "data": {
      "text/plain": [
       "(516199, 24)"
      ]
     },
     "execution_count": 146,
     "metadata": {},
     "output_type": "execute_result"
    }
   ],
   "source": [
    "probs = pred_probs = np.array([pr.max(axis=1) for pr in probs]).T\n",
    "probs.shape"
   ]
  },
  {
   "cell_type": "code",
   "execution_count": 156,
   "metadata": {
    "collapsed": false
   },
   "outputs": [
    {
     "data": {
      "text/html": [
       "<div>\n",
       "<table border=\"1\" class=\"dataframe\">\n",
       "  <thead>\n",
       "    <tr style=\"text-align: right;\">\n",
       "      <th></th>\n",
       "      <th>level_0</th>\n",
       "      <th>index</th>\n",
       "      <th>fecha_dato</th>\n",
       "      <th>fecha_dato_year</th>\n",
       "      <th>fecha_dato_month</th>\n",
       "      <th>fecha_dato_day</th>\n",
       "      <th>ncodpers</th>\n",
       "      <th>ind_empleado</th>\n",
       "      <th>pais_residencia</th>\n",
       "      <th>sexo</th>\n",
       "      <th>...</th>\n",
       "      <th>indresi</th>\n",
       "      <th>indext</th>\n",
       "      <th>canal_entrada</th>\n",
       "      <th>indfall</th>\n",
       "      <th>tipodom</th>\n",
       "      <th>cod_prov</th>\n",
       "      <th>nomprov</th>\n",
       "      <th>ind_actividad_cliente</th>\n",
       "      <th>renta</th>\n",
       "      <th>segmento</th>\n",
       "    </tr>\n",
       "  </thead>\n",
       "  <tbody>\n",
       "    <tr>\n",
       "      <th>0</th>\n",
       "      <td>0</td>\n",
       "      <td>0</td>\n",
       "      <td>2015-01-28</td>\n",
       "      <td>2015</td>\n",
       "      <td>1</td>\n",
       "      <td>28</td>\n",
       "      <td>1375586</td>\n",
       "      <td>1</td>\n",
       "      <td>1</td>\n",
       "      <td>1</td>\n",
       "      <td>...</td>\n",
       "      <td>2</td>\n",
       "      <td>1</td>\n",
       "      <td>20</td>\n",
       "      <td>1</td>\n",
       "      <td>1.0</td>\n",
       "      <td>29.0</td>\n",
       "      <td>7</td>\n",
       "      <td>1.0</td>\n",
       "      <td>87218.10</td>\n",
       "      <td>1</td>\n",
       "    </tr>\n",
       "    <tr>\n",
       "      <th>1</th>\n",
       "      <td>1</td>\n",
       "      <td>1</td>\n",
       "      <td>2015-01-28</td>\n",
       "      <td>2015</td>\n",
       "      <td>1</td>\n",
       "      <td>28</td>\n",
       "      <td>1050611</td>\n",
       "      <td>1</td>\n",
       "      <td>1</td>\n",
       "      <td>1</td>\n",
       "      <td>...</td>\n",
       "      <td>2</td>\n",
       "      <td>2</td>\n",
       "      <td>1</td>\n",
       "      <td>1</td>\n",
       "      <td>1.0</td>\n",
       "      <td>13.0</td>\n",
       "      <td>23</td>\n",
       "      <td>0.0</td>\n",
       "      <td>35548.74</td>\n",
       "      <td>2</td>\n",
       "    </tr>\n",
       "    <tr>\n",
       "      <th>2</th>\n",
       "      <td>2</td>\n",
       "      <td>2</td>\n",
       "      <td>2015-01-28</td>\n",
       "      <td>2015</td>\n",
       "      <td>1</td>\n",
       "      <td>28</td>\n",
       "      <td>1050612</td>\n",
       "      <td>1</td>\n",
       "      <td>1</td>\n",
       "      <td>1</td>\n",
       "      <td>...</td>\n",
       "      <td>2</td>\n",
       "      <td>1</td>\n",
       "      <td>1</td>\n",
       "      <td>1</td>\n",
       "      <td>1.0</td>\n",
       "      <td>13.0</td>\n",
       "      <td>23</td>\n",
       "      <td>0.0</td>\n",
       "      <td>122179.11</td>\n",
       "      <td>2</td>\n",
       "    </tr>\n",
       "    <tr>\n",
       "      <th>3</th>\n",
       "      <td>3</td>\n",
       "      <td>3</td>\n",
       "      <td>2015-01-28</td>\n",
       "      <td>2015</td>\n",
       "      <td>1</td>\n",
       "      <td>28</td>\n",
       "      <td>1050613</td>\n",
       "      <td>1</td>\n",
       "      <td>1</td>\n",
       "      <td>1</td>\n",
       "      <td>...</td>\n",
       "      <td>2</td>\n",
       "      <td>1</td>\n",
       "      <td>7</td>\n",
       "      <td>1</td>\n",
       "      <td>1.0</td>\n",
       "      <td>50.0</td>\n",
       "      <td>6</td>\n",
       "      <td>0.0</td>\n",
       "      <td>119775.54</td>\n",
       "      <td>2</td>\n",
       "    </tr>\n",
       "    <tr>\n",
       "      <th>4</th>\n",
       "      <td>4</td>\n",
       "      <td>4</td>\n",
       "      <td>2015-01-28</td>\n",
       "      <td>2015</td>\n",
       "      <td>1</td>\n",
       "      <td>28</td>\n",
       "      <td>1050615</td>\n",
       "      <td>1</td>\n",
       "      <td>1</td>\n",
       "      <td>1</td>\n",
       "      <td>...</td>\n",
       "      <td>2</td>\n",
       "      <td>1</td>\n",
       "      <td>1</td>\n",
       "      <td>1</td>\n",
       "      <td>1.0</td>\n",
       "      <td>45.0</td>\n",
       "      <td>16</td>\n",
       "      <td>0.0</td>\n",
       "      <td>22220.04</td>\n",
       "      <td>2</td>\n",
       "    </tr>\n",
       "  </tbody>\n",
       "</table>\n",
       "<p>5 rows × 30 columns</p>\n",
       "</div>"
      ],
      "text/plain": [
       "   level_0  index  fecha_dato  fecha_dato_year  fecha_dato_month  \\\n",
       "0        0      0  2015-01-28             2015                 1   \n",
       "1        1      1  2015-01-28             2015                 1   \n",
       "2        2      2  2015-01-28             2015                 1   \n",
       "3        3      3  2015-01-28             2015                 1   \n",
       "4        4      4  2015-01-28             2015                 1   \n",
       "\n",
       "   fecha_dato_day  ncodpers  ind_empleado  pais_residencia  sexo    ...     \\\n",
       "0              28   1375586             1                1     1    ...      \n",
       "1              28   1050611             1                1     1    ...      \n",
       "2              28   1050612             1                1     1    ...      \n",
       "3              28   1050613             1                1     1    ...      \n",
       "4              28   1050615             1                1     1    ...      \n",
       "\n",
       "   indresi indext  canal_entrada  indfall  tipodom  cod_prov  nomprov  \\\n",
       "0        2      1             20        1      1.0      29.0        7   \n",
       "1        2      2              1        1      1.0      13.0       23   \n",
       "2        2      1              1        1      1.0      13.0       23   \n",
       "3        2      1              7        1      1.0      50.0        6   \n",
       "4        2      1              1        1      1.0      45.0       16   \n",
       "\n",
       "   ind_actividad_cliente      renta  segmento  \n",
       "0                    1.0   87218.10         1  \n",
       "1                    0.0   35548.74         2  \n",
       "2                    0.0  122179.11         2  \n",
       "3                    0.0  119775.54         2  \n",
       "4                    0.0   22220.04         2  \n",
       "\n",
       "[5 rows x 30 columns]"
      ]
     },
     "execution_count": 156,
     "metadata": {},
     "output_type": "execute_result"
    }
   ],
   "source": [
    "x_train.head()"
   ]
  },
  {
   "cell_type": "code",
   "execution_count": 222,
   "metadata": {
    "collapsed": false,
    "scrolled": true
   },
   "outputs": [
    {
     "name": "stdout",
     "output_type": "stream",
     "text": [
      "CPU times: user 16.4 s, sys: 356 ms, total: 16.8 s\n",
      "Wall time: 16.8 s\n"
     ]
    }
   ],
   "source": [
    "%%time\n",
    "predicted, actual = processPredictions(probs, preds, x_train, x_test, y_train, y_test)"
   ]
  },
  {
   "cell_type": "code",
   "execution_count": 223,
   "metadata": {
    "collapsed": false
   },
   "outputs": [
    {
     "name": "stdout",
     "output_type": "stream",
     "text": [
      "CPU times: user 9.91 s, sys: 236 ms, total: 10.1 s\n",
      "Wall time: 10.8 s\n"
     ]
    }
   ],
   "source": [
    "%%time\n",
    "subm = processPredictions(probs, preds, x_train, x_test, y_train, y_test, env='submit')"
   ]
  },
  {
   "cell_type": "code",
   "execution_count": 233,
   "metadata": {
    "collapsed": false
   },
   "outputs": [
    {
     "data": {
      "text/plain": [
       "1.0"
      ]
     },
     "execution_count": 233,
     "metadata": {},
     "output_type": "execute_result"
    }
   ],
   "source": [
    "n = 2\n",
    "apk(actual[n], predicted[n])"
   ]
  },
  {
   "cell_type": "code",
   "execution_count": 228,
   "metadata": {
    "collapsed": false
   },
   "outputs": [
    {
     "data": {
      "text/plain": [
       "array([[ 2, 23, 22,  1,  3,  4,  5],\n",
       "       [18, 23, 10,  1,  2,  3,  4],\n",
       "       [ 2, 23, 22,  1,  3,  4,  5],\n",
       "       [ 2, 23,  8, 22,  1,  3,  4],\n",
       "       [23, 22,  1,  2,  3,  4,  5],\n",
       "       [ 2, 23, 22,  1,  3,  4,  5],\n",
       "       [23, 21,  4, 22, 18,  7,  9],\n",
       "       [23,  2, 22,  1,  3,  4,  5],\n",
       "       [ 2, 23, 22,  1,  3,  4,  5],\n",
       "       [ 2, 23, 22,  1,  3,  4,  5]])"
      ]
     },
     "execution_count": 228,
     "metadata": {},
     "output_type": "execute_result"
    }
   ],
   "source": [
    "predicted[:10]"
   ]
  },
  {
   "cell_type": "code",
   "execution_count": 229,
   "metadata": {
    "collapsed": false
   },
   "outputs": [
    {
     "data": {
      "text/plain": [
       "[[2.0],\n",
       " [18.0],\n",
       " [2.0],\n",
       " [2.0, 8.0],\n",
       " [14.0, 15.0, 18.0, 21.0, 22.0, 23.0],\n",
       " [2.0],\n",
       " [4.0, 7.0, 18.0, 21.0, 22.0, 23.0],\n",
       " [2.0],\n",
       " [2.0, 17.0, 23.0],\n",
       " [2.0]]"
      ]
     },
     "execution_count": 229,
     "metadata": {},
     "output_type": "execute_result"
    }
   ],
   "source": [
    "actual[:10]"
   ]
  },
  {
   "cell_type": "markdown",
   "metadata": {},
   "source": [
    "### Entrenamiento del modelo"
   ]
  },
  {
   "cell_type": "code",
   "execution_count": 30,
   "metadata": {
    "collapsed": true
   },
   "outputs": [],
   "source": [
    "def model(x_train, y_train, model):\n",
    "    \"\"\"\n",
    "    Parameters\n",
    "    ----------\n",
    "    x_train: Array\n",
    "        Datos de entrenamiento previamente procesados\n",
    "    y_train: Array\n",
    "        Targets de entrenamiento\n",
    "    model: Objeto (de sklearn)\n",
    "        Algoritmo para entrenar con los paramétros configurados\n",
    "    \n",
    "    Returns\n",
    "    -------\n",
    "    model: Objeto\n",
    "        Algortimo entrenado\n",
    "    \"\"\"\n",
    "    return model.fit(x_train, y_train)"
   ]
  },
  {
   "cell_type": "markdown",
   "metadata": {},
   "source": [
    "### Predicciones"
   ]
  },
  {
   "cell_type": "code",
   "execution_count": 221,
   "metadata": {
    "collapsed": false
   },
   "outputs": [],
   "source": [
    "def processPredictions(probs=None, preds=None, df_train=None, df_test=None,\n",
    "                       df_targets=None, y_test=None, env='local', path='results/submissions/'):\n",
    "    \"\"\"\n",
    "    Procesamiento de las predicciones hechas para generar el archivo de submission\n",
    "    o los datos necesarios para hacer una validación local\n",
    "    Parameters\n",
    "    ----------\n",
    "    probs: Array\n",
    "        Probabilidades de elegir un producto - Generado por el modelo\n",
    "    preds: Array\n",
    "        Predicciones hechas por el modelo entrenado\n",
    "    df_train: DataFrame\n",
    "        Datos de entrenamiento - último mes de entrenamiento\n",
    "    df_test: DataFrame\n",
    "        Datos de test si se va a hacer una validación local, por el contrario es None por default\n",
    "    df_targets: DataFrame\n",
    "        Targets - último mes de entrenamiento\n",
    "    y_test: DataFrame\n",
    "        Targets del mes de test, sólo si env es 'local'\n",
    "    env: str (optional)\n",
    "        Indica el tipo de ejecución que se quiere hacer\n",
    "            'local': regresa dos listas para hacer la validación local - Default\n",
    "            'submit': regresa un DataFrame con el archivo de submission csv (el archivo de submission se genera\n",
    "                    y se guarda en el equipo)\n",
    "    path: str (optional)\n",
    "        Dirección de la carpeta donde se va a guardar el archivo\n",
    "    \n",
    "    Returns\n",
    "    -------\n",
    "    Si env es 'submit'\n",
    "        df_subm: DataFrame\n",
    "            DataFrame con el archivo de submission csv (el archivo de submission se genera y se guarda en el equipo)\n",
    "    Si env es 'local'\n",
    "        predicted: list\n",
    "            Una lista de listas de los productos que se predijeron\n",
    "    \n",
    "    \"\"\"\n",
    "    \n",
    "    df_train.reset_index(drop=True, inplace=True)\n",
    "    df_test.reset_index(drop=True, inplace=True)\n",
    "    df_targets.reset_index(drop=True, inplace=True)\n",
    "    \n",
    "    ncodpers_prev_month = df_train.loc[:, 'ncodpers'].values\n",
    "    ncodpers_last_month = df_test.loc[:, 'ncodpers'].values\n",
    "    \n",
    "    ncodpers_both = list(set(ncodpers_last_month) & set(ncodpers_prev_month))\n",
    "    \n",
    "    index_prev = df_train[df_train['ncodpers'].isin(ncodpers_both)].sort_values(['ncodpers']).index\n",
    "    index_last = df_test[df_test['ncodpers'].isin(ncodpers_both)].sort_values(['ncodpers']).index\n",
    "    \n",
    "    prev_prods = df_targets.loc[index_prev].as_matrix()\n",
    "    pred_prods = preds[index_last, :]\n",
    "    \n",
    "    both_prods = pred_prods - prev_prods\n",
    "    both_prods = (both_prods < 0) * 1\n",
    "    \n",
    "    preds[index_last] = both_prods\n",
    "    \n",
    "    pred_probs = (preds * probs).argsort(axis=1)\n",
    "    pred_probs = np.fliplr(pred_probs)[:, :7]\n",
    "    \n",
    "    if env == 'submit':\n",
    "        targets = np.array(df_targets.columns.tolist())\n",
    "        final_pred = [\" \".join(list(targets[p])) for p in pred_probs]\n",
    "\n",
    "        df_subm = pd.DataFrame({'ncodpers': df_test.ncodpers.values, 'added_products': final_pred})\n",
    "        name_file = path + time.strftime(\"%Y-%m-%d-h%H-%M-%S_\") + \"submission.csv\"\n",
    "        df_subm.to_csv(name_file, index=False)\n",
    "    \n",
    "        return df_subm\n",
    "    else:\n",
    "        y = y_test.as_matrix()\n",
    "        indexs = np.array([[i for i in range(y.shape[1])] * y.shape[0]]).reshape(y.shape[0], y.shape[1])\n",
    "        actual = y * indexs\n",
    "        actual = list(map(lambda x: list(np.unique(x)[1:]), actual))\n",
    "        predicted = pred_probs\n",
    "        \n",
    "        return predicted, actual"
   ]
  },
  {
   "cell_type": "markdown",
   "metadata": {
    "collapsed": true
   },
   "source": [
    "### Métrica de desempeño\n",
    "Para hacer mediciones locales"
   ]
  },
  {
   "cell_type": "code",
   "execution_count": 144,
   "metadata": {
    "collapsed": false
   },
   "outputs": [],
   "source": [
    "\"\"\"\n",
    "From github: @benhamner\n",
    "\"\"\"\n",
    "\n",
    "def apk(actual, predicted, k=10):\n",
    "    \"\"\"\n",
    "    Computes the average precision at k.\n",
    "    This function computes the average prescision at k between two lists of\n",
    "    items.\n",
    "    Parameters\n",
    "    ----------\n",
    "    actual : list\n",
    "             A list of elements that are to be predicted (order doesn't matter)\n",
    "    predicted : list\n",
    "                A list of predicted elements (order does matter)\n",
    "    k : int, optional\n",
    "        The maximum number of predicted elements\n",
    "    Returns\n",
    "    -------\n",
    "    score : double\n",
    "            The average precision at k over the input lists\n",
    "    \"\"\"\n",
    "    if len(predicted)>k:\n",
    "        predicted = predicted[:k]\n",
    "\n",
    "    score = 0.0\n",
    "    num_hits = 0.0\n",
    "\n",
    "    for i,p in enumerate(predicted):\n",
    "        if p in actual and p not in predicted[:i]:\n",
    "            num_hits += 1.0\n",
    "            score += num_hits / (i+1.0)\n",
    "\n",
    "    if not actual:\n",
    "        return 0.0\n",
    "\n",
    "    return score / min(len(actual), k)\n",
    "\n",
    "def mapk(actual, predicted, k=10):\n",
    "    \"\"\"\n",
    "    Computes the mean average precision at k.\n",
    "    This function computes the mean average prescision at k between two lists\n",
    "    of lists of items.\n",
    "    Parameters\n",
    "    ----------\n",
    "    actual : list\n",
    "             A list of lists of elements that are to be predicted \n",
    "             (order doesn't matter in the lists)\n",
    "    predicted : list\n",
    "                A list of lists of predicted elements\n",
    "                (order matters in the lists)\n",
    "    k : int, optional\n",
    "        The maximum number of predicted elements\n",
    "    Returns\n",
    "    -------\n",
    "    score : double\n",
    "            The mean average precision at k over the input lists\n",
    "    \"\"\"\n",
    "    return np.mean([apk(a,p,k) for a,p in zip(actual, predicted)])"
   ]
  },
  {
   "cell_type": "code",
   "execution_count": null,
   "metadata": {
    "collapsed": true
   },
   "outputs": [],
   "source": []
  }
 ],
 "metadata": {
  "kernelspec": {
   "display_name": "Python 3 + Anaconda",
   "language": "python",
   "name": "pyconda3"
  },
  "language_info": {
   "codemirror_mode": {
    "name": "ipython",
    "version": 3
   },
   "file_extension": ".py",
   "mimetype": "text/x-python",
   "name": "python",
   "nbconvert_exporter": "python",
   "pygments_lexer": "ipython3",
   "version": "3.5.1"
  }
 },
 "nbformat": 4,
 "nbformat_minor": 0
}
