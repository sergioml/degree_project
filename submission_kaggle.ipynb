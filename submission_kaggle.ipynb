{
 "cells": [
  {
   "cell_type": "code",
   "execution_count": 1,
   "metadata": {
    "collapsed": true
   },
   "outputs": [],
   "source": [
    "import numpy as np\n",
    "import pandas as pd\n",
    "import matplotlib.pyplot as plt\n",
    "import seaborn as sns\n",
    "from time import time\n",
    "\n",
    "%matplotlib inline"
   ]
  },
  {
   "cell_type": "markdown",
   "metadata": {},
   "source": [
    "### Carga de datos de entrenamiento y test"
   ]
  },
  {
   "cell_type": "code",
   "execution_count": 2,
   "metadata": {
    "collapsed": false
   },
   "outputs": [
    {
     "data": {
      "text/plain": [
       "((10795392, 27), (10795392, 24))"
      ]
     },
     "execution_count": 2,
     "metadata": {},
     "output_type": "execute_result"
    }
   ],
   "source": [
    "df = pd.read_csv('data/clean/train_clean_v2.csv')\n",
    "df_targets = pd.read_csv('data/clean/train_labels.csv')\n",
    "df.shape, df_targets.shape"
   ]
  },
  {
   "cell_type": "code",
   "execution_count": 3,
   "metadata": {
    "collapsed": false
   },
   "outputs": [
    {
     "data": {
      "text/html": [
       "<div>\n",
       "<table border=\"1\" class=\"dataframe\">\n",
       "  <thead>\n",
       "    <tr style=\"text-align: right;\">\n",
       "      <th></th>\n",
       "      <th>fecha_dato</th>\n",
       "      <th>ncodpers</th>\n",
       "      <th>ind_empleado</th>\n",
       "      <th>pais_residencia</th>\n",
       "      <th>sexo</th>\n",
       "      <th>age</th>\n",
       "      <th>fecha_alta</th>\n",
       "      <th>ind_nuevo</th>\n",
       "      <th>antiguedad</th>\n",
       "      <th>indrel</th>\n",
       "      <th>...</th>\n",
       "      <th>indext</th>\n",
       "      <th>conyuemp</th>\n",
       "      <th>canal_entrada</th>\n",
       "      <th>indfall</th>\n",
       "      <th>tipodom</th>\n",
       "      <th>cod_prov</th>\n",
       "      <th>nomprov</th>\n",
       "      <th>ind_actividad_cliente</th>\n",
       "      <th>renta</th>\n",
       "      <th>segmento</th>\n",
       "    </tr>\n",
       "  </thead>\n",
       "  <tbody>\n",
       "    <tr>\n",
       "      <th>0</th>\n",
       "      <td>2016-06-28</td>\n",
       "      <td>15889</td>\n",
       "      <td>F</td>\n",
       "      <td>ES</td>\n",
       "      <td>V</td>\n",
       "      <td>56</td>\n",
       "      <td>1995-01-16</td>\n",
       "      <td>0</td>\n",
       "      <td>256</td>\n",
       "      <td>1</td>\n",
       "      <td>...</td>\n",
       "      <td>N</td>\n",
       "      <td>N</td>\n",
       "      <td>KAT</td>\n",
       "      <td>N</td>\n",
       "      <td>1</td>\n",
       "      <td>28.0</td>\n",
       "      <td>MADRID</td>\n",
       "      <td>1</td>\n",
       "      <td>326124.90</td>\n",
       "      <td>01 - TOP</td>\n",
       "    </tr>\n",
       "    <tr>\n",
       "      <th>1</th>\n",
       "      <td>2016-06-28</td>\n",
       "      <td>1170544</td>\n",
       "      <td>N</td>\n",
       "      <td>ES</td>\n",
       "      <td>H</td>\n",
       "      <td>36</td>\n",
       "      <td>2013-08-28</td>\n",
       "      <td>0</td>\n",
       "      <td>34</td>\n",
       "      <td>1</td>\n",
       "      <td>...</td>\n",
       "      <td>N</td>\n",
       "      <td>NaN</td>\n",
       "      <td>KAT</td>\n",
       "      <td>N</td>\n",
       "      <td>1</td>\n",
       "      <td>3.0</td>\n",
       "      <td>ALICANTE</td>\n",
       "      <td>0</td>\n",
       "      <td>NA</td>\n",
       "      <td>02 - PARTICULARES</td>\n",
       "    </tr>\n",
       "    <tr>\n",
       "      <th>2</th>\n",
       "      <td>2016-06-28</td>\n",
       "      <td>1170545</td>\n",
       "      <td>N</td>\n",
       "      <td>ES</td>\n",
       "      <td>V</td>\n",
       "      <td>22</td>\n",
       "      <td>2013-08-28</td>\n",
       "      <td>0</td>\n",
       "      <td>34</td>\n",
       "      <td>1</td>\n",
       "      <td>...</td>\n",
       "      <td>N</td>\n",
       "      <td>NaN</td>\n",
       "      <td>KHE</td>\n",
       "      <td>N</td>\n",
       "      <td>1</td>\n",
       "      <td>15.0</td>\n",
       "      <td>CORUÑA, A</td>\n",
       "      <td>1</td>\n",
       "      <td>NA</td>\n",
       "      <td>03 - UNIVERSITARIO</td>\n",
       "    </tr>\n",
       "    <tr>\n",
       "      <th>3</th>\n",
       "      <td>2016-06-28</td>\n",
       "      <td>1170547</td>\n",
       "      <td>N</td>\n",
       "      <td>ES</td>\n",
       "      <td>H</td>\n",
       "      <td>22</td>\n",
       "      <td>2013-08-28</td>\n",
       "      <td>0</td>\n",
       "      <td>34</td>\n",
       "      <td>1</td>\n",
       "      <td>...</td>\n",
       "      <td>N</td>\n",
       "      <td>NaN</td>\n",
       "      <td>KHE</td>\n",
       "      <td>N</td>\n",
       "      <td>1</td>\n",
       "      <td>8.0</td>\n",
       "      <td>BARCELONA</td>\n",
       "      <td>0</td>\n",
       "      <td>148402.98</td>\n",
       "      <td>03 - UNIVERSITARIO</td>\n",
       "    </tr>\n",
       "    <tr>\n",
       "      <th>4</th>\n",
       "      <td>2016-06-28</td>\n",
       "      <td>1170548</td>\n",
       "      <td>N</td>\n",
       "      <td>ES</td>\n",
       "      <td>H</td>\n",
       "      <td>22</td>\n",
       "      <td>2013-08-28</td>\n",
       "      <td>0</td>\n",
       "      <td>34</td>\n",
       "      <td>1</td>\n",
       "      <td>...</td>\n",
       "      <td>N</td>\n",
       "      <td>NaN</td>\n",
       "      <td>KHE</td>\n",
       "      <td>N</td>\n",
       "      <td>1</td>\n",
       "      <td>7.0</td>\n",
       "      <td>BALEARS, ILLES</td>\n",
       "      <td>0</td>\n",
       "      <td>106885.80</td>\n",
       "      <td>03 - UNIVERSITARIO</td>\n",
       "    </tr>\n",
       "  </tbody>\n",
       "</table>\n",
       "<p>5 rows × 24 columns</p>\n",
       "</div>"
      ],
      "text/plain": [
       "  fecha_dato  ncodpers ind_empleado pais_residencia sexo  age fecha_alta  \\\n",
       "0 2016-06-28     15889            F              ES    V   56 1995-01-16   \n",
       "1 2016-06-28   1170544            N              ES    H   36 2013-08-28   \n",
       "2 2016-06-28   1170545            N              ES    V   22 2013-08-28   \n",
       "3 2016-06-28   1170547            N              ES    H   22 2013-08-28   \n",
       "4 2016-06-28   1170548            N              ES    H   22 2013-08-28   \n",
       "\n",
       "  ind_nuevo antiguedad  indrel         ...         indext conyuemp  \\\n",
       "0         0        256       1         ...              N        N   \n",
       "1         0         34       1         ...              N      NaN   \n",
       "2         0         34       1         ...              N      NaN   \n",
       "3         0         34       1         ...              N      NaN   \n",
       "4         0         34       1         ...              N      NaN   \n",
       "\n",
       "  canal_entrada indfall tipodom cod_prov         nomprov  \\\n",
       "0           KAT       N       1     28.0          MADRID   \n",
       "1           KAT       N       1      3.0        ALICANTE   \n",
       "2           KHE       N       1     15.0       CORUÑA, A   \n",
       "3           KHE       N       1      8.0       BARCELONA   \n",
       "4           KHE       N       1      7.0  BALEARS, ILLES   \n",
       "\n",
       "  ind_actividad_cliente        renta            segmento  \n",
       "0                     1    326124.90            01 - TOP  \n",
       "1                     0           NA   02 - PARTICULARES  \n",
       "2                     1           NA  03 - UNIVERSITARIO  \n",
       "3                     0    148402.98  03 - UNIVERSITARIO  \n",
       "4                     0    106885.80  03 - UNIVERSITARIO  \n",
       "\n",
       "[5 rows x 24 columns]"
      ]
     },
     "execution_count": 3,
     "metadata": {},
     "output_type": "execute_result"
    }
   ],
   "source": [
    "df_test = pd.read_csv('data/test_ver2.csv', dtype={'sexo': str, 'age': str, 'ind_nuevo': str,\n",
    "                                                    'indrel_1mes': str, 'antiguedad': str, 'ult_fec_cli_lt': str,\n",
    "                                                    'indext': str, 'conyuemp': str}, parse_dates=['fecha_dato', 'fecha_alta'])\n",
    "df_test.head()"
   ]
  },
  {
   "cell_type": "code",
   "execution_count": 4,
   "metadata": {
    "collapsed": true
   },
   "outputs": [],
   "source": [
    "df_copy = df.copy()"
   ]
  },
  {
   "cell_type": "markdown",
   "metadata": {
    "collapsed": true
   },
   "source": [
    "### Preprocesado de los datos de test\n",
    "En esta sección se le hace un preprocesado a los datos de test que consiste en:\n",
    "* Eliminar columnas que tienen muchos datos vacíos\n",
    "* Cambiar el tipo de datos de algunas columnas\n",
    "* Rellenar los datos faltantes en ciertas filas, **no se pueden eliminar filas porque en la _submission_ de Kaggle se requieren de la totalidad de registros del dataset**\n",
    "* Cambiar las variables categóricas a numéricas\n",
    "* **Se guarda el dataset de test**"
   ]
  },
  {
   "cell_type": "code",
   "execution_count": 5,
   "metadata": {
    "collapsed": false
   },
   "outputs": [
    {
     "data": {
      "text/plain": [
       "(929615, 24)"
      ]
     },
     "execution_count": 5,
     "metadata": {},
     "output_type": "execute_result"
    }
   ],
   "source": [
    "df_test.shape"
   ]
  },
  {
   "cell_type": "code",
   "execution_count": 6,
   "metadata": {
    "collapsed": false
   },
   "outputs": [],
   "source": [
    "#Eliminar columnas\n",
    "df_test.drop(labels=['conyuemp', 'ult_fec_cli_1t'], inplace=True, axis=1)"
   ]
  },
  {
   "cell_type": "code",
   "execution_count": 12,
   "metadata": {
    "collapsed": true
   },
   "outputs": [],
   "source": [
    "#Eliminar filas\n",
    "#missing = df_test[df_test.isnull().any(axis=1)]\n",
    "#missing_index = missing.index\n",
    "#df_test.drop(missing_index, inplace=True, axis=0)"
   ]
  },
  {
   "cell_type": "code",
   "execution_count": 7,
   "metadata": {
    "collapsed": true
   },
   "outputs": [],
   "source": [
    "#Cambio de tipo de variable\n",
    "df_test.age = df_test.age.astype('int64')\n",
    "df_test.ind_nuevo = df_test.ind_nuevo.astype('int64')\n",
    "df_test.antiguedad = df_test.antiguedad.astype('int64')\n",
    "df_test.indrel_1mes = df_test.indrel_1mes.astype('float64')"
   ]
  },
  {
   "cell_type": "code",
   "execution_count": 8,
   "metadata": {
    "collapsed": true
   },
   "outputs": [],
   "source": [
    "df_test.renta.replace('         NA', 0, inplace=True)"
   ]
  },
  {
   "cell_type": "code",
   "execution_count": 9,
   "metadata": {
    "collapsed": false
   },
   "outputs": [],
   "source": [
    "df_test.renta = df_test.renta.astype('float64')"
   ]
  },
  {
   "cell_type": "code",
   "execution_count": 10,
   "metadata": {
    "collapsed": false
   },
   "outputs": [],
   "source": [
    "df_test.indrel_1mes.replace(np.nan, 1, inplace=True)"
   ]
  },
  {
   "cell_type": "code",
   "execution_count": 11,
   "metadata": {
    "collapsed": true
   },
   "outputs": [],
   "source": [
    "df_test.sexo.replace(np.nan, 0, inplace=True)\n",
    "df_test.tiprel_1mes.replace(np.nan, 0, inplace=True)\n",
    "df_test.canal_entrada.replace(np.nan, 0, inplace=True)\n",
    "df_test.cod_prov.replace(np.nan, 0, inplace=True)\n",
    "df_test.nomprov.replace(np.nan, 0, inplace=True)\n",
    "df_test.segmento.replace(np.nan, 0, inplace=True)"
   ]
  },
  {
   "cell_type": "code",
   "execution_count": 13,
   "metadata": {
    "collapsed": true
   },
   "outputs": [],
   "source": [
    "#Cambio de formato de fecha\n",
    "df_test['fecha_dato_year'] = df_test.fecha_dato.dt.year\n",
    "df_test['fecha_dato_month'] = df_test.fecha_dato.dt.month\n",
    "df_test['fecha_dato_day'] = df_test.fecha_dato.dt.day\n",
    "\n",
    "df_test['fecha_alta_year'] = df_test.fecha_alta.dt.year\n",
    "df_test['fecha_alta_month'] = df_test.fecha_alta.dt.month\n",
    "df_test['fecha_alta_day'] = df_test.fecha_alta.dt.day"
   ]
  },
  {
   "cell_type": "code",
   "execution_count": 15,
   "metadata": {
    "collapsed": false
   },
   "outputs": [
    {
     "name": "stdout",
     "output_type": "stream",
     "text": [
      "ind_empleado ¡LISTO!\n",
      "pais_residencia ¡LISTO!\n",
      "sexo ¡LISTO!\n",
      "tiprel_1mes ¡LISTO!\n",
      "indresi ¡LISTO!\n",
      "indext ¡LISTO!\n",
      "canal_entrada ¡LISTO!\n",
      "indfall ¡LISTO!\n",
      "nomprov ¡LISTO!\n",
      "segmento ¡LISTO!\n",
      "CPU times: user 14min 13s, sys: 7.31 s, total: 14min 20s\n",
      "Wall time: 14min 18s\n"
     ]
    }
   ],
   "source": [
    "%%time\n",
    "#Cambio de atributos categóricos a numéricos\n",
    "cols = df_test.select_dtypes(['object']).columns\n",
    "\n",
    "for col in cols:\n",
    "    print(col, '¡LISTO!')\n",
    "    attribute_vals = df_test[col].value_counts().index\n",
    "    attribute_counts = np.arange(1, len(attribute_vals) + 1)\n",
    "    df_test.replace(attribute_vals, attribute_counts, inplace=True)"
   ]
  },
  {
   "cell_type": "code",
   "execution_count": 16,
   "metadata": {
    "collapsed": false
   },
   "outputs": [],
   "source": [
    "cols = df_test.columns.tolist()\n",
    "cols_ordered = cols[0:1] + cols[22:25] + cols[1:7] + cols[25:] + cols[7:22]"
   ]
  },
  {
   "cell_type": "code",
   "execution_count": 17,
   "metadata": {
    "collapsed": true
   },
   "outputs": [],
   "source": [
    "df_test = df_test[cols_ordered]"
   ]
  },
  {
   "cell_type": "code",
   "execution_count": 18,
   "metadata": {
    "collapsed": false
   },
   "outputs": [
    {
     "name": "stdout",
     "output_type": "stream",
     "text": [
      "CPU times: user 48.3 s, sys: 64 ms, total: 48.4 s\n",
      "Wall time: 49.8 s\n"
     ]
    }
   ],
   "source": [
    "%%time\n",
    "#Guardar\n",
    "df_test.to_csv('data/clean/test_clean.csv', index=False)"
   ]
  },
  {
   "cell_type": "markdown",
   "metadata": {},
   "source": [
    "---\n",
    "\n",
    "### Entrenamiento y testeo\n",
    "En esta sección se hace el entrenamiento de los datos y se testea. Por ahora se está usando el _RandomForestClassifier_"
   ]
  },
  {
   "cell_type": "code",
   "execution_count": 4,
   "metadata": {
    "collapsed": true
   },
   "outputs": [],
   "source": [
    "from sklearn.ensemble import RandomForestClassifier"
   ]
  },
  {
   "cell_type": "code",
   "execution_count": 5,
   "metadata": {
    "collapsed": false
   },
   "outputs": [
    {
     "data": {
      "text/plain": [
       "(929615, 28)"
      ]
     },
     "execution_count": 5,
     "metadata": {},
     "output_type": "execute_result"
    }
   ],
   "source": [
    "df_test = pd.read_csv('data/clean/test_clean.csv')\n",
    "df_test.shape"
   ]
  },
  {
   "cell_type": "markdown",
   "metadata": {},
   "source": [
    "Función de entrenamiento, testeo y generación de archivo de _submission_"
   ]
  },
  {
   "cell_type": "code",
   "execution_count": 7,
   "metadata": {
    "collapsed": false
   },
   "outputs": [],
   "source": [
    "def results(x_train, y_train, x_test, target_cols, out_file, result_file, df_result, ncodpers_last_month):\n",
    "    \n",
    "    #x_train: array de entrenamiento - features\n",
    "    #y_train: array de entrenamiento - targets\n",
    "    #targets_cols: lista de los nombres de los targets\n",
    "    #out_file: nombre del archivo txt de salida \n",
    "    #result_file: nombre del archivo csv de salida\n",
    "    #df_result: dataframe para generar el archivo de salida\n",
    "    #ncodpers_last_month: serie de ncodpers que están en el mes anterior del test\n",
    "    \n",
    "    s = time()\n",
    "    for i, col in enumerate(target_cols):\n",
    "        f = open('results/txt/' + out_file + '.txt', 'a')\n",
    "        start = time()\n",
    "        rf = RandomForestClassifier(n_jobs=4)\n",
    "        rf.fit(x_train, y_train[:, i])\n",
    "        preds = list(rf.predict(x_test))\n",
    "        df_result[col] = preds\n",
    "        end = time()\n",
    "        f.write(\"{} {} {:0.4f} min\\n\".format(i, col, (end - start)/float(60)))\n",
    "        f.close()\n",
    "\n",
    "    rs = df_result.columns.tolist()[1:]\n",
    "\n",
    "    for i in range(len(df_result)):\n",
    "        \n",
    "        ncodper = df_result.iloc[i]['ncodpers'] #Código individual\n",
    "        \n",
    "        if ncodper in ncodpers_last_month.values:\n",
    "            pre_targ = y_train[ncodpers_last_month[ncodpers_last_month == ncodper].index]\n",
    "            post_targ = df_result.iloc[i, 1:-1].as_matrix()\n",
    "            line = (pre_targ - post_targ).reshape((24))\n",
    "            df_result.iloc[i , -1] = \" \".join([rs[i] for i, t in enumerate(line) if t == -1])\n",
    "        else:\n",
    "            line = df_result.iloc[i, 1:-1].as_matrix()\n",
    "            df_result.iloc[i , -1] = \" \".join([rs[i] for i, t in enumerate(line) if t == 1])\n",
    "            \n",
    "    e = time()\n",
    "    f = open('results/txt/' + out_file + '.txt', 'a')\n",
    "    f.write(\"\\nTiempo total: {:0.4f} min\".format((e-s)/float(60)))\n",
    "    f.close()\n",
    "    df_result[['ncodpers', 'added_products']].to_csv('results/submissions/' + result_file + '.csv', index=False)"
   ]
  },
  {
   "cell_type": "markdown",
   "metadata": {},
   "source": [
    "Datos de entrenamiento"
   ]
  },
  {
   "cell_type": "code",
   "execution_count": 8,
   "metadata": {
    "collapsed": true
   },
   "outputs": [],
   "source": [
    "#Dataframe que guarda el resultado del testeo para generar el archivo de sumisión\n",
    "resultados = pd.DataFrame(columns= ['ncodpers'] + df_targets.columns.tolist() + ['added_products'])\n",
    "resultados['ncodpers'] = df_test['ncodpers']\n",
    "\n",
    "ncodpers_last_month = df_copy[df_copy.fecha_dato == df_copy.fecha_dato.value_counts().sort_index().index[-1]]['ncodpers']\n",
    "df_copy.drop(['fecha_dato', 'fecha_alta', 'ncodpers'], axis=1, inplace=True)\n",
    "\n",
    "x = df_copy.as_matrix()\n",
    "y = df_targets.as_matrix()\n",
    "\n",
    "df_test.drop(['fecha_dato', 'fecha_alta', 'ncodpers', 'ind_nuevo'], axis=1, inplace=True)\n",
    "x_test = df_test.as_matrix()"
   ]
  },
  {
   "cell_type": "code",
   "execution_count": 9,
   "metadata": {
    "collapsed": false
   },
   "outputs": [],
   "source": [
    "columns = df_targets.columns.tolist()"
   ]
  },
  {
   "cell_type": "markdown",
   "metadata": {
    "collapsed": true
   },
   "source": [
    "## Resultados\n",
    "\n",
    "#### Resultados del primer intento\n",
    "Sólo se usó RandomForestClassifier"
   ]
  },
  {
   "cell_type": "code",
   "execution_count": 96,
   "metadata": {
    "collapsed": false
   },
   "outputs": [
    {
     "data": {
      "text/plain": [
       "(929615, 26)"
      ]
     },
     "execution_count": 96,
     "metadata": {},
     "output_type": "execute_result"
    }
   ],
   "source": [
    "res = pd.read_csv('resultados_notebook.csv')\n",
    "res.shape"
   ]
  },
  {
   "cell_type": "code",
   "execution_count": 97,
   "metadata": {
    "collapsed": false
   },
   "outputs": [],
   "source": [
    "submission = res[['ncodpers', 'added_products']]"
   ]
  },
  {
   "cell_type": "code",
   "execution_count": 98,
   "metadata": {
    "collapsed": false
   },
   "outputs": [
    {
     "name": "stdout",
     "output_type": "stream",
     "text": [
      "CPU times: user 3.01 s, sys: 48 ms, total: 3.06 s\n",
      "Wall time: 3.35 s\n"
     ]
    }
   ],
   "source": [
    "%%time\n",
    "submission.to_csv('submission.csv', index=False)"
   ]
  },
  {
   "cell_type": "markdown",
   "metadata": {},
   "source": [
    "### Resultados con diferente preprocesamiento de datos\n",
    "En esta sección se muestra el testeo de datos con diferentes procesamientos de datos"
   ]
  },
  {
   "cell_type": "markdown",
   "metadata": {},
   "source": [
    "#### PCA\n",
    "Se hizo con un PCA de 10 componentes iniciando. El resto se está ejecutando a través del script correspondiente (`scripts/submissions.py`)"
   ]
  },
  {
   "cell_type": "code",
   "execution_count": 12,
   "metadata": {
    "collapsed": true
   },
   "outputs": [],
   "source": [
    "from sklearn.decomposition import PCA"
   ]
  },
  {
   "cell_type": "code",
   "execution_count": 27,
   "metadata": {
    "collapsed": false
   },
   "outputs": [
    {
     "name": "stdout",
     "output_type": "stream",
     "text": [
      "CPU times: user 1min, sys: 2.81 s, total: 1min 2s\n",
      "Wall time: 24.9 s\n"
     ]
    }
   ],
   "source": [
    "%%time\n",
    "PCA = PCA(n_components=10)\n",
    "x_train_pca = PCA.fit_transform(x)\n",
    "x_test_pca = PCA.fit_transform(x_test)"
   ]
  },
  {
   "cell_type": "code",
   "execution_count": null,
   "metadata": {
    "collapsed": true
   },
   "outputs": [],
   "source": [
    "results(x_train=x_train_pca,\n",
    "        y_train=y,\n",
    "        x_test=x_test_pca,\n",
    "        target_cols=columns,\n",
    "        out_file='out_pca_n10',\n",
    "        result_file='resultados_pca_n10',\n",
    "        df_result=resultados)"
   ]
  },
  {
   "cell_type": "code",
   "execution_count": 44,
   "metadata": {
    "collapsed": false
   },
   "outputs": [
    {
     "data": {
      "text/plain": [
       "(929615, 26)"
      ]
     },
     "execution_count": 44,
     "metadata": {},
     "output_type": "execute_result"
    }
   ],
   "source": [
    "res = pd.read_csv('scripts/results/csv/resultados_pca_n10.csv')\n",
    "res.shape"
   ]
  },
  {
   "cell_type": "code",
   "execution_count": 45,
   "metadata": {
    "collapsed": true
   },
   "outputs": [],
   "source": [
    "res[['ncodpers', 'added_products']].to_csv('submissions/pca_n10.csv', index=False)"
   ]
  },
  {
   "cell_type": "code",
   "execution_count": null,
   "metadata": {
    "collapsed": true
   },
   "outputs": [],
   "source": []
  },
  {
   "cell_type": "code",
   "execution_count": null,
   "metadata": {
    "collapsed": true
   },
   "outputs": [],
   "source": []
  },
  {
   "cell_type": "code",
   "execution_count": null,
   "metadata": {
    "collapsed": true
   },
   "outputs": [],
   "source": []
  }
 ],
 "metadata": {
  "kernelspec": {
   "display_name": "Python 3 + Anaconda",
   "language": "python",
   "name": "pyconda3"
  },
  "language_info": {
   "codemirror_mode": {
    "name": "ipython",
    "version": 3
   },
   "file_extension": ".py",
   "mimetype": "text/x-python",
   "name": "python",
   "nbconvert_exporter": "python",
   "pygments_lexer": "ipython3",
   "version": "3.5.1"
  }
 },
 "nbformat": 4,
 "nbformat_minor": 0
}
