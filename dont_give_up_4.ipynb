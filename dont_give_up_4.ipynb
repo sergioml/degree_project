{
 "cells": [
  {
   "cell_type": "markdown",
   "metadata": {},
   "source": [
    "## Experimento finales\n",
    "En este notebook se pretende tener los últimos resultados"
   ]
  },
  {
   "cell_type": "code",
   "execution_count": 1,
   "metadata": {
    "collapsed": true
   },
   "outputs": [],
   "source": [
    "import numpy as np\n",
    "import pandas as pd\n",
    "import matplotlib.pyplot as plt\n",
    "\n",
    "%matplotlib inline"
   ]
  },
  {
   "cell_type": "code",
   "execution_count": 2,
   "metadata": {
    "collapsed": false
   },
   "outputs": [
    {
     "data": {
      "text/plain": [
       "<module 'scripts.local_environment' from '/home/sergioml/degree_project/scripts/local_environment.py'>"
      ]
     },
     "execution_count": 2,
     "metadata": {},
     "output_type": "execute_result"
    }
   ],
   "source": [
    "import scripts.local_environment as local\n",
    "import importlib\n",
    "\n",
    "importlib.reload(local)"
   ]
  },
  {
   "cell_type": "code",
   "execution_count": 3,
   "metadata": {
    "collapsed": true
   },
   "outputs": [],
   "source": [
    "from sklearn.ensemble import RandomForestClassifier"
   ]
  },
  {
   "cell_type": "code",
   "execution_count": 4,
   "metadata": {
    "collapsed": true
   },
   "outputs": [],
   "source": [
    "import xgboost as xgb"
   ]
  },
  {
   "cell_type": "code",
   "execution_count": 5,
   "metadata": {
    "collapsed": true
   },
   "outputs": [],
   "source": [
    "df = pd.read_csv('data/clean/train_clean.csv')\n",
    "df_targets = pd.read_csv('data/clean/train_labels.csv')\n",
    "df_test = pd.read_csv('data/clean/test_clean.csv')"
   ]
  },
  {
   "cell_type": "code",
   "execution_count": 9,
   "metadata": {
    "collapsed": true
   },
   "outputs": [],
   "source": [
    "del df_purchsers"
   ]
  },
  {
   "cell_type": "code",
   "execution_count": 10,
   "metadata": {
    "collapsed": true
   },
   "outputs": [],
   "source": [
    "df_purchasers = pd.read_csv('data/clean/train_purchasers.csv')"
   ]
  },
  {
   "cell_type": "markdown",
   "metadata": {},
   "source": [
    "### Experimento 14"
   ]
  },
  {
   "cell_type": "code",
   "execution_count": 361,
   "metadata": {
    "collapsed": false
   },
   "outputs": [
    {
     "data": {
      "text/plain": [
       "(13387956, 26)"
      ]
     },
     "execution_count": 361,
     "metadata": {},
     "output_type": "execute_result"
    }
   ],
   "source": [
    "targets_by_date = df.loc[:, ['fecha_dato', 'ncodpers']].join(df_targets)\n",
    "targets_by_date.shape"
   ]
  },
  {
   "cell_type": "code",
   "execution_count": 362,
   "metadata": {
    "collapsed": false
   },
   "outputs": [
    {
     "data": {
      "text/html": [
       "<div>\n",
       "<table border=\"1\" class=\"dataframe\">\n",
       "  <thead>\n",
       "    <tr style=\"text-align: right;\">\n",
       "      <th></th>\n",
       "      <th>fecha_dato</th>\n",
       "      <th>ncodpers</th>\n",
       "      <th>ind_ahor_fin_ult1</th>\n",
       "      <th>ind_aval_fin_ult1</th>\n",
       "      <th>ind_cco_fin_ult1</th>\n",
       "      <th>ind_cder_fin_ult1</th>\n",
       "      <th>ind_cno_fin_ult1</th>\n",
       "      <th>ind_ctju_fin_ult1</th>\n",
       "      <th>ind_ctma_fin_ult1</th>\n",
       "      <th>ind_ctop_fin_ult1</th>\n",
       "      <th>...</th>\n",
       "      <th>ind_hip_fin_ult1</th>\n",
       "      <th>ind_plan_fin_ult1</th>\n",
       "      <th>ind_pres_fin_ult1</th>\n",
       "      <th>ind_reca_fin_ult1</th>\n",
       "      <th>ind_tjcr_fin_ult1</th>\n",
       "      <th>ind_valo_fin_ult1</th>\n",
       "      <th>ind_viv_fin_ult1</th>\n",
       "      <th>ind_nomina_ult1</th>\n",
       "      <th>ind_nom_pens_ult1</th>\n",
       "      <th>ind_recibo_ult1</th>\n",
       "    </tr>\n",
       "  </thead>\n",
       "  <tbody>\n",
       "    <tr>\n",
       "      <th>0</th>\n",
       "      <td>2015-01-28</td>\n",
       "      <td>1375586</td>\n",
       "      <td>0</td>\n",
       "      <td>0</td>\n",
       "      <td>1</td>\n",
       "      <td>0</td>\n",
       "      <td>0</td>\n",
       "      <td>0</td>\n",
       "      <td>0</td>\n",
       "      <td>0</td>\n",
       "      <td>...</td>\n",
       "      <td>0</td>\n",
       "      <td>0</td>\n",
       "      <td>0</td>\n",
       "      <td>0</td>\n",
       "      <td>0</td>\n",
       "      <td>0</td>\n",
       "      <td>0</td>\n",
       "      <td>0</td>\n",
       "      <td>0</td>\n",
       "      <td>0</td>\n",
       "    </tr>\n",
       "    <tr>\n",
       "      <th>1</th>\n",
       "      <td>2015-01-28</td>\n",
       "      <td>1050611</td>\n",
       "      <td>0</td>\n",
       "      <td>0</td>\n",
       "      <td>1</td>\n",
       "      <td>0</td>\n",
       "      <td>0</td>\n",
       "      <td>0</td>\n",
       "      <td>0</td>\n",
       "      <td>0</td>\n",
       "      <td>...</td>\n",
       "      <td>0</td>\n",
       "      <td>0</td>\n",
       "      <td>0</td>\n",
       "      <td>0</td>\n",
       "      <td>0</td>\n",
       "      <td>0</td>\n",
       "      <td>0</td>\n",
       "      <td>0</td>\n",
       "      <td>0</td>\n",
       "      <td>0</td>\n",
       "    </tr>\n",
       "    <tr>\n",
       "      <th>2</th>\n",
       "      <td>2015-01-28</td>\n",
       "      <td>1050612</td>\n",
       "      <td>0</td>\n",
       "      <td>0</td>\n",
       "      <td>1</td>\n",
       "      <td>0</td>\n",
       "      <td>0</td>\n",
       "      <td>0</td>\n",
       "      <td>0</td>\n",
       "      <td>0</td>\n",
       "      <td>...</td>\n",
       "      <td>0</td>\n",
       "      <td>0</td>\n",
       "      <td>0</td>\n",
       "      <td>0</td>\n",
       "      <td>0</td>\n",
       "      <td>0</td>\n",
       "      <td>0</td>\n",
       "      <td>0</td>\n",
       "      <td>0</td>\n",
       "      <td>0</td>\n",
       "    </tr>\n",
       "    <tr>\n",
       "      <th>3</th>\n",
       "      <td>2015-01-28</td>\n",
       "      <td>1050613</td>\n",
       "      <td>0</td>\n",
       "      <td>0</td>\n",
       "      <td>0</td>\n",
       "      <td>0</td>\n",
       "      <td>0</td>\n",
       "      <td>0</td>\n",
       "      <td>0</td>\n",
       "      <td>0</td>\n",
       "      <td>...</td>\n",
       "      <td>0</td>\n",
       "      <td>0</td>\n",
       "      <td>0</td>\n",
       "      <td>0</td>\n",
       "      <td>0</td>\n",
       "      <td>0</td>\n",
       "      <td>0</td>\n",
       "      <td>0</td>\n",
       "      <td>0</td>\n",
       "      <td>0</td>\n",
       "    </tr>\n",
       "    <tr>\n",
       "      <th>4</th>\n",
       "      <td>2015-01-28</td>\n",
       "      <td>1050614</td>\n",
       "      <td>0</td>\n",
       "      <td>0</td>\n",
       "      <td>1</td>\n",
       "      <td>0</td>\n",
       "      <td>0</td>\n",
       "      <td>0</td>\n",
       "      <td>0</td>\n",
       "      <td>0</td>\n",
       "      <td>...</td>\n",
       "      <td>0</td>\n",
       "      <td>0</td>\n",
       "      <td>0</td>\n",
       "      <td>0</td>\n",
       "      <td>0</td>\n",
       "      <td>0</td>\n",
       "      <td>0</td>\n",
       "      <td>0</td>\n",
       "      <td>0</td>\n",
       "      <td>0</td>\n",
       "    </tr>\n",
       "  </tbody>\n",
       "</table>\n",
       "<p>5 rows × 26 columns</p>\n",
       "</div>"
      ],
      "text/plain": [
       "   fecha_dato  ncodpers  ind_ahor_fin_ult1  ind_aval_fin_ult1  \\\n",
       "0  2015-01-28   1375586                  0                  0   \n",
       "1  2015-01-28   1050611                  0                  0   \n",
       "2  2015-01-28   1050612                  0                  0   \n",
       "3  2015-01-28   1050613                  0                  0   \n",
       "4  2015-01-28   1050614                  0                  0   \n",
       "\n",
       "   ind_cco_fin_ult1  ind_cder_fin_ult1  ind_cno_fin_ult1  ind_ctju_fin_ult1  \\\n",
       "0                 1                  0                 0                  0   \n",
       "1                 1                  0                 0                  0   \n",
       "2                 1                  0                 0                  0   \n",
       "3                 0                  0                 0                  0   \n",
       "4                 1                  0                 0                  0   \n",
       "\n",
       "   ind_ctma_fin_ult1  ind_ctop_fin_ult1       ...         ind_hip_fin_ult1  \\\n",
       "0                  0                  0       ...                        0   \n",
       "1                  0                  0       ...                        0   \n",
       "2                  0                  0       ...                        0   \n",
       "3                  0                  0       ...                        0   \n",
       "4                  0                  0       ...                        0   \n",
       "\n",
       "   ind_plan_fin_ult1  ind_pres_fin_ult1  ind_reca_fin_ult1  ind_tjcr_fin_ult1  \\\n",
       "0                  0                  0                  0                  0   \n",
       "1                  0                  0                  0                  0   \n",
       "2                  0                  0                  0                  0   \n",
       "3                  0                  0                  0                  0   \n",
       "4                  0                  0                  0                  0   \n",
       "\n",
       "   ind_valo_fin_ult1  ind_viv_fin_ult1  ind_nomina_ult1  ind_nom_pens_ult1  \\\n",
       "0                  0                 0                0                  0   \n",
       "1                  0                 0                0                  0   \n",
       "2                  0                 0                0                  0   \n",
       "3                  0                 0                0                  0   \n",
       "4                  0                 0                0                  0   \n",
       "\n",
       "   ind_recibo_ult1  \n",
       "0                0  \n",
       "1                0  \n",
       "2                0  \n",
       "3                0  \n",
       "4                0  \n",
       "\n",
       "[5 rows x 26 columns]"
      ]
     },
     "execution_count": 362,
     "metadata": {},
     "output_type": "execute_result"
    }
   ],
   "source": [
    "targets_by_date.head()"
   ]
  },
  {
   "cell_type": "code",
   "execution_count": 363,
   "metadata": {
    "collapsed": false
   },
   "outputs": [],
   "source": [
    "fecha_dato = targets_by_date['fecha_dato'].unique()"
   ]
  },
  {
   "cell_type": "markdown",
   "metadata": {},
   "source": [
    "#### Solo sacando los clientes que compran cada mes"
   ]
  },
  {
   "cell_type": "code",
   "execution_count": 364,
   "metadata": {
    "collapsed": false
   },
   "outputs": [
    {
     "name": "stdout",
     "output_type": "stream",
     "text": [
      "2015-01-28 2015-02-28\n",
      "2015-02-28 2015-03-28\n",
      "2015-03-28 2015-04-28\n",
      "2015-04-28 2015-05-28\n",
      "2015-05-28 2015-06-28\n",
      "2015-06-28 2015-07-28\n",
      "2015-07-28 2015-08-28\n",
      "2015-08-28 2015-09-28\n",
      "2015-09-28 2015-10-28\n",
      "2015-10-28 2015-11-28\n",
      "2015-11-28 2015-12-28\n",
      "2015-12-28 2016-01-28\n",
      "2016-01-28 2016-02-28\n",
      "2016-02-28 2016-03-28\n",
      "2016-03-28 2016-04-28\n",
      "2016-04-28 2016-05-28\n",
      "CPU times: user 1min 37s, sys: 15.3 s, total: 1min 52s\n",
      "Wall time: 1min 52s\n"
     ]
    }
   ],
   "source": [
    "%%time\n",
    "df_purchasers = pd.DataFrame(columns=df.columns.tolist())\n",
    "\n",
    "for i in range(1, len(fecha_dato)):\n",
    "    print(fecha_dato[i-1], fecha_dato[i])\n",
    "    prev = targets_by_date.loc[targets_by_date['fecha_dato'] == fecha_dato[i-1], 'ncodpers':]\n",
    "    act = targets_by_date.loc[targets_by_date['fecha_dato'] == fecha_dato[i], 'ncodpers':]\n",
    "\n",
    "    ncodpers_both = list(set(prev.ncodpers.values) & set(act.ncodpers.values))\n",
    "\n",
    "    prev = prev.loc[prev['ncodpers'].isin(ncodpers_both)].sort_values(['ncodpers']).loc[:, 'ind_ahor_fin_ult1':]\n",
    "    act = act.loc[act['ncodpers'].isin(ncodpers_both)].sort_values(['ncodpers']).loc[:, 'ind_ahor_fin_ult1':]\n",
    "\n",
    "    prev = prev.as_matrix()\n",
    "    act = act.as_matrix()\n",
    "\n",
    "    who_bought = np.sort(np.array(ncodpers_both)) * (act - prev).max(axis=1)\n",
    "    who_bought = np.unique(who_bought)[1:]\n",
    "\n",
    "    df_purchasers = df_purchasers.append(df.loc[(df['fecha_dato'] == fecha_dato[i]) & (df['ncodpers'].isin(who_bought))])"
   ]
  },
  {
   "cell_type": "code",
   "execution_count": 365,
   "metadata": {
    "collapsed": false
   },
   "outputs": [
    {
     "data": {
      "text/plain": [
       "(420025, 28)"
      ]
     },
     "execution_count": 365,
     "metadata": {},
     "output_type": "execute_result"
    }
   ],
   "source": [
    "df_purchasers.shape"
   ]
  },
  {
   "cell_type": "code",
   "execution_count": 366,
   "metadata": {
    "collapsed": false
   },
   "outputs": [
    {
     "data": {
      "text/html": [
       "<div>\n",
       "<table border=\"1\" class=\"dataframe\">\n",
       "  <thead>\n",
       "    <tr style=\"text-align: right;\">\n",
       "      <th></th>\n",
       "      <th>fecha_dato</th>\n",
       "      <th>fecha_dato_year</th>\n",
       "      <th>fecha_dato_month</th>\n",
       "      <th>fecha_dato_day</th>\n",
       "      <th>ncodpers</th>\n",
       "      <th>ind_empleado</th>\n",
       "      <th>pais_residencia</th>\n",
       "      <th>sexo</th>\n",
       "      <th>age</th>\n",
       "      <th>fecha_alta</th>\n",
       "      <th>...</th>\n",
       "      <th>indresi</th>\n",
       "      <th>indext</th>\n",
       "      <th>canal_entrada</th>\n",
       "      <th>indfall</th>\n",
       "      <th>tipodom</th>\n",
       "      <th>cod_prov</th>\n",
       "      <th>nomprov</th>\n",
       "      <th>ind_actividad_cliente</th>\n",
       "      <th>renta</th>\n",
       "      <th>segmento</th>\n",
       "    </tr>\n",
       "  </thead>\n",
       "  <tbody>\n",
       "    <tr>\n",
       "      <th>13387545</th>\n",
       "      <td>2016-05-28</td>\n",
       "      <td>2016.0</td>\n",
       "      <td>5.0</td>\n",
       "      <td>28.0</td>\n",
       "      <td>1167007.0</td>\n",
       "      <td>1.0</td>\n",
       "      <td>1.0</td>\n",
       "      <td>1.0</td>\n",
       "      <td>73.0</td>\n",
       "      <td>2013-08-16</td>\n",
       "      <td>...</td>\n",
       "      <td>2.0</td>\n",
       "      <td>1.0</td>\n",
       "      <td>2.0</td>\n",
       "      <td>1.0</td>\n",
       "      <td>1.0</td>\n",
       "      <td>46.0</td>\n",
       "      <td>3.0</td>\n",
       "      <td>1.0</td>\n",
       "      <td>104186.06</td>\n",
       "      <td>3.0</td>\n",
       "    </tr>\n",
       "    <tr>\n",
       "      <th>13387561</th>\n",
       "      <td>2016-05-28</td>\n",
       "      <td>2016.0</td>\n",
       "      <td>5.0</td>\n",
       "      <td>28.0</td>\n",
       "      <td>1166874.0</td>\n",
       "      <td>1.0</td>\n",
       "      <td>1.0</td>\n",
       "      <td>1.0</td>\n",
       "      <td>22.0</td>\n",
       "      <td>2013-08-16</td>\n",
       "      <td>...</td>\n",
       "      <td>2.0</td>\n",
       "      <td>1.0</td>\n",
       "      <td>1.0</td>\n",
       "      <td>1.0</td>\n",
       "      <td>1.0</td>\n",
       "      <td>25.0</td>\n",
       "      <td>36.0</td>\n",
       "      <td>1.0</td>\n",
       "      <td>80245.26</td>\n",
       "      <td>2.0</td>\n",
       "    </tr>\n",
       "    <tr>\n",
       "      <th>13387682</th>\n",
       "      <td>2016-05-28</td>\n",
       "      <td>2016.0</td>\n",
       "      <td>5.0</td>\n",
       "      <td>28.0</td>\n",
       "      <td>1167055.0</td>\n",
       "      <td>1.0</td>\n",
       "      <td>1.0</td>\n",
       "      <td>1.0</td>\n",
       "      <td>39.0</td>\n",
       "      <td>2014-11-12</td>\n",
       "      <td>...</td>\n",
       "      <td>2.0</td>\n",
       "      <td>1.0</td>\n",
       "      <td>3.0</td>\n",
       "      <td>1.0</td>\n",
       "      <td>1.0</td>\n",
       "      <td>33.0</td>\n",
       "      <td>12.0</td>\n",
       "      <td>1.0</td>\n",
       "      <td>128593.05</td>\n",
       "      <td>1.0</td>\n",
       "    </tr>\n",
       "    <tr>\n",
       "      <th>13387694</th>\n",
       "      <td>2016-05-28</td>\n",
       "      <td>2016.0</td>\n",
       "      <td>5.0</td>\n",
       "      <td>28.0</td>\n",
       "      <td>1167038.0</td>\n",
       "      <td>1.0</td>\n",
       "      <td>1.0</td>\n",
       "      <td>1.0</td>\n",
       "      <td>35.0</td>\n",
       "      <td>2013-08-16</td>\n",
       "      <td>...</td>\n",
       "      <td>2.0</td>\n",
       "      <td>1.0</td>\n",
       "      <td>3.0</td>\n",
       "      <td>1.0</td>\n",
       "      <td>1.0</td>\n",
       "      <td>46.0</td>\n",
       "      <td>3.0</td>\n",
       "      <td>1.0</td>\n",
       "      <td>104985.78</td>\n",
       "      <td>1.0</td>\n",
       "    </tr>\n",
       "    <tr>\n",
       "      <th>13387905</th>\n",
       "      <td>2016-05-28</td>\n",
       "      <td>2016.0</td>\n",
       "      <td>5.0</td>\n",
       "      <td>28.0</td>\n",
       "      <td>1166753.0</td>\n",
       "      <td>1.0</td>\n",
       "      <td>1.0</td>\n",
       "      <td>1.0</td>\n",
       "      <td>22.0</td>\n",
       "      <td>2013-08-14</td>\n",
       "      <td>...</td>\n",
       "      <td>2.0</td>\n",
       "      <td>1.0</td>\n",
       "      <td>1.0</td>\n",
       "      <td>1.0</td>\n",
       "      <td>1.0</td>\n",
       "      <td>9.0</td>\n",
       "      <td>29.0</td>\n",
       "      <td>1.0</td>\n",
       "      <td>86137.50</td>\n",
       "      <td>2.0</td>\n",
       "    </tr>\n",
       "  </tbody>\n",
       "</table>\n",
       "<p>5 rows × 28 columns</p>\n",
       "</div>"
      ],
      "text/plain": [
       "          fecha_dato  fecha_dato_year  fecha_dato_month  fecha_dato_day  \\\n",
       "13387545  2016-05-28           2016.0               5.0            28.0   \n",
       "13387561  2016-05-28           2016.0               5.0            28.0   \n",
       "13387682  2016-05-28           2016.0               5.0            28.0   \n",
       "13387694  2016-05-28           2016.0               5.0            28.0   \n",
       "13387905  2016-05-28           2016.0               5.0            28.0   \n",
       "\n",
       "           ncodpers  ind_empleado  pais_residencia  sexo   age  fecha_alta  \\\n",
       "13387545  1167007.0           1.0              1.0   1.0  73.0  2013-08-16   \n",
       "13387561  1166874.0           1.0              1.0   1.0  22.0  2013-08-16   \n",
       "13387682  1167055.0           1.0              1.0   1.0  39.0  2014-11-12   \n",
       "13387694  1167038.0           1.0              1.0   1.0  35.0  2013-08-16   \n",
       "13387905  1166753.0           1.0              1.0   1.0  22.0  2013-08-14   \n",
       "\n",
       "            ...     indresi  indext  canal_entrada  indfall  tipodom  \\\n",
       "13387545    ...         2.0     1.0            2.0      1.0      1.0   \n",
       "13387561    ...         2.0     1.0            1.0      1.0      1.0   \n",
       "13387682    ...         2.0     1.0            3.0      1.0      1.0   \n",
       "13387694    ...         2.0     1.0            3.0      1.0      1.0   \n",
       "13387905    ...         2.0     1.0            1.0      1.0      1.0   \n",
       "\n",
       "          cod_prov  nomprov  ind_actividad_cliente      renta  segmento  \n",
       "13387545      46.0      3.0                    1.0  104186.06       3.0  \n",
       "13387561      25.0     36.0                    1.0   80245.26       2.0  \n",
       "13387682      33.0     12.0                    1.0  128593.05       1.0  \n",
       "13387694      46.0      3.0                    1.0  104985.78       1.0  \n",
       "13387905       9.0     29.0                    1.0   86137.50       2.0  \n",
       "\n",
       "[5 rows x 28 columns]"
      ]
     },
     "execution_count": 366,
     "metadata": {},
     "output_type": "execute_result"
    }
   ],
   "source": [
    "df_purchasers.tail()"
   ]
  },
  {
   "cell_type": "code",
   "execution_count": 367,
   "metadata": {
    "collapsed": true
   },
   "outputs": [],
   "source": [
    "df_purchasers.to_csv('data/clean/train_purcharsers.csv', index=True, index_label='index')"
   ]
  },
  {
   "cell_type": "markdown",
   "metadata": {},
   "source": [
    "#### Entrenamiento con todos los compradores"
   ]
  },
  {
   "cell_type": "code",
   "execution_count": 80,
   "metadata": {
    "collapsed": false
   },
   "outputs": [],
   "source": [
    "x_train = df_purchasers.drop(['fecha_dato', 'ncodpers', 'fecha_alta'], axis=1)\n",
    "y_train = df_targets.loc[x_train.index]"
   ]
  },
  {
   "cell_type": "code",
   "execution_count": 81,
   "metadata": {
    "collapsed": false
   },
   "outputs": [
    {
     "name": "stdout",
     "output_type": "stream",
     "text": [
      "CPU times: user 1min 45s, sys: 7.3 s, total: 1min 53s\n",
      "Wall time: 29.5 s\n"
     ]
    }
   ],
   "source": [
    "%%time\n",
    "x = x_train.as_matrix()\n",
    "y = y_train.as_matrix()\n",
    "model = local.model(x, y, RandomForestClassifier(n_jobs=-1))"
   ]
  },
  {
   "cell_type": "code",
   "execution_count": 83,
   "metadata": {
    "collapsed": false
   },
   "outputs": [
    {
     "name": "stdout",
     "output_type": "stream",
     "text": [
      "results/submissions/2018-07-18-h21-24-23_submission.csv\n",
      "CPU times: user 3min 35s, sys: 8.36 s, total: 3min 43s\n",
      "Wall time: 1min 44s\n"
     ]
    }
   ],
   "source": [
    "%%time\n",
    "x_test = df_test.drop(['fecha_dato', 'fecha_alta', 'ncodpers'], axis=1).as_matrix()\n",
    "probs, preds = local.calculatePredsProbs(x_test, model)\n",
    "\n",
    "x_prev = df_purchasers.loc[df_purchasers['fecha_dato'] == '2016-05-28']\n",
    "subm = local.processPredictions(probs=probs, preds=preds, df_prev=x_prev, df_test=df_test, df_targets=y_train, env='submit')"
   ]
  },
  {
   "cell_type": "code",
   "execution_count": 84,
   "metadata": {
    "collapsed": false
   },
   "outputs": [
    {
     "name": "stdout",
     "output_type": "stream",
     "text": [
      "2018-07-18-h21-24-23_submission.csv\n",
      "/home/sergioml/.local/lib/python2.7/site-packages/urllib3/contrib/socks.py:37: DependencyWarning: SOCKS support in urllib3 requires the installation of optional dependencies: specifically, PySocks.  For more information, see https://urllib3.readthedocs.io/en/latest/contrib.html#socks-proxies\n",
      "  DependencyWarning\n",
      "Successfully submitted to Santander Product Recommendation\n",
      "real\t2m0.858s\n",
      "user\t0m1.284s\n",
      "sys\t0m0.388s\n"
     ]
    }
   ],
   "source": [
    "!bash results/submissions/kaggle_submission \"RF, entrenamiento con todo el dataset, sólo compradores\""
   ]
  },
  {
   "cell_type": "markdown",
   "metadata": {},
   "source": [
    "#### Validando las compras hechas con el mes de Mayo 2016"
   ]
  },
  {
   "cell_type": "code",
   "execution_count": 85,
   "metadata": {
    "collapsed": false
   },
   "outputs": [
    {
     "name": "stdout",
     "output_type": "stream",
     "text": [
      "results/submissions/2018-07-18-h21-28-56_submission.csv\n",
      "CPU times: user 3min 19s, sys: 8.46 s, total: 3min 27s\n",
      "Wall time: 1min 39s\n"
     ]
    }
   ],
   "source": [
    "%%time\n",
    "x_test = df_test.drop(['fecha_dato', 'fecha_alta', 'ncodpers'], axis=1).as_matrix()\n",
    "probs, preds = local.calculatePredsProbs(x_test, model)\n",
    "\n",
    "x_prev = df.loc[df['fecha_dato'] == '2016-05-28']\n",
    "subm = local.processPredictions(probs=probs, preds=preds, df_prev=x_prev, df_test=df_test, df_targets=y_train, env='submit')"
   ]
  },
  {
   "cell_type": "code",
   "execution_count": 86,
   "metadata": {
    "collapsed": false
   },
   "outputs": [
    {
     "name": "stdout",
     "output_type": "stream",
     "text": [
      "2018-07-18-h21-28-56_submission.csv\n",
      "/home/sergioml/.local/lib/python2.7/site-packages/urllib3/contrib/socks.py:37: DependencyWarning: SOCKS support in urllib3 requires the installation of optional dependencies: specifically, PySocks.  For more information, see https://urllib3.readthedocs.io/en/latest/contrib.html#socks-proxies\n",
      "  DependencyWarning\n",
      "Successfully submitted to Santander Product Recommendation\n",
      "real\t0m23.330s\n",
      "user\t0m1.168s\n",
      "sys\t0m0.340s\n"
     ]
    }
   ],
   "source": [
    "!bash results/submissions/kaggle_submission \"RF, entrenamiento con todo el dataset, sólo compradores, todo el mes de Mayo2016 para validar\""
   ]
  },
  {
   "cell_type": "markdown",
   "metadata": {},
   "source": [
    "### Experimento 15\n",
    "Prueba con **xgboost** solo datos de Mayo 2016"
   ]
  },
  {
   "cell_type": "code",
   "execution_count": 135,
   "metadata": {
    "collapsed": true
   },
   "outputs": [],
   "source": [
    "x_train = df_purchasers.loc[df_purchasers['fecha_dato'] == '2016-05-28']\n",
    "y_train = df_targets.loc[x_train.index]"
   ]
  },
  {
   "cell_type": "code",
   "execution_count": 94,
   "metadata": {
    "collapsed": false
   },
   "outputs": [
    {
     "name": "stdout",
     "output_type": "stream",
     "text": [
      "CPU times: user 12 ms, sys: 0 ns, total: 12 ms\n",
      "Wall time: 9.89 ms\n"
     ]
    }
   ],
   "source": [
    "%%time\n",
    "dtrain = xgb.DMatrix(x_train.as_matrix(), y_train.as_matrix())"
   ]
  },
  {
   "cell_type": "code",
   "execution_count": 104,
   "metadata": {
    "collapsed": false
   },
   "outputs": [],
   "source": [
    "params = {'max_depth': 2, \n",
    "          'eta': 1, 'silent': 1, \n",
    "          'objective': 'multi:softprob',\n",
    "          'num_class': 24}"
   ]
  },
  {
   "cell_type": "code",
   "execution_count": 105,
   "metadata": {
    "collapsed": false
   },
   "outputs": [
    {
     "name": "stdout",
     "output_type": "stream",
     "text": [
      "CPU times: user 4.13 s, sys: 12 ms, total: 4.14 s\n",
      "Wall time: 1.06 s\n"
     ]
    }
   ],
   "source": [
    "%%time\n",
    "model = xgb.train(params, dtrain)"
   ]
  },
  {
   "cell_type": "code",
   "execution_count": 118,
   "metadata": {
    "collapsed": false
   },
   "outputs": [
    {
     "name": "stdout",
     "output_type": "stream",
     "text": [
      "CPU times: user 14.2 s, sys: 416 ms, total: 14.7 s\n",
      "Wall time: 4.29 s\n"
     ]
    }
   ],
   "source": [
    "%%time\n",
    "x_test = df_test.drop(['ncodpers', 'fecha_dato', 'fecha_alta'], axis=1)\n",
    "dtest = xgb.DMatrix(x_test.as_matrix())\n",
    "preds = model.predict(dtest)"
   ]
  },
  {
   "cell_type": "code",
   "execution_count": 138,
   "metadata": {
    "collapsed": false
   },
   "outputs": [
    {
     "name": "stdout",
     "output_type": "stream",
     "text": [
      "results/submissions/2018-07-18-h22-10-15_submission.csv\n",
      "CPU times: user 15.6 s, sys: 356 ms, total: 16 s\n",
      "Wall time: 17.1 s\n"
     ]
    }
   ],
   "source": [
    "%%time\n",
    "subm = local.processPredictions(preds=preds, df_prev=x_train, df_test=df_test, df_targets=y_train)"
   ]
  },
  {
   "cell_type": "code",
   "execution_count": 139,
   "metadata": {
    "collapsed": false
   },
   "outputs": [
    {
     "name": "stdout",
     "output_type": "stream",
     "text": [
      "2018-07-18-h22-10-15_submission.csv\n",
      "/home/sergioml/.local/lib/python2.7/site-packages/urllib3/contrib/socks.py:37: DependencyWarning: SOCKS support in urllib3 requires the installation of optional dependencies: specifically, PySocks.  For more information, see https://urllib3.readthedocs.io/en/latest/contrib.html#socks-proxies\n",
      "  DependencyWarning\n",
      "Successfully submitted to Santander Product Recommendation\n",
      "real\t2m9.913s\n",
      "user\t0m1.480s\n",
      "sys\t0m0.564s\n"
     ]
    }
   ],
   "source": [
    "!bash results/submissions/kaggle_submission \"Xgboost, entrenamiento con Mayo2016 de compradores\""
   ]
  },
  {
   "cell_type": "code",
   "execution_count": 142,
   "metadata": {
    "collapsed": false
   },
   "outputs": [
    {
     "name": "stdout",
     "output_type": "stream",
     "text": [
      "CPU times: user 1min 56s, sys: 1.12 s, total: 1min 57s\n",
      "Wall time: 30 s\n"
     ]
    }
   ],
   "source": [
    "%%time\n",
    "x_train = df_purchasers.drop(['ncodpers', 'fecha_dato', 'fecha_alta'], axis=1)\n",
    "y_train = df_targets.loc[x_train.index]\n",
    "\n",
    "dtrain = xgb.DMatrix(x_train.as_matrix(), y_train.as_matrix())\n",
    "\n",
    "params = {'max_depth': 6,\n",
    "          'silent': 0, \n",
    "          'objective': 'multi:softprob',\n",
    "          'num_class': 24,\n",
    "          'subsample': 0.6}\n",
    "\n",
    "model = xgb.train(params, dtrain)\n",
    "\n",
    "x_test = df_test.drop(['ncodpers', 'fecha_dato', 'fecha_alta'], axis=1)\n",
    "dtest = xgb.DMatrix(x_test.as_matrix())\n",
    "preds = model.predict(dtest)"
   ]
  },
  {
   "cell_type": "code",
   "execution_count": 147,
   "metadata": {
    "collapsed": false
   },
   "outputs": [
    {
     "name": "stdout",
     "output_type": "stream",
     "text": [
      "results/submissions/2018-07-18-h22-21-52_submission.csv\n",
      "CPU times: user 14.8 s, sys: 236 ms, total: 15 s\n",
      "Wall time: 16.2 s\n"
     ]
    }
   ],
   "source": [
    "%%time\n",
    "sumb = local.processPredictions(preds=preds, df_test=df_test, df_targets=y_train)"
   ]
  },
  {
   "cell_type": "code",
   "execution_count": 148,
   "metadata": {
    "collapsed": false
   },
   "outputs": [
    {
     "name": "stdout",
     "output_type": "stream",
     "text": [
      "2018-07-18-h22-21-52_submission.csv\n",
      "/home/sergioml/.local/lib/python2.7/site-packages/urllib3/contrib/socks.py:37: DependencyWarning: SOCKS support in urllib3 requires the installation of optional dependencies: specifically, PySocks.  For more information, see https://urllib3.readthedocs.io/en/latest/contrib.html#socks-proxies\n",
      "  DependencyWarning\n",
      "Successfully submitted to Santander Product Recommendation\n",
      "real\t2m14.149s\n",
      "user\t0m1.300s\n",
      "sys\t0m0.436s\n"
     ]
    }
   ],
   "source": [
    "!bash results/submissions/kaggle_submission \"Xgboost, entrenamiento con todos los compradores, cambio de parámetros\""
   ]
  },
  {
   "cell_type": "markdown",
   "metadata": {},
   "source": [
    "### Experimento 16\n",
    "Se va a entrenar con DecissionTree"
   ]
  },
  {
   "cell_type": "code",
   "execution_count": 149,
   "metadata": {
    "collapsed": true
   },
   "outputs": [],
   "source": [
    "from sklearn.tree import DecisionTreeClassifier"
   ]
  },
  {
   "cell_type": "code",
   "execution_count": 150,
   "metadata": {
    "collapsed": false
   },
   "outputs": [
    {
     "name": "stdout",
     "output_type": "stream",
     "text": [
      "CPU times: user 27 s, sys: 428 ms, total: 27.4 s\n",
      "Wall time: 27.4 s\n"
     ]
    }
   ],
   "source": [
    "%%time\n",
    "x_train = df_purchasers\n",
    "y_train = df_targets.loc[x_train.index]\n",
    "\n",
    "x = x_train.drop(['fecha_dato', 'fecha_alta', 'ncodpers'], axis=1)\n",
    "y = y_train.as_matrix()\n",
    "\n",
    "model = local.model(x, y, DecisionTreeClassifier())"
   ]
  },
  {
   "cell_type": "code",
   "execution_count": 151,
   "metadata": {
    "collapsed": false
   },
   "outputs": [
    {
     "name": "stderr",
     "output_type": "stream",
     "text": [
      "/home/sergioml/degree_project/scripts/local_environment.py:88: FutureWarning: comparison to `None` will result in an elementwise object comparison in the future.\n",
      "  if probs == None:\n"
     ]
    },
    {
     "name": "stdout",
     "output_type": "stream",
     "text": [
      "results/submissions/2018-07-18-h22-31-33_submission.csv\n",
      "CPU times: user 22.2 s, sys: 1.13 s, total: 23.3 s\n",
      "Wall time: 24.6 s\n"
     ]
    }
   ],
   "source": [
    "%%time\n",
    "x_test = df_test.drop(['fecha_dato', 'fecha_alta', 'ncodpers'], axis=1).as_matrix()\n",
    "probs, preds = local.calculatePredsProbs(x_test, model)\n",
    "\n",
    "x_prev = df_purchasers.loc[df_purchasers['fecha_dato'] == '2016-05-28']\n",
    "subm = local.processPredictions(probs=probs, preds=preds, df_prev=x_prev, df_test=df_test, df_targets=y_train, env='submit')"
   ]
  },
  {
   "cell_type": "code",
   "execution_count": 152,
   "metadata": {
    "collapsed": false
   },
   "outputs": [
    {
     "name": "stdout",
     "output_type": "stream",
     "text": [
      "2018-07-18-h22-31-33_submission.csv\n",
      "/home/sergioml/.local/lib/python2.7/site-packages/urllib3/contrib/socks.py:37: DependencyWarning: SOCKS support in urllib3 requires the installation of optional dependencies: specifically, PySocks.  For more information, see https://urllib3.readthedocs.io/en/latest/contrib.html#socks-proxies\n",
      "  DependencyWarning\n",
      "Successfully submitted to Santander Product Recommendation\n",
      "real\t0m27.162s\n",
      "user\t0m1.212s\n",
      "sys\t0m0.360s\n"
     ]
    }
   ],
   "source": [
    "!bash results/submissions/kaggle_submission \"DecissionTreeClassifier, todos los compradores\""
   ]
  },
  {
   "cell_type": "code",
   "execution_count": 153,
   "metadata": {
    "collapsed": true
   },
   "outputs": [],
   "source": [
    "new_df = pd.read_csv('data/clean/train_purcharsers.csv')"
   ]
  },
  {
   "cell_type": "code",
   "execution_count": 156,
   "metadata": {
    "collapsed": false
   },
   "outputs": [
    {
     "data": {
      "text/plain": [
       "Index(['Unnamed: 0', 'fecha_dato', 'fecha_dato_year', 'fecha_dato_month',\n",
       "       'fecha_dato_day', 'ncodpers', 'ind_empleado', 'pais_residencia', 'sexo',\n",
       "       'age', 'fecha_alta', 'fecha_alta_year', 'fecha_alta_month',\n",
       "       'fecha_alta_day', 'ind_nuevo', 'antiguedad', 'indrel', 'indrel_1mes',\n",
       "       'tiprel_1mes', 'indresi', 'indext', 'canal_entrada', 'indfall',\n",
       "       'tipodom', 'cod_prov', 'nomprov', 'ind_actividad_cliente', 'renta',\n",
       "       'segmento'],\n",
       "      dtype='object')"
      ]
     },
     "execution_count": 156,
     "metadata": {},
     "output_type": "execute_result"
    }
   ],
   "source": [
    "new_df.columns"
   ]
  },
  {
   "cell_type": "code",
   "execution_count": 159,
   "metadata": {
    "collapsed": false
   },
   "outputs": [],
   "source": [
    "new_df.set_index('Unnamed: 0', drop=True, inplace=True)"
   ]
  },
  {
   "cell_type": "code",
   "execution_count": 163,
   "metadata": {
    "collapsed": false
   },
   "outputs": [
    {
     "data": {
      "text/html": [
       "<div>\n",
       "<table border=\"1\" class=\"dataframe\">\n",
       "  <thead>\n",
       "    <tr style=\"text-align: right;\">\n",
       "      <th></th>\n",
       "      <th>fecha_dato</th>\n",
       "      <th>fecha_dato_year</th>\n",
       "      <th>fecha_dato_month</th>\n",
       "      <th>fecha_dato_day</th>\n",
       "      <th>ncodpers</th>\n",
       "      <th>ind_empleado</th>\n",
       "      <th>pais_residencia</th>\n",
       "      <th>sexo</th>\n",
       "      <th>age</th>\n",
       "      <th>fecha_alta</th>\n",
       "      <th>...</th>\n",
       "      <th>indresi</th>\n",
       "      <th>indext</th>\n",
       "      <th>canal_entrada</th>\n",
       "      <th>indfall</th>\n",
       "      <th>tipodom</th>\n",
       "      <th>cod_prov</th>\n",
       "      <th>nomprov</th>\n",
       "      <th>ind_actividad_cliente</th>\n",
       "      <th>renta</th>\n",
       "      <th>segmento</th>\n",
       "    </tr>\n",
       "    <tr>\n",
       "      <th>Unnamed: 0</th>\n",
       "      <th></th>\n",
       "      <th></th>\n",
       "      <th></th>\n",
       "      <th></th>\n",
       "      <th></th>\n",
       "      <th></th>\n",
       "      <th></th>\n",
       "      <th></th>\n",
       "      <th></th>\n",
       "      <th></th>\n",
       "      <th></th>\n",
       "      <th></th>\n",
       "      <th></th>\n",
       "      <th></th>\n",
       "      <th></th>\n",
       "      <th></th>\n",
       "      <th></th>\n",
       "      <th></th>\n",
       "      <th></th>\n",
       "      <th></th>\n",
       "      <th></th>\n",
       "    </tr>\n",
       "  </thead>\n",
       "  <tbody>\n",
       "    <tr>\n",
       "      <th>614555</th>\n",
       "      <td>2015-02-28</td>\n",
       "      <td>2015.0</td>\n",
       "      <td>1.0</td>\n",
       "      <td>28.0</td>\n",
       "      <td>545113.0</td>\n",
       "      <td>1.0</td>\n",
       "      <td>1.0</td>\n",
       "      <td>1.0</td>\n",
       "      <td>48.0</td>\n",
       "      <td>2005-08-02</td>\n",
       "      <td>...</td>\n",
       "      <td>2.0</td>\n",
       "      <td>1.0</td>\n",
       "      <td>6.0</td>\n",
       "      <td>1.0</td>\n",
       "      <td>1.0</td>\n",
       "      <td>50.0</td>\n",
       "      <td>8.0</td>\n",
       "      <td>0.0</td>\n",
       "      <td>69548.13</td>\n",
       "      <td>1.0</td>\n",
       "    </tr>\n",
       "    <tr>\n",
       "      <th>614574</th>\n",
       "      <td>2015-02-28</td>\n",
       "      <td>2015.0</td>\n",
       "      <td>1.0</td>\n",
       "      <td>28.0</td>\n",
       "      <td>544977.0</td>\n",
       "      <td>1.0</td>\n",
       "      <td>1.0</td>\n",
       "      <td>1.0</td>\n",
       "      <td>25.0</td>\n",
       "      <td>2005-08-02</td>\n",
       "      <td>...</td>\n",
       "      <td>2.0</td>\n",
       "      <td>1.0</td>\n",
       "      <td>2.0</td>\n",
       "      <td>1.0</td>\n",
       "      <td>1.0</td>\n",
       "      <td>28.0</td>\n",
       "      <td>1.0</td>\n",
       "      <td>1.0</td>\n",
       "      <td>241498.29</td>\n",
       "      <td>2.0</td>\n",
       "    </tr>\n",
       "    <tr>\n",
       "      <th>614610</th>\n",
       "      <td>2015-02-28</td>\n",
       "      <td>2015.0</td>\n",
       "      <td>1.0</td>\n",
       "      <td>28.0</td>\n",
       "      <td>545326.0</td>\n",
       "      <td>1.0</td>\n",
       "      <td>1.0</td>\n",
       "      <td>1.0</td>\n",
       "      <td>58.0</td>\n",
       "      <td>2005-08-04</td>\n",
       "      <td>...</td>\n",
       "      <td>2.0</td>\n",
       "      <td>1.0</td>\n",
       "      <td>26.0</td>\n",
       "      <td>1.0</td>\n",
       "      <td>1.0</td>\n",
       "      <td>41.0</td>\n",
       "      <td>4.0</td>\n",
       "      <td>1.0</td>\n",
       "      <td>210989.22</td>\n",
       "      <td>1.0</td>\n",
       "    </tr>\n",
       "    <tr>\n",
       "      <th>614656</th>\n",
       "      <td>2015-02-28</td>\n",
       "      <td>2015.0</td>\n",
       "      <td>1.0</td>\n",
       "      <td>28.0</td>\n",
       "      <td>545276.0</td>\n",
       "      <td>1.0</td>\n",
       "      <td>1.0</td>\n",
       "      <td>1.0</td>\n",
       "      <td>43.0</td>\n",
       "      <td>2005-08-03</td>\n",
       "      <td>...</td>\n",
       "      <td>2.0</td>\n",
       "      <td>1.0</td>\n",
       "      <td>2.0</td>\n",
       "      <td>1.0</td>\n",
       "      <td>1.0</td>\n",
       "      <td>39.0</td>\n",
       "      <td>20.0</td>\n",
       "      <td>1.0</td>\n",
       "      <td>123150.69</td>\n",
       "      <td>1.0</td>\n",
       "    </tr>\n",
       "    <tr>\n",
       "      <th>614692</th>\n",
       "      <td>2015-02-28</td>\n",
       "      <td>2015.0</td>\n",
       "      <td>1.0</td>\n",
       "      <td>28.0</td>\n",
       "      <td>544689.0</td>\n",
       "      <td>1.0</td>\n",
       "      <td>1.0</td>\n",
       "      <td>1.0</td>\n",
       "      <td>24.0</td>\n",
       "      <td>2005-08-01</td>\n",
       "      <td>...</td>\n",
       "      <td>2.0</td>\n",
       "      <td>1.0</td>\n",
       "      <td>3.0</td>\n",
       "      <td>1.0</td>\n",
       "      <td>1.0</td>\n",
       "      <td>28.0</td>\n",
       "      <td>1.0</td>\n",
       "      <td>1.0</td>\n",
       "      <td>126986.10</td>\n",
       "      <td>1.0</td>\n",
       "    </tr>\n",
       "  </tbody>\n",
       "</table>\n",
       "<p>5 rows × 28 columns</p>\n",
       "</div>"
      ],
      "text/plain": [
       "            fecha_dato  fecha_dato_year  fecha_dato_month  fecha_dato_day  \\\n",
       "Unnamed: 0                                                                  \n",
       "614555      2015-02-28           2015.0               1.0            28.0   \n",
       "614574      2015-02-28           2015.0               1.0            28.0   \n",
       "614610      2015-02-28           2015.0               1.0            28.0   \n",
       "614656      2015-02-28           2015.0               1.0            28.0   \n",
       "614692      2015-02-28           2015.0               1.0            28.0   \n",
       "\n",
       "            ncodpers  ind_empleado  pais_residencia  sexo   age  fecha_alta  \\\n",
       "Unnamed: 0                                                                    \n",
       "614555      545113.0           1.0              1.0   1.0  48.0  2005-08-02   \n",
       "614574      544977.0           1.0              1.0   1.0  25.0  2005-08-02   \n",
       "614610      545326.0           1.0              1.0   1.0  58.0  2005-08-04   \n",
       "614656      545276.0           1.0              1.0   1.0  43.0  2005-08-03   \n",
       "614692      544689.0           1.0              1.0   1.0  24.0  2005-08-01   \n",
       "\n",
       "              ...     indresi  indext  canal_entrada  indfall  tipodom  \\\n",
       "Unnamed: 0    ...                                                        \n",
       "614555        ...         2.0     1.0            6.0      1.0      1.0   \n",
       "614574        ...         2.0     1.0            2.0      1.0      1.0   \n",
       "614610        ...         2.0     1.0           26.0      1.0      1.0   \n",
       "614656        ...         2.0     1.0            2.0      1.0      1.0   \n",
       "614692        ...         2.0     1.0            3.0      1.0      1.0   \n",
       "\n",
       "            cod_prov  nomprov  ind_actividad_cliente      renta  segmento  \n",
       "Unnamed: 0                                                                 \n",
       "614555          50.0      8.0                    0.0   69548.13       1.0  \n",
       "614574          28.0      1.0                    1.0  241498.29       2.0  \n",
       "614610          41.0      4.0                    1.0  210989.22       1.0  \n",
       "614656          39.0     20.0                    1.0  123150.69       1.0  \n",
       "614692          28.0      1.0                    1.0  126986.10       1.0  \n",
       "\n",
       "[5 rows x 28 columns]"
      ]
     },
     "execution_count": 163,
     "metadata": {},
     "output_type": "execute_result"
    }
   ],
   "source": [
    "new_df.head()"
   ]
  },
  {
   "cell_type": "markdown",
   "metadata": {
    "collapsed": true
   },
   "source": [
    "### Resultados de experimentos 6 y 7\n",
    "En estos resultados están presentes los experimentos 6 y 7, con tres datasets:\n",
    "\n",
    "**Algoritmo:** RandomForestClassifier\n",
    "* Dataset limpio versión uno\n",
    "* Dataset limpio versión dos\n",
    "* Dataset sólo con clientes que compran productos"
   ]
  },
  {
   "cell_type": "code",
   "execution_count": 3,
   "metadata": {
    "collapsed": true
   },
   "outputs": [],
   "source": [
    "exp6_1 = pd.read_csv('scripts/results/experiment6.csv')\n",
    "exp6_2 = pd.read_csv('scripts/results/experiment6_v2.csv')\n",
    "exp6_3 = pd.read_csv('scripts/results/experiment6_purcharsers.csv')"
   ]
  },
  {
   "cell_type": "code",
   "execution_count": 12,
   "metadata": {
    "collapsed": false
   },
   "outputs": [
    {
     "data": {
      "text/html": [
       "<div>\n",
       "<table border=\"1\" class=\"dataframe\">\n",
       "  <thead>\n",
       "    <tr style=\"text-align: right;\">\n",
       "      <th></th>\n",
       "      <th>date</th>\n",
       "      <th>score</th>\n",
       "      <th>amount_data</th>\n",
       "    </tr>\n",
       "  </thead>\n",
       "  <tbody>\n",
       "    <tr>\n",
       "      <th>0</th>\n",
       "      <td>2015-01-28</td>\n",
       "      <td>0.013998</td>\n",
       "      <td>513791.0</td>\n",
       "    </tr>\n",
       "    <tr>\n",
       "      <th>1</th>\n",
       "      <td>2015-02-28</td>\n",
       "      <td>0.014096</td>\n",
       "      <td>516199.0</td>\n",
       "    </tr>\n",
       "    <tr>\n",
       "      <th>2</th>\n",
       "      <td>2015-03-28</td>\n",
       "      <td>0.014225</td>\n",
       "      <td>518439.0</td>\n",
       "    </tr>\n",
       "    <tr>\n",
       "      <th>3</th>\n",
       "      <td>2015-04-28</td>\n",
       "      <td>0.014149</td>\n",
       "      <td>520048.0</td>\n",
       "    </tr>\n",
       "    <tr>\n",
       "      <th>4</th>\n",
       "      <td>2015-05-28</td>\n",
       "      <td>0.014164</td>\n",
       "      <td>522000.0</td>\n",
       "    </tr>\n",
       "  </tbody>\n",
       "</table>\n",
       "</div>"
      ],
      "text/plain": [
       "         date     score  amount_data\n",
       "0  2015-01-28  0.013998     513791.0\n",
       "1  2015-02-28  0.014096     516199.0\n",
       "2  2015-03-28  0.014225     518439.0\n",
       "3  2015-04-28  0.014149     520048.0\n",
       "4  2015-05-28  0.014164     522000.0"
      ]
     },
     "execution_count": 12,
     "metadata": {},
     "output_type": "execute_result"
    }
   ],
   "source": [
    "exp6_1.head()"
   ]
  },
  {
   "cell_type": "code",
   "execution_count": 4,
   "metadata": {
    "collapsed": true
   },
   "outputs": [],
   "source": [
    "exp7_1 = pd.read_csv('scripts/results/experiment7.csv')\n",
    "exp7_2 = pd.read_csv('scripts/results/experiment7_v2.csv')\n",
    "exp7_3 = pd.read_csv('scripts/results/experiment7_purcharsers.csv')"
   ]
  },
  {
   "cell_type": "code",
   "execution_count": 9,
   "metadata": {
    "collapsed": true
   },
   "outputs": [],
   "source": [
    "dates = exp6_1.date.values"
   ]
  },
  {
   "cell_type": "code",
   "execution_count": 36,
   "metadata": {
    "collapsed": true
   },
   "outputs": [],
   "source": [
    "score_exp6_1 = exp6_1['score'].values\n",
    "score_exp6_2 = exp6_2['score'].values\n",
    "score_exp6_3 = exp6_3['score'].values\n",
    "\n",
    "score_exp6_3nan = np.insert(score_exp6_3, 0, np.nan)"
   ]
  },
  {
   "cell_type": "code",
   "execution_count": 64,
   "metadata": {
    "collapsed": false
   },
   "outputs": [],
   "source": [
    "validation = pd.read_csv('utils/max_scoresv2.csv')\n",
    "date_test = '2016-05-28'\n",
    "max_score_may16 = validation.loc[validation['fecha'] == date_test, 'clean_max_score'].values\n",
    "ideal_scores = validation.loc[:, 'clean_max_score'].values"
   ]
  },
  {
   "cell_type": "code",
   "execution_count": 70,
   "metadata": {
    "collapsed": false
   },
   "outputs": [
    {
     "data": {
      "text/plain": [
       "<matplotlib.legend.Legend at 0x7fdec1983eb8>"
      ]
     },
     "execution_count": 70,
     "metadata": {},
     "output_type": "execute_result"
    },
    {
     "data": {
      "image/png": "[encoded data removed]",
      "text/plain": [
       "<matplotlib.figure.Figure at 0x7fdec1a83da0>"
      ]
     },
     "metadata": {},
     "output_type": "display_data"
    }
   ],
   "source": [
    "plt.figure(figsize=(15, 4))\n",
    "plt.plot(score_exp6_1, '-o', score_exp6_2, '-o', score_exp6_3nan, '-o')\n",
    "plt.xticks(range(len(dates)), dates, rotation=90)\n",
    "plt.title('Entrenamiento con meses individuales\\n', size=13)\n",
    "plt.ylabel('Score', size=14)\n",
    "plt.legend(['Exp6 v1', 'Exp6 v2', 'Exp6 v3'], loc=0)"
   ]
  },
  {
   "cell_type": "code",
   "execution_count": 61,
   "metadata": {
    "collapsed": false
   },
   "outputs": [
    {
     "name": "stdout",
     "output_type": "stream",
     "text": [
      "En el exp6 v1 el mayor score es 0.01593 (2016-03-28) y equivale al 55.535% del score ideal\n",
      "En el exp6 v2 el mayor score es 0.01584 (2016-03-28) y equivale al 55.221% del score ideal\n",
      "En el exp6 v3 el mayor score es 0.01589 (2016-02-28) y equivale al 55.380% del score ideal\n"
     ]
    }
   ],
   "source": [
    "scores_exp6 = [score_exp6_1, score_exp6_2, score_exp6_3]\n",
    "for i, scores in enumerate(scores_exp6):\n",
    "    max_sc = scores.max()\n",
    "    ind_max_sc = list(reversed(scores.argsort()))[0]\n",
    "    ind_max_sc = ind_max_sc + 1 if i == 2 else ind_max_sc\n",
    "    print(\"En el exp6 v{} el mayor score es {:.5f} ({}) y equivale al {:.3f}% del score ideal\".format(i+1, max_sc,\n",
    "                                                                                              dates[ind_max_sc],\n",
    "                                                                                              100*max_sc/max_score_may16[0]))\n",
    "    "
   ]
  },
  {
   "cell_type": "code",
   "execution_count": 41,
   "metadata": {
    "collapsed": true
   },
   "outputs": [],
   "source": [
    "score_exp7_1 = exp7_1['score'].values\n",
    "score_exp7_2 = exp7_2['score'].values\n",
    "score_exp7_3 = exp7_3['score'].values\n",
    "\n",
    "score_exp7_3nan = np.insert(score_exp7_3, 0, np.nan)"
   ]
  },
  {
   "cell_type": "code",
   "execution_count": 262,
   "metadata": {
    "collapsed": false
   },
   "outputs": [
    {
     "data": {
      "text/plain": [
       "<matplotlib.legend.Legend at 0x7fdec0616240>"
      ]
     },
     "execution_count": 262,
     "metadata": {},
     "output_type": "execute_result"
    },
    {
     "data": {
      "image/png": "[encoded data removed]",
      "text/plain": [
       "<matplotlib.figure.Figure at 0x7fdebfd30908>"
      ]
     },
     "metadata": {},
     "output_type": "display_data"
    }
   ],
   "source": [
    "plt.figure(figsize=(15, 4))\n",
    "plt.plot(score_exp7_1, '-o', score_exp7_2, '-o', score_exp7_3nan, '-o')\n",
    "plt.xticks(range(len(dates)), dates, rotation=90)\n",
    "plt.title('Entrenamiento con meses acumulados\\n', size=13)\n",
    "plt.ylabel('Score', size=14)\n",
    "plt.legend(['Exp6 v1', 'Exp6 v2', 'Exp6 v3'], loc=0)"
   ]
  },
  {
   "cell_type": "code",
   "execution_count": 60,
   "metadata": {
    "collapsed": false
   },
   "outputs": [
    {
     "name": "stdout",
     "output_type": "stream",
     "text": [
      "En el exp6 v1 el mayor score es 0.01687 (2016-03-28) y equivale al 58.815% del score ideal\n",
      "En el exp6 v2 el mayor score es 0.01683 (2016-03-28) y equivale al 58.661% del score ideal\n",
      "En el exp6 v3 el mayor score es 0.01733 (2016-03-28) y equivale al 60.405% del score ideal\n"
     ]
    }
   ],
   "source": [
    "scores_exp7 = [score_exp7_1, score_exp7_2, score_exp7_3]\n",
    "for i, scores in enumerate(scores_exp7):\n",
    "    max_sc = scores.max()\n",
    "    ind_max_sc = list(reversed(scores.argsort()))[0]\n",
    "    ind_max_sc = ind_max_sc + 1 if i == 2 else ind_max_sc\n",
    "        \n",
    "    print(\"En el exp6 v{} el mayor score es {:.5f} ({}) y equivale al {:.3f}% del score ideal\".format(i+1, max_sc,\n",
    "                                                                                              dates[ind_max_sc],\n",
    "                                                                                              100*max_sc/max_score_may16[0]))"
   ]
  },
  {
   "cell_type": "markdown",
   "metadata": {},
   "source": [
    "---"
   ]
  },
  {
   "cell_type": "code",
   "execution_count": 17,
   "metadata": {
    "collapsed": false
   },
   "outputs": [],
   "source": [
    "df_purchasers = pd.read_csv('data/clean/train_purchasers.csv', index_col='index')"
   ]
  },
  {
   "cell_type": "code",
   "execution_count": 55,
   "metadata": {
    "collapsed": true
   },
   "outputs": [],
   "source": [
    "df_copy = df.copy()"
   ]
  },
  {
   "cell_type": "code",
   "execution_count": 39,
   "metadata": {
    "collapsed": true
   },
   "outputs": [],
   "source": [
    "df_copy_purchasers = df_purchasers.copy()"
   ]
  },
  {
   "cell_type": "code",
   "execution_count": 40,
   "metadata": {
    "collapsed": true
   },
   "outputs": [],
   "source": [
    "df_copy_test = df_test.copy()"
   ]
  },
  {
   "cell_type": "markdown",
   "metadata": {},
   "source": [
    "### Revisión de cambios (deltas) en las *features* del dataframe de compradores"
   ]
  },
  {
   "cell_type": "code",
   "execution_count": 43,
   "metadata": {
    "collapsed": false
   },
   "outputs": [
    {
     "name": "stdout",
     "output_type": "stream",
     "text": [
      "fecha_dato_year             37553 representa el     20.292% de todos los clientes del dataset\n",
      "fecha_dato_month            38055 representa el     20.563% de todos los clientes del dataset\n",
      "fecha_dato_day                  0 representa el      0.000% de todos los clientes del dataset\n",
      "ncodpers                        0 representa el      0.000% de todos los clientes del dataset\n",
      "ind_empleado                    0 representa el      0.000% de todos los clientes del dataset\n",
      "pais_residencia                 0 representa el      0.000% de todos los clientes del dataset\n",
      "sexo                            0 representa el      0.000% de todos los clientes del dataset\n",
      "age                         21725 representa el     11.739% de todos los clientes del dataset\n",
      "fecha_alta_year                 0 representa el      0.000% de todos los clientes del dataset\n",
      "fecha_alta_month                0 representa el      0.000% de todos los clientes del dataset\n",
      "fecha_alta_day                  0 representa el      0.000% de todos los clientes del dataset\n",
      "ind_nuevo                    1270 representa el      0.686% de todos los clientes del dataset\n",
      "antiguedad                  42801 representa el     23.127% de todos los clientes del dataset\n",
      "indrel                         45 representa el      0.024% de todos los clientes del dataset\n",
      "indrel_1mes                     1 representa el      0.001% de todos los clientes del dataset\n",
      "tiprel_1mes                     1 representa el      0.001% de todos los clientes del dataset\n",
      "indresi                         0 representa el      0.000% de todos los clientes del dataset\n",
      "indext                          9 representa el      0.005% de todos los clientes del dataset\n",
      "canal_entrada                 156 representa el      0.084% de todos los clientes del dataset\n",
      "indfall                        27 representa el      0.015% de todos los clientes del dataset\n",
      "tipodom                         0 representa el      0.000% de todos los clientes del dataset\n",
      "cod_prov                      224 representa el      0.121% de todos los clientes del dataset\n",
      "nomprov                       230 representa el      0.124% de todos los clientes del dataset\n",
      "ind_actividad_cliente         475 representa el      0.257% de todos los clientes del dataset\n",
      "renta                        4800 representa el      2.594% de todos los clientes del dataset\n",
      "segmento                     1243 representa el      0.672% de todos los clientes del dataset\n"
     ]
    }
   ],
   "source": [
    "cols = df_purchasers.select_dtypes(['float64']).columns\n",
    "\n",
    "for col in cols:\n",
    "    #feature = 'tiprel_1mes'\n",
    "    df_aux = df_purchasers.groupby(['ncodpers']).agg({col: {'min': 'min',\n",
    "                                                             'max': 'max',\n",
    "                                                             'mean': 'mean',\n",
    "                                                             'median': 'median'\n",
    "                                                             }})\n",
    "    df_aux2 = df_aux.loc[df_aux.loc[:, (col, 'mean')] > df_aux.loc[:, (col, 'median')]]\n",
    "    print(\"{:22} {:10} representa el {:10.3f}% de todos los clientes del dataset\".format(col, df_aux2.shape[0],\n",
    "                                                                  df_aux2.shape[0]*100/df_aux.shape[0]))"
   ]
  },
  {
   "cell_type": "markdown",
   "metadata": {},
   "source": [
    "#### Adición de las columnas *deltas* en el dataset de compradores"
   ]
  },
  {
   "cell_type": "code",
   "execution_count": 56,
   "metadata": {
    "collapsed": false
   },
   "outputs": [
    {
     "name": "stdout",
     "output_type": "stream",
     "text": [
      "antiguedad\n",
      "renta\n",
      "segmento\n"
     ]
    }
   ],
   "source": [
    "delta_cols = ['antiguedad', 'renta', 'segmento']\n",
    "for col in delta_cols:\n",
    "    #feature = 'tiprel_1mes'\n",
    "    df_aux = df.groupby(['ncodpers']).agg({col: {'min': 'min',\n",
    "                                                             'max': 'max',\n",
    "                                                             'mean': 'mean',\n",
    "                                                             'median': 'median'\n",
    "                                                             }})\n",
    "    \n",
    "    df_aux[col+'_delta'] = df_aux.loc[:, [(col, 'mean')]] / df_aux.loc[:, [(col, 'median')]].as_matrix()\n",
    "    df_aux.reset_index(inplace=True)\n",
    "    df_aux.columns = df_aux.columns.droplevel(1)\n",
    "    df_copy = df_copy.merge(df_aux.loc[:, ['ncodpers', col+'_delta']], on='ncodpers')\n",
    "    print(col)\n",
    "\n",
    "df_copy.replace(np.nan, 0, inplace=True)"
   ]
  },
  {
   "cell_type": "markdown",
   "metadata": {
    "collapsed": true
   },
   "source": [
    "#### Experimento\n",
    "Se entrenará con los features añadidos y test será Junio 2016"
   ]
  },
  {
   "cell_type": "code",
   "execution_count": 57,
   "metadata": {
    "collapsed": false
   },
   "outputs": [
    {
     "data": {
      "text/html": [
       "<div>\n",
       "<table border=\"1\" class=\"dataframe\">\n",
       "  <thead>\n",
       "    <tr style=\"text-align: right;\">\n",
       "      <th></th>\n",
       "      <th>fecha_dato</th>\n",
       "      <th>fecha_dato_year</th>\n",
       "      <th>fecha_dato_month</th>\n",
       "      <th>fecha_dato_day</th>\n",
       "      <th>ncodpers</th>\n",
       "      <th>ind_empleado</th>\n",
       "      <th>pais_residencia</th>\n",
       "      <th>sexo</th>\n",
       "      <th>age</th>\n",
       "      <th>fecha_alta</th>\n",
       "      <th>...</th>\n",
       "      <th>indfall</th>\n",
       "      <th>tipodom</th>\n",
       "      <th>cod_prov</th>\n",
       "      <th>nomprov</th>\n",
       "      <th>ind_actividad_cliente</th>\n",
       "      <th>renta</th>\n",
       "      <th>segmento</th>\n",
       "      <th>antiguedad_delta</th>\n",
       "      <th>renta_delta</th>\n",
       "      <th>segmento_delta</th>\n",
       "    </tr>\n",
       "  </thead>\n",
       "  <tbody>\n",
       "    <tr>\n",
       "      <th>0</th>\n",
       "      <td>2015-01-28</td>\n",
       "      <td>2015</td>\n",
       "      <td>1</td>\n",
       "      <td>28</td>\n",
       "      <td>1375586</td>\n",
       "      <td>1</td>\n",
       "      <td>1</td>\n",
       "      <td>1</td>\n",
       "      <td>35</td>\n",
       "      <td>2015-01-12</td>\n",
       "      <td>...</td>\n",
       "      <td>1</td>\n",
       "      <td>1.0</td>\n",
       "      <td>29.0</td>\n",
       "      <td>7</td>\n",
       "      <td>1.0</td>\n",
       "      <td>87218.1</td>\n",
       "      <td>1</td>\n",
       "      <td>1.154412</td>\n",
       "      <td>1.0</td>\n",
       "      <td>1.0</td>\n",
       "    </tr>\n",
       "    <tr>\n",
       "      <th>1</th>\n",
       "      <td>2015-02-28</td>\n",
       "      <td>2015</td>\n",
       "      <td>2</td>\n",
       "      <td>28</td>\n",
       "      <td>1375586</td>\n",
       "      <td>1</td>\n",
       "      <td>1</td>\n",
       "      <td>1</td>\n",
       "      <td>35</td>\n",
       "      <td>2015-01-12</td>\n",
       "      <td>...</td>\n",
       "      <td>1</td>\n",
       "      <td>1.0</td>\n",
       "      <td>29.0</td>\n",
       "      <td>7</td>\n",
       "      <td>1.0</td>\n",
       "      <td>87218.1</td>\n",
       "      <td>1</td>\n",
       "      <td>1.154412</td>\n",
       "      <td>1.0</td>\n",
       "      <td>1.0</td>\n",
       "    </tr>\n",
       "    <tr>\n",
       "      <th>2</th>\n",
       "      <td>2015-03-28</td>\n",
       "      <td>2015</td>\n",
       "      <td>3</td>\n",
       "      <td>28</td>\n",
       "      <td>1375586</td>\n",
       "      <td>1</td>\n",
       "      <td>1</td>\n",
       "      <td>1</td>\n",
       "      <td>35</td>\n",
       "      <td>2015-01-12</td>\n",
       "      <td>...</td>\n",
       "      <td>1</td>\n",
       "      <td>1.0</td>\n",
       "      <td>29.0</td>\n",
       "      <td>7</td>\n",
       "      <td>1.0</td>\n",
       "      <td>87218.1</td>\n",
       "      <td>1</td>\n",
       "      <td>1.154412</td>\n",
       "      <td>1.0</td>\n",
       "      <td>1.0</td>\n",
       "    </tr>\n",
       "    <tr>\n",
       "      <th>3</th>\n",
       "      <td>2015-04-28</td>\n",
       "      <td>2015</td>\n",
       "      <td>4</td>\n",
       "      <td>28</td>\n",
       "      <td>1375586</td>\n",
       "      <td>1</td>\n",
       "      <td>1</td>\n",
       "      <td>1</td>\n",
       "      <td>35</td>\n",
       "      <td>2015-01-12</td>\n",
       "      <td>...</td>\n",
       "      <td>1</td>\n",
       "      <td>1.0</td>\n",
       "      <td>29.0</td>\n",
       "      <td>7</td>\n",
       "      <td>1.0</td>\n",
       "      <td>87218.1</td>\n",
       "      <td>1</td>\n",
       "      <td>1.154412</td>\n",
       "      <td>1.0</td>\n",
       "      <td>1.0</td>\n",
       "    </tr>\n",
       "    <tr>\n",
       "      <th>4</th>\n",
       "      <td>2015-05-28</td>\n",
       "      <td>2015</td>\n",
       "      <td>5</td>\n",
       "      <td>28</td>\n",
       "      <td>1375586</td>\n",
       "      <td>1</td>\n",
       "      <td>1</td>\n",
       "      <td>1</td>\n",
       "      <td>35</td>\n",
       "      <td>2015-01-12</td>\n",
       "      <td>...</td>\n",
       "      <td>1</td>\n",
       "      <td>1.0</td>\n",
       "      <td>29.0</td>\n",
       "      <td>7</td>\n",
       "      <td>1.0</td>\n",
       "      <td>87218.1</td>\n",
       "      <td>1</td>\n",
       "      <td>1.154412</td>\n",
       "      <td>1.0</td>\n",
       "      <td>1.0</td>\n",
       "    </tr>\n",
       "  </tbody>\n",
       "</table>\n",
       "<p>5 rows × 31 columns</p>\n",
       "</div>"
      ],
      "text/plain": [
       "   fecha_dato  fecha_dato_year  fecha_dato_month  fecha_dato_day  ncodpers  \\\n",
       "0  2015-01-28             2015                 1              28   1375586   \n",
       "1  2015-02-28             2015                 2              28   1375586   \n",
       "2  2015-03-28             2015                 3              28   1375586   \n",
       "3  2015-04-28             2015                 4              28   1375586   \n",
       "4  2015-05-28             2015                 5              28   1375586   \n",
       "\n",
       "   ind_empleado  pais_residencia  sexo  age  fecha_alta       ...        \\\n",
       "0             1                1     1   35  2015-01-12       ...         \n",
       "1             1                1     1   35  2015-01-12       ...         \n",
       "2             1                1     1   35  2015-01-12       ...         \n",
       "3             1                1     1   35  2015-01-12       ...         \n",
       "4             1                1     1   35  2015-01-12       ...         \n",
       "\n",
       "   indfall  tipodom  cod_prov  nomprov  ind_actividad_cliente    renta  \\\n",
       "0        1      1.0      29.0        7                    1.0  87218.1   \n",
       "1        1      1.0      29.0        7                    1.0  87218.1   \n",
       "2        1      1.0      29.0        7                    1.0  87218.1   \n",
       "3        1      1.0      29.0        7                    1.0  87218.1   \n",
       "4        1      1.0      29.0        7                    1.0  87218.1   \n",
       "\n",
       "   segmento  antiguedad_delta  renta_delta  segmento_delta  \n",
       "0         1          1.154412          1.0             1.0  \n",
       "1         1          1.154412          1.0             1.0  \n",
       "2         1          1.154412          1.0             1.0  \n",
       "3         1          1.154412          1.0             1.0  \n",
       "4         1          1.154412          1.0             1.0  \n",
       "\n",
       "[5 rows x 31 columns]"
      ]
     },
     "execution_count": 57,
     "metadata": {},
     "output_type": "execute_result"
    }
   ],
   "source": [
    "df_copy.head()"
   ]
  },
  {
   "cell_type": "code",
   "execution_count": 58,
   "metadata": {
    "collapsed": false
   },
   "outputs": [],
   "source": [
    "x_train = df_copy\n",
    "y_train = df_targets.loc[x_train.index]"
   ]
  },
  {
   "cell_type": "code",
   "execution_count": 47,
   "metadata": {
    "collapsed": true
   },
   "outputs": [],
   "source": [
    "from sklearn.tree import DecisionTreeClassifier"
   ]
  },
  {
   "cell_type": "code",
   "execution_count": 59,
   "metadata": {
    "collapsed": false
   },
   "outputs": [
    {
     "name": "stdout",
     "output_type": "stream",
     "text": [
      "CPU times: user 13min 5s, sys: 16.4 s, total: 13min 21s\n",
      "Wall time: 13min 21s\n"
     ]
    }
   ],
   "source": [
    "%%time\n",
    "x = x_train.drop(['fecha_dato', 'ncodpers', 'fecha_alta'], axis=1).as_matrix()\n",
    "y = y_train.as_matrix()\n",
    "model = local.model(x, y, DecisionTreeClassifier())"
   ]
  },
  {
   "cell_type": "markdown",
   "metadata": {},
   "source": [
    "#### Procesamiento de datos test"
   ]
  },
  {
   "cell_type": "code",
   "execution_count": 60,
   "metadata": {
    "collapsed": false
   },
   "outputs": [
    {
     "name": "stdout",
     "output_type": "stream",
     "text": [
      "antiguedad\n",
      "renta\n",
      "segmento\n"
     ]
    }
   ],
   "source": [
    "x_test = x_train.loc[:, :'segmento'].append(df_test)\n",
    "\n",
    "x_test.reset_index(drop=True, inplace=True)\n",
    "\n",
    "delta_cols = ['antiguedad', 'renta', 'segmento']\n",
    "for col in delta_cols:\n",
    "    #feature = 'tiprel_1mes'\n",
    "    df_aux = x_test.groupby(['ncodpers']).agg({col: {'min': 'min',\n",
    "                                                             'max': 'max',\n",
    "                                                             'mean': 'mean',\n",
    "                                                             'median': 'median'\n",
    "                                                             }})\n",
    "    \n",
    "    df_aux[col+'_delta'] = df_aux.loc[:, [(col, 'mean')]] / df_aux.loc[:, [(col, 'median')]].as_matrix()\n",
    "    df_aux.reset_index(inplace=True)\n",
    "    df_aux.columns = df_aux.columns.droplevel(1)\n",
    "    x_test = x_test.merge(df_aux.loc[:, ['ncodpers', col+'_delta']], on='ncodpers')\n",
    "    print(col)\n",
    "\n",
    "x_test.replace(np.nan, 0, inplace=True)\n",
    "\n",
    "x_test = x_test.loc[x_test['fecha_dato'] == '2016-06-28']\n",
    "\n",
    "x_test.reset_index(drop=True, inplace=True)\n",
    "\n",
    "xtest = x_test.drop(['fecha_dato', 'ncodpers', 'fecha_alta'], axis=1).as_matrix()"
   ]
  },
  {
   "cell_type": "code",
   "execution_count": 61,
   "metadata": {
    "collapsed": false
   },
   "outputs": [
    {
     "name": "stdout",
     "output_type": "stream",
     "text": [
      "CPU times: user 6.12 s, sys: 424 ms, total: 6.54 s\n",
      "Wall time: 6.53 s\n"
     ]
    }
   ],
   "source": [
    "%%time\n",
    "probs,preds = local.calculatePredsProbs(xtest, model)"
   ]
  },
  {
   "cell_type": "code",
   "execution_count": 62,
   "metadata": {
    "collapsed": false
   },
   "outputs": [
    {
     "name": "stdout",
     "output_type": "stream",
     "text": [
      "results/submissions/2018-07-27-h21-40-39_submission.csv\n",
      "CPU times: user 21.8 s, sys: 1.22 s, total: 23 s\n",
      "Wall time: 24.1 s\n"
     ]
    }
   ],
   "source": [
    "%%time\n",
    "x_test.loc[:, 'ncodpers'] = x_test['ncodpers'].astype('int64')\n",
    "x_prev = df.loc[df['fecha_dato'] == '2016-05-28']\n",
    "y_prev = df_targets.loc[x_prev.index]\n",
    "subm = local.processPredictions(probs, preds, x_prev, x_test, y_prev, env='submit')"
   ]
  },
  {
   "cell_type": "code",
   "execution_count": 63,
   "metadata": {
    "collapsed": false
   },
   "outputs": [
    {
     "name": "stdout",
     "output_type": "stream",
     "text": [
      "2018-07-27-h21-40-39_submission.csv\n",
      "/home/sergioml/.local/lib/python2.7/site-packages/urllib3/contrib/socks.py:37: DependencyWarning: SOCKS support in urllib3 requires the installation of optional dependencies: specifically, PySocks.  For more information, see https://urllib3.readthedocs.io/en/latest/contrib.html#socks-proxies\n",
      "  DependencyWarning\n",
      "Warning: Looks like you're using an outdated API Version, please consider updating (server 1.4.2 / client 1.3.12)\n",
      "Successfully submitted to Santander Product Recommendation\n",
      "real\t0m17.851s\n",
      "user\t0m1.464s\n",
      "sys\t0m0.352s\n"
     ]
    }
   ],
   "source": [
    "!bash results/submissions/kaggle_submission \"DT, dataset con deltas, ORIGINAL\""
   ]
  },
  {
   "cell_type": "markdown",
   "metadata": {},
   "source": [
    "#### Experimento II\n",
    "Se entrenará sólo con el mes de Mayo 2016 y los features añadidos"
   ]
  },
  {
   "cell_type": "code",
   "execution_count": 26,
   "metadata": {
    "collapsed": true
   },
   "outputs": [],
   "source": [
    "x_train = df_copy_purchasers.loc[df_copy_purchasers['fecha_dato'] == '2016-05-28']\n",
    "y_train = df_purch_targets.loc[x_train.index, 'ind_ahor_fin_ult1':]"
   ]
  },
  {
   "cell_type": "code",
   "execution_count": 28,
   "metadata": {
    "collapsed": false
   },
   "outputs": [
    {
     "name": "stdout",
     "output_type": "stream",
     "text": [
      "CPU times: user 5.84 s, sys: 388 ms, total: 6.22 s\n",
      "Wall time: 2.08 s\n"
     ]
    }
   ],
   "source": [
    "%%time\n",
    "x = x_train.drop(['fecha_dato', 'ncodpers', 'fecha_alta'], axis=1).as_matrix()\n",
    "y = y_train.as_matrix()\n",
    "model = local.model(x, y, RandomForestClassifier(n_jobs=4))"
   ]
  },
  {
   "cell_type": "code",
   "execution_count": 29,
   "metadata": {
    "collapsed": false
   },
   "outputs": [
    {
     "name": "stdout",
     "output_type": "stream",
     "text": [
      "antiguedad\n",
      "renta\n",
      "segmento\n"
     ]
    }
   ],
   "source": [
    "x_test = df_copy_purchasers.loc[:, :'segmento'].append(df_test)\n",
    "\n",
    "x_test.reset_index(drop=True, inplace=True)\n",
    "\n",
    "delta_cols = ['antiguedad', 'renta', 'segmento']\n",
    "for col in delta_cols:\n",
    "    #feature = 'tiprel_1mes'\n",
    "    df_aux = x_test.groupby(['ncodpers']).agg({col: {'min': 'min',\n",
    "                                                             'max': 'max',\n",
    "                                                             'mean': 'mean',\n",
    "                                                             'median': 'median'\n",
    "                                                             }})\n",
    "    \n",
    "    df_aux[col+'_delta'] = df_aux.loc[:, [(col, 'mean')]] / df_aux.loc[:, [(col, 'median')]].as_matrix()\n",
    "    df_aux.reset_index(inplace=True)\n",
    "    df_aux.columns = df_aux.columns.droplevel(1)\n",
    "    x_test = x_test.merge(df_aux.loc[:, ['ncodpers', col+'_delta']], on='ncodpers')\n",
    "    print(col)\n",
    "\n",
    "x_test.replace(np.nan, 0, inplace=True)\n",
    "\n",
    "x_test = x_test.loc[x_test['fecha_dato'] == '2016-06-28']\n",
    "\n",
    "x_test.reset_index(drop=True, inplace=True)\n",
    "\n",
    "xtest = x_test.drop(['fecha_dato', 'ncodpers', 'fecha_alta'], axis=1).as_matrix()"
   ]
  },
  {
   "cell_type": "code",
   "execution_count": 30,
   "metadata": {
    "collapsed": false
   },
   "outputs": [
    {
     "name": "stdout",
     "output_type": "stream",
     "text": [
      "CPU times: user 2min 48s, sys: 6.98 s, total: 2min 54s\n",
      "Wall time: 1min 21s\n"
     ]
    }
   ],
   "source": [
    "%%time\n",
    "probs,preds = local.calculatePredsProbs(xtest, model)"
   ]
  },
  {
   "cell_type": "code",
   "execution_count": 18,
   "metadata": {
    "collapsed": false
   },
   "outputs": [
    {
     "name": "stdout",
     "output_type": "stream",
     "text": [
      "results/submissions/2018-07-20-h02-28-20_submission.csv\n",
      "CPU times: user 17.4 s, sys: 524 ms, total: 17.9 s\n",
      "Wall time: 19 s\n"
     ]
    }
   ],
   "source": [
    "%%time\n",
    "x_test.loc[:, 'ncodpers'] = x_test['ncodpers'].astype('int64')\n",
    "x_prev = x_train.loc[x_train['fecha_dato'] == '2016-05-28']\n",
    "subm = local.processPredictions(probs, preds, x_prev, x_test, y_train, env='submit')"
   ]
  },
  {
   "cell_type": "code",
   "execution_count": 19,
   "metadata": {
    "collapsed": false
   },
   "outputs": [
    {
     "name": "stdout",
     "output_type": "stream",
     "text": [
      "2018-07-20-h02-28-20_submission.csv\n",
      "/home/sergioml/.local/lib/python2.7/site-packages/urllib3/contrib/socks.py:37: DependencyWarning: SOCKS support in urllib3 requires the installation of optional dependencies: specifically, PySocks.  For more information, see https://urllib3.readthedocs.io/en/latest/contrib.html#socks-proxies\n",
      "  DependencyWarning\n",
      "Warning: Looks like you're using an outdated API Version, please consider updating (server 1.4.0 / client 1.3.12)\n",
      "Successfully submitted to Santander Product Recommendation\n",
      "real\t2m57.891s\n",
      "user\t0m1.696s\n",
      "sys\t0m0.576s\n"
     ]
    }
   ],
   "source": [
    "!bash results/submissions/kaggle_submission \"RF, sólo mayo 2016 de purchasers con tres deltas de más, se valida con mayo 2016\""
   ]
  },
  {
   "cell_type": "markdown",
   "metadata": {},
   "source": [
    "---\n",
    "Validando los productos comprados con Mayo 2016 del dataset original"
   ]
  },
  {
   "cell_type": "code",
   "execution_count": 32,
   "metadata": {
    "collapsed": false
   },
   "outputs": [
    {
     "name": "stdout",
     "output_type": "stream",
     "text": [
      "results/submissions/2018-07-20-h02-41-07_submission.csv\n",
      "CPU times: user 22 s, sys: 1.53 s, total: 23.6 s\n",
      "Wall time: 24.8 s\n"
     ]
    }
   ],
   "source": [
    "%%time\n",
    "x_test.loc[:, 'ncodpers'] = x_test['ncodpers'].astype('int64')\n",
    "x_prev = df.loc[df['fecha_dato'] == '2016-05-28']\n",
    "subm = local.processPredictions(probs, preds, x_prev, x_test, df_targets, env='submit')"
   ]
  },
  {
   "cell_type": "code",
   "execution_count": null,
   "metadata": {
    "collapsed": false
   },
   "outputs": [
    {
     "name": "stdout",
     "output_type": "stream",
     "text": [
      "2018-07-20-h02-41-07_submission.csv\n",
      "/home/sergioml/.local/lib/python2.7/site-packages/urllib3/contrib/socks.py:37: DependencyWarning: SOCKS support in urllib3 requires the installation of optional dependencies: specifically, PySocks.  For more information, see https://urllib3.readthedocs.io/en/latest/contrib.html#socks-proxies\n",
      "  DependencyWarning\n",
      "Warning: Looks like you're using an outdated API Version, please consider updating (server 1.4.0 / client 1.3.12)\n",
      "Successfully submitted to Santander Product Recommendation\n",
      "real\t1m40.864s\n",
      "user\t0m1.480s\n",
      "sys\t0m0.468s\n"
     ]
    }
   ],
   "source": [
    "!bash results/submissions/kaggle_submission \"RF, sólo mayo 2016 de purchasers con tres deltas de más, se valida con mayo 2016 del dataset original\""
   ]
  },
  {
   "cell_type": "markdown",
   "metadata": {},
   "source": [
    "### Cambios en las *features* del dataframe completo"
   ]
  },
  {
   "cell_type": "code",
   "execution_count": 18,
   "metadata": {
    "collapsed": false
   },
   "outputs": [
    {
     "name": "stdout",
     "output_type": "stream",
     "text": [
      "fecha_dato_year            800308 representa el     85.702% de todos los clientes del dataset\n",
      "fecha_dato_month           703242 representa el     75.308% de todos los clientes del dataset\n",
      "fecha_dato_day                  0 representa el      0.000% de todos los clientes del dataset\n",
      "ncodpers                        0 representa el      0.000% de todos los clientes del dataset\n",
      "ind_empleado                    0 representa el      0.000% de todos los clientes del dataset\n",
      "pais_residencia                 0 representa el      0.000% de todos los clientes del dataset\n",
      "sexo                            0 representa el      0.000% de todos los clientes del dataset\n",
      "age                        510178 representa el     54.633% de todos los clientes del dataset\n",
      "fecha_alta_year                 3 representa el      0.000% de todos los clientes del dataset\n",
      "fecha_alta_month                3 representa el      0.000% de todos los clientes del dataset\n",
      "fecha_alta_day                  4 representa el      0.000% de todos los clientes del dataset\n",
      "ind_nuevo                   17235 representa el      1.846% de todos los clientes del dataset\n",
      "antiguedad                 735569 representa el     78.770% de todos los clientes del dataset\n",
      "indrel                      11089 representa el      1.187% de todos los clientes del dataset\n",
      "indrel_1mes                    36 representa el      0.004% de todos los clientes del dataset\n",
      "tiprel_1mes                    36 representa el      0.004% de todos los clientes del dataset\n",
      "indresi                         0 representa el      0.000% de todos los clientes del dataset\n",
      "indext                         38 representa el      0.004% de todos los clientes del dataset\n",
      "canal_entrada                1515 representa el      0.162% de todos los clientes del dataset\n",
      "indfall                       410 representa el      0.044% de todos los clientes del dataset\n",
      "tipodom                         0 representa el      0.000% de todos los clientes del dataset\n",
      "cod_prov                     1626 representa el      0.174% de todos los clientes del dataset\n",
      "nomprov                      1698 representa el      0.182% de todos los clientes del dataset\n",
      "ind_actividad_cliente       23743 representa el      2.543% de todos los clientes del dataset\n",
      "renta                      292599 representa el     31.333% de todos los clientes del dataset\n",
      "segmento                     8332 representa el      0.892% de todos los clientes del dataset\n"
     ]
    }
   ],
   "source": [
    "cols = df.select_dtypes(['int64', 'float64']).columns\n",
    "\n",
    "for col in cols:\n",
    "    df_aux = df.groupby(['ncodpers']).agg({col: {'min': 'min',\n",
    "                                                 'max': 'max',\n",
    "                                                 'mean': 'mean',\n",
    "                                                 'median': 'median'}})\n",
    "    df_aux2 = df_aux.loc[df_aux.loc[:, (col, 'mean')] > df_aux.loc[:, (col, 'median')]]\n",
    "    print(\"{:22} {:10} representa el {:10.3f}% de todos los clientes del dataset\".format(col, df_aux2.shape[0],\n",
    "                                                                  df_aux2.shape[0]*100/df_aux.shape[0]))"
   ]
  },
  {
   "cell_type": "markdown",
   "metadata": {},
   "source": [
    "#### Adición de columnas delta"
   ]
  },
  {
   "cell_type": "code",
   "execution_count": 5,
   "metadata": {
    "collapsed": true
   },
   "outputs": [],
   "source": [
    "df_copy = df.copy()\n",
    "\n",
    "delta_cols = ['antiguedad', 'renta', 'segmento']\n",
    "for col in delta_cols:\n",
    "    #feature = 'tiprel_1mes'\n",
    "    df_aux = df_copy.groupby(['ncodpers']).agg({col: {'min': 'min',\n",
    "                                                             'max': 'max',\n",
    "                                                             'mean': 'mean',\n",
    "                                                             'median': 'median'\n",
    "                                                             }})\n",
    "    \n",
    "    df_aux[col+'_delta'] = df_aux.loc[:, [(col, 'mean')]] / df_aux.loc[:, [(col, 'median')]].as_matrix()\n",
    "    df_aux.reset_index(inplace=True)\n",
    "    df_aux.columns = df_aux.columns.droplevel(1)\n",
    "    df_copy = df_copy.merge(df_aux.loc[:, ['ncodpers', col+'_delta']], on='ncodpers')\n",
    "    print(col)\n",
    "\n",
    "df_copy.replace(np.nan, 0, inplace=True)"
   ]
  },
  {
   "cell_type": "code",
   "execution_count": 12,
   "metadata": {
    "collapsed": true
   },
   "outputs": [],
   "source": [
    "deltas = [col+'_delta' for col in delta_cols]"
   ]
  },
  {
   "cell_type": "code",
   "execution_count": 13,
   "metadata": {
    "collapsed": false
   },
   "outputs": [],
   "source": [
    "df_copy.loc[:, deltas] = df_copy.loc[:, deltas].astype('float32')"
   ]
  },
  {
   "cell_type": "markdown",
   "metadata": {
    "collapsed": true
   },
   "source": [
    "#### Experimento\n",
    "Entrenamiento con todos los datos del dataset original y los deltas añadidos y con test de Junio 2016"
   ]
  },
  {
   "cell_type": "code",
   "execution_count": 7,
   "metadata": {
    "collapsed": false
   },
   "outputs": [],
   "source": [
    "x_train = df_copy\n",
    "y_train = df_targets\n",
    "\n",
    "x = x_train.drop(['fecha_dato', 'ncodpers', 'fecha_alta'], axis=1).as_matrix()\n",
    "y = y_train.as_matrix()"
   ]
  },
  {
   "cell_type": "code",
   "execution_count": 9,
   "metadata": {
    "collapsed": false
   },
   "outputs": [
    {
     "name": "stdout",
     "output_type": "stream",
     "text": [
      "CPU times: user 47min 19s, sys: 3min 17s, total: 50min 37s\n",
      "Wall time: 15min 42s\n"
     ]
    }
   ],
   "source": [
    "%%time\n",
    "model = local.model(x, y, RandomForestClassifier(n_jobs=4))"
   ]
  },
  {
   "cell_type": "code",
   "execution_count": 11,
   "metadata": {
    "collapsed": false
   },
   "outputs": [
    {
     "name": "stdout",
     "output_type": "stream",
     "text": [
      "antiguedad\n",
      "renta\n",
      "segmento\n",
      "CPU times: user 3min 30s, sys: 36.3 s, total: 4min 6s\n",
      "Wall time: 2min 57s\n"
     ]
    }
   ],
   "source": [
    "%%time\n",
    "x_test = x_train.loc[:, :'segmento'].append(df_test)\n",
    "x_test.reset_index(drop=True, inplace=True)\n",
    "\n",
    "delta_cols = ['antiguedad', 'renta', 'segmento']\n",
    "for col in delta_cols:\n",
    "    #feature = 'tiprel_1mes'\n",
    "    df_aux = x_test.groupby(['ncodpers']).agg({col: {'min': 'min',\n",
    "                                                             'max': 'max',\n",
    "                                                             'mean': 'mean',\n",
    "                                                             'median': 'median'\n",
    "                                                             }})\n",
    "    \n",
    "    df_aux[col+'_delta'] = df_aux.loc[:, [(col, 'mean')]] / df_aux.loc[:, [(col, 'median')]].as_matrix()\n",
    "    df_aux.reset_index(inplace=True)\n",
    "    df_aux.columns = df_aux.columns.droplevel(1)\n",
    "    x_test = x_test.merge(df_aux.loc[:, ['ncodpers', col+'_delta']], on='ncodpers')\n",
    "    print(col)\n",
    "\n",
    "x_test.replace(np.nan, 0, inplace=True)\n",
    "x_test = x_test.loc[x_test['fecha_dato'] == '2016-06-28']\n",
    "x_test.reset_index(drop=True, inplace=True)\n",
    "x_test.loc[:, 'ncodpers'] = x_test['ncodpers'].astype('int64')\n",
    "xtest = x_test.drop(['fecha_dato', 'ncodpers', 'fecha_alta'], axis=1).as_matrix()\n",
    "\n",
    "probs,preds = local.calculatePredsProbs(xtest, model)"
   ]
  },
  {
   "cell_type": "code",
   "execution_count": 12,
   "metadata": {
    "collapsed": false
   },
   "outputs": [
    {
     "name": "stdout",
     "output_type": "stream",
     "text": [
      "results/submissions/2018-07-20-h02-14-15_submission.csv\n",
      "CPU times: user 22.7 s, sys: 940 ms, total: 23.6 s\n",
      "Wall time: 24.8 s\n"
     ]
    }
   ],
   "source": [
    "%%time\n",
    "x_prev = x_train.loc[x_train['fecha_dato'] == '2016-05-28']\n",
    "subm = local.processPredictions(probs, preds, x_prev, x_test, y_train, env='submit')"
   ]
  },
  {
   "cell_type": "code",
   "execution_count": 13,
   "metadata": {
    "collapsed": false
   },
   "outputs": [
    {
     "name": "stdout",
     "output_type": "stream",
     "text": [
      "2018-07-20-h02-14-15_submission.csv\n",
      "/home/sergioml/.local/lib/python2.7/site-packages/urllib3/contrib/socks.py:37: DependencyWarning: SOCKS support in urllib3 requires the installation of optional dependencies: specifically, PySocks.  For more information, see https://urllib3.readthedocs.io/en/latest/contrib.html#socks-proxies\n",
      "  DependencyWarning\n",
      "Warning: Looks like you're using an outdated API Version, please consider updating (server 1.4.0 / client 1.3.12)\n",
      "Successfully submitted to Santander Product Recommendation\n",
      "real\t0m32.856s\n",
      "user\t0m1.352s\n",
      "sys\t0m0.544s\n"
     ]
    }
   ],
   "source": [
    "!bash results/submissions/kaggle_submission \"RF, dataset original con features deltas\""
   ]
  },
  {
   "cell_type": "markdown",
   "metadata": {
    "collapsed": true
   },
   "source": [
    "#### Experimento II\n",
    "Entrenamiento sólo con Mayo 2016 y con features de más"
   ]
  },
  {
   "cell_type": "code",
   "execution_count": 21,
   "metadata": {
    "collapsed": false
   },
   "outputs": [
    {
     "name": "stdout",
     "output_type": "stream",
     "text": [
      "antiguedad\n",
      "renta\n",
      "segmento\n"
     ]
    }
   ],
   "source": [
    "delta_cols = ['antiguedad', 'renta', 'segmento']\n",
    "for col in delta_cols:\n",
    "    #feature = 'tiprel_1mes'\n",
    "    df_aux = df_copy.groupby(['ncodpers']).agg({col: {'min': 'min',\n",
    "                                                             'max': 'max',\n",
    "                                                             'mean': 'mean',\n",
    "                                                             'median': 'median'\n",
    "                                                             }})\n",
    "    \n",
    "    df_aux[col+'_delta'] = df_aux.loc[:, [(col, 'mean')]] / df_aux.loc[:, [(col, 'median')]].as_matrix()\n",
    "    df_aux.reset_index(inplace=True)\n",
    "    df_aux.columns = df_aux.columns.droplevel(1)\n",
    "    df_copy = df_copy.merge(df_aux.loc[:, ['ncodpers', col+'_delta']], on='ncodpers')\n",
    "    print(col)\n",
    "\n",
    "df_copy.replace(np.nan, 0, inplace=True)"
   ]
  },
  {
   "cell_type": "code",
   "execution_count": 22,
   "metadata": {
    "collapsed": false
   },
   "outputs": [],
   "source": [
    "x_train = df_copy.loc[df_copy['fecha_dato'] == '2016-05-28']\n",
    "y_train = df_targets.loc[x_train.index]\n",
    "\n",
    "x = x_train.drop(['fecha_dato', 'ncodpers', 'fecha_alta'], axis=1).as_matrix()\n",
    "y = y_train.as_matrix()"
   ]
  },
  {
   "cell_type": "code",
   "execution_count": 23,
   "metadata": {
    "collapsed": false
   },
   "outputs": [
    {
     "name": "stdout",
     "output_type": "stream",
     "text": [
      "CPU times: user 4min 5s, sys: 18.8 s, total: 4min 23s\n",
      "Wall time: 1min 19s\n"
     ]
    }
   ],
   "source": [
    "%%time\n",
    "model = local.model(x, y, RandomForestClassifier(n_jobs=4))"
   ]
  },
  {
   "cell_type": "code",
   "execution_count": 11,
   "metadata": {
    "collapsed": false
   },
   "outputs": [
    {
     "name": "stdout",
     "output_type": "stream",
     "text": [
      "antiguedad\n",
      "renta\n",
      "segmento\n",
      "CPU times: user 3min 30s, sys: 36.3 s, total: 4min 6s\n",
      "Wall time: 2min 57s\n"
     ]
    }
   ],
   "source": [
    "%%time\n",
    "x_test = x_train.loc[:, :'segmento'].append(df_test)\n",
    "x_test.reset_index(drop=True, inplace=True)\n",
    "\n",
    "delta_cols = ['antiguedad', 'renta', 'segmento']\n",
    "for col in delta_cols:\n",
    "    #feature = 'tiprel_1mes'\n",
    "    df_aux = x_test.groupby(['ncodpers']).agg({col: {'min': 'min',\n",
    "                                                             'max': 'max',\n",
    "                                                             'mean': 'mean',\n",
    "                                                             'median': 'median'\n",
    "                                                             }})\n",
    "    \n",
    "    df_aux[col+'_delta'] = df_aux.loc[:, [(col, 'mean')]] / df_aux.loc[:, [(col, 'median')]].as_matrix()\n",
    "    df_aux.reset_index(inplace=True)\n",
    "    df_aux.columns = df_aux.columns.droplevel(1)\n",
    "    x_test = x_test.merge(df_aux.loc[:, ['ncodpers', col+'_delta']], on='ncodpers')\n",
    "    print(col)\n",
    "\n",
    "x_test.replace(np.nan, 0, inplace=True)\n",
    "x_test = x_test.loc[x_test['fecha_dato'] == '2016-06-28']\n",
    "x_test.reset_index(drop=True, inplace=True)\n",
    "x_test.loc[:, 'ncodpers'] = x_test['ncodpers'].astype('int64')\n",
    "xtest = x_test.drop(['fecha_dato', 'ncodpers', 'fecha_alta'], axis=1).as_matrix()\n",
    "\n",
    "probs,preds = local.calculatePredsProbs(xtest, model)"
   ]
  },
  {
   "cell_type": "code",
   "execution_count": 24,
   "metadata": {
    "collapsed": false,
    "scrolled": true
   },
   "outputs": [
    {
     "name": "stdout",
     "output_type": "stream",
     "text": [
      "results/submissions/2018-07-20-h02-36-11_submission.csv\n",
      "CPU times: user 19.7 s, sys: 1.52 s, total: 21.3 s\n",
      "Wall time: 22.4 s\n"
     ]
    }
   ],
   "source": [
    "%%time\n",
    "x_prev = x_train.loc[x_train['fecha_dato'] == '2016-05-28']\n",
    "subm = local.processPredictions(probs, preds, x_prev, x_test, y_train, env='submit')"
   ]
  },
  {
   "cell_type": "code",
   "execution_count": 25,
   "metadata": {
    "collapsed": false
   },
   "outputs": [
    {
     "name": "stdout",
     "output_type": "stream",
     "text": [
      "2018-07-20-h02-36-11_submission.csv\n",
      "/home/sergioml/.local/lib/python2.7/site-packages/urllib3/contrib/socks.py:37: DependencyWarning: SOCKS support in urllib3 requires the installation of optional dependencies: specifically, PySocks.  For more information, see https://urllib3.readthedocs.io/en/latest/contrib.html#socks-proxies\n",
      "  DependencyWarning\n",
      "Warning: Looks like you're using an outdated API Version, please consider updating (server 1.4.0 / client 1.3.12)\n",
      "Successfully submitted to Santander Product Recommendation\n",
      "real\t1m57.257s\n",
      "user\t0m1.532s\n",
      "sys\t0m0.480s\n"
     ]
    }
   ],
   "source": [
    "!bash results/submissions/kaggle_submission \"RF, dataset original con features de más, entrenamiento sólo con Mayo2016\""
   ]
  },
  {
   "cell_type": "code",
   "execution_count": null,
   "metadata": {
    "collapsed": true
   },
   "outputs": [],
   "source": []
  },
  {
   "cell_type": "code",
   "execution_count": null,
   "metadata": {
    "collapsed": true
   },
   "outputs": [],
   "source": []
  },
  {
   "cell_type": "code",
   "execution_count": null,
   "metadata": {
    "collapsed": true
   },
   "outputs": [],
   "source": []
  }
 ],
 "metadata": {
  "kernelspec": {
   "display_name": "Python 3 + Anaconda",
   "language": "python",
   "name": "pyconda3"
  },
  "language_info": {
   "codemirror_mode": {
    "name": "ipython",
    "version": 3
   },
   "file_extension": ".py",
   "mimetype": "text/x-python",
   "name": "python",
   "nbconvert_exporter": "python",
   "pygments_lexer": "ipython3",
   "version": "3.5.1"
  }
 },
 "nbformat": 4,
 "nbformat_minor": 0
}
