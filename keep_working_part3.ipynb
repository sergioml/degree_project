{
 "cells": [
  {
   "cell_type": "code",
   "execution_count": 1,
   "metadata": {
    "collapsed": true
   },
   "outputs": [],
   "source": [
    "import numpy as np\n",
    "import pandas as pd\n",
    "import seaborn as sns\n",
    "import matplotlib.pyplot as plt\n",
    "from time import time\n",
    "%matplotlib inline"
   ]
  },
  {
   "cell_type": "code",
   "execution_count": 2,
   "metadata": {
    "collapsed": true
   },
   "outputs": [],
   "source": [
    "from sklearn.metrics import confusion_matrix\n",
    "from sklearn.ensemble import RandomForestClassifier"
   ]
  },
  {
   "cell_type": "code",
   "execution_count": 4,
   "metadata": {
    "collapsed": false
   },
   "outputs": [
    {
     "data": {
      "text/html": [
       "<div>\n",
       "<table border=\"1\" class=\"dataframe\">\n",
       "  <thead>\n",
       "    <tr style=\"text-align: right;\">\n",
       "      <th></th>\n",
       "      <th>fecha_dato</th>\n",
       "      <th>fecha_dato_year</th>\n",
       "      <th>fecha_dato_month</th>\n",
       "      <th>fecha_dato_day</th>\n",
       "      <th>ncodpers</th>\n",
       "      <th>ind_empleado</th>\n",
       "      <th>pais_residencia</th>\n",
       "      <th>sexo</th>\n",
       "      <th>age</th>\n",
       "      <th>fecha_alta</th>\n",
       "      <th>...</th>\n",
       "      <th>indresi</th>\n",
       "      <th>indext</th>\n",
       "      <th>canal_entrada</th>\n",
       "      <th>indfall</th>\n",
       "      <th>tipodom</th>\n",
       "      <th>cod_prov</th>\n",
       "      <th>nomprov</th>\n",
       "      <th>ind_actividad_cliente</th>\n",
       "      <th>renta</th>\n",
       "      <th>segmento</th>\n",
       "    </tr>\n",
       "  </thead>\n",
       "  <tbody>\n",
       "    <tr>\n",
       "      <th>0</th>\n",
       "      <td>2015-01-28</td>\n",
       "      <td>2015</td>\n",
       "      <td>1</td>\n",
       "      <td>28</td>\n",
       "      <td>1375586</td>\n",
       "      <td>1</td>\n",
       "      <td>1</td>\n",
       "      <td>1</td>\n",
       "      <td>35</td>\n",
       "      <td>2015-01-12</td>\n",
       "      <td>...</td>\n",
       "      <td>2</td>\n",
       "      <td>1</td>\n",
       "      <td>19</td>\n",
       "      <td>1</td>\n",
       "      <td>1.0</td>\n",
       "      <td>29.0</td>\n",
       "      <td>7</td>\n",
       "      <td>1.0</td>\n",
       "      <td>87218.10</td>\n",
       "      <td>1</td>\n",
       "    </tr>\n",
       "    <tr>\n",
       "      <th>1</th>\n",
       "      <td>2015-01-28</td>\n",
       "      <td>2015</td>\n",
       "      <td>1</td>\n",
       "      <td>28</td>\n",
       "      <td>1050611</td>\n",
       "      <td>1</td>\n",
       "      <td>1</td>\n",
       "      <td>1</td>\n",
       "      <td>23</td>\n",
       "      <td>2012-08-10</td>\n",
       "      <td>...</td>\n",
       "      <td>2</td>\n",
       "      <td>2</td>\n",
       "      <td>1</td>\n",
       "      <td>1</td>\n",
       "      <td>1.0</td>\n",
       "      <td>13.0</td>\n",
       "      <td>25</td>\n",
       "      <td>0.0</td>\n",
       "      <td>35548.74</td>\n",
       "      <td>2</td>\n",
       "    </tr>\n",
       "    <tr>\n",
       "      <th>2</th>\n",
       "      <td>2015-01-28</td>\n",
       "      <td>2015</td>\n",
       "      <td>1</td>\n",
       "      <td>28</td>\n",
       "      <td>1050612</td>\n",
       "      <td>1</td>\n",
       "      <td>1</td>\n",
       "      <td>1</td>\n",
       "      <td>23</td>\n",
       "      <td>2012-08-10</td>\n",
       "      <td>...</td>\n",
       "      <td>2</td>\n",
       "      <td>1</td>\n",
       "      <td>1</td>\n",
       "      <td>1</td>\n",
       "      <td>1.0</td>\n",
       "      <td>13.0</td>\n",
       "      <td>25</td>\n",
       "      <td>0.0</td>\n",
       "      <td>122179.11</td>\n",
       "      <td>2</td>\n",
       "    </tr>\n",
       "    <tr>\n",
       "      <th>3</th>\n",
       "      <td>2015-01-28</td>\n",
       "      <td>2015</td>\n",
       "      <td>1</td>\n",
       "      <td>28</td>\n",
       "      <td>1050613</td>\n",
       "      <td>1</td>\n",
       "      <td>1</td>\n",
       "      <td>1</td>\n",
       "      <td>22</td>\n",
       "      <td>2012-08-10</td>\n",
       "      <td>...</td>\n",
       "      <td>2</td>\n",
       "      <td>1</td>\n",
       "      <td>9</td>\n",
       "      <td>1</td>\n",
       "      <td>1.0</td>\n",
       "      <td>50.0</td>\n",
       "      <td>8</td>\n",
       "      <td>0.0</td>\n",
       "      <td>119775.54</td>\n",
       "      <td>2</td>\n",
       "    </tr>\n",
       "    <tr>\n",
       "      <th>4</th>\n",
       "      <td>2015-01-28</td>\n",
       "      <td>2015</td>\n",
       "      <td>1</td>\n",
       "      <td>28</td>\n",
       "      <td>1050614</td>\n",
       "      <td>1</td>\n",
       "      <td>1</td>\n",
       "      <td>1</td>\n",
       "      <td>23</td>\n",
       "      <td>2012-08-10</td>\n",
       "      <td>...</td>\n",
       "      <td>2</td>\n",
       "      <td>1</td>\n",
       "      <td>1</td>\n",
       "      <td>1</td>\n",
       "      <td>1.0</td>\n",
       "      <td>50.0</td>\n",
       "      <td>8</td>\n",
       "      <td>1.0</td>\n",
       "      <td>110927.09</td>\n",
       "      <td>2</td>\n",
       "    </tr>\n",
       "  </tbody>\n",
       "</table>\n",
       "<p>5 rows × 28 columns</p>\n",
       "</div>"
      ],
      "text/plain": [
       "   fecha_dato  fecha_dato_year  fecha_dato_month  fecha_dato_day  ncodpers  \\\n",
       "0  2015-01-28             2015                 1              28   1375586   \n",
       "1  2015-01-28             2015                 1              28   1050611   \n",
       "2  2015-01-28             2015                 1              28   1050612   \n",
       "3  2015-01-28             2015                 1              28   1050613   \n",
       "4  2015-01-28             2015                 1              28   1050614   \n",
       "\n",
       "   ind_empleado  pais_residencia  sexo  age  fecha_alta    ...     indresi  \\\n",
       "0             1                1     1   35  2015-01-12    ...           2   \n",
       "1             1                1     1   23  2012-08-10    ...           2   \n",
       "2             1                1     1   23  2012-08-10    ...           2   \n",
       "3             1                1     1   22  2012-08-10    ...           2   \n",
       "4             1                1     1   23  2012-08-10    ...           2   \n",
       "\n",
       "   indext  canal_entrada  indfall  tipodom  cod_prov  nomprov  \\\n",
       "0       1             19        1      1.0      29.0        7   \n",
       "1       2              1        1      1.0      13.0       25   \n",
       "2       1              1        1      1.0      13.0       25   \n",
       "3       1              9        1      1.0      50.0        8   \n",
       "4       1              1        1      1.0      50.0        8   \n",
       "\n",
       "   ind_actividad_cliente      renta  segmento  \n",
       "0                    1.0   87218.10         1  \n",
       "1                    0.0   35548.74         2  \n",
       "2                    0.0  122179.11         2  \n",
       "3                    0.0  119775.54         2  \n",
       "4                    1.0  110927.09         2  \n",
       "\n",
       "[5 rows x 28 columns]"
      ]
     },
     "execution_count": 4,
     "metadata": {},
     "output_type": "execute_result"
    }
   ],
   "source": [
    "df = pd.read_csv('data/clean/train_clean.csv')\n",
    "df_targets = pd.read_csv('data/clean/train_labels.csv')\n",
    "df.head()"
   ]
  },
  {
   "cell_type": "code",
   "execution_count": 5,
   "metadata": {
    "collapsed": true
   },
   "outputs": [],
   "source": [
    "df_copy = df.copy()"
   ]
  },
  {
   "cell_type": "code",
   "execution_count": 6,
   "metadata": {
    "collapsed": false
   },
   "outputs": [
    {
     "data": {
      "text/plain": [
       "((13387956, 28), (13387956, 24))"
      ]
     },
     "execution_count": 6,
     "metadata": {},
     "output_type": "execute_result"
    }
   ],
   "source": [
    "df.shape, df_targets.shape"
   ]
  },
  {
   "cell_type": "code",
   "execution_count": 7,
   "metadata": {
    "collapsed": false
   },
   "outputs": [
    {
     "name": "stdout",
     "output_type": "stream",
     "text": [
      "Tamaño de datasets (13387956, 25) (13387956, 24)\n"
     ]
    }
   ],
   "source": [
    "x = df_copy.drop(['fecha_dato', 'fecha_alta', 'ncodpers'], axis=1).as_matrix()\n",
    "y = df_targets.as_matrix()\n",
    "print('Tamaño de datasets', x.shape, y.shape)"
   ]
  },
  {
   "cell_type": "code",
   "execution_count": 8,
   "metadata": {
    "collapsed": true
   },
   "outputs": [],
   "source": [
    "def metrics(x_train, y_train, x_test, y_test, clf):\n",
    "    \n",
    "    #INPUTS\n",
    "    #x_train: data to train\n",
    "    #y_train: target, one column\n",
    "    #x_test: data to test\n",
    "    #y_test: target to test, one column\n",
    "    #clf: classifier\n",
    "    \n",
    "    clf.fit(x_train, y_train)\n",
    "    preds = [clf.predict(row.reshape(1, -1))[0] for row in x_test]\n",
    "    \n",
    "    tn, fp, fn, tp = confusion_matrix(y_test, preds).ravel()\n",
    "    sensitivity = tp / (tp + fn)\n",
    "    specifity = tn / (tn + fp)\n",
    "    \n",
    "    #OUTPUTS\n",
    "    #preds (list): predictions for each row\n",
    "    #tn: true negative\n",
    "    #fp: false positive\n",
    "    #fn: false negative\n",
    "    #tp: true positive\n",
    "    return tn, fp, fn, tp, sensitivity, specifity"
   ]
  },
  {
   "cell_type": "markdown",
   "metadata": {},
   "source": [
    "### Cálculo de métricas tales como True Positive Rate, True Negative Rate, y otros."
   ]
  },
  {
   "cell_type": "code",
   "execution_count": 8,
   "metadata": {
    "collapsed": false
   },
   "outputs": [],
   "source": [
    "x_train = x[:10094948]\n",
    "x_test = x[10094948:]\n",
    "y_train = y[:10094948]\n",
    "y_test = y[10094948:]"
   ]
  },
  {
   "cell_type": "code",
   "execution_count": null,
   "metadata": {
    "collapsed": false
   },
   "outputs": [],
   "source": [
    "%%time\n",
    "rf = RandomForestClassifier()\n",
    "tn, fp, fn, tp, sensitivity, specifity = metrics(x_train, y_train[:, 1], x_test, y_test[:, 1], rf)\n",
    "print(df_targets.columns[1])\n",
    "print('True positive:', tp)\n",
    "print('False negative:', fn)\n",
    "print('True positive rate or sensitivity:', sensitivity)\n",
    "print('True negative:', tn)\n",
    "print('False positive:', fp)\n",
    "print('True negative rate or specifity:', specifity)\n",
    "print()"
   ]
  },
  {
   "cell_type": "markdown",
   "metadata": {},
   "source": [
    "### Matriz de correlación"
   ]
  },
  {
   "cell_type": "code",
   "execution_count": 9,
   "metadata": {
    "collapsed": false
   },
   "outputs": [
    {
     "data": {
      "text/plain": [
       "(22, 22)"
      ]
     },
     "execution_count": 9,
     "metadata": {},
     "output_type": "execute_result"
    }
   ],
   "source": [
    "corr = df_copy.drop(['fecha_dato', 'fecha_alta', 'ncodpers'], axis=1).corr().dropna(how='all', axis=1).dropna(how='all', axis=0)\n",
    "corr.shape"
   ]
  },
  {
   "cell_type": "code",
   "execution_count": 10,
   "metadata": {
    "collapsed": false
   },
   "outputs": [],
   "source": [
    "corr_mat = corr.as_matrix()"
   ]
  },
  {
   "cell_type": "code",
   "execution_count": 11,
   "metadata": {
    "collapsed": false
   },
   "outputs": [
    {
     "data": {
      "image/png": "[encoded data removed]",
      "text/plain": [
       "<matplotlib.figure.Figure at 0x7ff5e4f8beb8>"
      ]
     },
     "metadata": {},
     "output_type": "display_data"
    }
   ],
   "source": [
    "plt.figure(figsize=(9,9))\n",
    "plt.imshow(corr_mat, cmap=plt.cm.Greys, interpolation='nearest')\n",
    "plt.yticks(range(len(corr_mat)), corr.columns)\n",
    "plt.xticks(range(len(corr_mat)), corr.columns, rotation='vertical');\n",
    "plt.grid(linestyle='-')\n",
    "plt.savefig('corrmatrix.png')"
   ]
  },
  {
   "cell_type": "markdown",
   "metadata": {},
   "source": [
    "### GaussianNB"
   ]
  },
  {
   "cell_type": "code",
   "execution_count": 9,
   "metadata": {
    "collapsed": true
   },
   "outputs": [],
   "source": [
    "from sklearn.naive_bayes import GaussianNB"
   ]
  },
  {
   "cell_type": "code",
   "execution_count": 59,
   "metadata": {
    "collapsed": false
   },
   "outputs": [
    {
     "name": "stdout",
     "output_type": "stream",
     "text": [
      "ind_aval_fin_ult1\n",
      "True positive: 3\n",
      "False negative: 262\n",
      "True positive rate or sensitivity: 0.011320754717\n",
      "True negative: 697526\n",
      "False positive: 2653\n",
      "True negative rate or specifity: 0.996210968909\n",
      "\n",
      "CPU times: user 2min 20s, sys: 3.84 s, total: 2min 24s\n",
      "Wall time: 2min 23s\n"
     ]
    }
   ],
   "source": [
    "%%time\n",
    "gb2 = GaussianNB() \n",
    "p = 3\n",
    "tn, fp, fn, tp, sensitivity, specifity = metrics(x_train, y_train[:, p], x_test, y_test[:, p], gb2)\n",
    "print(df_targets.columns[1])\n",
    "print('True positive:', tp)\n",
    "print('False negative:', fn)\n",
    "print('True positive rate or sensitivity:', sensitivity)\n",
    "print('True negative:', tn)\n",
    "print('False positive:', fp)\n",
    "print('True negative rate or specifity:', specifity)\n",
    "print()"
   ]
  }
 ],
 "metadata": {
  "kernelspec": {
   "display_name": "Python 3 + Anaconda",
   "language": "python",
   "name": "pyconda3"
  },
  "language_info": {
   "codemirror_mode": {
    "name": "ipython",
    "version": 3
   },
   "file_extension": ".py",
   "mimetype": "text/x-python",
   "name": "python",
   "nbconvert_exporter": "python",
   "pygments_lexer": "ipython3",
   "version": "3.5.1"
  }
 },
 "nbformat": 4,
 "nbformat_minor": 0
}
