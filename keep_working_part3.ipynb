{
 "cells": [
  {
   "cell_type": "code",
   "execution_count": 1,
   "metadata": {
    "collapsed": true
   },
   "outputs": [],
   "source": [
    "import numpy as np\n",
    "import pandas as pd\n",
    "import seaborn as sns\n",
    "import matplotlib.pyplot as plt\n",
    "from time import time\n",
    "%matplotlib inline"
   ]
  },
  {
   "cell_type": "code",
   "execution_count": 2,
   "metadata": {
    "collapsed": true
   },
   "outputs": [],
   "source": [
    "from sklearn.metrics import confusion_matrix\n",
    "from sklearn.ensemble import RandomForestClassifier"
   ]
  },
  {
   "cell_type": "code",
   "execution_count": 3,
   "metadata": {
    "collapsed": false
   },
   "outputs": [
    {
     "data": {
      "text/html": [
       "<div>\n",
       "<table border=\"1\" class=\"dataframe\">\n",
       "  <thead>\n",
       "    <tr style=\"text-align: right;\">\n",
       "      <th></th>\n",
       "      <th>fecha_dato</th>\n",
       "      <th>fecha_dato_year</th>\n",
       "      <th>fecha_dato_month</th>\n",
       "      <th>fecha_dato_day</th>\n",
       "      <th>ncodpers</th>\n",
       "      <th>ind_empleado</th>\n",
       "      <th>pais_residencia</th>\n",
       "      <th>sexo</th>\n",
       "      <th>age</th>\n",
       "      <th>fecha_alta</th>\n",
       "      <th>...</th>\n",
       "      <th>indresi</th>\n",
       "      <th>indext</th>\n",
       "      <th>canal_entrada</th>\n",
       "      <th>indfall</th>\n",
       "      <th>tipodom</th>\n",
       "      <th>cod_prov</th>\n",
       "      <th>nomprov</th>\n",
       "      <th>ind_actividad_cliente</th>\n",
       "      <th>renta</th>\n",
       "      <th>segmento</th>\n",
       "    </tr>\n",
       "  </thead>\n",
       "  <tbody>\n",
       "    <tr>\n",
       "      <th>0</th>\n",
       "      <td>2015-01-28</td>\n",
       "      <td>2015</td>\n",
       "      <td>1</td>\n",
       "      <td>28</td>\n",
       "      <td>1375586</td>\n",
       "      <td>1</td>\n",
       "      <td>1</td>\n",
       "      <td>1</td>\n",
       "      <td>35</td>\n",
       "      <td>2015-01-12</td>\n",
       "      <td>...</td>\n",
       "      <td>2</td>\n",
       "      <td>1</td>\n",
       "      <td>20</td>\n",
       "      <td>1</td>\n",
       "      <td>1.0</td>\n",
       "      <td>29.0</td>\n",
       "      <td>7</td>\n",
       "      <td>1.0</td>\n",
       "      <td>87218.10</td>\n",
       "      <td>1</td>\n",
       "    </tr>\n",
       "    <tr>\n",
       "      <th>1</th>\n",
       "      <td>2015-01-28</td>\n",
       "      <td>2015</td>\n",
       "      <td>1</td>\n",
       "      <td>28</td>\n",
       "      <td>1050611</td>\n",
       "      <td>1</td>\n",
       "      <td>1</td>\n",
       "      <td>1</td>\n",
       "      <td>23</td>\n",
       "      <td>2012-08-10</td>\n",
       "      <td>...</td>\n",
       "      <td>2</td>\n",
       "      <td>2</td>\n",
       "      <td>1</td>\n",
       "      <td>1</td>\n",
       "      <td>1.0</td>\n",
       "      <td>13.0</td>\n",
       "      <td>23</td>\n",
       "      <td>0.0</td>\n",
       "      <td>35548.74</td>\n",
       "      <td>2</td>\n",
       "    </tr>\n",
       "    <tr>\n",
       "      <th>2</th>\n",
       "      <td>2015-01-28</td>\n",
       "      <td>2015</td>\n",
       "      <td>1</td>\n",
       "      <td>28</td>\n",
       "      <td>1050612</td>\n",
       "      <td>1</td>\n",
       "      <td>1</td>\n",
       "      <td>1</td>\n",
       "      <td>23</td>\n",
       "      <td>2012-08-10</td>\n",
       "      <td>...</td>\n",
       "      <td>2</td>\n",
       "      <td>1</td>\n",
       "      <td>1</td>\n",
       "      <td>1</td>\n",
       "      <td>1.0</td>\n",
       "      <td>13.0</td>\n",
       "      <td>23</td>\n",
       "      <td>0.0</td>\n",
       "      <td>122179.11</td>\n",
       "      <td>2</td>\n",
       "    </tr>\n",
       "    <tr>\n",
       "      <th>3</th>\n",
       "      <td>2015-01-28</td>\n",
       "      <td>2015</td>\n",
       "      <td>1</td>\n",
       "      <td>28</td>\n",
       "      <td>1050613</td>\n",
       "      <td>1</td>\n",
       "      <td>1</td>\n",
       "      <td>1</td>\n",
       "      <td>22</td>\n",
       "      <td>2012-08-10</td>\n",
       "      <td>...</td>\n",
       "      <td>2</td>\n",
       "      <td>1</td>\n",
       "      <td>7</td>\n",
       "      <td>1</td>\n",
       "      <td>1.0</td>\n",
       "      <td>50.0</td>\n",
       "      <td>6</td>\n",
       "      <td>0.0</td>\n",
       "      <td>119775.54</td>\n",
       "      <td>2</td>\n",
       "    </tr>\n",
       "    <tr>\n",
       "      <th>4</th>\n",
       "      <td>2015-01-28</td>\n",
       "      <td>2015</td>\n",
       "      <td>1</td>\n",
       "      <td>28</td>\n",
       "      <td>1050615</td>\n",
       "      <td>1</td>\n",
       "      <td>1</td>\n",
       "      <td>1</td>\n",
       "      <td>23</td>\n",
       "      <td>2012-08-10</td>\n",
       "      <td>...</td>\n",
       "      <td>2</td>\n",
       "      <td>1</td>\n",
       "      <td>1</td>\n",
       "      <td>1</td>\n",
       "      <td>1.0</td>\n",
       "      <td>45.0</td>\n",
       "      <td>16</td>\n",
       "      <td>0.0</td>\n",
       "      <td>22220.04</td>\n",
       "      <td>2</td>\n",
       "    </tr>\n",
       "  </tbody>\n",
       "</table>\n",
       "<p>5 rows × 27 columns</p>\n",
       "</div>"
      ],
      "text/plain": [
       "   fecha_dato  fecha_dato_year  fecha_dato_month  fecha_dato_day  ncodpers  \\\n",
       "0  2015-01-28             2015                 1              28   1375586   \n",
       "1  2015-01-28             2015                 1              28   1050611   \n",
       "2  2015-01-28             2015                 1              28   1050612   \n",
       "3  2015-01-28             2015                 1              28   1050613   \n",
       "4  2015-01-28             2015                 1              28   1050615   \n",
       "\n",
       "   ind_empleado  pais_residencia  sexo  age  fecha_alta    ...     indresi  \\\n",
       "0             1                1     1   35  2015-01-12    ...           2   \n",
       "1             1                1     1   23  2012-08-10    ...           2   \n",
       "2             1                1     1   23  2012-08-10    ...           2   \n",
       "3             1                1     1   22  2012-08-10    ...           2   \n",
       "4             1                1     1   23  2012-08-10    ...           2   \n",
       "\n",
       "   indext  canal_entrada  indfall  tipodom  cod_prov  nomprov  \\\n",
       "0       1             20        1      1.0      29.0        7   \n",
       "1       2              1        1      1.0      13.0       23   \n",
       "2       1              1        1      1.0      13.0       23   \n",
       "3       1              7        1      1.0      50.0        6   \n",
       "4       1              1        1      1.0      45.0       16   \n",
       "\n",
       "   ind_actividad_cliente      renta  segmento  \n",
       "0                    1.0   87218.10         1  \n",
       "1                    0.0   35548.74         2  \n",
       "2                    0.0  122179.11         2  \n",
       "3                    0.0  119775.54         2  \n",
       "4                    0.0   22220.04         2  \n",
       "\n",
       "[5 rows x 27 columns]"
      ]
     },
     "execution_count": 3,
     "metadata": {},
     "output_type": "execute_result"
    }
   ],
   "source": [
    "df = pd.read_csv('data/clean/train_clean_v2.csv')\n",
    "df_targets = pd.read_csv('data/clean/train_labels.csv')\n",
    "df.head()"
   ]
  },
  {
   "cell_type": "code",
   "execution_count": 4,
   "metadata": {
    "collapsed": true
   },
   "outputs": [],
   "source": [
    "df_copy = df.copy()"
   ]
  },
  {
   "cell_type": "code",
   "execution_count": 5,
   "metadata": {
    "collapsed": false
   },
   "outputs": [
    {
     "data": {
      "text/plain": [
       "((10795392, 27), (10795392, 24))"
      ]
     },
     "execution_count": 5,
     "metadata": {},
     "output_type": "execute_result"
    }
   ],
   "source": [
    "df.shape, df_targets.shape"
   ]
  },
  {
   "cell_type": "code",
   "execution_count": 6,
   "metadata": {
    "collapsed": false
   },
   "outputs": [
    {
     "name": "stdout",
     "output_type": "stream",
     "text": [
      "Tamaño de datasets (10795392, 24) (10795392, 24)\n"
     ]
    }
   ],
   "source": [
    "x = df_copy.drop(['fecha_dato', 'fecha_alta', 'ncodpers'], axis=1).as_matrix()\n",
    "y = df_targets.as_matrix()\n",
    "print('Tamaño de datasets', x.shape, y.shape)"
   ]
  },
  {
   "cell_type": "code",
   "execution_count": 113,
   "metadata": {
    "collapsed": true
   },
   "outputs": [],
   "source": [
    "def metrics(x_train, y_train, x_test, y_test, clf):\n",
    "    \n",
    "    #INPUTS\n",
    "    #x_train: data to train\n",
    "    #y_train: target, one column\n",
    "    #x_test: data to test\n",
    "    #y_test: target to test, one column\n",
    "    #clf: classifier\n",
    "    \n",
    "    clf.fit(x_train, y_train)\n",
    "    preds = [clf.predict(row.reshape(1, -1))[0] for row in x_test]\n",
    "    \n",
    "    tn, fp, fn, tp = confusion_matrix(y_test, preds).ravel()\n",
    "    sensitivity = tp / (tp + fn)\n",
    "    specifity = tn / (tn + fp)\n",
    "    \n",
    "    #OUTPUTS\n",
    "    #preds (list): predictions for each row\n",
    "    #tn: true negative\n",
    "    #fp: false positive\n",
    "    #fn: false negative\n",
    "    #tp: true positive\n",
    "    return tn, fp, fn, tp, sensitivity, specifity"
   ]
  },
  {
   "cell_type": "markdown",
   "metadata": {},
   "source": [
    "### Cálculo de métricas tales como True Positive Rate, True Negative Rate, y otros."
   ]
  },
  {
   "cell_type": "code",
   "execution_count": 10,
   "metadata": {
    "collapsed": false
   },
   "outputs": [],
   "source": [
    "x_train = x[:10094948]\n",
    "x_test = x[10094948:]\n",
    "y_train = y[:10094948]\n",
    "y_test = y[10094948:]"
   ]
  },
  {
   "cell_type": "code",
   "execution_count": 119,
   "metadata": {
    "collapsed": false
   },
   "outputs": [
    {
     "name": "stdout",
     "output_type": "stream",
     "text": [
      "ind_aval_fin_ult1\n",
      "True positive: 6\n",
      "False positive: 1\n",
      "True positive rate or sensitivity: 0.428571428571\n",
      "True negative: 700429\n",
      "False negative: 8\n",
      "True negative rate or specifity: 0.999998572306\n",
      "\n",
      "CPU times: user 19min 46s, sys: 6.1 s, total: 19min 52s\n",
      "Wall time: 19min 51s\n"
     ]
    }
   ],
   "source": [
    "%%time\n",
    "rf = RandomForestClassifier()\n",
    "tn, fp, fn, tp, sensitivity, specifity = metrics(x_train, y_train[:, 1], x_test, y_test[:, 1], rf)\n",
    "print(df_targets.columns[1])\n",
    "print('True positive:', tp)\n",
    "print('False positive:', fp)\n",
    "print('True positive rate or sensitivity:', sensitivity)\n",
    "print('True negative:', tn)\n",
    "print('False negative:', fn)\n",
    "print('True negative rate or specifity:', specifity)\n",
    "print()"
   ]
  },
  {
   "cell_type": "markdown",
   "metadata": {},
   "source": [
    "### Matriz de correlación"
   ]
  },
  {
   "cell_type": "code",
   "execution_count": 17,
   "metadata": {
    "collapsed": false
   },
   "outputs": [
    {
     "data": {
      "text/plain": [
       "(21, 21)"
      ]
     },
     "execution_count": 17,
     "metadata": {},
     "output_type": "execute_result"
    }
   ],
   "source": [
    "corr = df_copy.drop(['fecha_dato', 'fecha_alta', 'ncodpers'], axis=1).corr().dropna(how='all', axis=1).dropna(how='all', axis=0)\n",
    "corr.shape"
   ]
  },
  {
   "cell_type": "code",
   "execution_count": 18,
   "metadata": {
    "collapsed": false
   },
   "outputs": [],
   "source": [
    "corr_mat = corr.as_matrix()"
   ]
  },
  {
   "cell_type": "code",
   "execution_count": 19,
   "metadata": {
    "collapsed": false
   },
   "outputs": [
    {
     "data": {
      "image/png": "[encoded data removed]",
      "text/plain": [
       "<matplotlib.figure.Figure at 0x7f1148224cf8>"
      ]
     },
     "metadata": {},
     "output_type": "display_data"
    }
   ],
   "source": [
    "plt.figure(figsize=(9,9))\n",
    "plt.imshow(corr_mat, cmap=plt.cm.Greys, interpolation='nearest')\n",
    "plt.yticks(range(len(corr_mat)), corr.columns)\n",
    "plt.xticks(range(len(corr_mat)), corr.columns, rotation='vertical');\n",
    "plt.grid(linestyle='-')"
   ]
  },
  {
   "cell_type": "code",
   "execution_count": 21,
   "metadata": {
    "collapsed": false
   },
   "outputs": [
    {
     "data": {
      "text/plain": [
       "fecha_dato_year          0.021283\n",
       "fecha_dato_month         0.013562\n",
       "ind_empleado            -0.030828\n",
       "pais_residencia         -0.002388\n",
       "age                     -0.589750\n",
       "fecha_alta_year          1.000000\n",
       "fecha_alta_month         0.188755\n",
       "fecha_alta_day          -0.016187\n",
       "antiguedad              -0.034024\n",
       "indrel                   0.010823\n",
       "indrel_1mes             -0.000069\n",
       "tiprel_1mes             -0.000069\n",
       "indresi                  0.004044\n",
       "indext                   0.050727\n",
       "canal_entrada           -0.127116\n",
       "indfall                 -0.052644\n",
       "cod_prov                -0.043690\n",
       "nomprov                  0.194805\n",
       "ind_actividad_cliente   -0.141769\n",
       "renta                   -0.083357\n",
       "segmento                 0.370418\n",
       "Name: fecha_alta_year, dtype: float64"
      ]
     },
     "execution_count": 21,
     "metadata": {},
     "output_type": "execute_result"
    }
   ],
   "source": [
    "corr['fecha_alta_year']"
   ]
  },
  {
   "cell_type": "markdown",
   "metadata": {},
   "source": [
    "## Tareas\n",
    "#### Revisar los registros de los dos últimos meses"
   ]
  },
  {
   "cell_type": "code",
   "execution_count": 7,
   "metadata": {
    "collapsed": false
   },
   "outputs": [
    {
     "data": {
      "image/png": "[encoded data removed]",
      "text/plain": [
       "<matplotlib.figure.Figure at 0x7fea50781e80>"
      ]
     },
     "metadata": {},
     "output_type": "display_data"
    }
   ],
   "source": [
    "dates = df_copy.fecha_dato.value_counts().sort_index()\n",
    "fecha_dato = dates.index\n",
    "count_dates = dates.values\n",
    "\n",
    "plt.figure(figsize=(16,4))\n",
    "sns.barplot(fecha_dato, count_dates)\n",
    "#plt.plot(count_dates, 'bo', count_dates, '-')\n",
    "\n",
    "plt.xticks(range(len(fecha_dato)), fecha_dato, rotation='vertical')\n",
    "plt.title('Registros por mes')\n",
    "plt.ylabel('Cantidad de registros')\n",
    "\n",
    "for i, count in enumerate(count_dates):\n",
    "    plt.text(i, count*1.02, count, ha='center', va='bottom')"
   ]
  },
  {
   "cell_type": "code",
   "execution_count": 9,
   "metadata": {
    "collapsed": false
   },
   "outputs": [
    {
     "name": "stdout",
     "output_type": "stream",
     "text": [
      "En los últimos dos meses hay una diferencia de 578 clientes\n"
     ]
    }
   ],
   "source": [
    "shift = dates[np.sort(fecha_dato)[-2:]][1] - dates[np.sort(fecha_dato)[-2:]][0]\n",
    "sent = -shift if shift < 0 else shift\n",
    "print('En los últimos dos meses hay una diferencia de', sent, 'clientes')"
   ]
  },
  {
   "cell_type": "code",
   "execution_count": 11,
   "metadata": {
    "collapsed": false
   },
   "outputs": [],
   "source": [
    "groupby_fecha_dato = df_copy.groupby(['fecha_dato'])\n",
    "groups_fecha_dato = groupby_fecha_dato.groups"
   ]
  },
  {
   "cell_type": "code",
   "execution_count": 22,
   "metadata": {
    "collapsed": false
   },
   "outputs": [
    {
     "data": {
      "text/plain": [
       "['2016-04-28', '2016-05-28']"
      ]
     },
     "execution_count": 22,
     "metadata": {},
     "output_type": "execute_result"
    }
   ],
   "source": [
    "sorted(groups_fecha_dato.keys())[-2:]"
   ]
  },
  {
   "cell_type": "code",
   "execution_count": 21,
   "metadata": {
    "collapsed": false
   },
   "outputs": [
    {
     "data": {
      "text/plain": [
       "(701022, 700444)"
      ]
     },
     "execution_count": 21,
     "metadata": {},
     "output_type": "execute_result"
    }
   ],
   "source": [
    "#Los indíces del dataset de los dos útimos meses\n",
    "last_two_months = [groups_fecha_dato[i] for i in sorted(groups_fecha_dato.keys())[-2:]]\n",
    "len(last_two_months[0]), len(last_two_months[1])"
   ]
  },
  {
   "cell_type": "code",
   "execution_count": 149,
   "metadata": {
    "collapsed": false
   },
   "outputs": [
    {
     "name": "stdout",
     "output_type": "stream",
     "text": [
      "Fecha          |Salidas        |Nuevos         |Diferencia           \n",
      "---------------------------------------------------------------------------\n",
      "2015-01-28     |1118           |3526           |2408            sube ^\n",
      "2015-02-28     |1114           |3354           |2240            sube ^\n",
      "2015-03-28     |1353           |2962           |1609            sube ^\n",
      "2015-04-28     |1151           |3103           |1952            sube ^\n",
      "2015-05-28     |1280           |2930           |1650            sube ^\n",
      "2015-06-28     |0              |148137         |148137          sube ^\n",
      "2015-07-28     |23             |13685          |13662           sube ^\n",
      "2015-08-28     |25             |11657          |11632           sube ^\n",
      "2015-09-28     |418            |10308          |9890            sube ^\n",
      "2015-10-28     |1143           |26             |1117            baja v\n",
      "2015-11-28     |869            |39             |830             baja v\n",
      "2015-12-28     |1687           |46             |1641            baja v\n",
      "2016-01-28     |918            |65             |853             baja v\n",
      "2016-02-28     |858            |48             |810             baja v\n",
      "2016-03-28     |757            |59             |698             baja v\n",
      "2016-04-28     |638            |60             |578             baja v\n"
     ]
    }
   ],
   "source": [
    "sorted_dates = sorted(groups_fecha_dato.keys())\n",
    "\n",
    "str_format = \"{:<15}|\"*3 + \"{:<15} {:<5}\"\n",
    "print(str_format.format('Fecha', 'Salidas', 'Nuevos', 'Diferencia', ''))\n",
    "print('-'*75)\n",
    "\n",
    "for i in range(len(sorted_dates)-1):\n",
    "    month_one = set(df['ncodpers'][groups_fecha_dato[sorted_dates[i]]].values)\n",
    "    month_two = set(df['ncodpers'][groups_fecha_dato[sorted_dates[i+1]]].values)\n",
    "    \n",
    "    departures = len(month_one - month_two)\n",
    "    new = len(month_two - month_one)\n",
    "    diff = -(departures - new) if (departures - new) < 0 else departures - new\n",
    "    sent = 'sube ^' if (departures - new) < 0 else 'baja v'\n",
    "    \n",
    "    print(str_format.format(sorted_dates[i], departures, new, diff, sent))"
   ]
  },
  {
   "cell_type": "markdown",
   "metadata": {},
   "source": [
    "Comparación de la cantidad de registros entre meses"
   ]
  },
  {
   "cell_type": "code",
   "execution_count": null,
   "metadata": {
    "collapsed": true
   },
   "outputs": [],
   "source": [
    "groupby_ncodpers = df_copy.groupby(['ncodpers'])"
   ]
  },
  {
   "cell_type": "code",
   "execution_count": 152,
   "metadata": {
    "collapsed": false
   },
   "outputs": [
    {
     "name": "stdout",
     "output_type": "stream",
     "text": [
      "(701022,) (700444,)\n",
      "60 638\n"
     ]
    },
    {
     "data": {
      "text/plain": [
       "[1094276,\n",
       " 802181,\n",
       " 1369095,\n",
       " 338185,\n",
       " 1137929,\n",
       " 796044,\n",
       " 1423501,\n",
       " 54542,\n",
       " 792719,\n",
       " 1240337]"
      ]
     },
     "execution_count": 152,
     "metadata": {},
     "output_type": "execute_result"
    }
   ],
   "source": [
    "penultimate_month = np.sort(df_copy['ncodpers'][groups_fecha_dato[sorted_dates[-2]]].values)\n",
    "last_month = np.sort(df_copy['ncodpers'][groups_fecha_dato[sorted_dates[-1]]].values)\n",
    "print(penultimate_month.shape, last_month.shape)\n",
    "\n",
    "set_penultimate_month = set(list(penultimate_month))\n",
    "set_last_month = set(list(last_month))\n",
    "\n",
    "print(len(set_last_month - set_penultimate_month), len(set_penultimate_month - set_last_month))\n",
    "list(set_last_month - set_penultimate_month)[:10]"
   ]
  },
  {
   "cell_type": "code",
   "execution_count": null,
   "metadata": {
    "collapsed": true
   },
   "outputs": [],
   "source": []
  },
  {
   "cell_type": "code",
   "execution_count": null,
   "metadata": {
    "collapsed": true
   },
   "outputs": [],
   "source": []
  },
  {
   "cell_type": "code",
   "execution_count": null,
   "metadata": {
    "collapsed": true
   },
   "outputs": [],
   "source": []
  }
 ],
 "metadata": {
  "kernelspec": {
   "display_name": "Python 3 + Anaconda",
   "language": "python",
   "name": "pyconda3"
  },
  "language_info": {
   "codemirror_mode": {
    "name": "ipython",
    "version": 3
   },
   "file_extension": ".py",
   "mimetype": "text/x-python",
   "name": "python",
   "nbconvert_exporter": "python",
   "pygments_lexer": "ipython3",
   "version": "3.5.1"
  }
 },
 "nbformat": 4,
 "nbformat_minor": 0
}
