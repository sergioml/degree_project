{
 "cells": [
  {
   "cell_type": "markdown",
   "metadata": {},
   "source": [
    "### Realización de experimentos de segunda fase\n",
    "Experimentos realizados en `dont_give_up_2.ipynb`"
   ]
  },
  {
   "cell_type": "code",
   "execution_count": 1,
   "metadata": {
    "collapsed": true
   },
   "outputs": [],
   "source": [
    "import numpy as np\n",
    "import pandas as pd\n",
    "import time\n",
    "import importlib\n",
    "\n",
    "import scripts.local_environment as local\n",
    "importlib.reload(local);\n",
    "\n",
    "import matplotlib.pyplot as plt\n",
    "%matplotlib inline"
   ]
  },
  {
   "cell_type": "code",
   "execution_count": 2,
   "metadata": {
    "collapsed": true
   },
   "outputs": [],
   "source": [
    "from sklearn.ensemble import RandomForestClassifier"
   ]
  },
  {
   "cell_type": "code",
   "execution_count": 3,
   "metadata": {
    "collapsed": false
   },
   "outputs": [
    {
     "name": "stdout",
     "output_type": "stream",
     "text": [
      "CPU times: user 1min 15s, sys: 6.19 s, total: 1min 21s\n",
      "Wall time: 1min 21s\n"
     ]
    }
   ],
   "source": [
    "%%time\n",
    "df = pd.read_csv('data/clean/train_clean.csv')\n",
    "df_targets = pd.read_csv('data/clean/train_labels.csv')\n",
    "df_test = pd.read_csv('data/clean/test_clean.csv')"
   ]
  },
  {
   "cell_type": "markdown",
   "metadata": {},
   "source": [
    "#### Experimento 4 (v2):\n",
    "Entrenamiento con los datos de Mayo 2016 con todos los clientes"
   ]
  },
  {
   "cell_type": "code",
   "execution_count": 4,
   "metadata": {
    "collapsed": true
   },
   "outputs": [],
   "source": [
    "x_train = df[df['fecha_dato'] == '2016-05-28']\n",
    "y_train = df_targets.loc[x_train.index]\n",
    "\n",
    "x = x_train.drop(['fecha_dato', 'fecha_alta'], axis=1)\n",
    "y = y_train.loc[x.index].as_matrix()\n",
    "x = x.as_matrix()"
   ]
  },
  {
   "cell_type": "code",
   "execution_count": 5,
   "metadata": {
    "collapsed": false,
    "scrolled": true
   },
   "outputs": [
    {
     "name": "stdout",
     "output_type": "stream",
     "text": [
      "CPU times: user 4min 39s, sys: 16.9 s, total: 4min 56s\n",
      "Wall time: 2min 26s\n"
     ]
    }
   ],
   "source": [
    "%%time\n",
    "rf = local.model(x, y, RandomForestClassifier(n_jobs=4))"
   ]
  },
  {
   "cell_type": "code",
   "execution_count": 6,
   "metadata": {
    "collapsed": false
   },
   "outputs": [
    {
     "name": "stdout",
     "output_type": "stream",
     "text": [
      "CPU times: user 3min 39s, sys: 6.94 s, total: 3min 46s\n",
      "Wall time: 2min 36s\n"
     ]
    }
   ],
   "source": [
    "%%time\n",
    "x_test = df_test.drop(['fecha_dato', 'fecha_alta'], axis=1).as_matrix()\n",
    "probs, preds = local.calculatePredsProbs(x_test, rf)"
   ]
  },
  {
   "cell_type": "code",
   "execution_count": 8,
   "metadata": {
    "collapsed": false
   },
   "outputs": [
    {
     "name": "stdout",
     "output_type": "stream",
     "text": [
      "CPU times: user 34.2 s, sys: 1.59 s, total: 35.8 s\n",
      "Wall time: 36.9 s\n"
     ]
    }
   ],
   "source": [
    "%%time\n",
    "subm, name_file = local.processPredictions(probs=probs, preds=preds, df_prev=x_train, df_test=df_test,\n",
    "                                df_targets=y_train, env='submit')"
   ]
  },
  {
   "cell_type": "markdown",
   "metadata": {},
   "source": [
    "#### Experimento 5 (v2)\n",
    "Experimento con datos de Junio 2015 y datos refinados"
   ]
  },
  {
   "cell_type": "code",
   "execution_count": 33,
   "metadata": {
    "collapsed": true
   },
   "outputs": [],
   "source": [
    "x_train = df[df['fecha_dato'] == '2015-06-28']\n",
    "y_train = df_targets.loc[x_train.index]\n",
    "\n",
    "x = x_train.drop(['fecha_dato', 'fecha_alta'], axis=1)\n",
    "y = y_train.loc[x.index].as_matrix()\n",
    "x = x.as_matrix()"
   ]
  },
  {
   "cell_type": "code",
   "execution_count": 34,
   "metadata": {
    "collapsed": false
   },
   "outputs": [
    {
     "name": "stdout",
     "output_type": "stream",
     "text": [
      "CPU times: user 5min 43s, sys: 11.7 s, total: 5min 55s\n",
      "Wall time: 3min 24s\n"
     ]
    }
   ],
   "source": [
    "%%time\n",
    "rf = local.model(x, y, RandomForestClassifier(n_jobs=4))\n",
    "\n",
    "x_test = df_test.drop(['fecha_dato', 'fecha_alta'], axis=1).as_matrix()\n",
    "probs, preds = local.calculatePredsProbs(x_test, rf)\n",
    "subm, name_file = local.processPredictions(probs=probs, preds=preds, df_prev=x_train,\n",
    "                                           df_test=df_test, df_targets=y_train, env='submit')"
   ]
  },
  {
   "cell_type": "markdown",
   "metadata": {},
   "source": [
    "#### Resultados experimento 6 "
   ]
  },
  {
   "cell_type": "code",
   "execution_count": 58,
   "metadata": {
    "collapsed": false
   },
   "outputs": [
    {
     "data": {
      "text/plain": [
       "<matplotlib.legend.Legend at 0x7fe302be4240>"
      ]
     },
     "execution_count": 58,
     "metadata": {},
     "output_type": "execute_result"
    },
    {
     "data": {
      "image/png": "[encoded data removed]",
      "text/plain": [
       "<matplotlib.figure.Figure at 0x7fe302cf7518>"
      ]
     },
     "metadata": {},
     "output_type": "display_data"
    }
   ],
   "source": [
    "validation = pd.read_csv('utils/max_scoresv2.csv')\n",
    "max_score = validation[validation['fecha'] == '2016-05-28'].iloc[:, -1].values\n",
    "\n",
    "dates = df.fecha_dato.unique()\n",
    "date_test = dates[-1]\n",
    "\n",
    "res_exp6 = pd.read_csv('scripts/results/experiment6_v2.csv')\n",
    "res_exp6['date'] = dates[:-1]\n",
    "\n",
    "res_exp6_v1 = pd.read_csv('scripts/results/experiment6.csv')\n",
    "res_exp6['date'] = dates[:-1]\n",
    "scores_exp6_v1 = res_exp6_v1['score'].values\n",
    "\n",
    "dates_exp6 = res_exp6['date'].values\n",
    "scores_exp6 = res_exp6['score'].values\n",
    "\n",
    "plt.figure(figsize=(15, 4))\n",
    "plt.plot(scores_exp6, '-o', scores_exp6_v1, '-o')\n",
    "#plt.axhline(max_score[0], color='r', )\n",
    "#plt.ylim(scores_exp6.min() - 0.001, max_score[0]+0.001)\n",
    "plt.xticks(range(len(dates_exp6)), dates_exp6, rotation=90)\n",
    "#for i, val in enumerate(amount_data):\n",
    "#    plt.text(i, score[i]+0.001, val, ha='left')\n",
    "plt.title('Entrenamiento con meses individuales\\n', size=13)\n",
    "plt.ylabel('Score', size=14)\n",
    "plt.legend(['Scores new', 'Scores old', 'Score ideal ' + '{:.5f}'.format(max_score[0])], loc=0)"
   ]
  },
  {
   "cell_type": "code",
   "execution_count": 59,
   "metadata": {
    "collapsed": false
   },
   "outputs": [
    {
     "name": "stdout",
     "output_type": "stream",
     "text": [
      "Score de experimento 6 (datos antiguos): 0.01593         Equivale al 55.53% del score ideal\n",
      "Score de experimento 6 (datos \"refinados\"): 0.01584      Equivale al 55.22% del score ideal\n"
     ]
    }
   ],
   "source": [
    "max_index6 = list(reversed(scores_exp6.argsort()))[0]\n",
    "max_score6 = scores_exp6[max_index6]\n",
    "\n",
    "max_score6_v1 = scores_exp6_v1.max()\n",
    "\n",
    "print('Score de experimento 6 (datos antiguos): {:<15.5f} Equivale al {:.2f}% del score ideal'.format(max_score6_v1,\n",
    "                                                                                                     (max_score6_v1/max_score[0])*100))\n",
    "print('Score de experimento 6 (datos \"refinados\"): {:<12.5f} Equivale al {:.2f}% del score ideal'.format(max_score6,\n",
    "                                                                                                        (max_score6/max_score[0])*100))"
   ]
  },
  {
   "cell_type": "markdown",
   "metadata": {},
   "source": [
    "#### Experimento 7 "
   ]
  },
  {
   "cell_type": "code",
   "execution_count": 60,
   "metadata": {
    "collapsed": false
   },
   "outputs": [
    {
     "data": {
      "text/plain": [
       "<matplotlib.legend.Legend at 0x7fe302b68f98>"
      ]
     },
     "execution_count": 60,
     "metadata": {},
     "output_type": "execute_result"
    },
    {
     "data": {
      "image/png": "[encoded data removed]",
      "text/plain": [
       "<matplotlib.figure.Figure at 0x7fe302bdc588>"
      ]
     },
     "metadata": {},
     "output_type": "display_data"
    }
   ],
   "source": [
    "validation = pd.read_csv('utils/max_scoresv2.csv')\n",
    "max_score = validation[validation['fecha'] == '2016-05-28'].iloc[:, -1].values\n",
    "\n",
    "dates = df.fecha_dato.unique()\n",
    "date_test = dates[-1]\n",
    "\n",
    "res_exp7 = pd.read_csv('scripts/results/experiment7_v2.csv')\n",
    "res_exp7['date'] = dates[:-1]\n",
    "\n",
    "res_exp7_v1 = pd.read_csv('scripts/results/experiment7.csv')\n",
    "res_exp7['date'] = dates[:-1]\n",
    "scores_exp7_v1 = res_exp7_v1['score'].values\n",
    "\n",
    "dates_exp7 = res_exp7['date'].values\n",
    "scores_exp7 = res_exp7['score'].values\n",
    "\n",
    "plt.figure(figsize=(15, 4))\n",
    "plt.plot(scores_exp7, '-o', scores_exp7_v1, '-o')\n",
    "#plt.axhline(max_score[0], color='r', )\n",
    "#plt.ylim(scores_exp6.min() - 0.001, max_score[0]+0.001)\n",
    "plt.xticks(range(len(dates_exp7)), dates_exp7, rotation=90)\n",
    "#for i, val in enumerate(amount_data):\n",
    "#    plt.text(i, score[i]+0.001, val, ha='left')\n",
    "plt.title('Entrenamiento con meses individuales\\n', size=13)\n",
    "plt.ylabel('Score', size=14)\n",
    "plt.legend(['Scores new', 'Scores old', 'Score ideal ' + '{:.5f}'.format(max_score[0])], loc=0)"
   ]
  },
  {
   "cell_type": "code",
   "execution_count": 53,
   "metadata": {
    "collapsed": false
   },
   "outputs": [
    {
     "name": "stdout",
     "output_type": "stream",
     "text": [
      "Score de experimento 6 (datos antiguos): 0.01687         Equivale al 58.81% del score ideal\n",
      "Score de experimento 6 (datos \"refinados\"): 0.01683      Equivale al 58.66% del score ideal\n"
     ]
    }
   ],
   "source": [
    "max_index6 = list(reversed(scores_exp6.argsort()))[0]\n",
    "max_score6 = scores_exp6[max_index6]\n",
    "\n",
    "max_score6_v1 = scores_exp6_v1.max()\n",
    "\n",
    "print('Score de experimento 6 (datos antiguos): {:<15.5f} Equivale al {:.2f}% del score ideal'.format(max_score6_v1,\n",
    "                                                                                                     (max_score6_v1/max_score[0])*100))\n",
    "print('Score de experimento 6 (datos \"refinados\"): {:<12.5f} Equivale al {:.2f}% del score ideal'.format(max_score6,\n",
    "                                                                                                        (max_score6/max_score[0])*100))"
   ]
  },
  {
   "cell_type": "code",
   "execution_count": null,
   "metadata": {
    "collapsed": true
   },
   "outputs": [],
   "source": []
  },
  {
   "cell_type": "code",
   "execution_count": 62,
   "metadata": {
    "collapsed": false
   },
   "outputs": [
    {
     "data": {
      "text/plain": [
       "<matplotlib.legend.Legend at 0x7fe302a79828>"
      ]
     },
     "execution_count": 62,
     "metadata": {},
     "output_type": "execute_result"
    },
    {
     "data": {
      "image/png": "[encoded data removed]",
      "text/plain": [
       "<matplotlib.figure.Figure at 0x7fe302aefa58>"
      ]
     },
     "metadata": {},
     "output_type": "display_data"
    }
   ],
   "source": [
    "plt.figure(figsize=(15, 4))\n",
    "plt.plot(scores_exp6_v1, '-o', scores_exp7_v1, '-o')\n",
    "#plt.axhline(max_score[0], color='r', )\n",
    "#plt.ylim(scores_exp6.min() - 0.001, max_score[0]+0.001)\n",
    "plt.xticks(range(len(dates_exp7)), dates_exp7, rotation=90)\n",
    "#for i, val in enumerate(amount_data):\n",
    "#    plt.text(i, score[i]+0.001, val, ha='left')\n",
    "plt.title('Entrenamiento con meses individuales\\n', size=13)\n",
    "plt.ylabel('Score', size=14)\n",
    "plt.legend(['Meses individuales', 'Meses acumulados', 'Score ideal ' + '{:.5f}'.format(max_score[0])], loc=0)"
   ]
  },
  {
   "cell_type": "code",
   "execution_count": 63,
   "metadata": {
    "collapsed": false
   },
   "outputs": [
    {
     "data": {
      "text/plain": [
       "<matplotlib.legend.Legend at 0x7fe302a019e8>"
      ]
     },
     "execution_count": 63,
     "metadata": {},
     "output_type": "execute_result"
    },
    {
     "data": {
      "image/png": "[encoded data removed]",
      "text/plain": [
       "<matplotlib.figure.Figure at 0x7fe302a1b2b0>"
      ]
     },
     "metadata": {},
     "output_type": "display_data"
    }
   ],
   "source": [
    "plt.figure(figsize=(15, 4))\n",
    "plt.plot(scores_exp6, 'r-o', scores_exp7, 'y-o')\n",
    "#plt.axhline(max_score[0], color='r', )\n",
    "#plt.ylim(scores_exp6.min() - 0.001, max_score[0]+0.001)\n",
    "plt.xticks(range(len(dates_exp7)), dates_exp7, rotation=90)\n",
    "#for i, val in enumerate(amount_data):\n",
    "#    plt.text(i, score[i]+0.001, val, ha='left')\n",
    "plt.title('Entrenamiento con meses acumulados\\n', size=13)\n",
    "plt.ylabel('Score', size=14)\n",
    "plt.legend(['V1', 'V2', 'V3'], loc=0)"
   ]
  },
  {
   "cell_type": "markdown",
   "metadata": {},
   "source": [
    "---\n",
    "### Experimento 9 \n",
    "Entrenamiento con Mayo 2016 agregando los productos que tiene el cliente, ese mes, como *features*, además sólo irán los clientes antiguos"
   ]
  },
  {
   "cell_type": "code",
   "execution_count": 78,
   "metadata": {
    "collapsed": false
   },
   "outputs": [],
   "source": [
    "prev = df[df['fecha_dato'] == '2016-04-28']\n",
    "last = df[df['fecha_dato'] == '2016-05-28']\n",
    "\n",
    "ncodpers_both_month = list(set(prev['ncodpers'].values) & set(last['ncodpers'].values))\n",
    "\n",
    "index_prev = prev.loc[prev['ncodpers'].isin(ncodpers_both_month)].index\n",
    "\n",
    "df_aux = df_targets.loc[index_prev]\n",
    "df_aux = df_aux.join(df['ncodpers'], how='inner')\n",
    "\n",
    "last = last.merge(df_aux, on='ncodpers', how='outer', right_index=True)\n",
    "last.dropna(axis=0, inplace=True)"
   ]
  },
  {
   "cell_type": "code",
   "execution_count": 68,
   "metadata": {
    "collapsed": false
   },
   "outputs": [],
   "source": [
    "x_train = last\n",
    "y_train = df_targets.loc[x_train.index]\n",
    "\n",
    "x = x_train.drop(['fecha_dato', 'fecha_alta', 'ncodpers'], axis=1).as_matrix()\n",
    "y = y_train.as_matrix()"
   ]
  },
  {
   "cell_type": "code",
   "execution_count": 69,
   "metadata": {
    "collapsed": false
   },
   "outputs": [],
   "source": [
    "prev = df[df['fecha_dato'] == '2016-05-28']\n",
    "last = df_test\n",
    "\n",
    "ncodpers_both_month = list(set(prev['ncodpers'].values) & set(last['ncodpers'].values))\n",
    "\n",
    "index_prev = prev.loc[prev['ncodpers'].isin(ncodpers_both_month)].index\n",
    "\n",
    "df_aux = df_targets.loc[index_prev]\n",
    "df_aux = df_aux.join(df['ncodpers'], how='inner')\n",
    "\n",
    "last = last.merge(df_aux, on='ncodpers', how='outer', right_index=True)\n",
    "last.fillna(0, inplace=True)"
   ]
  },
  {
   "cell_type": "code",
   "execution_count": 70,
   "metadata": {
    "collapsed": true
   },
   "outputs": [],
   "source": [
    "x_test = last.drop(['fecha_dato', 'fecha_alta', 'ncodpers'], axis=1).as_matrix()"
   ]
  },
  {
   "cell_type": "code",
   "execution_count": 71,
   "metadata": {
    "collapsed": false
   },
   "outputs": [
    {
     "data": {
      "text/plain": [
       "((920194, 52), (929615, 49))"
      ]
     },
     "execution_count": 71,
     "metadata": {},
     "output_type": "execute_result"
    }
   ],
   "source": [
    "x_train.shape, x_test.shape"
   ]
  },
  {
   "cell_type": "code",
   "execution_count": 72,
   "metadata": {
    "collapsed": false
   },
   "outputs": [
    {
     "name": "stdout",
     "output_type": "stream",
     "text": [
      "results/submissions/2018-07-16-h19-24-53_submission.csv\n",
      "CPU times: user 6min 5s, sys: 13.8 s, total: 6min 19s\n",
      "Wall time: 2min 55s\n"
     ]
    }
   ],
   "source": [
    "%%time\n",
    "rf = local.model(x, y, RandomForestClassifier(n_jobs=4))\n",
    "probs, preds = local.calculatePredsProbs(x_test, rf)\n",
    "subm, name_file = local.processPredictions(probs=probs, preds=preds, df_prev=x_train,\n",
    "                                           df_test=df_test, df_targets=y_train, env='submit')"
   ]
  },
  {
   "cell_type": "markdown",
   "metadata": {},
   "source": [
    "### Experimento 10\n",
    "Entrenamiento con Mayo 2016 y añadiendo pesos a los productos"
   ]
  },
  {
   "cell_type": "code",
   "execution_count": 95,
   "metadata": {
    "collapsed": false
   },
   "outputs": [
    {
     "data": {
      "text/plain": [
       "(13387956, 25)"
      ]
     },
     "execution_count": 95,
     "metadata": {},
     "output_type": "execute_result"
    }
   ],
   "source": [
    "df_a = df.loc[:, ['fecha_dato']].join(df_targets)\n",
    "df_a.shape"
   ]
  },
  {
   "cell_type": "code",
   "execution_count": 96,
   "metadata": {
    "collapsed": false
   },
   "outputs": [],
   "source": [
    "df_a = df_a.groupby(['fecha_dato']).sum()"
   ]
  },
  {
   "cell_type": "code",
   "execution_count": 97,
   "metadata": {
    "collapsed": true
   },
   "outputs": [],
   "source": [
    "df_b = pd.DataFrame(columns=df_a.columns.tolist()[0:]) #dataframe products prev bought\n",
    "for i in range(1, len(dates)):\n",
    "    prev_prods = df_a.loc[df_a.index[i-1]].as_matrix()\n",
    "    act_prods = df_a.loc[df_a.index[i]].as_matrix()\n",
    "    bought_prods = act_prods - prev_prods\n",
    "    df_b.loc[i] = bought_prods"
   ]
  },
  {
   "cell_type": "code",
   "execution_count": 98,
   "metadata": {
    "collapsed": false
   },
   "outputs": [],
   "source": [
    "df_a = df_a.reset_index().loc[:, ['fecha_dato']].join(df_b).iloc[1:]\n",
    "df_a = df_a.set_index('fecha_dato')\n",
    "del df_b"
   ]
  },
  {
   "cell_type": "markdown",
   "metadata": {},
   "source": [
    "Productos que se añaden o se dejan cada mes"
   ]
  },
  {
   "cell_type": "code",
   "execution_count": 99,
   "metadata": {
    "collapsed": false
   },
   "outputs": [
    {
     "data": {
      "text/html": [
       "<div>\n",
       "<table border=\"1\" class=\"dataframe\">\n",
       "  <thead>\n",
       "    <tr style=\"text-align: right;\">\n",
       "      <th></th>\n",
       "      <th>ind_ahor_fin_ult1</th>\n",
       "      <th>ind_aval_fin_ult1</th>\n",
       "      <th>ind_cco_fin_ult1</th>\n",
       "      <th>ind_cder_fin_ult1</th>\n",
       "      <th>ind_cno_fin_ult1</th>\n",
       "      <th>ind_ctju_fin_ult1</th>\n",
       "      <th>ind_ctma_fin_ult1</th>\n",
       "      <th>ind_ctop_fin_ult1</th>\n",
       "      <th>ind_ctpp_fin_ult1</th>\n",
       "      <th>ind_deco_fin_ult1</th>\n",
       "      <th>...</th>\n",
       "      <th>ind_hip_fin_ult1</th>\n",
       "      <th>ind_plan_fin_ult1</th>\n",
       "      <th>ind_pres_fin_ult1</th>\n",
       "      <th>ind_reca_fin_ult1</th>\n",
       "      <th>ind_tjcr_fin_ult1</th>\n",
       "      <th>ind_valo_fin_ult1</th>\n",
       "      <th>ind_viv_fin_ult1</th>\n",
       "      <th>ind_nomina_ult1</th>\n",
       "      <th>ind_nom_pens_ult1</th>\n",
       "      <th>ind_recibo_ult1</th>\n",
       "    </tr>\n",
       "    <tr>\n",
       "      <th>fecha_dato</th>\n",
       "      <th></th>\n",
       "      <th></th>\n",
       "      <th></th>\n",
       "      <th></th>\n",
       "      <th></th>\n",
       "      <th></th>\n",
       "      <th></th>\n",
       "      <th></th>\n",
       "      <th></th>\n",
       "      <th></th>\n",
       "      <th></th>\n",
       "      <th></th>\n",
       "      <th></th>\n",
       "      <th></th>\n",
       "      <th></th>\n",
       "      <th></th>\n",
       "      <th></th>\n",
       "      <th></th>\n",
       "      <th></th>\n",
       "      <th></th>\n",
       "      <th></th>\n",
       "    </tr>\n",
       "  </thead>\n",
       "  <tbody>\n",
       "    <tr>\n",
       "      <th>2015-02-28</th>\n",
       "      <td>1.0</td>\n",
       "      <td>1.0</td>\n",
       "      <td>1276.0</td>\n",
       "      <td>0.0</td>\n",
       "      <td>1298.0</td>\n",
       "      <td>-31.0</td>\n",
       "      <td>-157.0</td>\n",
       "      <td>-291.0</td>\n",
       "      <td>-128.0</td>\n",
       "      <td>516.0</td>\n",
       "      <td>...</td>\n",
       "      <td>-8.0</td>\n",
       "      <td>-20.0</td>\n",
       "      <td>-4.0</td>\n",
       "      <td>211.0</td>\n",
       "      <td>-1229.0</td>\n",
       "      <td>-48.0</td>\n",
       "      <td>-11.0</td>\n",
       "      <td>1776.0</td>\n",
       "      <td>1504.0</td>\n",
       "      <td>-924.0</td>\n",
       "    </tr>\n",
       "    <tr>\n",
       "      <th>2015-03-28</th>\n",
       "      <td>0.0</td>\n",
       "      <td>1.0</td>\n",
       "      <td>955.0</td>\n",
       "      <td>13.0</td>\n",
       "      <td>935.0</td>\n",
       "      <td>7.0</td>\n",
       "      <td>-302.0</td>\n",
       "      <td>-270.0</td>\n",
       "      <td>-161.0</td>\n",
       "      <td>361.0</td>\n",
       "      <td>...</td>\n",
       "      <td>-11.0</td>\n",
       "      <td>-20.0</td>\n",
       "      <td>0.0</td>\n",
       "      <td>220.0</td>\n",
       "      <td>646.0</td>\n",
       "      <td>-162.0</td>\n",
       "      <td>-22.0</td>\n",
       "      <td>2232.0</td>\n",
       "      <td>-672.0</td>\n",
       "      <td>2756.0</td>\n",
       "    </tr>\n",
       "    <tr>\n",
       "      <th>2015-04-28</th>\n",
       "      <td>-2.0</td>\n",
       "      <td>0.0</td>\n",
       "      <td>539.0</td>\n",
       "      <td>0.0</td>\n",
       "      <td>1314.0</td>\n",
       "      <td>-6.0</td>\n",
       "      <td>-342.0</td>\n",
       "      <td>-396.0</td>\n",
       "      <td>-166.0</td>\n",
       "      <td>86.0</td>\n",
       "      <td>...</td>\n",
       "      <td>-18.0</td>\n",
       "      <td>-14.0</td>\n",
       "      <td>4.0</td>\n",
       "      <td>875.0</td>\n",
       "      <td>993.0</td>\n",
       "      <td>-74.0</td>\n",
       "      <td>-19.0</td>\n",
       "      <td>-512.0</td>\n",
       "      <td>2483.0</td>\n",
       "      <td>1155.0</td>\n",
       "    </tr>\n",
       "    <tr>\n",
       "      <th>2015-05-28</th>\n",
       "      <td>-2.0</td>\n",
       "      <td>0.0</td>\n",
       "      <td>1134.0</td>\n",
       "      <td>0.0</td>\n",
       "      <td>1197.0</td>\n",
       "      <td>9.0</td>\n",
       "      <td>-351.0</td>\n",
       "      <td>-147.0</td>\n",
       "      <td>-120.0</td>\n",
       "      <td>-316.0</td>\n",
       "      <td>...</td>\n",
       "      <td>-155.0</td>\n",
       "      <td>-6.0</td>\n",
       "      <td>-3.0</td>\n",
       "      <td>344.0</td>\n",
       "      <td>-87.0</td>\n",
       "      <td>28.0</td>\n",
       "      <td>-17.0</td>\n",
       "      <td>-1041.0</td>\n",
       "      <td>-4101.0</td>\n",
       "      <td>-1782.0</td>\n",
       "    </tr>\n",
       "    <tr>\n",
       "      <th>2015-06-28</th>\n",
       "      <td>-2.0</td>\n",
       "      <td>0.0</td>\n",
       "      <td>4743.0</td>\n",
       "      <td>3.0</td>\n",
       "      <td>-3472.0</td>\n",
       "      <td>-39.0</td>\n",
       "      <td>-163.0</td>\n",
       "      <td>-285.0</td>\n",
       "      <td>-146.0</td>\n",
       "      <td>-250.0</td>\n",
       "      <td>...</td>\n",
       "      <td>-41.0</td>\n",
       "      <td>0.0</td>\n",
       "      <td>-36.0</td>\n",
       "      <td>2937.0</td>\n",
       "      <td>690.0</td>\n",
       "      <td>-270.0</td>\n",
       "      <td>-16.0</td>\n",
       "      <td>2149.0</td>\n",
       "      <td>5241.0</td>\n",
       "      <td>2216.0</td>\n",
       "    </tr>\n",
       "  </tbody>\n",
       "</table>\n",
       "<p>5 rows × 24 columns</p>\n",
       "</div>"
      ],
      "text/plain": [
       "            ind_ahor_fin_ult1  ind_aval_fin_ult1  ind_cco_fin_ult1  \\\n",
       "fecha_dato                                                           \n",
       "2015-02-28                1.0                1.0            1276.0   \n",
       "2015-03-28                0.0                1.0             955.0   \n",
       "2015-04-28               -2.0                0.0             539.0   \n",
       "2015-05-28               -2.0                0.0            1134.0   \n",
       "2015-06-28               -2.0                0.0            4743.0   \n",
       "\n",
       "            ind_cder_fin_ult1  ind_cno_fin_ult1  ind_ctju_fin_ult1  \\\n",
       "fecha_dato                                                           \n",
       "2015-02-28                0.0            1298.0              -31.0   \n",
       "2015-03-28               13.0             935.0                7.0   \n",
       "2015-04-28                0.0            1314.0               -6.0   \n",
       "2015-05-28                0.0            1197.0                9.0   \n",
       "2015-06-28                3.0           -3472.0              -39.0   \n",
       "\n",
       "            ind_ctma_fin_ult1  ind_ctop_fin_ult1  ind_ctpp_fin_ult1  \\\n",
       "fecha_dato                                                            \n",
       "2015-02-28             -157.0             -291.0             -128.0   \n",
       "2015-03-28             -302.0             -270.0             -161.0   \n",
       "2015-04-28             -342.0             -396.0             -166.0   \n",
       "2015-05-28             -351.0             -147.0             -120.0   \n",
       "2015-06-28             -163.0             -285.0             -146.0   \n",
       "\n",
       "            ind_deco_fin_ult1       ...         ind_hip_fin_ult1  \\\n",
       "fecha_dato                          ...                            \n",
       "2015-02-28              516.0       ...                     -8.0   \n",
       "2015-03-28              361.0       ...                    -11.0   \n",
       "2015-04-28               86.0       ...                    -18.0   \n",
       "2015-05-28             -316.0       ...                   -155.0   \n",
       "2015-06-28             -250.0       ...                    -41.0   \n",
       "\n",
       "            ind_plan_fin_ult1  ind_pres_fin_ult1  ind_reca_fin_ult1  \\\n",
       "fecha_dato                                                            \n",
       "2015-02-28              -20.0               -4.0              211.0   \n",
       "2015-03-28              -20.0                0.0              220.0   \n",
       "2015-04-28              -14.0                4.0              875.0   \n",
       "2015-05-28               -6.0               -3.0              344.0   \n",
       "2015-06-28                0.0              -36.0             2937.0   \n",
       "\n",
       "            ind_tjcr_fin_ult1  ind_valo_fin_ult1  ind_viv_fin_ult1  \\\n",
       "fecha_dato                                                           \n",
       "2015-02-28            -1229.0              -48.0             -11.0   \n",
       "2015-03-28              646.0             -162.0             -22.0   \n",
       "2015-04-28              993.0              -74.0             -19.0   \n",
       "2015-05-28              -87.0               28.0             -17.0   \n",
       "2015-06-28              690.0             -270.0             -16.0   \n",
       "\n",
       "            ind_nomina_ult1  ind_nom_pens_ult1  ind_recibo_ult1  \n",
       "fecha_dato                                                       \n",
       "2015-02-28           1776.0             1504.0           -924.0  \n",
       "2015-03-28           2232.0             -672.0           2756.0  \n",
       "2015-04-28           -512.0             2483.0           1155.0  \n",
       "2015-05-28          -1041.0            -4101.0          -1782.0  \n",
       "2015-06-28           2149.0             5241.0           2216.0  \n",
       "\n",
       "[5 rows x 24 columns]"
      ]
     },
     "execution_count": 99,
     "metadata": {},
     "output_type": "execute_result"
    }
   ],
   "source": [
    "df_a.head()"
   ]
  },
  {
   "cell_type": "markdown",
   "metadata": {},
   "source": [
    "#### Clases con pesos\n",
    "Para cada clase se define un peso"
   ]
  },
  {
   "cell_type": "code",
   "execution_count": 126,
   "metadata": {
    "collapsed": true
   },
   "outputs": [],
   "source": [
    "weighted_class = []\n",
    "\n",
    "purchases = df_a.loc['2016-05-28']\n",
    "\n",
    "for p in purchases:\n",
    "    if p > 0:\n",
    "        weight_one = 0.6\n",
    "        weight_zero = 1 - weight_one\n",
    "        weighted_class.append({0: weight_zero, 1: weight_one})\n",
    "    elif p < 0:\n",
    "        weight_zero = 0.6\n",
    "        weight_one = 1 - weight_zero\n",
    "        weighted_class.append({0: weight_zero, 1: weight_one})\n",
    "    else:\n",
    "        weighted_class.append({0: 1, 1: 1})"
   ]
  },
  {
   "cell_type": "code",
   "execution_count": 128,
   "metadata": {
    "collapsed": false
   },
   "outputs": [
    {
     "name": "stdout",
     "output_type": "stream",
     "text": [
      "results/submissions/2018-07-16-h20-06-14_submission.csv\n",
      "CPU times: user 6min 14s, sys: 14.5 s, total: 6min 28s\n",
      "Wall time: 3min\n"
     ]
    }
   ],
   "source": [
    "%%time\n",
    "x_train = df[df['fecha_dato'] == '2016-05-28']\n",
    "y_train = df_targets.loc[x_train.index]\n",
    "\n",
    "x = x_train.drop(['fecha_dato', 'fecha_alta'], axis=1)\n",
    "y = y_train.loc[x.index].as_matrix()\n",
    "x = x.as_matrix()\n",
    "\n",
    "rf = local.model(x, y, RandomForestClassifier(n_jobs=4, class_weight=weighted_class))\n",
    "\n",
    "x_test = df_test.drop(['fecha_dato', 'fecha_alta'], axis=1).as_matrix()\n",
    "probs, preds = local.calculatePredsProbs(x_test, rf)\n",
    "subm, name_file = local.processPredictions(probs=probs, preds=preds, df_prev=x_train,\n",
    "                                           df_test=df_test, df_targets=y_train, env='submit')"
   ]
  },
  {
   "cell_type": "markdown",
   "metadata": {},
   "source": [
    "#### Clases con pesos\n",
    "Para cada clase se define un peso"
   ]
  },
  {
   "cell_type": "code",
   "execution_count": 129,
   "metadata": {
    "collapsed": true
   },
   "outputs": [],
   "source": [
    "weighted_class = []\n",
    "\n",
    "purchases = df_a.loc['2016-05-28']\n",
    "\n",
    "for p in purchases:\n",
    "    if p > 0:\n",
    "        weight_one = 0.8\n",
    "        weight_zero = 1 - weight_one\n",
    "        weighted_class.append({0: weight_zero, 1: weight_one})\n",
    "    elif p < 0:\n",
    "        weight_zero = 0.8\n",
    "        weight_one = 1 - weight_zero\n",
    "        weighted_class.append({0: weight_zero, 1: weight_one})\n",
    "    else:\n",
    "        weighted_class.append({0: 1, 1: 1})"
   ]
  },
  {
   "cell_type": "code",
   "execution_count": 130,
   "metadata": {
    "collapsed": false
   },
   "outputs": [
    {
     "name": "stdout",
     "output_type": "stream",
     "text": [
      "results/submissions/2018-07-16-h20-14-30_submission.csv\n",
      "CPU times: user 6min 16s, sys: 14.8 s, total: 6min 31s\n",
      "Wall time: 2min 55s\n"
     ]
    }
   ],
   "source": [
    "%%time\n",
    "x_train = df[df['fecha_dato'] == '2016-05-28']\n",
    "y_train = df_targets.loc[x_train.index]\n",
    "\n",
    "x = x_train.drop(['fecha_dato', 'fecha_alta'], axis=1)\n",
    "y = y_train.loc[x.index].as_matrix()\n",
    "x = x.as_matrix()\n",
    "\n",
    "rf = local.model(x, y, RandomForestClassifier(n_jobs=4, class_weight=weighted_class))\n",
    "\n",
    "x_test = df_test.drop(['fecha_dato', 'fecha_alta'], axis=1).as_matrix()\n",
    "probs, preds = local.calculatePredsProbs(x_test, rf)\n",
    "subm, name_file = local.processPredictions(probs=probs, preds=preds, df_prev=x_train,\n",
    "                                           df_test=df_test, df_targets=y_train, env='submit')"
   ]
  },
  {
   "cell_type": "markdown",
   "metadata": {},
   "source": [
    "### Experimento 11\n",
    "Añadiendo un preprocesado PCA con 10 componentes al mes de Marzo 2016"
   ]
  },
  {
   "cell_type": "code",
   "execution_count": 5,
   "metadata": {
    "collapsed": true
   },
   "outputs": [],
   "source": [
    "from sklearn.decomposition import PCA"
   ]
  },
  {
   "cell_type": "code",
   "execution_count": 4,
   "metadata": {
    "collapsed": true
   },
   "outputs": [],
   "source": [
    "x_train = df[df['fecha_dato'] == '2016-05-28']\n",
    "y_train = df_targets.loc[x_train.index]"
   ]
  },
  {
   "cell_type": "code",
   "execution_count": 7,
   "metadata": {
    "collapsed": false
   },
   "outputs": [
    {
     "name": "stdout",
     "output_type": "stream",
     "text": [
      "CPU times: user 6.83 s, sys: 272 ms, total: 7.1 s\n",
      "Wall time: 2.52 s\n"
     ]
    }
   ],
   "source": [
    "%%time\n",
    "pca = PCA(n_components=10)\n",
    "x = x_train.drop(['fecha_dato', 'ncodpers','fecha_alta'], axis=1)\n",
    "y = y_train.loc[x.index].as_matrix()\n",
    "x = x.as_matrix()\n",
    "x_pca = pca.fit_transform(x)"
   ]
  },
  {
   "cell_type": "code",
   "execution_count": 13,
   "metadata": {
    "collapsed": false
   },
   "outputs": [
    {
     "name": "stdout",
     "output_type": "stream",
     "text": [
      "results/submissions/2018-07-17-h15-37-05_submission.csv\n",
      "CPU times: user 19min 15s, sys: 21.2 s, total: 19min 37s\n",
      "Wall time: 6min 11s\n"
     ]
    }
   ],
   "source": [
    "%%time\n",
    "rf = local.model(x_pca, y, RandomForestClassifier(n_jobs=4))\n",
    "\n",
    "x_test = df_test.drop(['fecha_dato', 'fecha_alta'], axis=1).as_matrix()\n",
    "x_test_pca = pca.fit_transform(x_test)\n",
    "\n",
    "probs, preds = local.calculatePredsProbs(x_test_pca, rf)\n",
    "subm, name_file = local.processPredictions(probs=probs, preds=preds, df_prev=x_train,\n",
    "                                           df_test=df_test, df_targets=y_train, env='submit')"
   ]
  },
  {
   "cell_type": "markdown",
   "metadata": {},
   "source": [
    "PCA con 15 componentes"
   ]
  },
  {
   "cell_type": "code",
   "execution_count": 44,
   "metadata": {
    "collapsed": false
   },
   "outputs": [
    {
     "name": "stdout",
     "output_type": "stream",
     "text": [
      "results/submissions/2018-07-17-h16-20-05_submission.csv\n",
      "CPU times: user 12min 52s, sys: 17.8 s, total: 13min 10s\n",
      "Wall time: 4min 28s\n"
     ]
    }
   ],
   "source": [
    "%%time\n",
    "x_train = df[df['fecha_dato'] == '2016-05-28']\n",
    "y_train = df_targets.loc[x_train.index]\n",
    "\n",
    "pca = PCA(n_components=15)\n",
    "x = x_train.drop(['fecha_dato', 'ncodpers','fecha_alta'], axis=1)\n",
    "y = y_train.loc[x.index].as_matrix()\n",
    "x = x.as_matrix()\n",
    "x_pca = pca.fit_transform(x)\n",
    "\n",
    "rf = local.model(x_pca, y, RandomForestClassifier(n_jobs=4))\n",
    "\n",
    "x_test = df_test.drop(['fecha_dato', 'fecha_alta'], axis=1).as_matrix()\n",
    "x_test_pca = pca.fit_transform(x_test)\n",
    "\n",
    "probs, preds = local.calculatePredsProbs(x_test_pca, rf)\n",
    "subm, name_file = local.processPredictions(probs=probs, preds=preds, df_prev=x_train,\n",
    "                                           df_test=df_test, df_targets=y_train, env='submit')"
   ]
  },
  {
   "cell_type": "code",
   "execution_count": 47,
   "metadata": {
    "collapsed": false
   },
   "outputs": [
    {
     "name": "stdout",
     "output_type": "stream",
     "text": [
      "2018-07-17-h16-20-05_submission.csv\n",
      "/home/sergioml/.local/lib/python2.7/site-packages/urllib3/contrib/socks.py:37: DependencyWarning: SOCKS support in urllib3 requires the installation of optional dependencies: specifically, PySocks.  For more information, see https://urllib3.readthedocs.io/en/latest/contrib.html#socks-proxies\n",
      "  DependencyWarning\n",
      "Successfully submitted to Santander Product Recommendation\n",
      "real\t3m32.092s\n",
      "user\t0m1.552s\n",
      "sys\t0m0.472s\n"
     ]
    }
   ],
   "source": [
    "!bash results/submissions/kaggle_submission \"RF, PCA con 15 componentes, Mayo 2016\""
   ]
  },
  {
   "cell_type": "markdown",
   "metadata": {
    "collapsed": true
   },
   "source": [
    "### Experimento 12\n",
    "Se va a hacer un entrenamiento con todo el dataset"
   ]
  },
  {
   "cell_type": "code",
   "execution_count": 65,
   "metadata": {
    "collapsed": false
   },
   "outputs": [
    {
     "data": {
      "text/plain": [
       "((13387956, 25), (13387956, 24))"
      ]
     },
     "execution_count": 65,
     "metadata": {},
     "output_type": "execute_result"
    }
   ],
   "source": [
    "x = df.drop(['fecha_dato', 'ncodpers', 'fecha_alta'], axis=1).as_matrix()\n",
    "y = df_targets.as_matrix()\n",
    "x.shape, y.shape"
   ]
  },
  {
   "cell_type": "code",
   "execution_count": 96,
   "metadata": {
    "collapsed": false
   },
   "outputs": [
    {
     "name": "stdout",
     "output_type": "stream",
     "text": [
      "Tue Jul 17 18:19:18 2018\n",
      "results/submissions/2018-07-17-h18-43-12_submission.csv\n",
      "CPU times: user 1h 12min 23s, sys: 4min 46s, total: 1h 17min 10s\n",
      "Wall time: 24min 2s\n"
     ]
    }
   ],
   "source": [
    "%%time\n",
    "print(time.ctime())\n",
    "rf = local.model(x, y, RandomForestClassifier(n_jobs=4))\n",
    "\n",
    "x_test = df_test.drop(['fecha_dato', 'ncodpers', 'fecha_alta'], axis=1).as_matrix()\n",
    "probs, preds = local.calculatePredsProbs(x_test, rf)\n",
    "\n",
    "x_train = df[df['fecha_dato'] == '2016-05-28']\n",
    "y_train = df_targets.loc[x_train.index]\n",
    "subm, name_file = local.processPredictions(probs=probs, preds=preds, df_prev=x_train,\n",
    "                                           df_test=df_test, df_targets=y_train, env='submit')"
   ]
  },
  {
   "cell_type": "code",
   "execution_count": 97,
   "metadata": {
    "collapsed": false
   },
   "outputs": [
    {
     "name": "stdout",
     "output_type": "stream",
     "text": [
      "2018-07-17-h18-43-12_submission.csv\n",
      "/home/sergioml/.local/lib/python2.7/site-packages/urllib3/contrib/socks.py:37: DependencyWarning: SOCKS support in urllib3 requires the installation of optional dependencies: specifically, PySocks.  For more information, see https://urllib3.readthedocs.io/en/latest/contrib.html#socks-proxies\n",
      "  DependencyWarning\n",
      "Successfully submitted to Santander Product Recommendation\n",
      "real\t1m45.585s\n",
      "user\t0m1.280s\n",
      "sys\t0m0.388s\n"
     ]
    }
   ],
   "source": [
    "!bash results/submissions/kaggle_submission \"RF, con todo el dataset\""
   ]
  },
  {
   "cell_type": "markdown",
   "metadata": {
    "collapsed": true
   },
   "source": [
    "### Experimento 13\n",
    "* **Datos de entrenamiento:** Los meses de Mayo 2015, Junio 2015 y Mayo 2016"
   ]
  },
  {
   "cell_type": "code",
   "execution_count": 9,
   "metadata": {
    "collapsed": false
   },
   "outputs": [],
   "source": [
    "range_dates = ['2015-05-28', '2015-06-28', '2016-05-28']\n",
    "x_train = df.loc[df['fecha_dato'].isin(range_dates)]\n",
    "y_train = df_targets.loc[x_train.index]"
   ]
  },
  {
   "cell_type": "code",
   "execution_count": 12,
   "metadata": {
    "collapsed": false
   },
   "outputs": [
    {
     "name": "stdout",
     "output_type": "stream",
     "text": [
      "CPU times: user 10min 15s, sys: 34.6 s, total: 10min 50s\n",
      "Wall time: 2min 50s\n"
     ]
    }
   ],
   "source": [
    "%%time\n",
    "x = x_train.drop(['fecha_dato', 'fecha_alta', 'ncodpers'], axis=1).as_matrix()\n",
    "y = y_train.as_matrix()\n",
    "model = local.model(x, y, RandomForestClassifier(n_jobs=-1))"
   ]
  },
  {
   "cell_type": "code",
   "execution_count": 13,
   "metadata": {
    "collapsed": false
   },
   "outputs": [
    {
     "name": "stdout",
     "output_type": "stream",
     "text": [
      "CPU times: user 2min 31s, sys: 5.16 s, total: 2min 36s\n",
      "Wall time: 1min 5s\n"
     ]
    }
   ],
   "source": [
    "%%time\n",
    "x_test = df_test.drop(['fecha_dato', 'fecha_alta', 'ncodpers'], axis=1).as_matrix()\n",
    "probs, preds = local.calculatePredsProbs(x_test, model)"
   ]
  },
  {
   "cell_type": "code",
   "execution_count": 16,
   "metadata": {
    "collapsed": false
   },
   "outputs": [
    {
     "name": "stdout",
     "output_type": "stream",
     "text": [
      "results/submissions/2018-07-18-h20-47-31_submission.csv\n",
      "CPU times: user 17 s, sys: 1.12 s, total: 18.1 s\n",
      "Wall time: 19.2 s\n"
     ]
    }
   ],
   "source": [
    "%%time\n",
    "x_prev = x_train.loc[x_train['fecha_dato'] == range_dates[-1]]\n",
    "subm = local.processPredictions(probs=probs, preds=preds, df_prev=x_prev, df_test=df_test, df_targets=y_train, env='submit')"
   ]
  },
  {
   "cell_type": "code",
   "execution_count": 17,
   "metadata": {
    "collapsed": false
   },
   "outputs": [
    {
     "name": "stdout",
     "output_type": "stream",
     "text": [
      "2018-07-18-h20-47-31_submission.csv\n",
      "/home/sergioml/.local/lib/python2.7/site-packages/urllib3/contrib/socks.py:37: DependencyWarning: SOCKS support in urllib3 requires the installation of optional dependencies: specifically, PySocks.  For more information, see https://urllib3.readthedocs.io/en/latest/contrib.html#socks-proxies\n",
      "  DependencyWarning\n",
      "Successfully submitted to Santander Product Recommendation\n",
      "real\t0m33.186s\n",
      "user\t0m1.064s\n",
      "sys\t0m0.336s\n"
     ]
    }
   ],
   "source": [
    "!bash results/submissions/kaggle_submission \"RF, entrenamiento con Mayo y Junio 2015 y Mayo 2016\""
   ]
  },
  {
   "cell_type": "code",
   "execution_count": null,
   "metadata": {
    "collapsed": true
   },
   "outputs": [],
   "source": []
  }
 ],
 "metadata": {
  "kernelspec": {
   "display_name": "Python 3 + Anaconda",
   "language": "python",
   "name": "pyconda3"
  },
  "language_info": {
   "codemirror_mode": {
    "name": "ipython",
    "version": 3
   },
   "file_extension": ".py",
   "mimetype": "text/x-python",
   "name": "python",
   "nbconvert_exporter": "python",
   "pygments_lexer": "ipython3",
   "version": "3.5.1"
  }
 },
 "nbformat": 4,
 "nbformat_minor": 0
}
