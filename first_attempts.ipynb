{
 "cells": [
  {
   "cell_type": "markdown",
   "metadata": {},
   "source": [
    "III"
   ]
  },
  {
   "cell_type": "code",
   "execution_count": 1,
   "metadata": {
    "collapsed": true
   },
   "outputs": [],
   "source": [
    "import numpy as np\n",
    "import pandas as pd\n",
    "import matplotlib.pyplot as plt\n",
    "import seaborn as sns\n",
    "%matplotlib inline"
   ]
  },
  {
   "cell_type": "code",
   "execution_count": null,
   "metadata": {
    "collapsed": false
   },
   "outputs": [
    {
     "data": {
      "text/html": [
       "<div>\n",
       "<table border=\"1\" class=\"dataframe\">\n",
       "  <thead>\n",
       "    <tr style=\"text-align: right;\">\n",
       "      <th></th>\n",
       "      <th>fecha_dato</th>\n",
       "      <th>fecha_dato_year</th>\n",
       "      <th>fecha_dato_month</th>\n",
       "      <th>fecha_dato_day</th>\n",
       "      <th>ncodpers</th>\n",
       "      <th>ind_empleado</th>\n",
       "      <th>pais_residencia</th>\n",
       "      <th>sexo</th>\n",
       "      <th>age</th>\n",
       "      <th>fecha_alta</th>\n",
       "      <th>...</th>\n",
       "      <th>indresi</th>\n",
       "      <th>indext</th>\n",
       "      <th>canal_entrada</th>\n",
       "      <th>indfall</th>\n",
       "      <th>tipodom</th>\n",
       "      <th>cod_prov</th>\n",
       "      <th>nomprov</th>\n",
       "      <th>ind_actividad_cliente</th>\n",
       "      <th>renta</th>\n",
       "      <th>segmento</th>\n",
       "    </tr>\n",
       "  </thead>\n",
       "  <tbody>\n",
       "    <tr>\n",
       "      <th>0</th>\n",
       "      <td>2015-01-28</td>\n",
       "      <td>2015</td>\n",
       "      <td>1</td>\n",
       "      <td>28</td>\n",
       "      <td>1375586</td>\n",
       "      <td>1</td>\n",
       "      <td>1</td>\n",
       "      <td>1</td>\n",
       "      <td>35</td>\n",
       "      <td>2015-01-12</td>\n",
       "      <td>...</td>\n",
       "      <td>2</td>\n",
       "      <td>1</td>\n",
       "      <td>20</td>\n",
       "      <td>1</td>\n",
       "      <td>1.0</td>\n",
       "      <td>29.0</td>\n",
       "      <td>7</td>\n",
       "      <td>1.0</td>\n",
       "      <td>87218.10</td>\n",
       "      <td>1</td>\n",
       "    </tr>\n",
       "    <tr>\n",
       "      <th>1</th>\n",
       "      <td>2015-01-28</td>\n",
       "      <td>2015</td>\n",
       "      <td>1</td>\n",
       "      <td>28</td>\n",
       "      <td>1050611</td>\n",
       "      <td>1</td>\n",
       "      <td>1</td>\n",
       "      <td>1</td>\n",
       "      <td>23</td>\n",
       "      <td>2012-08-10</td>\n",
       "      <td>...</td>\n",
       "      <td>2</td>\n",
       "      <td>2</td>\n",
       "      <td>1</td>\n",
       "      <td>1</td>\n",
       "      <td>1.0</td>\n",
       "      <td>13.0</td>\n",
       "      <td>23</td>\n",
       "      <td>0.0</td>\n",
       "      <td>35548.74</td>\n",
       "      <td>2</td>\n",
       "    </tr>\n",
       "    <tr>\n",
       "      <th>2</th>\n",
       "      <td>2015-01-28</td>\n",
       "      <td>2015</td>\n",
       "      <td>1</td>\n",
       "      <td>28</td>\n",
       "      <td>1050612</td>\n",
       "      <td>1</td>\n",
       "      <td>1</td>\n",
       "      <td>1</td>\n",
       "      <td>23</td>\n",
       "      <td>2012-08-10</td>\n",
       "      <td>...</td>\n",
       "      <td>2</td>\n",
       "      <td>1</td>\n",
       "      <td>1</td>\n",
       "      <td>1</td>\n",
       "      <td>1.0</td>\n",
       "      <td>13.0</td>\n",
       "      <td>23</td>\n",
       "      <td>0.0</td>\n",
       "      <td>122179.11</td>\n",
       "      <td>2</td>\n",
       "    </tr>\n",
       "    <tr>\n",
       "      <th>3</th>\n",
       "      <td>2015-01-28</td>\n",
       "      <td>2015</td>\n",
       "      <td>1</td>\n",
       "      <td>28</td>\n",
       "      <td>1050613</td>\n",
       "      <td>1</td>\n",
       "      <td>1</td>\n",
       "      <td>1</td>\n",
       "      <td>22</td>\n",
       "      <td>2012-08-10</td>\n",
       "      <td>...</td>\n",
       "      <td>2</td>\n",
       "      <td>1</td>\n",
       "      <td>7</td>\n",
       "      <td>1</td>\n",
       "      <td>1.0</td>\n",
       "      <td>50.0</td>\n",
       "      <td>6</td>\n",
       "      <td>0.0</td>\n",
       "      <td>119775.54</td>\n",
       "      <td>2</td>\n",
       "    </tr>\n",
       "    <tr>\n",
       "      <th>4</th>\n",
       "      <td>2015-01-28</td>\n",
       "      <td>2015</td>\n",
       "      <td>1</td>\n",
       "      <td>28</td>\n",
       "      <td>1050615</td>\n",
       "      <td>1</td>\n",
       "      <td>1</td>\n",
       "      <td>1</td>\n",
       "      <td>23</td>\n",
       "      <td>2012-08-10</td>\n",
       "      <td>...</td>\n",
       "      <td>2</td>\n",
       "      <td>1</td>\n",
       "      <td>1</td>\n",
       "      <td>1</td>\n",
       "      <td>1.0</td>\n",
       "      <td>45.0</td>\n",
       "      <td>16</td>\n",
       "      <td>0.0</td>\n",
       "      <td>22220.04</td>\n",
       "      <td>2</td>\n",
       "    </tr>\n",
       "  </tbody>\n",
       "</table>\n",
       "<p>5 rows × 27 columns</p>\n",
       "</div>"
      ],
      "text/plain": [
       "   fecha_dato  fecha_dato_year  fecha_dato_month  fecha_dato_day  ncodpers  \\\n",
       "0  2015-01-28             2015                 1              28   1375586   \n",
       "1  2015-01-28             2015                 1              28   1050611   \n",
       "2  2015-01-28             2015                 1              28   1050612   \n",
       "3  2015-01-28             2015                 1              28   1050613   \n",
       "4  2015-01-28             2015                 1              28   1050615   \n",
       "\n",
       "   ind_empleado  pais_residencia  sexo  age  fecha_alta    ...     indresi  \\\n",
       "0             1                1     1   35  2015-01-12    ...           2   \n",
       "1             1                1     1   23  2012-08-10    ...           2   \n",
       "2             1                1     1   23  2012-08-10    ...           2   \n",
       "3             1                1     1   22  2012-08-10    ...           2   \n",
       "4             1                1     1   23  2012-08-10    ...           2   \n",
       "\n",
       "   indext  canal_entrada  indfall  tipodom  cod_prov  nomprov  \\\n",
       "0       1             20        1      1.0      29.0        7   \n",
       "1       2              1        1      1.0      13.0       23   \n",
       "2       1              1        1      1.0      13.0       23   \n",
       "3       1              7        1      1.0      50.0        6   \n",
       "4       1              1        1      1.0      45.0       16   \n",
       "\n",
       "   ind_actividad_cliente      renta  segmento  \n",
       "0                    1.0   87218.10         1  \n",
       "1                    0.0   35548.74         2  \n",
       "2                    0.0  122179.11         2  \n",
       "3                    0.0  119775.54         2  \n",
       "4                    0.0   22220.04         2  \n",
       "\n",
       "[5 rows x 27 columns]"
      ]
     },
     "execution_count": 2,
     "metadata": {},
     "output_type": "execute_result"
    }
   ],
   "source": [
    "df = pd.read_csv('data/clean/train_clean_v2.csv')\n",
    "df.head()"
   ]
  },
  {
   "cell_type": "code",
   "execution_count": null,
   "metadata": {
    "collapsed": false
   },
   "outputs": [],
   "source": [
    "df.as_matrix().shape"
   ]
  },
  {
   "cell_type": "code",
   "execution_count": null,
   "metadata": {
    "collapsed": false
   },
   "outputs": [],
   "source": [
    "df_targets = pd.read_csv('data/clean/train_labels.csv')\n",
    "df_targets.head()"
   ]
  },
  {
   "cell_type": "code",
   "execution_count": null,
   "metadata": {
    "collapsed": false
   },
   "outputs": [],
   "source": [
    "df_targets.shape"
   ]
  },
  {
   "cell_type": "markdown",
   "metadata": {
    "collapsed": true
   },
   "source": [
    "### División de datos"
   ]
  },
  {
   "cell_type": "code",
   "execution_count": 27,
   "metadata": {
    "collapsed": false
   },
   "outputs": [
    {
     "data": {
      "text/plain": [
       "10094948"
      ]
     },
     "execution_count": 27,
     "metadata": {},
     "output_type": "execute_result"
    }
   ],
   "source": [
    "edge = df.groupby(['fecha_dato']).get_group(np.sort(list(df.groupby(['fecha_dato']).groups.keys()))[-1]).index[0]\n",
    "edge"
   ]
  },
  {
   "cell_type": "code",
   "execution_count": 47,
   "metadata": {
    "collapsed": false
   },
   "outputs": [],
   "source": [
    "df.drop(['fecha_dato', 'fecha_alta'], inplace=True, axis=1)"
   ]
  },
  {
   "cell_type": "code",
   "execution_count": 49,
   "metadata": {
    "collapsed": false
   },
   "outputs": [],
   "source": [
    "train_data = df.iloc[:edge, :]\n",
    "test_data = df.iloc[edge:, :]\n",
    "train_target = df_targets.iloc[:edge, 0] # El target que se va usar es ind_ahor_fin_ult1\n",
    "test_target = df_targets.iloc[edge:, 0]"
   ]
  },
  {
   "cell_type": "code",
   "execution_count": 50,
   "metadata": {
    "collapsed": false
   },
   "outputs": [
    {
     "data": {
      "text/plain": [
       "((10094948, 25), (10094948,))"
      ]
     },
     "execution_count": 50,
     "metadata": {},
     "output_type": "execute_result"
    }
   ],
   "source": [
    "train_data.shape, train_target.shape"
   ]
  },
  {
   "cell_type": "code",
   "execution_count": 51,
   "metadata": {
    "collapsed": false
   },
   "outputs": [
    {
     "data": {
      "text/plain": [
       "((700444, 25), (700444,))"
      ]
     },
     "execution_count": 51,
     "metadata": {},
     "output_type": "execute_result"
    }
   ],
   "source": [
    "test_data.shape, test_target.shape"
   ]
  },
  {
   "cell_type": "markdown",
   "metadata": {},
   "source": [
    "First try!"
   ]
  },
  {
   "cell_type": "code",
   "execution_count": 52,
   "metadata": {
    "collapsed": false
   },
   "outputs": [],
   "source": [
    "from sklearn.tree import DecisionTreeClassifier"
   ]
  },
  {
   "cell_type": "code",
   "execution_count": 52,
   "metadata": {
    "collapsed": false
   },
   "outputs": [
    {
     "name": "stdout",
     "output_type": "stream",
     "text": [
      "CPU times: user 53.1 s, sys: 1.22 s, total: 54.3 s\n",
      "Wall time: 54.4 s\n"
     ]
    }
   ],
   "source": [
    "%%time\n",
    "clf = DecisionTreeClassifier()\n",
    "clf.fit(train_data, train_target)"
   ]
  },
  {
   "cell_type": "code",
   "execution_count": 53,
   "metadata": {
    "collapsed": false
   },
   "outputs": [
    {
     "data": {
      "text/plain": [
       "0.99999143400471702"
      ]
     },
     "execution_count": 53,
     "metadata": {},
     "output_type": "execute_result"
    }
   ],
   "source": [
    "clf.score(test_data, test_target)"
   ]
  },
  {
   "cell_type": "markdown",
   "metadata": {},
   "source": [
    "Se usará un árbol de decisión para esta primera prueba, además se usará la métrica por defecto del algoritmo dicho"
   ]
  },
  {
   "cell_type": "code",
   "execution_count": 56,
   "metadata": {
    "collapsed": false
   },
   "outputs": [
    {
     "name": "stdout",
     "output_type": "stream",
     "text": [
      "0 ind_ahor_fin_ult1 el score es de 0.999991434005\n",
      "1 ind_aval_fin_ult1 el score es de 0.999998572334\n",
      "2 ind_cco_fin_ult1 el score es de 0.971843573505\n",
      "3 ind_cder_fin_ult1 el score es de 0.999931472038\n",
      "4 ind_cno_fin_ult1 el score es de 0.986511412761\n",
      "5 ind_ctju_fin_ult1 el score es de 0.999890069727\n",
      "6 ind_ctma_fin_ult1 el score es de 0.998656566406\n",
      "7 ind_ctop_fin_ult1 el score es de 0.98982502527\n",
      "8 ind_ctpp_fin_ult1 el score es de 0.995445745841\n",
      "9 ind_deco_fin_ult1 el score es de 0.999915767713\n",
      "10 ind_deme_fin_ult1 el score es de 0.999780139454\n",
      "11 ind_dela_fin_ult1 el score es de 0.994215097852\n",
      "12 ind_ecue_fin_ult1 el score es de 0.990054879476\n",
      "13 ind_fond_fin_ult1 el score es de 0.99744590574\n",
      "14 ind_hip_fin_ult1 el score es de 0.999217639097\n",
      "15 ind_plan_fin_ult1 el score es de 0.998311071263\n",
      "16 ind_pres_fin_ult1 el score es de 0.999787277784\n",
      "17 ind_reca_fin_ult1 el score es de 0.992885940917\n",
      "18 ind_tjcr_fin_ult1 el score es de 0.983297736864\n",
      "19 ind_valo_fin_ult1 el score es de 0.99601110153\n",
      "20 ind_viv_fin_ult1 el score es de 0.999250475413\n",
      "21 ind_nomina_ult1 el score es de 0.983166391603\n",
      "22 ind_nom_pens_ult1 el score es de 0.980520926726\n",
      "23 ind_recibo_ult1 el score es de 0.968715557561\n",
      "CPU times: user 53min 4s, sys: 33.5 s, total: 53min 37s\n",
      "Wall time: 53min 40s\n"
     ]
    }
   ],
   "source": [
    "%%time\n",
    "for i, col in enumerate(df_targets.columns):\n",
    "    train_target = df_targets.iloc[:edge, i] \n",
    "    test_target = df_targets.iloc[edge:, i]\n",
    "    clf.fit(train_data, train_target)\n",
    "    score = clf.score(test_data, test_target)\n",
    "    print(i, col, 'el score es de', score)"
   ]
  }
 ],
 "metadata": {
  "kernelspec": {
   "display_name": "Python 3 + Anaconda",
   "language": "python",
   "name": "pyconda3"
  },
  "language_info": {
   "codemirror_mode": {
    "name": "ipython",
    "version": 3
   },
   "file_extension": ".py",
   "mimetype": "text/x-python",
   "name": "python",
   "nbconvert_exporter": "python",
   "pygments_lexer": "ipython3",
   "version": "3.5.1"
  }
 },
 "nbformat": 4,
 "nbformat_minor": 0
}
