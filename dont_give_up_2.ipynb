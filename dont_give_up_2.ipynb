{
 "cells": [
  {
   "cell_type": "code",
   "execution_count": 1,
   "metadata": {
    "collapsed": false
   },
   "outputs": [],
   "source": [
    "import numpy as np\n",
    "import pandas as pd\n",
    "import time\n",
    "import importlib\n",
    "\n",
    "import scripts.local_environment as local\n",
    "importlib.reload(local);"
   ]
  },
  {
   "cell_type": "code",
   "execution_count": 2,
   "metadata": {
    "collapsed": true
   },
   "outputs": [],
   "source": [
    "from sklearn.ensemble import RandomForestClassifier"
   ]
  },
  {
   "cell_type": "code",
   "execution_count": 3,
   "metadata": {
    "collapsed": false
   },
   "outputs": [
    {
     "name": "stdout",
     "output_type": "stream",
     "text": [
      "CPU times: user 49.9 s, sys: 4.48 s, total: 54.4 s\n",
      "Wall time: 54.3 s\n"
     ]
    }
   ],
   "source": [
    "%%time\n",
    "df = pd.read_csv('data/clean/train_clean.csv')\n",
    "df_targets = pd.read_csv('data/clean/train_labels.csv')\n",
    "df_test = pd.read_csv('data/clean/test_clean.csv')"
   ]
  },
  {
   "cell_type": "markdown",
   "metadata": {},
   "source": [
    "### Experimento 3\n",
    "Entrenamiento con el mes de Mayo/2016 con sólo clientes antiguos"
   ]
  },
  {
   "cell_type": "code",
   "execution_count": null,
   "metadata": {
    "collapsed": false
   },
   "outputs": [],
   "source": [
    "x_train = df[df['fecha_dato'] == '2016-05-28']\n",
    "y_train = df_targets.loc[x_train.index]"
   ]
  },
  {
   "cell_type": "code",
   "execution_count": 5,
   "metadata": {
    "collapsed": false
   },
   "outputs": [
    {
     "data": {
      "text/plain": [
       "699690"
      ]
     },
     "execution_count": 5,
     "metadata": {},
     "output_type": "execute_result"
    }
   ],
   "source": [
    "ncodpers_both_month = list(set(x_train['ncodpers'].values) & set(df_test['ncodpers'].values))\n",
    "len(ncodpers_both_month)"
   ]
  },
  {
   "cell_type": "code",
   "execution_count": 6,
   "metadata": {
    "collapsed": false
   },
   "outputs": [],
   "source": [
    "x = x_train[x_train['ncodpers'].isin(ncodpers_both_month)].drop(['fecha_dato', 'fecha_alta'], axis=1)\n",
    "y = y_train.loc[x.index].as_matrix()\n",
    "x = x.as_matrix()"
   ]
  },
  {
   "cell_type": "code",
   "execution_count": 7,
   "metadata": {
    "collapsed": false
   },
   "outputs": [
    {
     "name": "stdout",
     "output_type": "stream",
     "text": [
      "CPU times: user 2min 49s, sys: 8.8 s, total: 2min 57s\n",
      "Wall time: 53.2 s\n"
     ]
    }
   ],
   "source": [
    "%%time\n",
    "rf = local.model(x, y, RandomForestClassifier(n_jobs=4))"
   ]
  },
  {
   "cell_type": "code",
   "execution_count": 8,
   "metadata": {
    "collapsed": true
   },
   "outputs": [],
   "source": [
    "x_test = df_test.drop(['fecha_dato', 'fecha_alta'], axis=1).as_matrix()"
   ]
  },
  {
   "cell_type": "code",
   "execution_count": 9,
   "metadata": {
    "collapsed": false
   },
   "outputs": [
    {
     "name": "stdout",
     "output_type": "stream",
     "text": [
      "CPU times: user 2min 17s, sys: 4.58 s, total: 2min 22s\n",
      "Wall time: 1min 5s\n"
     ]
    }
   ],
   "source": [
    "%%time\n",
    "probs, preds = local.calculatePredsProbs(x_test, rf)"
   ]
  },
  {
   "cell_type": "code",
   "execution_count": 10,
   "metadata": {
    "collapsed": false
   },
   "outputs": [
    {
     "name": "stdout",
     "output_type": "stream",
     "text": [
      "change\n",
      "results/submissions/2018-07-13-h12-05-59_submission.csv\n",
      "CPU times: user 16.7 s, sys: 836 ms, total: 17.5 s\n",
      "Wall time: 18.7 s\n"
     ]
    }
   ],
   "source": [
    "%%time\n",
    "subm = local.processPredictions(probs=probs, preds=preds, df_train=x_train, df_test=df_test,\n",
    "                                df_targets=y_train, env='submit')"
   ]
  },
  {
   "cell_type": "markdown",
   "metadata": {},
   "source": [
    "### Experimento 4\n",
    "Entrenamiento con Mayo 2015 y todos los clientes"
   ]
  },
  {
   "cell_type": "code",
   "execution_count": 17,
   "metadata": {
    "collapsed": true
   },
   "outputs": [],
   "source": [
    "x_train = df[df['fecha_dato'] == '2016-05-28']\n",
    "y_train = df_targets.loc[x_train.index]\n",
    "\n",
    "x = x_train.drop(['fecha_dato', 'fecha_alta'], axis=1)\n",
    "y = y_train.loc[x.index].as_matrix()\n",
    "x = x.as_matrix()"
   ]
  },
  {
   "cell_type": "code",
   "execution_count": 18,
   "metadata": {
    "collapsed": false
   },
   "outputs": [
    {
     "name": "stdout",
     "output_type": "stream",
     "text": [
      "CPU times: user 3min 26s, sys: 14.6 s, total: 3min 40s\n",
      "Wall time: 1min 17s\n"
     ]
    }
   ],
   "source": [
    "%%time\n",
    "rf = local.model(x, y, RandomForestClassifier(n_jobs=4))"
   ]
  },
  {
   "cell_type": "code",
   "execution_count": 19,
   "metadata": {
    "collapsed": true
   },
   "outputs": [],
   "source": [
    "x_test = df_test.drop(['fecha_dato', 'fecha_alta'], axis=1).as_matrix()"
   ]
  },
  {
   "cell_type": "code",
   "execution_count": 20,
   "metadata": {
    "collapsed": false
   },
   "outputs": [
    {
     "name": "stdout",
     "output_type": "stream",
     "text": [
      "CPU times: user 3min 9s, sys: 6.43 s, total: 3min 15s\n",
      "Wall time: 1min 34s\n"
     ]
    }
   ],
   "source": [
    "%%time\n",
    "probs, preds = local.calculatePredsProbs(x_test, rf)"
   ]
  },
  {
   "cell_type": "code",
   "execution_count": 21,
   "metadata": {
    "collapsed": false,
    "scrolled": true
   },
   "outputs": [
    {
     "name": "stdout",
     "output_type": "stream",
     "text": [
      "change\n",
      "results/submissions/2018-07-13-h13-52-03_submission.csv\n",
      "CPU times: user 18.3 s, sys: 1.04 s, total: 19.3 s\n",
      "Wall time: 20.4 s\n"
     ]
    }
   ],
   "source": [
    "%%time\n",
    "subm, name_file = local.processPredictions(probs=probs, preds=preds, df_train=x_train, df_test=df_test,\n",
    "                                df_targets=y_train, env='submit')"
   ]
  },
  {
   "cell_type": "markdown",
   "metadata": {
    "collapsed": true
   },
   "source": [
    "### Experimento 5\n",
    "Entrenamiento con Junio 2015 - todos los clientes"
   ]
  },
  {
   "cell_type": "code",
   "execution_count": 11,
   "metadata": {
    "collapsed": false
   },
   "outputs": [],
   "source": [
    "x_train = df[df['fecha_dato'] == '2015-06-28']\n",
    "y_train = df_targets.loc[x_train.index]"
   ]
  },
  {
   "cell_type": "code",
   "execution_count": 12,
   "metadata": {
    "collapsed": true
   },
   "outputs": [],
   "source": [
    "x = x_train.drop(['fecha_dato', 'fecha_alta'], axis=1)\n",
    "y = y_train.loc[x.index].as_matrix()\n",
    "x = x.as_matrix()"
   ]
  },
  {
   "cell_type": "code",
   "execution_count": 13,
   "metadata": {
    "collapsed": false
   },
   "outputs": [
    {
     "name": "stdout",
     "output_type": "stream",
     "text": [
      "CPU times: user 2min, sys: 7.36 s, total: 2min 7s\n",
      "Wall time: 39 s\n"
     ]
    }
   ],
   "source": [
    "%%time\n",
    "rf = local.model(x, y, RandomForestClassifier(n_jobs=4))"
   ]
  },
  {
   "cell_type": "code",
   "execution_count": 14,
   "metadata": {
    "collapsed": true
   },
   "outputs": [],
   "source": [
    "x_test = df_test.drop(['fecha_dato', 'fecha_alta'], axis=1).as_matrix()"
   ]
  },
  {
   "cell_type": "code",
   "execution_count": 15,
   "metadata": {
    "collapsed": false
   },
   "outputs": [
    {
     "name": "stdout",
     "output_type": "stream",
     "text": [
      "CPU times: user 2min 16s, sys: 4.77 s, total: 2min 20s\n",
      "Wall time: 1min 4s\n"
     ]
    }
   ],
   "source": [
    "%%time\n",
    "probs, preds = local.calculatePredsProbs(x_test, rf)"
   ]
  },
  {
   "cell_type": "code",
   "execution_count": 16,
   "metadata": {
    "collapsed": false
   },
   "outputs": [
    {
     "name": "stdout",
     "output_type": "stream",
     "text": [
      "change\n",
      "results/submissions/2018-07-13-h12-11-56_submission.csv\n",
      "CPU times: user 16.5 s, sys: 428 ms, total: 17 s\n",
      "Wall time: 18.1 s\n"
     ]
    }
   ],
   "source": [
    "%%time\n",
    "subm, name_file = local.processPredictions(probs=probs, preds=preds, df_train=x_train, df_test=df_test,\n",
    "                                df_targets=y_train, env='submit')"
   ]
  },
  {
   "cell_type": "markdown",
   "metadata": {},
   "source": [
    "### Experimento 6\n",
    "Entrenamiento progresivo individual\n",
    "Esta prueba será *local* para predecir los productos del mes de Mayo/2016"
   ]
  },
  {
   "cell_type": "code",
   "execution_count": 8,
   "metadata": {
    "collapsed": false
   },
   "outputs": [],
   "source": [
    "dates = df.fecha_dato.unique()\n",
    "date_test = dates[-1]\n",
    "\n",
    "results = pd.DataFrame(columns=['date', 'score', 'amount_data'])\n",
    "\n",
    "for i, date in enumerate(dates[:-1]):\n",
    "    df_x = df[df['fecha_dato'] == date]\n",
    "    df_y = df_targets.loc[df_x.index]\n",
    "    \n",
    "    x_train = df_x.drop(['fecha_dato', 'fecha_alta'], axis=1).as_matrix()\n",
    "    y_train = df_y.as_matrix()\n",
    "    \n",
    "    df_x_test = df[df['fecha_dato'] == date_test].drop(['fecha_dato', 'fecha_alta'], axis=1)\n",
    "    df_y_test = df_targets.loc[df_x_test.index]\n",
    "    \n",
    "    x_test = df_x_test.as_matrix()\n",
    "    y_test = df_y_test.as_matrix()\n",
    "    \n",
    "    model = local.model(x_train, y_train, RandomForestClassifier(n_jobs=4))\n",
    "    probs, preds = local.calculatePredsProbs(x_test, model)\n",
    "    \n",
    "    predicted, actual = local.processPredictions(probs, preds, df_x, df_x_test, df_y, df_y_test)\n",
    "    \n",
    "    score = local.mapk(actual, predicted, 7)\n",
    "    \n",
    "    results.loc[i] = [date, score, x_train.shape[0]]\n",
    "    print(date)"
   ]
  },
  {
   "cell_type": "markdown",
   "metadata": {
    "collapsed": true
   },
   "source": [
    "### Experimento 7\n",
    "Entrenamiento progresivo acumulado.\n",
    "* **Test:** Mayo 2016\n",
    "* **Env:** local"
   ]
  },
  {
   "cell_type": "code",
   "execution_count": null,
   "metadata": {
    "collapsed": true
   },
   "outputs": [],
   "source": [
    "dates = df.fecha_dato.unique()\n",
    "date_test = dates[-1]\n",
    "\n",
    "results = pd.DataFrame(columns=['date_start', 'date_end', 'score', 'amount_data'])\n",
    "\n",
    "for i in range(1, len(dates[:-1])+1):\n",
    "    date_range = dates[:i]\n",
    "    df_x = df[df['fecha_dato'].isin(date_range)]\n",
    "    df_y = df_targets.loc[df_x.index]\n",
    "    \n",
    "    x_train = df_x.drop(['fecha_dato', 'fecha_alta'], axis=1).as_matrix()\n",
    "    y_train = df_y.as_matrix()\n",
    "    \n",
    "    df_x_test = df[df['fecha_dato'] == date_test].drop(['fecha_dato', 'fecha_alta'], axis=1)\n",
    "    df_y_test = df_targets.loc[df_x_test.index]\n",
    "    \n",
    "    x_test = df_x_test.as_matrix()\n",
    "    y_test = df_y_test.as_matrix()\n",
    "    \n",
    "    model = local.model(x_train, y_train, RandomForestClassifier(n_jobs=4))\n",
    "    probs, preds = local.calculatePredsProbs(x_test, model)\n",
    "    \n",
    "    predicted, actual = local.processPredictions(probs, preds, df_x, df_x_test, df_y, df_y_test)\n",
    "    \n",
    "    score = local.mapk(actual, predicted, 7)\n",
    "    \n",
    "    results.loc[i] = [date_range[0], date_range[-1], score, x_train.shape[0]]"
   ]
  }
 ],
 "metadata": {
  "kernelspec": {
   "display_name": "Python 3 + Anaconda",
   "language": "python",
   "name": "pyconda3"
  },
  "language_info": {
   "codemirror_mode": {
    "name": "ipython",
    "version": 3
   },
   "file_extension": ".py",
   "mimetype": "text/x-python",
   "name": "python",
   "nbconvert_exporter": "python",
   "pygments_lexer": "ipython3",
   "version": "3.5.1"
  }
 },
 "nbformat": 4,
 "nbformat_minor": 0
}
