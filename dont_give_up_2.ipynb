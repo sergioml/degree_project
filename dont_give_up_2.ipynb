{
 "cells": [
  {
   "cell_type": "code",
   "execution_count": 91,
   "metadata": {
    "collapsed": false
   },
   "outputs": [],
   "source": [
    "import numpy as np\n",
    "import pandas as pd\n",
    "import time\n",
    "import importlib\n",
    "\n",
    "import scripts.local_environment as local\n",
    "importlib.reload(local);\n",
    "\n",
    "import matplotlib.pyplot as plt\n",
    "%matplotlib inline"
   ]
  },
  {
   "cell_type": "code",
   "execution_count": 2,
   "metadata": {
    "collapsed": true
   },
   "outputs": [],
   "source": [
    "from sklearn.ensemble import RandomForestClassifier"
   ]
  },
  {
   "cell_type": "code",
   "execution_count": 3,
   "metadata": {
    "collapsed": false
   },
   "outputs": [
    {
     "name": "stdout",
     "output_type": "stream",
     "text": [
      "CPU times: user 1min 35s, sys: 8.02 s, total: 1min 43s\n",
      "Wall time: 1min 44s\n"
     ]
    }
   ],
   "source": [
    "%%time\n",
    "df = pd.read_csv('data/clean/train_clean.csv')\n",
    "df_targets = pd.read_csv('data/clean/train_labels.csv')\n",
    "df_test = pd.read_csv('data/clean/test_clean.csv')"
   ]
  },
  {
   "cell_type": "markdown",
   "metadata": {},
   "source": [
    "### Experimento 3\n",
    "Entrenamiento con el mes de Mayo/2016 con sólo clientes antiguos"
   ]
  },
  {
   "cell_type": "code",
   "execution_count": null,
   "metadata": {
    "collapsed": false
   },
   "outputs": [],
   "source": [
    "x_train = df[df['fecha_dato'] == '2016-05-28']\n",
    "y_train = df_targets.loc[x_train.index]"
   ]
  },
  {
   "cell_type": "code",
   "execution_count": 5,
   "metadata": {
    "collapsed": false
   },
   "outputs": [
    {
     "data": {
      "text/plain": [
       "699690"
      ]
     },
     "execution_count": 5,
     "metadata": {},
     "output_type": "execute_result"
    }
   ],
   "source": [
    "ncodpers_both_month = list(set(x_train['ncodpers'].values) & set(df_test['ncodpers'].values))\n",
    "len(ncodpers_both_month)"
   ]
  },
  {
   "cell_type": "code",
   "execution_count": 6,
   "metadata": {
    "collapsed": false
   },
   "outputs": [],
   "source": [
    "x = x_train[x_train['ncodpers'].isin(ncodpers_both_month)].drop(['fecha_dato', 'fecha_alta'], axis=1)\n",
    "y = y_train.loc[x.index].as_matrix()\n",
    "x = x.as_matrix()"
   ]
  },
  {
   "cell_type": "code",
   "execution_count": 7,
   "metadata": {
    "collapsed": false
   },
   "outputs": [
    {
     "name": "stdout",
     "output_type": "stream",
     "text": [
      "CPU times: user 2min 49s, sys: 8.8 s, total: 2min 57s\n",
      "Wall time: 53.2 s\n"
     ]
    }
   ],
   "source": [
    "%%time\n",
    "rf = local.model(x, y, RandomForestClassifier(n_jobs=4))"
   ]
  },
  {
   "cell_type": "code",
   "execution_count": 8,
   "metadata": {
    "collapsed": true
   },
   "outputs": [],
   "source": [
    "x_test = df_test.drop(['fecha_dato', 'fecha_alta'], axis=1).as_matrix()"
   ]
  },
  {
   "cell_type": "code",
   "execution_count": 9,
   "metadata": {
    "collapsed": false
   },
   "outputs": [
    {
     "name": "stdout",
     "output_type": "stream",
     "text": [
      "CPU times: user 2min 17s, sys: 4.58 s, total: 2min 22s\n",
      "Wall time: 1min 5s\n"
     ]
    }
   ],
   "source": [
    "%%time\n",
    "probs, preds = local.calculatePredsProbs(x_test, rf)"
   ]
  },
  {
   "cell_type": "code",
   "execution_count": 10,
   "metadata": {
    "collapsed": false
   },
   "outputs": [
    {
     "name": "stdout",
     "output_type": "stream",
     "text": [
      "change\n",
      "results/submissions/2018-07-13-h12-05-59_submission.csv\n",
      "CPU times: user 16.7 s, sys: 836 ms, total: 17.5 s\n",
      "Wall time: 18.7 s\n"
     ]
    }
   ],
   "source": [
    "%%time\n",
    "subm = local.processPredictions(probs=probs, preds=preds, df_train=x_train, df_test=df_test,\n",
    "                                df_targets=y_train, env='submit')"
   ]
  },
  {
   "cell_type": "markdown",
   "metadata": {},
   "source": [
    "### Experimento 4\n",
    "Entrenamiento con Mayo 2016 y todos los clientes"
   ]
  },
  {
   "cell_type": "code",
   "execution_count": 17,
   "metadata": {
    "collapsed": true
   },
   "outputs": [],
   "source": [
    "x_train = df[df['fecha_dato'] == '2016-05-28']\n",
    "y_train = df_targets.loc[x_train.index]\n",
    "\n",
    "x = x_train.drop(['fecha_dato', 'fecha_alta'], axis=1)\n",
    "y = y_train.loc[x.index].as_matrix()\n",
    "x = x.as_matrix()"
   ]
  },
  {
   "cell_type": "code",
   "execution_count": 18,
   "metadata": {
    "collapsed": false
   },
   "outputs": [
    {
     "name": "stdout",
     "output_type": "stream",
     "text": [
      "CPU times: user 3min 26s, sys: 14.6 s, total: 3min 40s\n",
      "Wall time: 1min 17s\n"
     ]
    }
   ],
   "source": [
    "%%time\n",
    "rf = local.model(x, y, RandomForestClassifier(n_jobs=4))"
   ]
  },
  {
   "cell_type": "code",
   "execution_count": 19,
   "metadata": {
    "collapsed": true
   },
   "outputs": [],
   "source": [
    "x_test = df_test.drop(['fecha_dato', 'fecha_alta'], axis=1).as_matrix()"
   ]
  },
  {
   "cell_type": "code",
   "execution_count": 20,
   "metadata": {
    "collapsed": false
   },
   "outputs": [
    {
     "name": "stdout",
     "output_type": "stream",
     "text": [
      "CPU times: user 3min 9s, sys: 6.43 s, total: 3min 15s\n",
      "Wall time: 1min 34s\n"
     ]
    }
   ],
   "source": [
    "%%time\n",
    "probs, preds = local.calculatePredsProbs(x_test, rf)"
   ]
  },
  {
   "cell_type": "code",
   "execution_count": 21,
   "metadata": {
    "collapsed": false,
    "scrolled": true
   },
   "outputs": [
    {
     "name": "stdout",
     "output_type": "stream",
     "text": [
      "change\n",
      "results/submissions/2018-07-13-h13-52-03_submission.csv\n",
      "CPU times: user 18.3 s, sys: 1.04 s, total: 19.3 s\n",
      "Wall time: 20.4 s\n"
     ]
    }
   ],
   "source": [
    "%%time\n",
    "subm, name_file = local.processPredictions(probs=probs, preds=preds, df_train=x_train, df_test=df_test,\n",
    "                                df_targets=y_train, env='submit')"
   ]
  },
  {
   "cell_type": "markdown",
   "metadata": {
    "collapsed": true
   },
   "source": [
    "### Experimento 5\n",
    "Entrenamiento con Junio 2015 - todos los clientes"
   ]
  },
  {
   "cell_type": "code",
   "execution_count": 11,
   "metadata": {
    "collapsed": false
   },
   "outputs": [],
   "source": [
    "x_train = df[df['fecha_dato'] == '2015-06-28']\n",
    "y_train = df_targets.loc[x_train.index]"
   ]
  },
  {
   "cell_type": "code",
   "execution_count": 12,
   "metadata": {
    "collapsed": true
   },
   "outputs": [],
   "source": [
    "x = x_train.drop(['fecha_dato', 'fecha_alta'], axis=1)\n",
    "y = y_train.loc[x.index].as_matrix()\n",
    "x = x.as_matrix()"
   ]
  },
  {
   "cell_type": "code",
   "execution_count": 13,
   "metadata": {
    "collapsed": false
   },
   "outputs": [
    {
     "name": "stdout",
     "output_type": "stream",
     "text": [
      "CPU times: user 2min, sys: 7.36 s, total: 2min 7s\n",
      "Wall time: 39 s\n"
     ]
    }
   ],
   "source": [
    "%%time\n",
    "rf = local.model(x, y, RandomForestClassifier(n_jobs=4))"
   ]
  },
  {
   "cell_type": "code",
   "execution_count": 14,
   "metadata": {
    "collapsed": true
   },
   "outputs": [],
   "source": [
    "x_test = df_test.drop(['fecha_dato', 'fecha_alta'], axis=1).as_matrix()"
   ]
  },
  {
   "cell_type": "code",
   "execution_count": 15,
   "metadata": {
    "collapsed": false
   },
   "outputs": [
    {
     "name": "stdout",
     "output_type": "stream",
     "text": [
      "CPU times: user 2min 16s, sys: 4.77 s, total: 2min 20s\n",
      "Wall time: 1min 4s\n"
     ]
    }
   ],
   "source": [
    "%%time\n",
    "probs, preds = local.calculatePredsProbs(x_test, rf)"
   ]
  },
  {
   "cell_type": "code",
   "execution_count": 16,
   "metadata": {
    "collapsed": false
   },
   "outputs": [
    {
     "name": "stdout",
     "output_type": "stream",
     "text": [
      "change\n",
      "results/submissions/2018-07-13-h12-11-56_submission.csv\n",
      "CPU times: user 16.5 s, sys: 428 ms, total: 17 s\n",
      "Wall time: 18.1 s\n"
     ]
    }
   ],
   "source": [
    "%%time\n",
    "subm, name_file = local.processPredictions(probs=probs, preds=preds, df_train=x_train, df_test=df_test,\n",
    "                                df_targets=y_train, env='submit')"
   ]
  },
  {
   "cell_type": "markdown",
   "metadata": {},
   "source": [
    "### Experimento 6\n",
    "Entrenamiento progresivo individual\n",
    "Esta prueba será *local* para predecir los productos del mes de Mayo/2016"
   ]
  },
  {
   "cell_type": "code",
   "execution_count": 4,
   "metadata": {
    "collapsed": true
   },
   "outputs": [],
   "source": [
    "dates = df.fecha_dato.unique()\n",
    "date_test = dates[-1]"
   ]
  },
  {
   "cell_type": "code",
   "execution_count": 8,
   "metadata": {
    "collapsed": false
   },
   "outputs": [],
   "source": [
    "results = pd.DataFrame(columns=['date', 'score', 'amount_data'])\n",
    "\n",
    "for i, date in enumerate(dates[:-1]):\n",
    "    df_x = df[df['fecha_dato'] == date]\n",
    "    df_y = df_targets.loc[df_x.index]\n",
    "    \n",
    "    x_train = df_x.drop(['fecha_dato', 'fecha_alta'], axis=1).as_matrix()\n",
    "    y_train = df_y.as_matrix()\n",
    "    \n",
    "    df_x_test = df[df['fecha_dato'] == date_test].drop(['fecha_dato', 'fecha_alta'], axis=1)\n",
    "    df_y_test = df_targets.loc[df_x_test.index]\n",
    "    \n",
    "    x_test = df_x_test.as_matrix()\n",
    "    y_test = df_y_test.as_matrix()\n",
    "    \n",
    "    model = local.model(x_train, y_train, RandomForestClassifier(n_jobs=4))\n",
    "    probs, preds = local.calculatePredsProbs(x_test, model)\n",
    "    \n",
    "    df_prev = df[df['fecha_dato'] == dates[-2]]\n",
    "    df_y = df_targets.loc[df_prev.index]\n",
    "    \n",
    "    predicted, actual = local.processPredictions(probs, preds, df_prev, df_x_test, df_y, df_y_test)\n",
    "    \n",
    "    score = local.mapk(actual, predicted, 7)\n",
    "    \n",
    "    results.loc[i] = [date, score, x_train.shape[0]]\n",
    "    print(date)"
   ]
  },
  {
   "cell_type": "markdown",
   "metadata": {},
   "source": [
    "#### Resultados"
   ]
  },
  {
   "cell_type": "code",
   "execution_count": 5,
   "metadata": {
    "collapsed": false
   },
   "outputs": [],
   "source": [
    "res_exp6 = pd.read_csv('scripts/results/experiment6.csv')\n",
    "res_exp6['date'] = dates[:-1]"
   ]
  },
  {
   "cell_type": "code",
   "execution_count": 6,
   "metadata": {
    "collapsed": false,
    "scrolled": true
   },
   "outputs": [
    {
     "data": {
      "text/html": [
       "<div>\n",
       "<table border=\"1\" class=\"dataframe\">\n",
       "  <thead>\n",
       "    <tr style=\"text-align: right;\">\n",
       "      <th></th>\n",
       "      <th>date</th>\n",
       "      <th>score</th>\n",
       "      <th>amount_data</th>\n",
       "    </tr>\n",
       "  </thead>\n",
       "  <tbody>\n",
       "    <tr>\n",
       "      <th>0</th>\n",
       "      <td>2015-01-28</td>\n",
       "      <td>0.013998</td>\n",
       "      <td>513791.0</td>\n",
       "    </tr>\n",
       "    <tr>\n",
       "      <th>1</th>\n",
       "      <td>2015-02-28</td>\n",
       "      <td>0.014096</td>\n",
       "      <td>516199.0</td>\n",
       "    </tr>\n",
       "    <tr>\n",
       "      <th>2</th>\n",
       "      <td>2015-03-28</td>\n",
       "      <td>0.014225</td>\n",
       "      <td>518439.0</td>\n",
       "    </tr>\n",
       "    <tr>\n",
       "      <th>3</th>\n",
       "      <td>2015-04-28</td>\n",
       "      <td>0.014149</td>\n",
       "      <td>520048.0</td>\n",
       "    </tr>\n",
       "    <tr>\n",
       "      <th>4</th>\n",
       "      <td>2015-05-28</td>\n",
       "      <td>0.014164</td>\n",
       "      <td>522000.0</td>\n",
       "    </tr>\n",
       "  </tbody>\n",
       "</table>\n",
       "</div>"
      ],
      "text/plain": [
       "         date     score  amount_data\n",
       "0  2015-01-28  0.013998     513791.0\n",
       "1  2015-02-28  0.014096     516199.0\n",
       "2  2015-03-28  0.014225     518439.0\n",
       "3  2015-04-28  0.014149     520048.0\n",
       "4  2015-05-28  0.014164     522000.0"
      ]
     },
     "execution_count": 6,
     "metadata": {},
     "output_type": "execute_result"
    }
   ],
   "source": [
    "res_exp6.head()"
   ]
  },
  {
   "cell_type": "code",
   "execution_count": 7,
   "metadata": {
    "collapsed": false
   },
   "outputs": [],
   "source": [
    "validation = pd.read_csv('utils/max_scoresv2.csv')\n",
    "max_score = validation[validation['fecha'] == '2016-05-28'].iloc[:, -1].values"
   ]
  },
  {
   "cell_type": "code",
   "execution_count": 8,
   "metadata": {
    "collapsed": true
   },
   "outputs": [],
   "source": [
    "dates_exp6 = res_exp6['date'].values\n",
    "scores_exp6 = res_exp6['score'].values"
   ]
  },
  {
   "cell_type": "code",
   "execution_count": 58,
   "metadata": {
    "collapsed": false
   },
   "outputs": [
    {
     "data": {
      "text/plain": [
       "<matplotlib.legend.Legend at 0x7f286ce3a5c0>"
      ]
     },
     "execution_count": 58,
     "metadata": {},
     "output_type": "execute_result"
    },
    {
     "data": {
      "image/png": "[encoded data removed]",
      "text/plain": [
       "<matplotlib.figure.Figure at 0x7f286cb81668>"
      ]
     },
     "metadata": {},
     "output_type": "display_data"
    }
   ],
   "source": [
    "plt.figure(figsize=(15, 4))\n",
    "plt.plot(scores_exp6, '-o')\n",
    "plt.axhline(max_score[0], color='r', )\n",
    "plt.ylim(scores_exp6.min() - 0.001, max_score[0]+0.001)\n",
    "plt.xticks(range(len(dates_exp6)), dates_exp6, rotation=90)\n",
    "#for i, val in enumerate(amount_data):\n",
    "#    plt.text(i, score[i]+0.001, val, ha='left')\n",
    "plt.title('Entrenamiento con meses individuales\\n', size=13)\n",
    "plt.ylabel('Score', size=14)\n",
    "plt.legend(['Meses individuales', 'Score ideal ' + '{:.5f}'.format(max_score[0])], loc=0)"
   ]
  },
  {
   "cell_type": "markdown",
   "metadata": {
    "collapsed": true
   },
   "source": [
    "### Experimento 7\n",
    "Entrenamiento progresivo acumulado.\n",
    "* **Test:** Mayo 2016\n",
    "* **Env:** local"
   ]
  },
  {
   "cell_type": "code",
   "execution_count": null,
   "metadata": {
    "collapsed": true
   },
   "outputs": [],
   "source": [
    "dates = df.fecha_dato.unique()\n",
    "date_test = dates[-1]\n",
    "\n",
    "results = pd.DataFrame(columns=['date_start', 'date_end', 'score', 'amount_data'])\n",
    "\n",
    "for i in range(1, len(dates[:-1])+1):\n",
    "    date_range = dates[:i]\n",
    "    df_x = df[df['fecha_dato'].isin(date_range)]\n",
    "    df_y = df_targets.loc[df_x.index]\n",
    "    \n",
    "    x_train = df_x.drop(['fecha_dato', 'fecha_alta'], axis=1).as_matrix()\n",
    "    y_train = df_y.as_matrix()\n",
    "    \n",
    "    df_x_test = df[df['fecha_dato'] == date_test].drop(['fecha_dato', 'fecha_alta'], axis=1)\n",
    "    df_y_test = df_targets.loc[df_x_test.index]\n",
    "    \n",
    "    x_test = df_x_test.as_matrix()\n",
    "    y_test = df_y_test.as_matrix()\n",
    "    \n",
    "    model = local.model(x_train, y_train, RandomForestClassifier(n_jobs=4))\n",
    "    probs, preds = local.calculatePredsProbs(x_test, model)\n",
    "    \n",
    "    df_prev = df[df['fecha_dato'] == dates[-2]]\n",
    "    df_y = df_targets.loc[df_x.index]\n",
    "    \n",
    "    predicted, actual = local.processPredictions(probs, preds, df_x, df_x_test, df_y, df_y_test)\n",
    "    \n",
    "    score = local.mapk(actual, predicted, 7)\n",
    "    \n",
    "    results.loc[i] = [date_range[0], date_range[-1], score, x_train.shape[0]]"
   ]
  },
  {
   "cell_type": "markdown",
   "metadata": {},
   "source": [
    "#### Results"
   ]
  },
  {
   "cell_type": "code",
   "execution_count": 53,
   "metadata": {
    "collapsed": false
   },
   "outputs": [
    {
     "data": {
      "text/html": [
       "<div>\n",
       "<table border=\"1\" class=\"dataframe\">\n",
       "  <thead>\n",
       "    <tr style=\"text-align: right;\">\n",
       "      <th></th>\n",
       "      <th>date_start</th>\n",
       "      <th>date_end</th>\n",
       "      <th>score</th>\n",
       "      <th>amount_data</th>\n",
       "    </tr>\n",
       "  </thead>\n",
       "  <tbody>\n",
       "    <tr>\n",
       "      <th>0</th>\n",
       "      <td>2015-01-28</td>\n",
       "      <td>2015-01-28</td>\n",
       "      <td>0.014118</td>\n",
       "      <td>513791.0</td>\n",
       "    </tr>\n",
       "    <tr>\n",
       "      <th>1</th>\n",
       "      <td>2015-01-28</td>\n",
       "      <td>2015-02-28</td>\n",
       "      <td>0.014377</td>\n",
       "      <td>1029990.0</td>\n",
       "    </tr>\n",
       "    <tr>\n",
       "      <th>2</th>\n",
       "      <td>2015-01-28</td>\n",
       "      <td>2015-03-28</td>\n",
       "      <td>0.014463</td>\n",
       "      <td>1548429.0</td>\n",
       "    </tr>\n",
       "    <tr>\n",
       "      <th>3</th>\n",
       "      <td>2015-01-28</td>\n",
       "      <td>2015-04-28</td>\n",
       "      <td>0.014777</td>\n",
       "      <td>2068477.0</td>\n",
       "    </tr>\n",
       "    <tr>\n",
       "      <th>4</th>\n",
       "      <td>2015-01-28</td>\n",
       "      <td>2015-05-28</td>\n",
       "      <td>0.014629</td>\n",
       "      <td>2590477.0</td>\n",
       "    </tr>\n",
       "  </tbody>\n",
       "</table>\n",
       "</div>"
      ],
      "text/plain": [
       "   date_start    date_end     score  amount_data\n",
       "0  2015-01-28  2015-01-28  0.014118     513791.0\n",
       "1  2015-01-28  2015-02-28  0.014377    1029990.0\n",
       "2  2015-01-28  2015-03-28  0.014463    1548429.0\n",
       "3  2015-01-28  2015-04-28  0.014777    2068477.0\n",
       "4  2015-01-28  2015-05-28  0.014629    2590477.0"
      ]
     },
     "execution_count": 53,
     "metadata": {},
     "output_type": "execute_result"
    }
   ],
   "source": [
    "res_exp7 = pd.read_csv('scripts/results/experiment7.csv')\n",
    "res_exp7.head()"
   ]
  },
  {
   "cell_type": "code",
   "execution_count": 54,
   "metadata": {
    "collapsed": true
   },
   "outputs": [],
   "source": [
    "scores_exp7 = res_exp7['score'].values\n",
    "dates_exp7 = res_exp7['date_end'].values"
   ]
  },
  {
   "cell_type": "code",
   "execution_count": 79,
   "metadata": {
    "collapsed": false
   },
   "outputs": [
    {
     "data": {
      "text/plain": [
       "<matplotlib.legend.Legend at 0x7f2868b07978>"
      ]
     },
     "execution_count": 79,
     "metadata": {},
     "output_type": "execute_result"
    },
    {
     "data": {
      "image/png": "[encoded data removed]",
      "text/plain": [
       "<matplotlib.figure.Figure at 0x7f2868f3e518>"
      ]
     },
     "metadata": {},
     "output_type": "display_data"
    }
   ],
   "source": [
    "plt.figure(figsize=(16, 4))\n",
    "plt.plot(scores_exp7, '-o')\n",
    "plt.axhline(max_score[0], color='r', )\n",
    "plt.ylim(scores_exp7.min() - 0.001, max_score[0]+0.001)\n",
    "plt.xticks(range(len(dates_exp6)), dates_exp7, rotation=90)\n",
    "plt.title('Entrenamiento progresivo con meses acumulados')\n",
    "plt.legend(['Meses individuales', 'Score ideal ' + '{:.5f}'.format(max_score[0])], loc=0)"
   ]
  },
  {
   "cell_type": "markdown",
   "metadata": {},
   "source": [
    "### Comparación entre los dos experimentos anteriores "
   ]
  },
  {
   "cell_type": "code",
   "execution_count": 75,
   "metadata": {
    "collapsed": false
   },
   "outputs": [],
   "source": [
    "max_index6 = list(reversed(scores_exp6.argsort()))[0]\n",
    "max_score6 = scores_exp6[max_index6]\n",
    "max_index7 = list(reversed(scores_exp7.argsort()))[0]\n",
    "max_score7 = scores_exp7[max_index7]"
   ]
  },
  {
   "cell_type": "code",
   "execution_count": 78,
   "metadata": {
    "collapsed": false,
    "scrolled": true
   },
   "outputs": [
    {
     "data": {
      "text/plain": [
       "[<matplotlib.lines.Line2D at 0x7f2868be84e0>,\n",
       " <matplotlib.lines.Line2D at 0x7f2868bf0c88>]"
      ]
     },
     "execution_count": 78,
     "metadata": {},
     "output_type": "execute_result"
    },
    {
     "data": {
      "image/png": "[encoded data removed]",
      "text/plain": [
       "<matplotlib.figure.Figure at 0x7f2868c6e240>"
      ]
     },
     "metadata": {},
     "output_type": "display_data"
    }
   ],
   "source": [
    "plt.figure(figsize=(15, 4))\n",
    "plt.plot(scores_exp6, '-o', scores_exp7, '-o')\n",
    "plt.axhline(max_score[0], color='r')\n",
    "plt.xticks(range(len(dates_exp7)), dates_exp7, rotation=90)\n",
    "plt.ylim(np.min(scores_exp7.min(), scores_exp6.min()) - 0.001, max_score[0] + 0.001)\n",
    "plt.title('Entrenamiento con meses individuales y con los acumulados')\n",
    "plt.legend(['Meses individuales', 'Meses acumulados', 'Score ideal ' + '{:.5f}'.format(max_score[0])], loc=0)\n",
    "plt.plot(max_index6, max_score6, 'o', max_index7, max_score7, 'or')"
   ]
  },
  {
   "cell_type": "code",
   "execution_count": 83,
   "metadata": {
    "collapsed": false
   },
   "outputs": [
    {
     "name": "stdout",
     "output_type": "stream",
     "text": [
      "Máximos scores logrados\n",
      "Score de experimento 6: 0.01593         Equivale al 57.34% del score ideal\n",
      "Score de experimento 7: 0.01687         Equivale al 60.73% del score ideal\n"
     ]
    }
   ],
   "source": [
    "print('Máximos scores logrados')\n",
    "print('Score de experimento 6: {:<15.5f} Equivale al {:.2f}% del score ideal'.format(max_score6,\n",
    "                                                                                     (max_score6/max_score[0])*100))\n",
    "print('Score de experimento 7: {:<15.5f} Equivale al {:.2f}% del score ideal'.format(max_score7,\n",
    "                                                                                     (max_score7/max_score[0])*100))"
   ]
  },
  {
   "cell_type": "code",
   "execution_count": 84,
   "metadata": {
    "collapsed": false
   },
   "outputs": [
    {
     "data": {
      "text/html": [
       "<div>\n",
       "<table border=\"1\" class=\"dataframe\">\n",
       "  <thead>\n",
       "    <tr style=\"text-align: right;\">\n",
       "      <th></th>\n",
       "      <th>date_start</th>\n",
       "      <th>date_end</th>\n",
       "      <th>score</th>\n",
       "      <th>amount_data</th>\n",
       "    </tr>\n",
       "  </thead>\n",
       "  <tbody>\n",
       "    <tr>\n",
       "      <th>11</th>\n",
       "      <td>2015-01-28</td>\n",
       "      <td>2015-12-28</td>\n",
       "      <td>0.015120</td>\n",
       "      <td>7286293.0</td>\n",
       "    </tr>\n",
       "    <tr>\n",
       "      <th>12</th>\n",
       "      <td>2015-01-28</td>\n",
       "      <td>2016-01-28</td>\n",
       "      <td>0.015506</td>\n",
       "      <td>7989676.0</td>\n",
       "    </tr>\n",
       "    <tr>\n",
       "      <th>13</th>\n",
       "      <td>2015-01-28</td>\n",
       "      <td>2016-02-28</td>\n",
       "      <td>0.016674</td>\n",
       "      <td>8692206.0</td>\n",
       "    </tr>\n",
       "    <tr>\n",
       "      <th>14</th>\n",
       "      <td>2015-01-28</td>\n",
       "      <td>2016-03-28</td>\n",
       "      <td>0.016873</td>\n",
       "      <td>9393926.0</td>\n",
       "    </tr>\n",
       "    <tr>\n",
       "      <th>15</th>\n",
       "      <td>2015-01-28</td>\n",
       "      <td>2016-04-28</td>\n",
       "      <td>0.013334</td>\n",
       "      <td>10094948.0</td>\n",
       "    </tr>\n",
       "  </tbody>\n",
       "</table>\n",
       "</div>"
      ],
      "text/plain": [
       "    date_start    date_end     score  amount_data\n",
       "11  2015-01-28  2015-12-28  0.015120    7286293.0\n",
       "12  2015-01-28  2016-01-28  0.015506    7989676.0\n",
       "13  2015-01-28  2016-02-28  0.016674    8692206.0\n",
       "14  2015-01-28  2016-03-28  0.016873    9393926.0\n",
       "15  2015-01-28  2016-04-28  0.013334   10094948.0"
      ]
     },
     "execution_count": 84,
     "metadata": {},
     "output_type": "execute_result"
    }
   ],
   "source": [
    "res_exp7.tail()"
   ]
  },
  {
   "cell_type": "markdown",
   "metadata": {},
   "source": [
    "### Experimento 8\n",
    "Entrenamiento con sólo el mes de Abril 2016\n",
    "* **Test:** Junio 2016\n",
    "* **Env:** submit"
   ]
  },
  {
   "cell_type": "code",
   "execution_count": null,
   "metadata": {
    "collapsed": false
   },
   "outputs": [
    {
     "name": "stdout",
     "output_type": "stream",
     "text": [
      "CPU times: user 5min 42s, sys: 15.9 s, total: 5min 58s\n",
      "Wall time: 2min 51s\n"
     ]
    }
   ],
   "source": [
    "%%time\n",
    "date = dates[-3]\n",
    "df_x = df[df['fecha_dato'] == date]\n",
    "df_y = df_targets.loc[df_x.index]\n",
    "\n",
    "x_train = df_x.drop(['fecha_dato', 'fecha_alta'], axis=1).as_matrix()\n",
    "y_train = df_y.as_matrix()\n",
    "\n",
    "df_x_test = df_test.drop(['fecha_dato', 'fecha_alta'], axis=1)\n",
    "\n",
    "x_test = df_x_test.as_matrix()\n",
    "\n",
    "model = local.model(x_train, y_train, RandomForestClassifier(n_jobs=4))\n",
    "probs, preds = local.calculatePredsProbs(x_test, model)\n",
    "\n",
    "df_prev = df[df['fecha_dato'] == dates[-2]]\n",
    "\n",
    "df_subm = local.processPredictions(probs, preds, df_prev, df_x_test, df_y, env='submit')"
   ]
  },
  {
   "cell_type": "markdown",
   "metadata": {},
   "source": [
    "## EXPERIMENTO APLAZADO\n",
    "### Experimento 9 \n",
    "Entrenamiento con Mayo 2016 agregando los productos que tiene el cliente, ese mes, como *features*, además sólo irán los clientes antiguos"
   ]
  },
  {
   "cell_type": "code",
   "execution_count": 130,
   "metadata": {
    "collapsed": true
   },
   "outputs": [],
   "source": [
    "df_train = df[df['fecha_dato'] == dates[-1]]\n",
    "\n",
    "ncodpers_both_months = list(set(df_train.loc[:, 'ncodpers'].values) & set(df_test.loc[:, 'ncodpers'].values))"
   ]
  },
  {
   "cell_type": "code",
   "execution_count": 131,
   "metadata": {
    "collapsed": false
   },
   "outputs": [],
   "source": [
    "index_prods = df_train[df_train['ncodpers'].isin(ncodpers_both_months)].sort_values(['ncodpers']).index\n",
    "prods = df_train.loc[index_prods, ['ncodpers']].join(df_targets.loc[index_prods, :])\n",
    "df_train = df_train[df_train['ncodpers'].isin(ncodpers_both_months)].sort_values(['ncodpers'])"
   ]
  },
  {
   "cell_type": "code",
   "execution_count": 132,
   "metadata": {
    "collapsed": false
   },
   "outputs": [
    {
     "data": {
      "text/html": [
       "<div>\n",
       "<table border=\"1\" class=\"dataframe\">\n",
       "  <thead>\n",
       "    <tr style=\"text-align: right;\">\n",
       "      <th></th>\n",
       "      <th>fecha_dato</th>\n",
       "      <th>fecha_dato_year</th>\n",
       "      <th>fecha_dato_month</th>\n",
       "      <th>fecha_dato_day</th>\n",
       "      <th>ncodpers</th>\n",
       "      <th>ind_empleado</th>\n",
       "      <th>pais_residencia</th>\n",
       "      <th>sexo</th>\n",
       "      <th>age</th>\n",
       "      <th>fecha_alta</th>\n",
       "      <th>...</th>\n",
       "      <th>ind_hip_fin_ult1</th>\n",
       "      <th>ind_plan_fin_ult1</th>\n",
       "      <th>ind_pres_fin_ult1</th>\n",
       "      <th>ind_reca_fin_ult1</th>\n",
       "      <th>ind_tjcr_fin_ult1</th>\n",
       "      <th>ind_valo_fin_ult1</th>\n",
       "      <th>ind_viv_fin_ult1</th>\n",
       "      <th>ind_nomina_ult1</th>\n",
       "      <th>ind_nom_pens_ult1</th>\n",
       "      <th>ind_recibo_ult1</th>\n",
       "    </tr>\n",
       "  </thead>\n",
       "  <tbody>\n",
       "    <tr>\n",
       "      <th>10351236</th>\n",
       "      <td>2016-05-28</td>\n",
       "      <td>2016</td>\n",
       "      <td>2</td>\n",
       "      <td>28</td>\n",
       "      <td>15889</td>\n",
       "      <td>3</td>\n",
       "      <td>1</td>\n",
       "      <td>1</td>\n",
       "      <td>56</td>\n",
       "      <td>1995-01-16</td>\n",
       "      <td>...</td>\n",
       "      <td>0</td>\n",
       "      <td>0</td>\n",
       "      <td>0</td>\n",
       "      <td>0</td>\n",
       "      <td>1</td>\n",
       "      <td>1</td>\n",
       "      <td>0</td>\n",
       "      <td>0.0</td>\n",
       "      <td>0.0</td>\n",
       "      <td>0</td>\n",
       "    </tr>\n",
       "    <tr>\n",
       "      <th>10351235</th>\n",
       "      <td>2016-05-28</td>\n",
       "      <td>2016</td>\n",
       "      <td>2</td>\n",
       "      <td>28</td>\n",
       "      <td>15890</td>\n",
       "      <td>1</td>\n",
       "      <td>1</td>\n",
       "      <td>1</td>\n",
       "      <td>63</td>\n",
       "      <td>1995-01-16</td>\n",
       "      <td>...</td>\n",
       "      <td>0</td>\n",
       "      <td>1</td>\n",
       "      <td>0</td>\n",
       "      <td>0</td>\n",
       "      <td>1</td>\n",
       "      <td>0</td>\n",
       "      <td>0</td>\n",
       "      <td>1.0</td>\n",
       "      <td>1.0</td>\n",
       "      <td>1</td>\n",
       "    </tr>\n",
       "    <tr>\n",
       "      <th>10351234</th>\n",
       "      <td>2016-05-28</td>\n",
       "      <td>2016</td>\n",
       "      <td>2</td>\n",
       "      <td>28</td>\n",
       "      <td>15892</td>\n",
       "      <td>3</td>\n",
       "      <td>1</td>\n",
       "      <td>1</td>\n",
       "      <td>62</td>\n",
       "      <td>1995-01-16</td>\n",
       "      <td>...</td>\n",
       "      <td>0</td>\n",
       "      <td>0</td>\n",
       "      <td>0</td>\n",
       "      <td>1</td>\n",
       "      <td>1</td>\n",
       "      <td>1</td>\n",
       "      <td>0</td>\n",
       "      <td>0.0</td>\n",
       "      <td>0.0</td>\n",
       "      <td>1</td>\n",
       "    </tr>\n",
       "    <tr>\n",
       "      <th>10351233</th>\n",
       "      <td>2016-05-28</td>\n",
       "      <td>2016</td>\n",
       "      <td>2</td>\n",
       "      <td>28</td>\n",
       "      <td>15893</td>\n",
       "      <td>1</td>\n",
       "      <td>1</td>\n",
       "      <td>1</td>\n",
       "      <td>63</td>\n",
       "      <td>1997-10-03</td>\n",
       "      <td>...</td>\n",
       "      <td>0</td>\n",
       "      <td>0</td>\n",
       "      <td>0</td>\n",
       "      <td>0</td>\n",
       "      <td>0</td>\n",
       "      <td>1</td>\n",
       "      <td>0</td>\n",
       "      <td>0.0</td>\n",
       "      <td>0.0</td>\n",
       "      <td>0</td>\n",
       "    </tr>\n",
       "    <tr>\n",
       "      <th>10351232</th>\n",
       "      <td>2016-05-28</td>\n",
       "      <td>2016</td>\n",
       "      <td>2</td>\n",
       "      <td>28</td>\n",
       "      <td>15894</td>\n",
       "      <td>1</td>\n",
       "      <td>1</td>\n",
       "      <td>1</td>\n",
       "      <td>60</td>\n",
       "      <td>1995-01-16</td>\n",
       "      <td>...</td>\n",
       "      <td>0</td>\n",
       "      <td>0</td>\n",
       "      <td>0</td>\n",
       "      <td>1</td>\n",
       "      <td>1</td>\n",
       "      <td>1</td>\n",
       "      <td>0</td>\n",
       "      <td>1.0</td>\n",
       "      <td>1.0</td>\n",
       "      <td>1</td>\n",
       "    </tr>\n",
       "  </tbody>\n",
       "</table>\n",
       "<p>5 rows × 52 columns</p>\n",
       "</div>"
      ],
      "text/plain": [
       "          fecha_dato  fecha_dato_year  fecha_dato_month  fecha_dato_day  \\\n",
       "10351236  2016-05-28             2016                 2              28   \n",
       "10351235  2016-05-28             2016                 2              28   \n",
       "10351234  2016-05-28             2016                 2              28   \n",
       "10351233  2016-05-28             2016                 2              28   \n",
       "10351232  2016-05-28             2016                 2              28   \n",
       "\n",
       "          ncodpers  ind_empleado  pais_residencia  sexo  age  fecha_alta  \\\n",
       "10351236     15889             3                1     1   56  1995-01-16   \n",
       "10351235     15890             1                1     1   63  1995-01-16   \n",
       "10351234     15892             3                1     1   62  1995-01-16   \n",
       "10351233     15893             1                1     1   63  1997-10-03   \n",
       "10351232     15894             1                1     1   60  1995-01-16   \n",
       "\n",
       "               ...         ind_hip_fin_ult1  ind_plan_fin_ult1  \\\n",
       "10351236       ...                        0                  0   \n",
       "10351235       ...                        0                  1   \n",
       "10351234       ...                        0                  0   \n",
       "10351233       ...                        0                  0   \n",
       "10351232       ...                        0                  0   \n",
       "\n",
       "          ind_pres_fin_ult1  ind_reca_fin_ult1  ind_tjcr_fin_ult1  \\\n",
       "10351236                  0                  0                  1   \n",
       "10351235                  0                  0                  1   \n",
       "10351234                  0                  1                  1   \n",
       "10351233                  0                  0                  0   \n",
       "10351232                  0                  1                  1   \n",
       "\n",
       "          ind_valo_fin_ult1  ind_viv_fin_ult1  ind_nomina_ult1  \\\n",
       "10351236                  1                 0              0.0   \n",
       "10351235                  0                 0              1.0   \n",
       "10351234                  1                 0              0.0   \n",
       "10351233                  1                 0              0.0   \n",
       "10351232                  1                 0              1.0   \n",
       "\n",
       "          ind_nom_pens_ult1  ind_recibo_ult1  \n",
       "10351236                0.0                0  \n",
       "10351235                1.0                1  \n",
       "10351234                0.0                1  \n",
       "10351233                0.0                0  \n",
       "10351232                1.0                1  \n",
       "\n",
       "[5 rows x 52 columns]"
      ]
     },
     "execution_count": 132,
     "metadata": {},
     "output_type": "execute_result"
    }
   ],
   "source": [
    "df_train = df_train.merge(prods, on='ncodpers', how='outer', left_index=True)\n",
    "df_train.head()"
   ]
  },
  {
   "cell_type": "code",
   "execution_count": 136,
   "metadata": {
    "collapsed": false
   },
   "outputs": [
    {
     "ename": "ValueError",
     "evalue": "Number of features of the model must  match the input. Model n_features is 50 and  input n_features is 26 ",
     "output_type": "error",
     "traceback": [
      "\u001b[1;31m---------------------------------------------------------------------------\u001b[0m",
      "\u001b[1;31mValueError\u001b[0m                                Traceback (most recent call last)",
      "\u001b[1;32m<ipython-input-136-190927eb73f4>\u001b[0m in \u001b[0;36m<module>\u001b[1;34m()\u001b[0m\n\u001b[1;32m----> 1\u001b[1;33m \u001b[0mget_ipython\u001b[0m\u001b[1;33m(\u001b[0m\u001b[1;33m)\u001b[0m\u001b[1;33m.\u001b[0m\u001b[0mrun_cell_magic\u001b[0m\u001b[1;33m(\u001b[0m\u001b[1;34m'time'\u001b[0m\u001b[1;33m,\u001b[0m \u001b[1;34m''\u001b[0m\u001b[1;33m,\u001b[0m \u001b[1;34m\"df_x = df_train\\ndf_y = df_targets.loc[df_x.index]\\n\\nx_train = df_x.drop(['fecha_dato', 'fecha_alta'], axis=1).as_matrix()\\ny_train = df_y.as_matrix()\\n\\ndf_x_test = df_test.drop(['fecha_dato', 'fecha_alta'], axis=1)\\nmodel = local.model(x_train, y_train, RandomForestClassifier(n_jobs=4))\\n\\nx_test = df_x_test.as_matrix()\\nprobs, preds = local.calculatePredsProbs(x_test, model)\\n\\ndf_prev = df[df['fecha_dato'] == dates[-1]]\\ndf_subm = local.processPredictions(probs, preds, df_prev, df_x_test, df_y, env='submit')\"\u001b[0m\u001b[1;33m)\u001b[0m\u001b[1;33m\u001b[0m\u001b[0m\n\u001b[0m",
      "\u001b[1;32m/usr/local/anaconda3/lib/python3.5/site-packages/IPython/core/interactiveshell.py\u001b[0m in \u001b[0;36mrun_cell_magic\u001b[1;34m(self, magic_name, line, cell)\u001b[0m\n\u001b[0;32m   2118\u001b[0m             \u001b[0mmagic_arg_s\u001b[0m \u001b[1;33m=\u001b[0m \u001b[0mself\u001b[0m\u001b[1;33m.\u001b[0m\u001b[0mvar_expand\u001b[0m\u001b[1;33m(\u001b[0m\u001b[0mline\u001b[0m\u001b[1;33m,\u001b[0m \u001b[0mstack_depth\u001b[0m\u001b[1;33m)\u001b[0m\u001b[1;33m\u001b[0m\u001b[0m\n\u001b[0;32m   2119\u001b[0m             \u001b[1;32mwith\u001b[0m \u001b[0mself\u001b[0m\u001b[1;33m.\u001b[0m\u001b[0mbuiltin_trap\u001b[0m\u001b[1;33m:\u001b[0m\u001b[1;33m\u001b[0m\u001b[0m\n\u001b[1;32m-> 2120\u001b[1;33m                 \u001b[0mresult\u001b[0m \u001b[1;33m=\u001b[0m \u001b[0mfn\u001b[0m\u001b[1;33m(\u001b[0m\u001b[0mmagic_arg_s\u001b[0m\u001b[1;33m,\u001b[0m \u001b[0mcell\u001b[0m\u001b[1;33m)\u001b[0m\u001b[1;33m\u001b[0m\u001b[0m\n\u001b[0m\u001b[0;32m   2121\u001b[0m             \u001b[1;32mreturn\u001b[0m \u001b[0mresult\u001b[0m\u001b[1;33m\u001b[0m\u001b[0m\n\u001b[0;32m   2122\u001b[0m \u001b[1;33m\u001b[0m\u001b[0m\n",
      "\u001b[1;32m<decorator-gen-60>\u001b[0m in \u001b[0;36mtime\u001b[1;34m(self, line, cell, local_ns)\u001b[0m\n",
      "\u001b[1;32m/usr/local/anaconda3/lib/python3.5/site-packages/IPython/core/magic.py\u001b[0m in \u001b[0;36m<lambda>\u001b[1;34m(f, *a, **k)\u001b[0m\n\u001b[0;32m    191\u001b[0m     \u001b[1;31m# but it's overkill for just that one bit of state.\u001b[0m\u001b[1;33m\u001b[0m\u001b[1;33m\u001b[0m\u001b[0m\n\u001b[0;32m    192\u001b[0m     \u001b[1;32mdef\u001b[0m \u001b[0mmagic_deco\u001b[0m\u001b[1;33m(\u001b[0m\u001b[0marg\u001b[0m\u001b[1;33m)\u001b[0m\u001b[1;33m:\u001b[0m\u001b[1;33m\u001b[0m\u001b[0m\n\u001b[1;32m--> 193\u001b[1;33m         \u001b[0mcall\u001b[0m \u001b[1;33m=\u001b[0m \u001b[1;32mlambda\u001b[0m \u001b[0mf\u001b[0m\u001b[1;33m,\u001b[0m \u001b[1;33m*\u001b[0m\u001b[0ma\u001b[0m\u001b[1;33m,\u001b[0m \u001b[1;33m**\u001b[0m\u001b[0mk\u001b[0m\u001b[1;33m:\u001b[0m \u001b[0mf\u001b[0m\u001b[1;33m(\u001b[0m\u001b[1;33m*\u001b[0m\u001b[0ma\u001b[0m\u001b[1;33m,\u001b[0m \u001b[1;33m**\u001b[0m\u001b[0mk\u001b[0m\u001b[1;33m)\u001b[0m\u001b[1;33m\u001b[0m\u001b[0m\n\u001b[0m\u001b[0;32m    194\u001b[0m \u001b[1;33m\u001b[0m\u001b[0m\n\u001b[0;32m    195\u001b[0m         \u001b[1;32mif\u001b[0m \u001b[0mcallable\u001b[0m\u001b[1;33m(\u001b[0m\u001b[0marg\u001b[0m\u001b[1;33m)\u001b[0m\u001b[1;33m:\u001b[0m\u001b[1;33m\u001b[0m\u001b[0m\n",
      "\u001b[1;32m/usr/local/anaconda3/lib/python3.5/site-packages/IPython/core/magics/execution.py\u001b[0m in \u001b[0;36mtime\u001b[1;34m(self, line, cell, local_ns)\u001b[0m\n\u001b[0;32m   1175\u001b[0m         \u001b[1;32melse\u001b[0m\u001b[1;33m:\u001b[0m\u001b[1;33m\u001b[0m\u001b[0m\n\u001b[0;32m   1176\u001b[0m             \u001b[0mst\u001b[0m \u001b[1;33m=\u001b[0m \u001b[0mclock2\u001b[0m\u001b[1;33m(\u001b[0m\u001b[1;33m)\u001b[0m\u001b[1;33m\u001b[0m\u001b[0m\n\u001b[1;32m-> 1177\u001b[1;33m             \u001b[0mexec\u001b[0m\u001b[1;33m(\u001b[0m\u001b[0mcode\u001b[0m\u001b[1;33m,\u001b[0m \u001b[0mglob\u001b[0m\u001b[1;33m,\u001b[0m \u001b[0mlocal_ns\u001b[0m\u001b[1;33m)\u001b[0m\u001b[1;33m\u001b[0m\u001b[0m\n\u001b[0m\u001b[0;32m   1178\u001b[0m             \u001b[0mend\u001b[0m \u001b[1;33m=\u001b[0m \u001b[0mclock2\u001b[0m\u001b[1;33m(\u001b[0m\u001b[1;33m)\u001b[0m\u001b[1;33m\u001b[0m\u001b[0m\n\u001b[0;32m   1179\u001b[0m             \u001b[0mout\u001b[0m \u001b[1;33m=\u001b[0m \u001b[1;32mNone\u001b[0m\u001b[1;33m\u001b[0m\u001b[0m\n",
      "\u001b[1;32m<timed exec>\u001b[0m in \u001b[0;36m<module>\u001b[1;34m()\u001b[0m\n",
      "\u001b[1;32m/home/sergioml/degree_project/scripts/local_environment.py\u001b[0m in \u001b[0;36mcalculatePredsProbs\u001b[1;34m(x_test, clf)\u001b[0m\n\u001b[0;32m     40\u001b[0m \u001b[1;33m\u001b[0m\u001b[0m\n\u001b[0;32m     41\u001b[0m     \"\"\"\n\u001b[1;32m---> 42\u001b[1;33m     \u001b[0mpreds\u001b[0m \u001b[1;33m=\u001b[0m \u001b[0mclf\u001b[0m\u001b[1;33m.\u001b[0m\u001b[0mpredict\u001b[0m\u001b[1;33m(\u001b[0m\u001b[0mx_test\u001b[0m\u001b[1;33m)\u001b[0m\u001b[1;33m\u001b[0m\u001b[0m\n\u001b[0m\u001b[0;32m     43\u001b[0m \u001b[1;33m\u001b[0m\u001b[0m\n\u001b[0;32m     44\u001b[0m     \u001b[0mprobs\u001b[0m \u001b[1;33m=\u001b[0m \u001b[0mclf\u001b[0m\u001b[1;33m.\u001b[0m\u001b[0mpredict_proba\u001b[0m\u001b[1;33m(\u001b[0m\u001b[0mx_test\u001b[0m\u001b[1;33m)\u001b[0m\u001b[1;33m\u001b[0m\u001b[0m\n",
      "\u001b[1;32m/usr/local/anaconda3/lib/python3.5/site-packages/sklearn/ensemble/forest.py\u001b[0m in \u001b[0;36mpredict\u001b[1;34m(self, X)\u001b[0m\n\u001b[0;32m    496\u001b[0m             \u001b[0mThe\u001b[0m \u001b[0mpredicted\u001b[0m \u001b[0mclasses\u001b[0m\u001b[1;33m.\u001b[0m\u001b[1;33m\u001b[0m\u001b[0m\n\u001b[0;32m    497\u001b[0m         \"\"\"\n\u001b[1;32m--> 498\u001b[1;33m         \u001b[0mproba\u001b[0m \u001b[1;33m=\u001b[0m \u001b[0mself\u001b[0m\u001b[1;33m.\u001b[0m\u001b[0mpredict_proba\u001b[0m\u001b[1;33m(\u001b[0m\u001b[0mX\u001b[0m\u001b[1;33m)\u001b[0m\u001b[1;33m\u001b[0m\u001b[0m\n\u001b[0m\u001b[0;32m    499\u001b[0m \u001b[1;33m\u001b[0m\u001b[0m\n\u001b[0;32m    500\u001b[0m         \u001b[1;32mif\u001b[0m \u001b[0mself\u001b[0m\u001b[1;33m.\u001b[0m\u001b[0mn_outputs_\u001b[0m \u001b[1;33m==\u001b[0m \u001b[1;36m1\u001b[0m\u001b[1;33m:\u001b[0m\u001b[1;33m\u001b[0m\u001b[0m\n",
      "\u001b[1;32m/usr/local/anaconda3/lib/python3.5/site-packages/sklearn/ensemble/forest.py\u001b[0m in \u001b[0;36mpredict_proba\u001b[1;34m(self, X)\u001b[0m\n\u001b[0;32m    535\u001b[0m         \"\"\"\n\u001b[0;32m    536\u001b[0m         \u001b[1;31m# Check data\u001b[0m\u001b[1;33m\u001b[0m\u001b[1;33m\u001b[0m\u001b[0m\n\u001b[1;32m--> 537\u001b[1;33m         \u001b[0mX\u001b[0m \u001b[1;33m=\u001b[0m \u001b[0mself\u001b[0m\u001b[1;33m.\u001b[0m\u001b[0m_validate_X_predict\u001b[0m\u001b[1;33m(\u001b[0m\u001b[0mX\u001b[0m\u001b[1;33m)\u001b[0m\u001b[1;33m\u001b[0m\u001b[0m\n\u001b[0m\u001b[0;32m    538\u001b[0m \u001b[1;33m\u001b[0m\u001b[0m\n\u001b[0;32m    539\u001b[0m         \u001b[1;31m# Assign chunk of trees to jobs\u001b[0m\u001b[1;33m\u001b[0m\u001b[1;33m\u001b[0m\u001b[0m\n",
      "\u001b[1;32m/usr/local/anaconda3/lib/python3.5/site-packages/sklearn/ensemble/forest.py\u001b[0m in \u001b[0;36m_validate_X_predict\u001b[1;34m(self, X)\u001b[0m\n\u001b[0;32m    317\u001b[0m                                  \"call `fit` before exploiting the model.\")\n\u001b[0;32m    318\u001b[0m \u001b[1;33m\u001b[0m\u001b[0m\n\u001b[1;32m--> 319\u001b[1;33m         \u001b[1;32mreturn\u001b[0m \u001b[0mself\u001b[0m\u001b[1;33m.\u001b[0m\u001b[0mestimators_\u001b[0m\u001b[1;33m[\u001b[0m\u001b[1;36m0\u001b[0m\u001b[1;33m]\u001b[0m\u001b[1;33m.\u001b[0m\u001b[0m_validate_X_predict\u001b[0m\u001b[1;33m(\u001b[0m\u001b[0mX\u001b[0m\u001b[1;33m,\u001b[0m \u001b[0mcheck_input\u001b[0m\u001b[1;33m=\u001b[0m\u001b[1;32mTrue\u001b[0m\u001b[1;33m)\u001b[0m\u001b[1;33m\u001b[0m\u001b[0m\n\u001b[0m\u001b[0;32m    320\u001b[0m \u001b[1;33m\u001b[0m\u001b[0m\n\u001b[0;32m    321\u001b[0m     \u001b[1;33m@\u001b[0m\u001b[0mproperty\u001b[0m\u001b[1;33m\u001b[0m\u001b[0m\n",
      "\u001b[1;32m/usr/local/anaconda3/lib/python3.5/site-packages/sklearn/tree/tree.py\u001b[0m in \u001b[0;36m_validate_X_predict\u001b[1;34m(self, X, check_input)\u001b[0m\n\u001b[0;32m    374\u001b[0m                              \u001b[1;34m\" match the input. Model n_features is %s and \"\u001b[0m\u001b[1;33m\u001b[0m\u001b[0m\n\u001b[0;32m    375\u001b[0m                              \u001b[1;34m\" input n_features is %s \"\u001b[0m\u001b[1;33m\u001b[0m\u001b[0m\n\u001b[1;32m--> 376\u001b[1;33m                              % (self.n_features_, n_features))\n\u001b[0m\u001b[0;32m    377\u001b[0m \u001b[1;33m\u001b[0m\u001b[0m\n\u001b[0;32m    378\u001b[0m         \u001b[1;32mreturn\u001b[0m \u001b[0mX\u001b[0m\u001b[1;33m\u001b[0m\u001b[0m\n",
      "\u001b[1;31mValueError\u001b[0m: Number of features of the model must  match the input. Model n_features is 50 and  input n_features is 26 "
     ]
    }
   ],
   "source": [
    "%%time\n",
    "df_x = df_train\n",
    "df_y = df_targets.loc[df_x.index]\n",
    "\n",
    "x_train = df_x.drop(['fecha_dato', 'fecha_alta'], axis=1).as_matrix()\n",
    "y_train = df_y.as_matrix()\n",
    "\n",
    "df_x_test = df_test.drop(['fecha_dato', 'fecha_alta'], axis=1)\n",
    "model = local.model(x_train, y_train, RandomForestClassifier(n_jobs=4))\n",
    "\n",
    "x_test = df_x_test.as_matrix()\n",
    "probs, preds = local.calculatePredsProbs(x_test, model)\n",
    "\n",
    "df_prev = df[df['fecha_dato'] == dates[-1]]\n",
    "df_subm = local.processPredictions(probs, preds, df_prev, df_x_test, df_y, env='submit')"
   ]
  },
  {
   "cell_type": "code",
   "execution_count": null,
   "metadata": {
    "collapsed": true
   },
   "outputs": [],
   "source": []
  },
  {
   "cell_type": "code",
   "execution_count": null,
   "metadata": {
    "collapsed": true
   },
   "outputs": [],
   "source": []
  },
  {
   "cell_type": "code",
   "execution_count": null,
   "metadata": {
    "collapsed": true
   },
   "outputs": [],
   "source": []
  },
  {
   "cell_type": "code",
   "execution_count": null,
   "metadata": {
    "collapsed": true
   },
   "outputs": [],
   "source": []
  }
 ],
 "metadata": {
  "kernelspec": {
   "display_name": "Python 3 + Anaconda",
   "language": "python",
   "name": "pyconda3"
  },
  "language_info": {
   "codemirror_mode": {
    "name": "ipython",
    "version": 3
   },
   "file_extension": ".py",
   "mimetype": "text/x-python",
   "name": "python",
   "nbconvert_exporter": "python",
   "pygments_lexer": "ipython3",
   "version": "3.5.1"
  }
 },
 "nbformat": 4,
 "nbformat_minor": 0
}
