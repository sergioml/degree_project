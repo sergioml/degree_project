{
 "cells": [
  {
   "cell_type": "markdown",
   "metadata": {},
   "source": [
    "IV"
   ]
  },
  {
   "cell_type": "code",
   "execution_count": 1,
   "metadata": {
    "collapsed": true
   },
   "outputs": [],
   "source": [
    "import numpy as np\n",
    "import pandas as pd\n",
    "import seaborn as sns\n",
    "import matplotlib.pyplot as plt\n",
    "from time import time\n",
    "%matplotlib inline"
   ]
  },
  {
   "cell_type": "code",
   "execution_count": 2,
   "metadata": {
    "collapsed": false
   },
   "outputs": [
    {
     "data": {
      "text/html": [
       "<div>\n",
       "<table border=\"1\" class=\"dataframe\">\n",
       "  <thead>\n",
       "    <tr style=\"text-align: right;\">\n",
       "      <th></th>\n",
       "      <th>fecha_dato</th>\n",
       "      <th>fecha_dato_year</th>\n",
       "      <th>fecha_dato_month</th>\n",
       "      <th>fecha_dato_day</th>\n",
       "      <th>ncodpers</th>\n",
       "      <th>ind_empleado</th>\n",
       "      <th>pais_residencia</th>\n",
       "      <th>sexo</th>\n",
       "      <th>age</th>\n",
       "      <th>fecha_alta</th>\n",
       "      <th>...</th>\n",
       "      <th>indresi</th>\n",
       "      <th>indext</th>\n",
       "      <th>canal_entrada</th>\n",
       "      <th>indfall</th>\n",
       "      <th>tipodom</th>\n",
       "      <th>cod_prov</th>\n",
       "      <th>nomprov</th>\n",
       "      <th>ind_actividad_cliente</th>\n",
       "      <th>renta</th>\n",
       "      <th>segmento</th>\n",
       "    </tr>\n",
       "  </thead>\n",
       "  <tbody>\n",
       "    <tr>\n",
       "      <th>0</th>\n",
       "      <td>2015-01-28</td>\n",
       "      <td>2015</td>\n",
       "      <td>1</td>\n",
       "      <td>28</td>\n",
       "      <td>1375586</td>\n",
       "      <td>1</td>\n",
       "      <td>1</td>\n",
       "      <td>1</td>\n",
       "      <td>35</td>\n",
       "      <td>2015-01-12</td>\n",
       "      <td>...</td>\n",
       "      <td>2</td>\n",
       "      <td>1</td>\n",
       "      <td>20</td>\n",
       "      <td>1</td>\n",
       "      <td>1.0</td>\n",
       "      <td>29.0</td>\n",
       "      <td>7</td>\n",
       "      <td>1.0</td>\n",
       "      <td>87218.10</td>\n",
       "      <td>1</td>\n",
       "    </tr>\n",
       "    <tr>\n",
       "      <th>1</th>\n",
       "      <td>2015-01-28</td>\n",
       "      <td>2015</td>\n",
       "      <td>1</td>\n",
       "      <td>28</td>\n",
       "      <td>1050611</td>\n",
       "      <td>1</td>\n",
       "      <td>1</td>\n",
       "      <td>1</td>\n",
       "      <td>23</td>\n",
       "      <td>2012-08-10</td>\n",
       "      <td>...</td>\n",
       "      <td>2</td>\n",
       "      <td>2</td>\n",
       "      <td>1</td>\n",
       "      <td>1</td>\n",
       "      <td>1.0</td>\n",
       "      <td>13.0</td>\n",
       "      <td>23</td>\n",
       "      <td>0.0</td>\n",
       "      <td>35548.74</td>\n",
       "      <td>2</td>\n",
       "    </tr>\n",
       "    <tr>\n",
       "      <th>2</th>\n",
       "      <td>2015-01-28</td>\n",
       "      <td>2015</td>\n",
       "      <td>1</td>\n",
       "      <td>28</td>\n",
       "      <td>1050612</td>\n",
       "      <td>1</td>\n",
       "      <td>1</td>\n",
       "      <td>1</td>\n",
       "      <td>23</td>\n",
       "      <td>2012-08-10</td>\n",
       "      <td>...</td>\n",
       "      <td>2</td>\n",
       "      <td>1</td>\n",
       "      <td>1</td>\n",
       "      <td>1</td>\n",
       "      <td>1.0</td>\n",
       "      <td>13.0</td>\n",
       "      <td>23</td>\n",
       "      <td>0.0</td>\n",
       "      <td>122179.11</td>\n",
       "      <td>2</td>\n",
       "    </tr>\n",
       "    <tr>\n",
       "      <th>3</th>\n",
       "      <td>2015-01-28</td>\n",
       "      <td>2015</td>\n",
       "      <td>1</td>\n",
       "      <td>28</td>\n",
       "      <td>1050613</td>\n",
       "      <td>1</td>\n",
       "      <td>1</td>\n",
       "      <td>1</td>\n",
       "      <td>22</td>\n",
       "      <td>2012-08-10</td>\n",
       "      <td>...</td>\n",
       "      <td>2</td>\n",
       "      <td>1</td>\n",
       "      <td>7</td>\n",
       "      <td>1</td>\n",
       "      <td>1.0</td>\n",
       "      <td>50.0</td>\n",
       "      <td>6</td>\n",
       "      <td>0.0</td>\n",
       "      <td>119775.54</td>\n",
       "      <td>2</td>\n",
       "    </tr>\n",
       "    <tr>\n",
       "      <th>4</th>\n",
       "      <td>2015-01-28</td>\n",
       "      <td>2015</td>\n",
       "      <td>1</td>\n",
       "      <td>28</td>\n",
       "      <td>1050615</td>\n",
       "      <td>1</td>\n",
       "      <td>1</td>\n",
       "      <td>1</td>\n",
       "      <td>23</td>\n",
       "      <td>2012-08-10</td>\n",
       "      <td>...</td>\n",
       "      <td>2</td>\n",
       "      <td>1</td>\n",
       "      <td>1</td>\n",
       "      <td>1</td>\n",
       "      <td>1.0</td>\n",
       "      <td>45.0</td>\n",
       "      <td>16</td>\n",
       "      <td>0.0</td>\n",
       "      <td>22220.04</td>\n",
       "      <td>2</td>\n",
       "    </tr>\n",
       "  </tbody>\n",
       "</table>\n",
       "<p>5 rows × 27 columns</p>\n",
       "</div>"
      ],
      "text/plain": [
       "   fecha_dato  fecha_dato_year  fecha_dato_month  fecha_dato_day  ncodpers  \\\n",
       "0  2015-01-28             2015                 1              28   1375586   \n",
       "1  2015-01-28             2015                 1              28   1050611   \n",
       "2  2015-01-28             2015                 1              28   1050612   \n",
       "3  2015-01-28             2015                 1              28   1050613   \n",
       "4  2015-01-28             2015                 1              28   1050615   \n",
       "\n",
       "   ind_empleado  pais_residencia  sexo  age  fecha_alta    ...     indresi  \\\n",
       "0             1                1     1   35  2015-01-12    ...           2   \n",
       "1             1                1     1   23  2012-08-10    ...           2   \n",
       "2             1                1     1   23  2012-08-10    ...           2   \n",
       "3             1                1     1   22  2012-08-10    ...           2   \n",
       "4             1                1     1   23  2012-08-10    ...           2   \n",
       "\n",
       "   indext  canal_entrada  indfall  tipodom  cod_prov  nomprov  \\\n",
       "0       1             20        1      1.0      29.0        7   \n",
       "1       2              1        1      1.0      13.0       23   \n",
       "2       1              1        1      1.0      13.0       23   \n",
       "3       1              7        1      1.0      50.0        6   \n",
       "4       1              1        1      1.0      45.0       16   \n",
       "\n",
       "   ind_actividad_cliente      renta  segmento  \n",
       "0                    1.0   87218.10         1  \n",
       "1                    0.0   35548.74         2  \n",
       "2                    0.0  122179.11         2  \n",
       "3                    0.0  119775.54         2  \n",
       "4                    0.0   22220.04         2  \n",
       "\n",
       "[5 rows x 27 columns]"
      ]
     },
     "execution_count": 2,
     "metadata": {},
     "output_type": "execute_result"
    }
   ],
   "source": [
    "df = pd.read_csv('data/clean/train_clean_v2.csv')\n",
    "df.head()"
   ]
  },
  {
   "cell_type": "code",
   "execution_count": 3,
   "metadata": {
    "collapsed": true
   },
   "outputs": [],
   "source": [
    "df_copy = df.copy()"
   ]
  },
  {
   "cell_type": "code",
   "execution_count": 7,
   "metadata": {
    "collapsed": false
   },
   "outputs": [
    {
     "data": {
      "text/plain": [
       "10087979"
      ]
     },
     "execution_count": 7,
     "metadata": {},
     "output_type": "execute_result"
    }
   ],
   "source": [
    "df.shape[0] - len(df.ncodpers.unique())"
   ]
  },
  {
   "cell_type": "code",
   "execution_count": null,
   "metadata": {
    "collapsed": true
   },
   "outputs": [],
   "source": [
    "df_copy.drop(['fecha_dato', 'fecha_alta'], inplace=True, axis=1)"
   ]
  },
  {
   "cell_type": "code",
   "execution_count": 4,
   "metadata": {
    "collapsed": false
   },
   "outputs": [
    {
     "data": {
      "text/html": [
       "<div>\n",
       "<table border=\"1\" class=\"dataframe\">\n",
       "  <thead>\n",
       "    <tr style=\"text-align: right;\">\n",
       "      <th></th>\n",
       "      <th>ind_ahor_fin_ult1</th>\n",
       "      <th>ind_aval_fin_ult1</th>\n",
       "      <th>ind_cco_fin_ult1</th>\n",
       "      <th>ind_cder_fin_ult1</th>\n",
       "      <th>ind_cno_fin_ult1</th>\n",
       "      <th>ind_ctju_fin_ult1</th>\n",
       "      <th>ind_ctma_fin_ult1</th>\n",
       "      <th>ind_ctop_fin_ult1</th>\n",
       "      <th>ind_ctpp_fin_ult1</th>\n",
       "      <th>ind_deco_fin_ult1</th>\n",
       "      <th>...</th>\n",
       "      <th>ind_hip_fin_ult1</th>\n",
       "      <th>ind_plan_fin_ult1</th>\n",
       "      <th>ind_pres_fin_ult1</th>\n",
       "      <th>ind_reca_fin_ult1</th>\n",
       "      <th>ind_tjcr_fin_ult1</th>\n",
       "      <th>ind_valo_fin_ult1</th>\n",
       "      <th>ind_viv_fin_ult1</th>\n",
       "      <th>ind_nomina_ult1</th>\n",
       "      <th>ind_nom_pens_ult1</th>\n",
       "      <th>ind_recibo_ult1</th>\n",
       "    </tr>\n",
       "  </thead>\n",
       "  <tbody>\n",
       "    <tr>\n",
       "      <th>0</th>\n",
       "      <td>0</td>\n",
       "      <td>0</td>\n",
       "      <td>1</td>\n",
       "      <td>0</td>\n",
       "      <td>0</td>\n",
       "      <td>0</td>\n",
       "      <td>0</td>\n",
       "      <td>0</td>\n",
       "      <td>0</td>\n",
       "      <td>0</td>\n",
       "      <td>...</td>\n",
       "      <td>0</td>\n",
       "      <td>0</td>\n",
       "      <td>0</td>\n",
       "      <td>0</td>\n",
       "      <td>0</td>\n",
       "      <td>0</td>\n",
       "      <td>0</td>\n",
       "      <td>0.0</td>\n",
       "      <td>0.0</td>\n",
       "      <td>0</td>\n",
       "    </tr>\n",
       "    <tr>\n",
       "      <th>1</th>\n",
       "      <td>0</td>\n",
       "      <td>0</td>\n",
       "      <td>1</td>\n",
       "      <td>0</td>\n",
       "      <td>0</td>\n",
       "      <td>0</td>\n",
       "      <td>0</td>\n",
       "      <td>0</td>\n",
       "      <td>0</td>\n",
       "      <td>0</td>\n",
       "      <td>...</td>\n",
       "      <td>0</td>\n",
       "      <td>0</td>\n",
       "      <td>0</td>\n",
       "      <td>0</td>\n",
       "      <td>0</td>\n",
       "      <td>0</td>\n",
       "      <td>0</td>\n",
       "      <td>0.0</td>\n",
       "      <td>0.0</td>\n",
       "      <td>0</td>\n",
       "    </tr>\n",
       "    <tr>\n",
       "      <th>2</th>\n",
       "      <td>0</td>\n",
       "      <td>0</td>\n",
       "      <td>1</td>\n",
       "      <td>0</td>\n",
       "      <td>0</td>\n",
       "      <td>0</td>\n",
       "      <td>0</td>\n",
       "      <td>0</td>\n",
       "      <td>0</td>\n",
       "      <td>0</td>\n",
       "      <td>...</td>\n",
       "      <td>0</td>\n",
       "      <td>0</td>\n",
       "      <td>0</td>\n",
       "      <td>0</td>\n",
       "      <td>0</td>\n",
       "      <td>0</td>\n",
       "      <td>0</td>\n",
       "      <td>0.0</td>\n",
       "      <td>0.0</td>\n",
       "      <td>0</td>\n",
       "    </tr>\n",
       "    <tr>\n",
       "      <th>3</th>\n",
       "      <td>0</td>\n",
       "      <td>0</td>\n",
       "      <td>0</td>\n",
       "      <td>0</td>\n",
       "      <td>0</td>\n",
       "      <td>0</td>\n",
       "      <td>0</td>\n",
       "      <td>0</td>\n",
       "      <td>0</td>\n",
       "      <td>1</td>\n",
       "      <td>...</td>\n",
       "      <td>0</td>\n",
       "      <td>0</td>\n",
       "      <td>0</td>\n",
       "      <td>0</td>\n",
       "      <td>0</td>\n",
       "      <td>0</td>\n",
       "      <td>0</td>\n",
       "      <td>0.0</td>\n",
       "      <td>0.0</td>\n",
       "      <td>0</td>\n",
       "    </tr>\n",
       "    <tr>\n",
       "      <th>4</th>\n",
       "      <td>0</td>\n",
       "      <td>0</td>\n",
       "      <td>1</td>\n",
       "      <td>0</td>\n",
       "      <td>0</td>\n",
       "      <td>0</td>\n",
       "      <td>0</td>\n",
       "      <td>0</td>\n",
       "      <td>0</td>\n",
       "      <td>0</td>\n",
       "      <td>...</td>\n",
       "      <td>0</td>\n",
       "      <td>0</td>\n",
       "      <td>0</td>\n",
       "      <td>0</td>\n",
       "      <td>0</td>\n",
       "      <td>0</td>\n",
       "      <td>0</td>\n",
       "      <td>0.0</td>\n",
       "      <td>0.0</td>\n",
       "      <td>0</td>\n",
       "    </tr>\n",
       "  </tbody>\n",
       "</table>\n",
       "<p>5 rows × 24 columns</p>\n",
       "</div>"
      ],
      "text/plain": [
       "   ind_ahor_fin_ult1  ind_aval_fin_ult1  ind_cco_fin_ult1  ind_cder_fin_ult1  \\\n",
       "0                  0                  0                 1                  0   \n",
       "1                  0                  0                 1                  0   \n",
       "2                  0                  0                 1                  0   \n",
       "3                  0                  0                 0                  0   \n",
       "4                  0                  0                 1                  0   \n",
       "\n",
       "   ind_cno_fin_ult1  ind_ctju_fin_ult1  ind_ctma_fin_ult1  ind_ctop_fin_ult1  \\\n",
       "0                 0                  0                  0                  0   \n",
       "1                 0                  0                  0                  0   \n",
       "2                 0                  0                  0                  0   \n",
       "3                 0                  0                  0                  0   \n",
       "4                 0                  0                  0                  0   \n",
       "\n",
       "   ind_ctpp_fin_ult1  ind_deco_fin_ult1       ...         ind_hip_fin_ult1  \\\n",
       "0                  0                  0       ...                        0   \n",
       "1                  0                  0       ...                        0   \n",
       "2                  0                  0       ...                        0   \n",
       "3                  0                  1       ...                        0   \n",
       "4                  0                  0       ...                        0   \n",
       "\n",
       "   ind_plan_fin_ult1  ind_pres_fin_ult1  ind_reca_fin_ult1  ind_tjcr_fin_ult1  \\\n",
       "0                  0                  0                  0                  0   \n",
       "1                  0                  0                  0                  0   \n",
       "2                  0                  0                  0                  0   \n",
       "3                  0                  0                  0                  0   \n",
       "4                  0                  0                  0                  0   \n",
       "\n",
       "   ind_valo_fin_ult1  ind_viv_fin_ult1  ind_nomina_ult1  ind_nom_pens_ult1  \\\n",
       "0                  0                 0              0.0                0.0   \n",
       "1                  0                 0              0.0                0.0   \n",
       "2                  0                 0              0.0                0.0   \n",
       "3                  0                 0              0.0                0.0   \n",
       "4                  0                 0              0.0                0.0   \n",
       "\n",
       "   ind_recibo_ult1  \n",
       "0                0  \n",
       "1                0  \n",
       "2                0  \n",
       "3                0  \n",
       "4                0  \n",
       "\n",
       "[5 rows x 24 columns]"
      ]
     },
     "execution_count": 4,
     "metadata": {},
     "output_type": "execute_result"
    }
   ],
   "source": [
    "df_target = pd.read_csv('data/clean/train_labels.csv')\n",
    "df_target.head()"
   ]
  },
  {
   "cell_type": "markdown",
   "metadata": {},
   "source": [
    "Definición de los datos y el target de entrenamiento"
   ]
  },
  {
   "cell_type": "code",
   "execution_count": 5,
   "metadata": {
    "collapsed": true
   },
   "outputs": [],
   "source": [
    "x = df_copy.as_matrix()\n",
    "y = df_target.as_matrix()"
   ]
  },
  {
   "cell_type": "code",
   "execution_count": 6,
   "metadata": {
    "collapsed": false
   },
   "outputs": [
    {
     "data": {
      "text/plain": [
       "((10795392, 24), (10795392, 24))"
      ]
     },
     "execution_count": 6,
     "metadata": {},
     "output_type": "execute_result"
    }
   ],
   "source": [
    "x.shape, y.shape"
   ]
  },
  {
   "cell_type": "markdown",
   "metadata": {},
   "source": [
    "### Entrenamiento con target _p_ (del mismo mes)\n",
    "Todos los modelos entrenados que se hagan a partir de aquí, se harán con el algoritmo RandomForest de clasificación"
   ]
  },
  {
   "cell_type": "code",
   "execution_count": 9,
   "metadata": {
    "collapsed": false
   },
   "outputs": [],
   "source": [
    "x_train = x[:10094948]\n",
    "x_test = x[10094948:]\n",
    "y_train = y[:10094948]\n",
    "y_test = y[10094948:]"
   ]
  },
  {
   "cell_type": "code",
   "execution_count": 10,
   "metadata": {
    "collapsed": false
   },
   "outputs": [
    {
     "name": "stdout",
     "output_type": "stream",
     "text": [
      "Train (10094948, 24) (10094948, 24)\n",
      "Test (700444, 24) (700444, 24)\n"
     ]
    }
   ],
   "source": [
    "print('Train', x_train.shape, y_train.shape)\n",
    "print('Test', x_test.shape, y_test.shape)"
   ]
  },
  {
   "cell_type": "markdown",
   "metadata": {},
   "source": [
    "* El siguiente entrenamiento se hizo con todos los datos hasta la fecha del 28/04/2016 y con todos los targets, es decir, al momento de darle unos datos va a retornar un vector de todos los productos que puede tener el cliente en el siguiente mes"
   ]
  },
  {
   "cell_type": "code",
   "execution_count": 7,
   "metadata": {
    "collapsed": true
   },
   "outputs": [],
   "source": [
    "from sklearn.ensemble import RandomForestClassifier"
   ]
  },
  {
   "cell_type": "code",
   "execution_count": 11,
   "metadata": {
    "collapsed": false
   },
   "outputs": [
    {
     "name": "stdout",
     "output_type": "stream",
     "text": [
      "CPU times: user 24min 48s, sys: 38.3 s, total: 25min 27s\n",
      "Wall time: 25min 29s\n"
     ]
    }
   ],
   "source": [
    "%%time\n",
    "rf = RandomForestClassifier()\n",
    "rf.fit(x_train, y_train)"
   ]
  },
  {
   "cell_type": "code",
   "execution_count": 12,
   "metadata": {
    "collapsed": false
   },
   "outputs": [
    {
     "data": {
      "text/plain": [
       "0.8432579906459331"
      ]
     },
     "execution_count": 12,
     "metadata": {},
     "output_type": "execute_result"
    }
   ],
   "source": [
    "rf.score(x_test, y_test)"
   ]
  },
  {
   "cell_type": "code",
   "execution_count": 17,
   "metadata": {
    "collapsed": false
   },
   "outputs": [
    {
     "data": {
      "text/plain": [
       "(array([  2.01600000e+03,   5.00000000e+00,   2.80000000e+01,\n",
       "          1.00000000e+00,   1.00000000e+00,   1.00000000e+00,\n",
       "          5.00000000e+01,   2.00700000e+03,   2.00000000e+00,\n",
       "          2.00000000e+00,   1.11000000e+02,   1.00000000e+00,\n",
       "          1.00000000e+00,   1.00000000e+00,   2.00000000e+00,\n",
       "          1.00000000e+00,   2.00000000e+00,   1.00000000e+00,\n",
       "          1.00000000e+00,   3.30000000e+01,   1.20000000e+01,\n",
       "          1.00000000e+00,   1.08980880e+05,   1.00000000e+00]),\n",
       " array([ 0.,  0.,  1.,  0.,  0.,  0.,  0.,  0.,  0.,  0.,  0.,  0.,  0.,\n",
       "         0.,  0.,  0.,  0.,  0.,  0.,  1.,  0.,  0.,  0.,  0.]))"
      ]
     },
     "execution_count": 17,
     "metadata": {},
     "output_type": "execute_result"
    }
   ],
   "source": [
    "n = 6798\n",
    "x_test[n], y_test[n]"
   ]
  },
  {
   "cell_type": "code",
   "execution_count": 18,
   "metadata": {
    "collapsed": false
   },
   "outputs": [
    {
     "name": "stderr",
     "output_type": "stream",
     "text": [
      "/usr/local/anaconda3/lib/python3.5/site-packages/sklearn/utils/validation.py:386: DeprecationWarning: Passing 1d arrays as data is deprecated in 0.17 and willraise ValueError in 0.19. Reshape your data either using X.reshape(-1, 1) if your data has a single feature or X.reshape(1, -1) if it contains a single sample.\n",
      "  DeprecationWarning)\n"
     ]
    },
    {
     "data": {
      "text/plain": [
       "array([[ 0.,  0.,  1.,  0.,  0.,  0.,  0.,  0.,  0.,  0.,  0.,  0.,  0.,\n",
       "         0.,  0.,  0.,  0.,  0.,  0.,  1.,  0.,  0.,  0.,  0.]])"
      ]
     },
     "execution_count": 18,
     "metadata": {},
     "output_type": "execute_result"
    }
   ],
   "source": [
    "rf.predict(x_test[n])"
   ]
  },
  {
   "cell_type": "markdown",
   "metadata": {},
   "source": [
    "* En este entrenamiento, haré una clasificación binaria de los datos, es decir, como target sólo pasaré un sólo producto\n",
    "\n",
    "    **NOTA:** El `rf_v2` es el modelo entrenado"
   ]
  },
  {
   "cell_type": "code",
   "execution_count": null,
   "metadata": {
    "collapsed": false
   },
   "outputs": [],
   "source": [
    "f = open('out.txt', 'w')\n",
    "for i in range(df_target.shape[1]):\n",
    "    rf_v2 = RandomForestClassifier()\n",
    "    rf_v2.fit(x_train, y_train[:, i])\n",
    "    score = rf_v2.score(x_test, y_test[:, i])\n",
    "    f.write('El score de ' + df_target.columns[i] + ' es ' + str(score) + '\\n')\n",
    "f.close()"
   ]
  },
  {
   "cell_type": "markdown",
   "metadata": {
    "collapsed": true
   },
   "source": [
    "***\n",
    "### Entrenamiento con target _p+1_ (con productos del siguiente mes)"
   ]
  },
  {
   "cell_type": "code",
   "execution_count": 5,
   "metadata": {
    "collapsed": false
   },
   "outputs": [
    {
     "data": {
      "text/html": [
       "<div>\n",
       "<table border=\"1\" class=\"dataframe\">\n",
       "  <thead>\n",
       "    <tr style=\"text-align: right;\">\n",
       "      <th></th>\n",
       "      <th>fecha_dato</th>\n",
       "      <th>fecha_dato_year</th>\n",
       "      <th>fecha_dato_month</th>\n",
       "      <th>fecha_dato_day</th>\n",
       "      <th>ncodpers</th>\n",
       "      <th>ind_empleado</th>\n",
       "      <th>pais_residencia</th>\n",
       "      <th>sexo</th>\n",
       "      <th>age</th>\n",
       "      <th>fecha_alta</th>\n",
       "      <th>...</th>\n",
       "      <th>indresi</th>\n",
       "      <th>indext</th>\n",
       "      <th>canal_entrada</th>\n",
       "      <th>indfall</th>\n",
       "      <th>tipodom</th>\n",
       "      <th>cod_prov</th>\n",
       "      <th>nomprov</th>\n",
       "      <th>ind_actividad_cliente</th>\n",
       "      <th>renta</th>\n",
       "      <th>segmento</th>\n",
       "    </tr>\n",
       "  </thead>\n",
       "  <tbody>\n",
       "    <tr>\n",
       "      <th>0</th>\n",
       "      <td>2015-01-28</td>\n",
       "      <td>2015</td>\n",
       "      <td>1</td>\n",
       "      <td>28</td>\n",
       "      <td>1375586</td>\n",
       "      <td>1</td>\n",
       "      <td>1</td>\n",
       "      <td>1</td>\n",
       "      <td>35</td>\n",
       "      <td>2015-01-12</td>\n",
       "      <td>...</td>\n",
       "      <td>2</td>\n",
       "      <td>1</td>\n",
       "      <td>20</td>\n",
       "      <td>1</td>\n",
       "      <td>1.0</td>\n",
       "      <td>29.0</td>\n",
       "      <td>7</td>\n",
       "      <td>1.0</td>\n",
       "      <td>87218.10</td>\n",
       "      <td>1</td>\n",
       "    </tr>\n",
       "    <tr>\n",
       "      <th>1</th>\n",
       "      <td>2015-01-28</td>\n",
       "      <td>2015</td>\n",
       "      <td>1</td>\n",
       "      <td>28</td>\n",
       "      <td>1050611</td>\n",
       "      <td>1</td>\n",
       "      <td>1</td>\n",
       "      <td>1</td>\n",
       "      <td>23</td>\n",
       "      <td>2012-08-10</td>\n",
       "      <td>...</td>\n",
       "      <td>2</td>\n",
       "      <td>2</td>\n",
       "      <td>1</td>\n",
       "      <td>1</td>\n",
       "      <td>1.0</td>\n",
       "      <td>13.0</td>\n",
       "      <td>23</td>\n",
       "      <td>0.0</td>\n",
       "      <td>35548.74</td>\n",
       "      <td>2</td>\n",
       "    </tr>\n",
       "    <tr>\n",
       "      <th>2</th>\n",
       "      <td>2015-01-28</td>\n",
       "      <td>2015</td>\n",
       "      <td>1</td>\n",
       "      <td>28</td>\n",
       "      <td>1050612</td>\n",
       "      <td>1</td>\n",
       "      <td>1</td>\n",
       "      <td>1</td>\n",
       "      <td>23</td>\n",
       "      <td>2012-08-10</td>\n",
       "      <td>...</td>\n",
       "      <td>2</td>\n",
       "      <td>1</td>\n",
       "      <td>1</td>\n",
       "      <td>1</td>\n",
       "      <td>1.0</td>\n",
       "      <td>13.0</td>\n",
       "      <td>23</td>\n",
       "      <td>0.0</td>\n",
       "      <td>122179.11</td>\n",
       "      <td>2</td>\n",
       "    </tr>\n",
       "    <tr>\n",
       "      <th>3</th>\n",
       "      <td>2015-01-28</td>\n",
       "      <td>2015</td>\n",
       "      <td>1</td>\n",
       "      <td>28</td>\n",
       "      <td>1050613</td>\n",
       "      <td>1</td>\n",
       "      <td>1</td>\n",
       "      <td>1</td>\n",
       "      <td>22</td>\n",
       "      <td>2012-08-10</td>\n",
       "      <td>...</td>\n",
       "      <td>2</td>\n",
       "      <td>1</td>\n",
       "      <td>7</td>\n",
       "      <td>1</td>\n",
       "      <td>1.0</td>\n",
       "      <td>50.0</td>\n",
       "      <td>6</td>\n",
       "      <td>0.0</td>\n",
       "      <td>119775.54</td>\n",
       "      <td>2</td>\n",
       "    </tr>\n",
       "    <tr>\n",
       "      <th>4</th>\n",
       "      <td>2015-01-28</td>\n",
       "      <td>2015</td>\n",
       "      <td>1</td>\n",
       "      <td>28</td>\n",
       "      <td>1050615</td>\n",
       "      <td>1</td>\n",
       "      <td>1</td>\n",
       "      <td>1</td>\n",
       "      <td>23</td>\n",
       "      <td>2012-08-10</td>\n",
       "      <td>...</td>\n",
       "      <td>2</td>\n",
       "      <td>1</td>\n",
       "      <td>1</td>\n",
       "      <td>1</td>\n",
       "      <td>1.0</td>\n",
       "      <td>45.0</td>\n",
       "      <td>16</td>\n",
       "      <td>0.0</td>\n",
       "      <td>22220.04</td>\n",
       "      <td>2</td>\n",
       "    </tr>\n",
       "  </tbody>\n",
       "</table>\n",
       "<p>5 rows × 27 columns</p>\n",
       "</div>"
      ],
      "text/plain": [
       "   fecha_dato  fecha_dato_year  fecha_dato_month  fecha_dato_day  ncodpers  \\\n",
       "0  2015-01-28             2015                 1              28   1375586   \n",
       "1  2015-01-28             2015                 1              28   1050611   \n",
       "2  2015-01-28             2015                 1              28   1050612   \n",
       "3  2015-01-28             2015                 1              28   1050613   \n",
       "4  2015-01-28             2015                 1              28   1050615   \n",
       "\n",
       "   ind_empleado  pais_residencia  sexo  age  fecha_alta    ...     indresi  \\\n",
       "0             1                1     1   35  2015-01-12    ...           2   \n",
       "1             1                1     1   23  2012-08-10    ...           2   \n",
       "2             1                1     1   23  2012-08-10    ...           2   \n",
       "3             1                1     1   22  2012-08-10    ...           2   \n",
       "4             1                1     1   23  2012-08-10    ...           2   \n",
       "\n",
       "   indext  canal_entrada  indfall  tipodom  cod_prov  nomprov  \\\n",
       "0       1             20        1      1.0      29.0        7   \n",
       "1       2              1        1      1.0      13.0       23   \n",
       "2       1              1        1      1.0      13.0       23   \n",
       "3       1              7        1      1.0      50.0        6   \n",
       "4       1              1        1      1.0      45.0       16   \n",
       "\n",
       "   ind_actividad_cliente      renta  segmento  \n",
       "0                    1.0   87218.10         1  \n",
       "1                    0.0   35548.74         2  \n",
       "2                    0.0  122179.11         2  \n",
       "3                    0.0  119775.54         2  \n",
       "4                    0.0   22220.04         2  \n",
       "\n",
       "[5 rows x 27 columns]"
      ]
     },
     "execution_count": 5,
     "metadata": {},
     "output_type": "execute_result"
    }
   ],
   "source": [
    "df_copy.head()"
   ]
  },
  {
   "cell_type": "code",
   "execution_count": 48,
   "metadata": {
    "collapsed": false
   },
   "outputs": [],
   "source": [
    "record_per_customer = np.unique(df_copy.ncodpers.value_counts().values, return_counts=True)"
   ]
  },
  {
   "cell_type": "code",
   "execution_count": 53,
   "metadata": {
    "collapsed": false
   },
   "outputs": [
    {
     "data": {
      "image/png": "[encoded data removed]",
      "text/plain": [
       "<matplotlib.figure.Figure at 0x7f3911832160>"
      ]
     },
     "metadata": {},
     "output_type": "display_data"
    }
   ],
   "source": [
    "plt.figure(figsize=(15, 6))\n",
    "sns.barplot(list(record_per_customer[0]), list(record_per_customer[1]))\n",
    "plt.yscale('log')\n",
    "for i, count in enumerate(record_per_customer[1]):\n",
    "    plt.text(i, count*1.1, count, ha='center', va='bottom')"
   ]
  },
  {
   "cell_type": "code",
   "execution_count": 107,
   "metadata": {
    "collapsed": false
   },
   "outputs": [],
   "source": [
    "all_records = df_copy.ncodpers.value_counts().index"
   ]
  },
  {
   "cell_type": "code",
   "execution_count": 108,
   "metadata": {
    "collapsed": false
   },
   "outputs": [
    {
     "data": {
      "text/plain": [
       "{1: 1436222,\n",
       " 2: 1448662,\n",
       " 3: 1453399,\n",
       " 4: 71626,\n",
       " 5: 1261738,\n",
       " 6: 772296,\n",
       " 7: 330325,\n",
       " 8: 1443663,\n",
       " 9: 1438061,\n",
       " 10: 1407339,\n",
       " 11: 1295587,\n",
       " 12: 1401136,\n",
       " 13: 1396666,\n",
       " 14: 1393805,\n",
       " 15: 1383867,\n",
       " 16: 1378056,\n",
       " 17: 32752}"
      ]
     },
     "execution_count": 108,
     "metadata": {},
     "output_type": "execute_result"
    }
   ],
   "source": [
    "first_records = {}\n",
    "\n",
    "for i in range(17):\n",
    "    first_records[i+1] = df_copy.ncodpers.value_counts().index[np.unique(df_copy.ncodpers.value_counts().values,\n",
    "                                                                         return_index=True)[1][i]]\n",
    "first_records #Primer código de cada cantidad de registros"
   ]
  },
  {
   "cell_type": "code",
   "execution_count": 109,
   "metadata": {
    "collapsed": false
   },
   "outputs": [],
   "source": [
    "l_records = {} #los indices según la cantidad que hay de cada uno\n",
    "for i in np.unique(df_copy.ncodpers.value_counts().values, return_index=True)[0]:\n",
    "    if i == 1:\n",
    "        l_records[i] = all_records[np.where(all_records==first_records[1])[0][0]:]\n",
    "    else:        \n",
    "        l_records[i] = all_records[np.where(all_records==first_records[i])[0][0]:np.where(all_records==first_records[i-1])[0][0]]"
   ]
  },
  {
   "cell_type": "markdown",
   "metadata": {},
   "source": [
    "* Se borraron los clientes que sólo tienen un registro"
   ]
  },
  {
   "cell_type": "code",
   "execution_count": 118,
   "metadata": {
    "collapsed": false
   },
   "outputs": [
    {
     "data": {
      "text/plain": [
       "(10795392, 27)"
      ]
     },
     "execution_count": 118,
     "metadata": {},
     "output_type": "execute_result"
    }
   ],
   "source": [
    "df_copy.shape"
   ]
  },
  {
   "cell_type": "code",
   "execution_count": 119,
   "metadata": {
    "collapsed": false
   },
   "outputs": [
    {
     "data": {
      "text/plain": [
       "(10795311, 27)"
      ]
     },
     "execution_count": 119,
     "metadata": {},
     "output_type": "execute_result"
    }
   ],
   "source": [
    "only_record = df_copy.loc[df_copy['ncodpers'].isin(l_records[1])].sort_values(['ncodpers', 'fecha_dato']).index\n",
    "df_copy.drop(only_record, inplace=True)\n",
    "df_copy.shape"
   ]
  },
  {
   "cell_type": "code",
   "execution_count": 121,
   "metadata": {
    "collapsed": true
   },
   "outputs": [],
   "source": [
    "group_ncodpers = df_copy.groupby('ncodpers')\n",
    "group_fecha = df_copy.groupby('fecha_dato')"
   ]
  },
  {
   "cell_type": "markdown",
   "metadata": {},
   "source": [
    "* Se hace un nuevo dataset en el que se emparejan los registros de cada cliente con el siguiente label p+1"
   ]
  },
  {
   "cell_type": "code",
   "execution_count": 244,
   "metadata": {
    "collapsed": false
   },
   "outputs": [
    {
     "name": "stdout",
     "output_type": "stream",
     "text": [
      "0.252730131149292\n"
     ]
    }
   ],
   "source": [
    "\"\"\"start = time()\n",
    "df_new = pd.DataFrame()\n",
    "lista = list(group_ncodpers.groups.keys())\n",
    "for code in lista:\n",
    "    df_aux = group_ncodpers.get_group(code) #DF con los registros de un código\n",
    "    \n",
    "    df_aux1 = df_aux.iloc[:-1] #Se obtienen los registros menos el último\n",
    "    \n",
    "    df_aux_target = df_target.iloc[df_aux.index].iloc[1:] #Se obtienen los targets desde el segundo en adelante\n",
    "    df_aux_target.set_index(df_aux1.index, inplace=True) #Se actualizan los índices del anterior df con los del aux1\n",
    "    \n",
    "    df_aux3 = pd.concat([df_aux1, df_aux_target], axis=1) #Se juntan ambos df resultantes\n",
    "    \n",
    "    df_new = df_new.append(df_aux3) #Se concatenan entre sí\n",
    "end = time()\n",
    "total_time = end - start\n",
    "\n",
    "with open(\"time_new_df.txt\", \"w\") as text_file:\n",
    "    text_file.write(str(total_time) + ' segundos\\n' +\n",
    "                    str((total_time)/float(60)) + ' minutos\\n' +\n",
    "                    str(total_time/float(3600)) + ' horas.')\n",
    "print(total_time)\"\"\""
   ]
  },
  {
   "cell_type": "markdown",
   "metadata": {
    "collapsed": true
   },
   "source": [
    "<h1 style=\"color:red\" >PENDIENTE</h1> \n",
    "\n",
    "Hacer el dataset de los "
   ]
  },
  {
   "cell_type": "code",
   "execution_count": null,
   "metadata": {
    "collapsed": false
   },
   "outputs": [
    {
     "name": "stdout",
     "output_type": "stream",
     "text": [
      "2\n",
      "3\n"
     ]
    }
   ],
   "source": [
    "start = time()\n",
    "df_new = pd.DataFrame()\n",
    "\n",
    "with open(\"time_by_record.txt\", \"w\") as text_file:\n",
    "    \n",
    "    for i in range(2, len(l_records)+1):\n",
    "        start2 = time()\n",
    "        lista = l_records[i]\n",
    "        print(i)\n",
    "        for code in lista:\n",
    "            df_aux = group_ncodpers.get_group(code) #DF con los registros de un código\n",
    "\n",
    "            df_aux1 = df_aux.iloc[:-1] #Se obtienen los registros menos el último\n",
    "\n",
    "            df_aux_target = df_target.iloc[df_aux.index].iloc[1:] #Se obtienen los targets desde el segundo en adelante\n",
    "            df_aux_target.set_index(df_aux1.index, inplace=True) #Se actualizan los índices del anterior df con los del aux1\n",
    "\n",
    "            df_aux3 = pd.concat([df_aux1, df_aux_target], axis=1) #Se juntan ambos df resultantes\n",
    "\n",
    "            df_new = df_new.append(df_aux3) #Se concatenan entre sí\n",
    "        end2 = time()\n",
    "        partial_time = end2 - start2\n",
    "        text_file.write(\"Con \" + str(i) + \" se demoró \" + str(partial_time) + \" segundos - \" + \n",
    "                        str((partial_time)/float(60)) + \" minutos\\n\")\n",
    "end = time()\n",
    "total_time = end - start\n",
    "\n",
    "with open(\"time_new_df.txt\", \"w\") as text_file:\n",
    "    text_file.write(str(total_time) + ' segundos\\n' +\n",
    "                    str((total_time)/float(60)) + ' minutos\\n' +\n",
    "                    str(total_time/float(3600)) + ' horas.')\n",
    "print(total_time)"
   ]
  },
  {
   "cell_type": "code",
   "execution_count": null,
   "metadata": {
    "collapsed": true
   },
   "outputs": [],
   "source": []
  }
 ],
 "metadata": {
  "kernelspec": {
   "display_name": "Python 3 + Anaconda",
   "language": "python",
   "name": "pyconda3"
  },
  "language_info": {
   "codemirror_mode": {
    "name": "ipython",
    "version": 3
   },
   "file_extension": ".py",
   "mimetype": "text/x-python",
   "name": "python",
   "nbconvert_exporter": "python",
   "pygments_lexer": "ipython3",
   "version": "3.5.1"
  }
 },
 "nbformat": 4,
 "nbformat_minor": 0
}
