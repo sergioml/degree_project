{
 "cells": [
  {
   "cell_type": "code",
   "execution_count": 226,
   "metadata": {
    "collapsed": true
   },
   "outputs": [],
   "source": [
    "import numpy as np\n",
    "import pandas as pd\n",
    "import time\n",
    "\n",
    "from sklearn.ensemble import RandomForestClassifier\n",
    "from sklearn.ensemble import GradientBoostingClassifier\n",
    "from sklearn.naive_bayes import GaussianNB"
   ]
  },
  {
   "cell_type": "code",
   "execution_count": 2,
   "metadata": {
    "collapsed": false
   },
   "outputs": [
    {
     "name": "stdout",
     "output_type": "stream",
     "text": [
      "CPU times: user 50.6 s, sys: 4.29 s, total: 54.8 s\n",
      "Wall time: 54.8 s\n"
     ]
    }
   ],
   "source": [
    "%%time\n",
    "df = pd.read_csv('data/clean/train_clean.csv')\n",
    "df_targets = pd.read_csv('data/clean/train_labels.csv')\n",
    "df_test = pd.read_csv('data/clean/test_clean.csv')"
   ]
  },
  {
   "cell_type": "markdown",
   "metadata": {},
   "source": [
    "### Experimento 1\n",
    "Entrenando sólo con el mes de Junio 2015 y con un modelo para todos los productos"
   ]
  },
  {
   "cell_type": "code",
   "execution_count": 221,
   "metadata": {
    "collapsed": false
   },
   "outputs": [],
   "source": [
    "x_train = df[df['fecha_dato'] == '2015-06-28']\n",
    "y_train = df_targets.loc[x_train.index]\n",
    "\n",
    "x = x_train.drop(['fecha_dato', 'fecha_alta', 'ncodpers'], axis=1).as_matrix()\n",
    "y = y_train.as_matrix()\n",
    "\n",
    "x_test = df_test.drop(['fecha_dato', 'fecha_alta', 'ncodpers'], axis=1).as_matrix()"
   ]
  },
  {
   "cell_type": "code",
   "execution_count": 4,
   "metadata": {
    "collapsed": false
   },
   "outputs": [
    {
     "name": "stdout",
     "output_type": "stream",
     "text": [
      "CPU times: user 1min 42s, sys: 6.37 s, total: 1min 48s\n",
      "Wall time: 32.3 s\n"
     ]
    }
   ],
   "source": [
    "%%time\n",
    "rf = RandomForestClassifier(n_jobs=4)\n",
    "rf.fit(x, y)"
   ]
  },
  {
   "cell_type": "code",
   "execution_count": 149,
   "metadata": {
    "collapsed": false
   },
   "outputs": [
    {
     "name": "stdout",
     "output_type": "stream",
     "text": [
      "CPU times: user 2min 14s, sys: 5.05 s, total: 2min 19s\n",
      "Wall time: 1min 4s\n"
     ]
    }
   ],
   "source": [
    "%%time\n",
    "probs = rf.predict_proba(x_test)\n",
    "preds = rf.predict(x_test)\n",
    "\n",
    "pred_probs = np.array([pr.max(axis=1) for pr in probs]).T\n",
    "pred_probs = (preds * pred_probs).argsort(axis=1)\n",
    "pred_probs = np.fliplr(pred_probs)[:, :7]\n",
    "\n",
    "targets = np.array(df_targets.columns.tolist())"
   ]
  },
  {
   "cell_type": "code",
   "execution_count": 150,
   "metadata": {
    "collapsed": false
   },
   "outputs": [
    {
     "name": "stdout",
     "output_type": "stream",
     "text": [
      "CPU times: user 7.13 s, sys: 56 ms, total: 7.19 s\n",
      "Wall time: 7.18 s\n"
     ]
    }
   ],
   "source": [
    "%%time\n",
    "final_pred = [\" \".join(list(targets[p])) for p in pred_probs]\n",
    "\n",
    "df_subm = pd.DataFrame({'ncodpers': df_test.ncodpers.values, 'added_products': final_pred})\n",
    "df_subm.head()"
   ]
  },
  {
   "cell_type": "code",
   "execution_count": 151,
   "metadata": {
    "collapsed": false
   },
   "outputs": [
    {
     "data": {
      "text/html": [
       "<div>\n",
       "<table border=\"1\" class=\"dataframe\">\n",
       "  <thead>\n",
       "    <tr style=\"text-align: right;\">\n",
       "      <th></th>\n",
       "      <th>added_products</th>\n",
       "      <th>ncodpers</th>\n",
       "    </tr>\n",
       "  </thead>\n",
       "  <tbody>\n",
       "    <tr>\n",
       "      <th>0</th>\n",
       "      <td>ind_cco_fin_ult1 ind_recibo_ult1 ind_nom_pens_...</td>\n",
       "      <td>15889</td>\n",
       "    </tr>\n",
       "    <tr>\n",
       "      <th>1</th>\n",
       "      <td>ind_cco_fin_ult1 ind_recibo_ult1 ind_nom_pens_...</td>\n",
       "      <td>1170544</td>\n",
       "    </tr>\n",
       "    <tr>\n",
       "      <th>2</th>\n",
       "      <td>ind_cco_fin_ult1 ind_recibo_ult1 ind_nom_pens_...</td>\n",
       "      <td>1170545</td>\n",
       "    </tr>\n",
       "    <tr>\n",
       "      <th>3</th>\n",
       "      <td>ind_cco_fin_ult1 ind_recibo_ult1 ind_nom_pens_...</td>\n",
       "      <td>1170547</td>\n",
       "    </tr>\n",
       "    <tr>\n",
       "      <th>4</th>\n",
       "      <td>ind_cco_fin_ult1 ind_recibo_ult1 ind_nom_pens_...</td>\n",
       "      <td>1170548</td>\n",
       "    </tr>\n",
       "  </tbody>\n",
       "</table>\n",
       "</div>"
      ],
      "text/plain": [
       "                                      added_products  ncodpers\n",
       "0  ind_cco_fin_ult1 ind_recibo_ult1 ind_nom_pens_...     15889\n",
       "1  ind_cco_fin_ult1 ind_recibo_ult1 ind_nom_pens_...   1170544\n",
       "2  ind_cco_fin_ult1 ind_recibo_ult1 ind_nom_pens_...   1170545\n",
       "3  ind_cco_fin_ult1 ind_recibo_ult1 ind_nom_pens_...   1170547\n",
       "4  ind_cco_fin_ult1 ind_recibo_ult1 ind_nom_pens_...   1170548"
      ]
     },
     "execution_count": 151,
     "metadata": {},
     "output_type": "execute_result"
    }
   ],
   "source": [
    "df_subm.head()"
   ]
  },
  {
   "cell_type": "code",
   "execution_count": null,
   "metadata": {
    "collapsed": false
   },
   "outputs": [],
   "source": [
    "%%time\n",
    "df_subm.to_csv('scripts/results/submissions/2018_07_09.csv', index=False)"
   ]
  },
  {
   "cell_type": "markdown",
   "metadata": {},
   "source": [
    "### Experimento 1a\n",
    "Modificación del experimento anterior, solo que la *submission* se va a hacer sólo con los productos agregados"
   ]
  },
  {
   "cell_type": "code",
   "execution_count": 152,
   "metadata": {
    "collapsed": false
   },
   "outputs": [],
   "source": [
    "ncodpers_last_month = df_test['ncodpers'].values\n",
    "df_prev_month = df[df['fecha_dato'] == '2016-05-28']\n",
    "ncodpers_prev_month = df_prev_month.loc[:, 'ncodpers'].values"
   ]
  },
  {
   "cell_type": "code",
   "execution_count": 153,
   "metadata": {
    "collapsed": false
   },
   "outputs": [
    {
     "data": {
      "text/plain": [
       "(700444, 28)"
      ]
     },
     "execution_count": 153,
     "metadata": {},
     "output_type": "execute_result"
    }
   ],
   "source": [
    "df_prev_month.shape"
   ]
  },
  {
   "cell_type": "code",
   "execution_count": 154,
   "metadata": {
    "collapsed": false
   },
   "outputs": [],
   "source": [
    "ncodpers_both = list(set(ncodpers_last_month) & set(ncodpers_prev_month))"
   ]
  },
  {
   "cell_type": "code",
   "execution_count": 155,
   "metadata": {
    "collapsed": false
   },
   "outputs": [],
   "source": [
    "index_prev = df_prev_month[df_prev_month['ncodpers'].isin(ncodpers_both)].index\n",
    "index_last = df_test[df_test['ncodpers'].isin(ncodpers_both)].index"
   ]
  },
  {
   "cell_type": "code",
   "execution_count": 156,
   "metadata": {
    "collapsed": true
   },
   "outputs": [],
   "source": [
    "prev_prods = df_targets.loc[index_prev].as_matrix()\n",
    "pred_prods = preds[index_last, :]"
   ]
  },
  {
   "cell_type": "code",
   "execution_count": 157,
   "metadata": {
    "collapsed": false
   },
   "outputs": [],
   "source": [
    "both_prods = pred_prods - prev_prods\n",
    "both_prods = (both_prods < 0) * 1"
   ]
  },
  {
   "cell_type": "code",
   "execution_count": 158,
   "metadata": {
    "collapsed": true
   },
   "outputs": [],
   "source": [
    "preds[index_last] = both_prods"
   ]
  },
  {
   "cell_type": "code",
   "execution_count": 159,
   "metadata": {
    "collapsed": true
   },
   "outputs": [],
   "source": [
    "pred_probs = np.array([pr.max(axis=1) for pr in probs]).T\n",
    "pred_probs = (preds * pred_probs).argsort(axis=1)\n",
    "pred_probs = np.fliplr(pred_probs)[:, :7]"
   ]
  },
  {
   "cell_type": "code",
   "execution_count": 160,
   "metadata": {
    "collapsed": true
   },
   "outputs": [],
   "source": [
    "final_pred = [\" \".join(list(targets[p])) for p in pred_probs]\n",
    "\n",
    "df_subm = pd.DataFrame({'ncodpers': df_test.ncodpers.values, 'added_products': final_pred})"
   ]
  },
  {
   "cell_type": "code",
   "execution_count": 161,
   "metadata": {
    "collapsed": false
   },
   "outputs": [
    {
     "data": {
      "text/html": [
       "<div>\n",
       "<table border=\"1\" class=\"dataframe\">\n",
       "  <thead>\n",
       "    <tr style=\"text-align: right;\">\n",
       "      <th></th>\n",
       "      <th>added_products</th>\n",
       "      <th>ncodpers</th>\n",
       "    </tr>\n",
       "  </thead>\n",
       "  <tbody>\n",
       "    <tr>\n",
       "      <th>0</th>\n",
       "      <td>ind_recibo_ult1 ind_nom_pens_ult1 ind_aval_fin...</td>\n",
       "      <td>15889</td>\n",
       "    </tr>\n",
       "    <tr>\n",
       "      <th>1</th>\n",
       "      <td>ind_cco_fin_ult1 ind_recibo_ult1 ind_nom_pens_...</td>\n",
       "      <td>1170544</td>\n",
       "    </tr>\n",
       "    <tr>\n",
       "      <th>2</th>\n",
       "      <td>ind_cco_fin_ult1 ind_recibo_ult1 ind_nom_pens_...</td>\n",
       "      <td>1170545</td>\n",
       "    </tr>\n",
       "    <tr>\n",
       "      <th>3</th>\n",
       "      <td>ind_recibo_ult1 ind_nom_pens_ult1 ind_aval_fin...</td>\n",
       "      <td>1170547</td>\n",
       "    </tr>\n",
       "    <tr>\n",
       "      <th>4</th>\n",
       "      <td>ind_recibo_ult1 ind_nom_pens_ult1 ind_aval_fin...</td>\n",
       "      <td>1170548</td>\n",
       "    </tr>\n",
       "  </tbody>\n",
       "</table>\n",
       "</div>"
      ],
      "text/plain": [
       "                                      added_products  ncodpers\n",
       "0  ind_recibo_ult1 ind_nom_pens_ult1 ind_aval_fin...     15889\n",
       "1  ind_cco_fin_ult1 ind_recibo_ult1 ind_nom_pens_...   1170544\n",
       "2  ind_cco_fin_ult1 ind_recibo_ult1 ind_nom_pens_...   1170545\n",
       "3  ind_recibo_ult1 ind_nom_pens_ult1 ind_aval_fin...   1170547\n",
       "4  ind_recibo_ult1 ind_nom_pens_ult1 ind_aval_fin...   1170548"
      ]
     },
     "execution_count": 161,
     "metadata": {},
     "output_type": "execute_result"
    }
   ],
   "source": [
    "df_subm.head()"
   ]
  },
  {
   "cell_type": "code",
   "execution_count": 162,
   "metadata": {
    "collapsed": false
   },
   "outputs": [
    {
     "name": "stdout",
     "output_type": "stream",
     "text": [
      "CPU times: user 7.49 s, sys: 116 ms, total: 7.6 s\n",
      "Wall time: 9.01 s\n"
     ]
    }
   ],
   "source": [
    "%%time\n",
    "df_subm.to_csv('scripts/results/submissions/2018_07_10_prev_prods.csv', index=False)"
   ]
  },
  {
   "cell_type": "markdown",
   "metadata": {},
   "source": [
    "---\n",
    "### Experimento 2\n",
    "Entrenamiento de un modelo para cada uno de los productos\n",
    "\n",
    "**Nota:** Se puede hacer una comparación entre 1 y 2\n"
   ]
  },
  {
   "cell_type": "code",
   "execution_count": 177,
   "metadata": {
    "collapsed": false
   },
   "outputs": [
    {
     "name": "stdout",
     "output_type": "stream",
     "text": [
      "ind_ahor_fin_ult1\n",
      "ind_aval_fin_ult1\n",
      "ind_cco_fin_ult1\n",
      "ind_cder_fin_ult1\n",
      "ind_cno_fin_ult1\n",
      "ind_ctju_fin_ult1\n",
      "ind_ctma_fin_ult1\n",
      "ind_ctop_fin_ult1\n",
      "ind_ctpp_fin_ult1\n",
      "ind_deco_fin_ult1\n",
      "ind_deme_fin_ult1\n",
      "ind_dela_fin_ult1\n",
      "ind_ecue_fin_ult1\n",
      "ind_fond_fin_ult1\n",
      "ind_hip_fin_ult1\n",
      "ind_plan_fin_ult1\n",
      "ind_pres_fin_ult1\n",
      "ind_reca_fin_ult1\n",
      "ind_tjcr_fin_ult1\n",
      "ind_valo_fin_ult1\n",
      "ind_viv_fin_ult1\n",
      "ind_nomina_ult1\n",
      "ind_nom_pens_ult1\n",
      "ind_recibo_ult1\n",
      "CPU times: user 7min 5s, sys: 8.62 s, total: 7min 14s\n",
      "Wall time: 2min 15s\n"
     ]
    }
   ],
   "source": [
    "%%time\n",
    "preds = []\n",
    "probs = []\n",
    "for i, col in enumerate(targets):\n",
    "    \n",
    "    rf.fit(x, y[:, i])\n",
    "    \n",
    "    pd = rf.predict(x_test)\n",
    "    pb = rf.predict_proba(x_test).max(axis=1)\n",
    "        \n",
    "    preds.append(pd)\n",
    "    probs.append(pb)\n",
    "    print(col)"
   ]
  },
  {
   "cell_type": "code",
   "execution_count": 184,
   "metadata": {
    "collapsed": false
   },
   "outputs": [],
   "source": [
    "preds = np.array(preds).T\n",
    "probs = np.array(probs).T\n",
    "\n",
    "pred_probs = (preds * probs).argsort(axis=1)\n",
    "pred_probs = np.fliplr(pred_probs)[:, :7]\n",
    "\n",
    "final_pred = [\" \".join(list(targets[p])) for p in pred_probs]\n",
    "\n",
    "df_subm = pd.DataFrame({'ncodpers': df_test.ncodpers.values, 'added_products': final_pred})\n",
    "df_subm.head()"
   ]
  },
  {
   "cell_type": "code",
   "execution_count": 195,
   "metadata": {
    "collapsed": true
   },
   "outputs": [],
   "source": [
    "path_submission = 'scripts/results/submissions/'"
   ]
  },
  {
   "cell_type": "code",
   "execution_count": 196,
   "metadata": {
    "collapsed": false
   },
   "outputs": [
    {
     "name": "stdout",
     "output_type": "stream",
     "text": [
      "scripts/results/submissions/2018-07-10-h10-45-09_submission.csv\n"
     ]
    }
   ],
   "source": [
    "name_file = path_submission + time.strftime(\"%Y-%m-%d-h%H-%M-%S_\") + \"submission.csv\"\n",
    "print(name_file)\n",
    "df_subm.to_csv(name_file, index=False)"
   ]
  },
  {
   "cell_type": "markdown",
   "metadata": {},
   "source": [
    "### Experimento 3\n",
    "Entrenamiento con Julio 2015, un solo modelo GaussianNB para cada producto"
   ]
  },
  {
   "cell_type": "code",
   "execution_count": 210,
   "metadata": {
    "collapsed": false
   },
   "outputs": [
    {
     "name": "stdout",
     "output_type": "stream",
     "text": [
      "CPU times: user 2min 43s, sys: 6.04 s, total: 2min 49s\n",
      "Wall time: 1min 6s\n"
     ]
    }
   ],
   "source": [
    "%%time\n",
    "gb = GaussianNB()\n",
    "preds = []\n",
    "probs = []\n",
    "for i, col in enumerate(targets):\n",
    "    \n",
    "    gb.fit(x, y[:, i])\n",
    "    \n",
    "    prd = rf.predict(x_test)\n",
    "    pb = rf.predict_proba(x_test).max(axis=1)\n",
    "        \n",
    "    preds.append(prd)\n",
    "    probs.append(pb)"
   ]
  },
  {
   "cell_type": "code",
   "execution_count": 217,
   "metadata": {
    "collapsed": false
   },
   "outputs": [],
   "source": [
    "preds = np.array(preds).T\n",
    "probs = np.array(probs).T"
   ]
  },
  {
   "cell_type": "code",
   "execution_count": 227,
   "metadata": {
    "collapsed": false
   },
   "outputs": [
    {
     "name": "stdout",
     "output_type": "stream",
     "text": [
      "CPU times: user 7.55 s, sys: 196 ms, total: 7.74 s\n",
      "Wall time: 7.74 s\n"
     ]
    }
   ],
   "source": [
    "%%time\n",
    "pred_probs = (preds * probs).argsort(axis=1)\n",
    "pred_probs = np.fliplr(pred_probs)[:, :7]\n",
    "\n",
    "final_pred = [\" \".join(list(targets[p])) for p in pred_probs]\n",
    "\n",
    "df_subm = pd.DataFrame({'ncodpers': df_test.ncodpers.values, 'added_products': final_pred})\n",
    "df_subm.head()"
   ]
  },
  {
   "cell_type": "code",
   "execution_count": 228,
   "metadata": {
    "collapsed": false
   },
   "outputs": [
    {
     "name": "stdout",
     "output_type": "stream",
     "text": [
      "scripts/results/submissions/2018-07-10-h11-18-47_submission.csv\n",
      "CPU times: user 7.49 s, sys: 80 ms, total: 7.57 s\n",
      "Wall time: 8.88 s\n"
     ]
    }
   ],
   "source": [
    "%%time\n",
    "name_file = path_submission + time.strftime(\"%Y-%m-%d-h%H-%M-%S_\") + \"submission.csv\"\n",
    "print(name_file)\n",
    "df_subm.to_csv(name_file, index=False)"
   ]
  },
  {
   "cell_type": "code",
   "execution_count": null,
   "metadata": {
    "collapsed": true
   },
   "outputs": [],
   "source": []
  },
  {
   "cell_type": "code",
   "execution_count": null,
   "metadata": {
    "collapsed": true
   },
   "outputs": [],
   "source": []
  }
 ],
 "metadata": {
  "kernelspec": {
   "display_name": "Python 3 + Anaconda",
   "language": "python",
   "name": "pyconda3"
  },
  "language_info": {
   "codemirror_mode": {
    "name": "ipython",
    "version": 3
   },
   "file_extension": ".py",
   "mimetype": "text/x-python",
   "name": "python",
   "nbconvert_exporter": "python",
   "pygments_lexer": "ipython3",
   "version": "3.5.1"
  }
 },
 "nbformat": 4,
 "nbformat_minor": 0
}
